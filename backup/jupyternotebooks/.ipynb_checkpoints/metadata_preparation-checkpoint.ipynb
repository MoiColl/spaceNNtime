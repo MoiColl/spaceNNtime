{
 "cells": [
  {
   "cell_type": "markdown",
   "id": "1b78baa7-2d27-4835-a82b-a7b902a2fc6e",
   "metadata": {},
   "source": [
    "# Simulation Sample Preparation\n",
    "\n",
    "In this notebook I setup the different samples I'm going to use for each experiment to test the spaceNNtime neural net.\n",
    "\n",
    "<a name=\"Home3\"></a>\n",
    "\n",
    "## Contents\n",
    "\n",
    "0. [ Library and packages ](#Lib)\n",
    "1. [ Functions ](#Fun)\n",
    "    + 1. [Python Functions](#Pyf)\n",
    "    + 2. [R Functions](#Rfu)\n",
    "2. [ Tree Preprocessing ](#Tre)\n",
    "    + 1. [ Input tree structure data from SLiM simulations ](#Inp)\n",
    "    + 2. [ Types of individuals and subsampling \"Remembered\" individuals ](#Rem)\n",
    "    + 3. [ Metadata ](#Met)\n",
    "    + 4. [ Recapatitation ](#Rec)\n",
    "    + 5. [ Mutation ](#Mut)\n",
    "    + 6. [ Simplification ](#Sip)\n",
    "3. [ Sampling Preparation ](#SPr)\n",
    "    + 1. [ Best Case Scenario ](#BCS)\n",
    "    + 2. [ Downsampling ](#Dow)\n",
    "    + 3. [ Missing Space Reference Population ](#SRe)\n",
    "    + 4. [ Missing Time Reference Population ](#TRe)\n",
    "    + 5. [ Real MesoNeo data ](#Rea)\n",
    "    + 6. [ Decreasing SNP density ](#Snp)\n",
    "    + 7. [ Only location and only time ](#Onl)\n",
    "    + 8. [ Genotype Likelihoods ](#GLs)\n",
    "\n",
    "<a name=\"Lib\"></a>\n",
    "## 0. Library and packages"
   ]
  },
  {
   "cell_type": "code",
   "execution_count": 1,
   "id": "30ef4768-a859-4d61-9735-2d396a06b006",
   "metadata": {},
   "outputs": [],
   "source": [
    "import pandas as pd"
   ]
  },
  {
   "cell_type": "markdown",
   "id": "b1036b26-1869-4f39-b3fc-8b64dfa85ead",
   "metadata": {},
   "source": [
    "\n",
    "[<img src=\"arrow.png\" width=\"100\" style=\"float: left;\">](#Home3) &nbsp;\n",
    "\n",
    "&nbsp;\n",
    "\n",
    "\n",
    "<a name=\"SPr\"></a>\n",
    "## 3. Sampling Preparation\n",
    "\n",
    "\n",
    "<a name=\"BCS\"></a>\n",
    "### A. Gold\n",
    "\n",
    "\n"
   ]
  },
  {
   "cell_type": "code",
   "execution_count": null,
   "id": "4715f633-5892-47b7-aa3e-6ccf67251500",
   "metadata": {},
   "outputs": [],
   "source": [
    "pandas.read_csv(\"/home/moicoll/spaceNNtime/data/europe/metadata/1.txt\")"
   ]
  },
  {
   "cell_type": "code",
   "execution_count": 37,
   "id": "5913d6d4-de27-48e0-9eca-2e129baec2c5",
   "metadata": {},
   "outputs": [],
   "source": [
    "\n",
    "dir_meta = \"/home/moicoll/spaceNNtime/data/europe/metadata/1.txt\""
   ]
  },
  {
   "cell_type": "code",
   "execution_count": 38,
   "id": "bd12526b-34e8-4ef7-9acf-605ffe463495",
   "metadata": {},
   "outputs": [],
   "source": [
    "updated_meta.to_csv(path_or_buf=\"../sandbox/europe/spaceNNtime/exp001/metadata.csv\", sep=',', header=True, index=False)\n",
    "\n",
    "np.random.seed(1234)\n",
    "_ = get_tra_val_tes(updated_meta[\"inid\"].to_numpy(), file = \"../sandbox/europe/spaceNNtime/exp001/exp001.yaml\", \n",
    "                overwrite = True, n_tes = 3, p_tra = 0.9, max_tes_groups = 100)\n"
   ]
  },
  {
   "cell_type": "markdown",
   "id": "53ac98f0-b5fa-4a1c-9c1a-87b5d79789c3",
   "metadata": {},
   "source": [
    "[<img src=\"arrow.png\" width=\"100\" style=\"float: left;\">](#Home3) &nbsp;\n",
    "\n",
    "&nbsp;\n",
    "\n",
    "<a name=\"Dow\"></a>\n",
    "### B. Downsampling"
   ]
  },
  {
   "cell_type": "code",
   "execution_count": 39,
   "id": "8058dd49-58da-40df-8ffe-b772389e9640",
   "metadata": {},
   "outputs": [],
   "source": [
    "%%bash\n",
    "\n",
    "mkdir -p ../sandbox/europe/spaceNNtime/exp002\n",
    "mkdir -p ../sandbox/europe/spaceNNtime/exp003\n",
    "mkdir -p ../sandbox/europe/spaceNNtime/exp004\n",
    "mkdir -p ../sandbox/europe/spaceNNtime/exp005\n",
    "mkdir -p ../sandbox/europe/spaceNNtime/exp006\n",
    "mkdir -p ../sandbox/europe/spaceNNtime/exp007"
   ]
  },
  {
   "cell_type": "code",
   "execution_count": 40,
   "id": "f31d2686-56c1-44c3-8058-bc5121d80b68",
   "metadata": {},
   "outputs": [
    {
     "name": "stdout",
     "output_type": "stream",
     "text": [
      "2\n",
      "3\n",
      "4\n",
      "5\n",
      "6\n",
      "7\n",
      "CPU times: user 29.1 s, sys: 347 ms, total: 29.4 s\n",
      "Wall time: 29.6 s\n"
     ]
    }
   ],
   "source": [
    "%%time\n",
    "\n",
    "np.random.seed(1234)\n",
    "\n",
    "for downsamp, exp_id in zip([10000, 5000, 1500, 1000, 500, 250], [2, 3, 4, 5, 6, 7]):\n",
    "    print(exp_id)\n",
    "    tmp_meta = updated_meta.sample(n=downsamp, replace=False, weights=None)\n",
    "    tmp_meta.sort_values(by=['inid'])\n",
    "    tmp_meta.to_csv(path_or_buf=\"../sandbox/europe/spaceNNtime/exp00{}/metadata.csv\".format(exp_id), sep=',', header=True, index=False)\n",
    "    _ = get_tra_val_tes(tmp_meta[\"inid\"].to_numpy(), file = \"../sandbox/europe/spaceNNtime/exp00{}/exp00{}.yaml\".format(exp_id, exp_id), \n",
    "                overwrite = True, n_tes = 3, p_tra = 0.9, max_tes_groups = 100)\n"
   ]
  },
  {
   "cell_type": "markdown",
   "id": "da2f1848-7af4-46f6-bcf7-4067b6d799b9",
   "metadata": {},
   "source": [
    "[<img src=\"arrow.png\" width=\"100\" style=\"float: left;\">](#Home3) &nbsp;\n",
    "\n",
    "&nbsp;\n",
    "\n",
    "<a name=\"SRe\"></a>\n",
    "### C. Missing Space Reference Population"
   ]
  },
  {
   "cell_type": "markdown",
   "id": "1adaf906-7751-4bf4-ae57-f32f5442bd45",
   "metadata": {},
   "source": [
    "[<img src=\"arrow.png\" width=\"100\" style=\"float: left;\">](#Home3) &nbsp;\n",
    "\n",
    "&nbsp;\n",
    "\n",
    "<a name=\"TRe\"></a>\n",
    "### D. Missing Time Reference Population"
   ]
  },
  {
   "cell_type": "markdown",
   "id": "204d86b9-4e1e-4c3b-ba4a-47265f914257",
   "metadata": {},
   "source": [
    "[<img src=\"arrow.png\" width=\"100\" style=\"float: left;\">](#Home3) &nbsp;\n",
    "\n",
    "&nbsp;\n",
    "\n",
    "<a name=\"Rea\"></a>\n",
    "### E. Real MesoNeo data"
   ]
  },
  {
   "cell_type": "markdown",
   "id": "9195bbbb-f959-4520-8475-39bf943a3bf7",
   "metadata": {},
   "source": [
    "In this experiment, I'll try to match the sampling distribution in the temporal dimention of the MesoNeo data. For that, I have explored the distribution in that axis in the real data and grouped samples in windows of 1,000 years and counted how many samples do I get for each temporal bin. I obtained the data below."
   ]
  },
  {
   "cell_type": "code",
   "execution_count": 41,
   "id": "74afdf86-5759-41c7-b063-a9d6f07146b9",
   "metadata": {},
   "outputs": [
    {
     "data": {
      "image/png": "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\n"
     },
     "metadata": {},
     "output_type": "display_data"
    }
   ],
   "source": [
    "%%R\n",
    "\n",
    "mesoneo_temp_bins_n = data.frame(time = c(1000, 2000, 3000, 4000, 5000, 6000, 7000, 8000,  9000, 10000, 11000, 12000, 13000, 14000, 24000, 25000, 31000, 32000, 33000, 34000, 37000, 45000),\n",
    "                                 n     = c( 370,  369,  161,  135,  177,  148,   86,  105,    40,    31,    24,     3,     1,     2,     1,     1,     1,     2,     1,     1,     2,     1)) \n",
    "mesoneo_temp_bins_n %>%\n",
    "    ggplot() +\n",
    "    geom_bar(stat = \"identity\", aes(x = time, y = n))"
   ]
  },
  {
   "cell_type": "code",
   "execution_count": 42,
   "id": "08858b4f-571c-409f-b7d8-2a5b9c15b722",
   "metadata": {},
   "outputs": [
    {
     "name": "stdout",
     "output_type": "stream",
     "text": [
      "     n\n",
      "1 1662\n"
     ]
    }
   ],
   "source": [
    "%%R\n",
    "\n",
    "mesoneo_temp_bins_n %>%\n",
    "    summarize(n = sum(n))"
   ]
  },
  {
   "cell_type": "code",
   "execution_count": 43,
   "id": "67c3d626-f100-4cff-932d-cdbe45e4e8c0",
   "metadata": {},
   "outputs": [],
   "source": [
    "%%R -i updated_meta\n",
    "\n",
    "mesoneo_downsampled = data.frame()\n",
    "\n",
    "set.seed(1234)\n",
    "\n",
    "for(t in mesoneo_temp_bins_n$time){\n",
    "    n_rea = mesoneo_temp_bins_n %>% filter(time == t) %>% pull(n)\n",
    "    n_sim = updated_meta %>% filter(t <= time*30, t+1000 > time*30) %>% nrow()\n",
    "    if(n_sim < n_rea){\n",
    "        mesoneo_downsampled = rbind(mesoneo_downsampled, updated_meta %>% filter(t <= time*30, t+1000 > time*30))\n",
    "    }else{\n",
    "        mesoneo_downsampled = rbind(mesoneo_downsampled, updated_meta %>% filter(t <= time*30, t+1000 > time*30) %>% sample_n(n_rea, replace = FALSE))\n",
    "    }\n",
    "                                     \n",
    "}\n"
   ]
  },
  {
   "cell_type": "code",
   "execution_count": 44,
   "id": "7d1ccc24-fa2a-4694-8ed0-b6750634f311",
   "metadata": {},
   "outputs": [
    {
     "data": {
      "image/png": "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\n"
     },
     "metadata": {},
     "output_type": "display_data"
    }
   ],
   "source": [
    "%%R\n",
    "\n",
    "mesoneo_downsampled %>% \n",
    "    ggplot() +\n",
    "    geom_histogram(aes(x = time), bins = 50)"
   ]
  },
  {
   "cell_type": "code",
   "execution_count": 45,
   "id": "648c61aa-2473-49e5-836a-e515194f43df",
   "metadata": {},
   "outputs": [
    {
     "name": "stdout",
     "output_type": "stream",
     "text": [
      "[1] 1484   11\n"
     ]
    }
   ],
   "source": [
    "%%R\n",
    "\n",
    "mesoneo_downsampled %>%\n",
    "    dim()"
   ]
  },
  {
   "cell_type": "code",
   "execution_count": 46,
   "id": "e3b0d33a-021c-4675-910c-b74fb6d6986b",
   "metadata": {},
   "outputs": [
    {
     "data": {
      "text/html": [
       "<div>\n",
       "<style scoped>\n",
       "    .dataframe tbody tr th:only-of-type {\n",
       "        vertical-align: middle;\n",
       "    }\n",
       "\n",
       "    .dataframe tbody tr th {\n",
       "        vertical-align: top;\n",
       "    }\n",
       "\n",
       "    .dataframe thead th {\n",
       "        text-align: right;\n",
       "    }\n",
       "</style>\n",
       "<table border=\"1\" class=\"dataframe\">\n",
       "  <thead>\n",
       "    <tr style=\"text-align: right;\">\n",
       "      <th></th>\n",
       "      <th>inid</th>\n",
       "      <th>indp</th>\n",
       "      <th>flag</th>\n",
       "      <th>loc1</th>\n",
       "      <th>loc2</th>\n",
       "      <th>time</th>\n",
       "      <th>nod1</th>\n",
       "      <th>nod2</th>\n",
       "      <th>popu</th>\n",
       "      <th>n1id</th>\n",
       "      <th>n2id</th>\n",
       "    </tr>\n",
       "  </thead>\n",
       "  <tbody>\n",
       "    <tr>\n",
       "      <th>1593</th>\n",
       "      <td>4362</td>\n",
       "      <td>739498</td>\n",
       "      <td>393216</td>\n",
       "      <td>584.846910</td>\n",
       "      <td>132.576151</td>\n",
       "      <td>1518.0</td>\n",
       "      <td>3186</td>\n",
       "      <td>3187</td>\n",
       "      <td>2</td>\n",
       "      <td>1478996</td>\n",
       "      <td>1478997</td>\n",
       "    </tr>\n",
       "    <tr>\n",
       "      <th>3885</th>\n",
       "      <td>10565</td>\n",
       "      <td>1642646</td>\n",
       "      <td>393216</td>\n",
       "      <td>648.107526</td>\n",
       "      <td>310.626391</td>\n",
       "      <td>1260.0</td>\n",
       "      <td>7770</td>\n",
       "      <td>7771</td>\n",
       "      <td>2</td>\n",
       "      <td>3285292</td>\n",
       "      <td>3285293</td>\n",
       "    </tr>\n",
       "    <tr>\n",
       "      <th>3954</th>\n",
       "      <td>10744</td>\n",
       "      <td>1670842</td>\n",
       "      <td>393216</td>\n",
       "      <td>645.830093</td>\n",
       "      <td>290.142438</td>\n",
       "      <td>1252.0</td>\n",
       "      <td>7908</td>\n",
       "      <td>7909</td>\n",
       "      <td>2</td>\n",
       "      <td>3341684</td>\n",
       "      <td>3341685</td>\n",
       "    </tr>\n",
       "    <tr>\n",
       "      <th>4987</th>\n",
       "      <td>13587</td>\n",
       "      <td>2076740</td>\n",
       "      <td>393216</td>\n",
       "      <td>662.912588</td>\n",
       "      <td>281.553904</td>\n",
       "      <td>1136.0</td>\n",
       "      <td>9974</td>\n",
       "      <td>9975</td>\n",
       "      <td>2</td>\n",
       "      <td>4153480</td>\n",
       "      <td>4153481</td>\n",
       "    </tr>\n",
       "    <tr>\n",
       "      <th>5095</th>\n",
       "      <td>13847</td>\n",
       "      <td>2112024</td>\n",
       "      <td>393216</td>\n",
       "      <td>651.348886</td>\n",
       "      <td>316.269597</td>\n",
       "      <td>1126.0</td>\n",
       "      <td>10190</td>\n",
       "      <td>10191</td>\n",
       "      <td>2</td>\n",
       "      <td>4224048</td>\n",
       "      <td>4224049</td>\n",
       "    </tr>\n",
       "    <tr>\n",
       "      <th>...</th>\n",
       "      <td>...</td>\n",
       "      <td>...</td>\n",
       "      <td>...</td>\n",
       "      <td>...</td>\n",
       "      <td>...</td>\n",
       "      <td>...</td>\n",
       "      <td>...</td>\n",
       "      <td>...</td>\n",
       "      <td>...</td>\n",
       "      <td>...</td>\n",
       "      <td>...</td>\n",
       "    </tr>\n",
       "    <tr>\n",
       "      <th>14798</th>\n",
       "      <td>45341</td>\n",
       "      <td>10347914</td>\n",
       "      <td>393216</td>\n",
       "      <td>190.533153</td>\n",
       "      <td>253.813376</td>\n",
       "      <td>34.0</td>\n",
       "      <td>29596</td>\n",
       "      <td>29597</td>\n",
       "      <td>5</td>\n",
       "      <td>20695828</td>\n",
       "      <td>20695829</td>\n",
       "    </tr>\n",
       "    <tr>\n",
       "      <th>14799</th>\n",
       "      <td>45342</td>\n",
       "      <td>10349071</td>\n",
       "      <td>393216</td>\n",
       "      <td>400.119998</td>\n",
       "      <td>203.466672</td>\n",
       "      <td>34.0</td>\n",
       "      <td>29598</td>\n",
       "      <td>29599</td>\n",
       "      <td>5</td>\n",
       "      <td>20698142</td>\n",
       "      <td>20698143</td>\n",
       "    </tr>\n",
       "    <tr>\n",
       "      <th>14800</th>\n",
       "      <td>45343</td>\n",
       "      <td>10349354</td>\n",
       "      <td>393216</td>\n",
       "      <td>250.950505</td>\n",
       "      <td>223.441605</td>\n",
       "      <td>34.0</td>\n",
       "      <td>29600</td>\n",
       "      <td>29601</td>\n",
       "      <td>5</td>\n",
       "      <td>20698708</td>\n",
       "      <td>20698709</td>\n",
       "    </tr>\n",
       "    <tr>\n",
       "      <th>14801</th>\n",
       "      <td>45344</td>\n",
       "      <td>10347905</td>\n",
       "      <td>393216</td>\n",
       "      <td>186.480498</td>\n",
       "      <td>267.141073</td>\n",
       "      <td>34.0</td>\n",
       "      <td>29602</td>\n",
       "      <td>29603</td>\n",
       "      <td>5</td>\n",
       "      <td>20695810</td>\n",
       "      <td>20695811</td>\n",
       "    </tr>\n",
       "    <tr>\n",
       "      <th>14802</th>\n",
       "      <td>45345</td>\n",
       "      <td>10349176</td>\n",
       "      <td>393216</td>\n",
       "      <td>258.710303</td>\n",
       "      <td>258.857096</td>\n",
       "      <td>34.0</td>\n",
       "      <td>29604</td>\n",
       "      <td>29605</td>\n",
       "      <td>5</td>\n",
       "      <td>20698352</td>\n",
       "      <td>20698353</td>\n",
       "    </tr>\n",
       "  </tbody>\n",
       "</table>\n",
       "<p>1484 rows × 11 columns</p>\n",
       "</div>"
      ],
      "text/plain": [
       "        inid      indp    flag        loc1        loc2    time   nod1   nod2  \\\n",
       "1593    4362    739498  393216  584.846910  132.576151  1518.0   3186   3187   \n",
       "3885   10565   1642646  393216  648.107526  310.626391  1260.0   7770   7771   \n",
       "3954   10744   1670842  393216  645.830093  290.142438  1252.0   7908   7909   \n",
       "4987   13587   2076740  393216  662.912588  281.553904  1136.0   9974   9975   \n",
       "5095   13847   2112024  393216  651.348886  316.269597  1126.0  10190  10191   \n",
       "...      ...       ...     ...         ...         ...     ...    ...    ...   \n",
       "14798  45341  10347914  393216  190.533153  253.813376    34.0  29596  29597   \n",
       "14799  45342  10349071  393216  400.119998  203.466672    34.0  29598  29599   \n",
       "14800  45343  10349354  393216  250.950505  223.441605    34.0  29600  29601   \n",
       "14801  45344  10347905  393216  186.480498  267.141073    34.0  29602  29603   \n",
       "14802  45345  10349176  393216  258.710303  258.857096    34.0  29604  29605   \n",
       "\n",
       "       popu      n1id      n2id  \n",
       "1593      2   1478996   1478997  \n",
       "3885      2   3285292   3285293  \n",
       "3954      2   3341684   3341685  \n",
       "4987      2   4153480   4153481  \n",
       "5095      2   4224048   4224049  \n",
       "...     ...       ...       ...  \n",
       "14798     5  20695828  20695829  \n",
       "14799     5  20698142  20698143  \n",
       "14800     5  20698708  20698709  \n",
       "14801     5  20695810  20695811  \n",
       "14802     5  20698352  20698353  \n",
       "\n",
       "[1484 rows x 11 columns]"
      ]
     },
     "execution_count": 46,
     "metadata": {},
     "output_type": "execute_result"
    }
   ],
   "source": [
    "mesoneo_downsampled = r['mesoneo_downsampled']\n",
    "mesoneo_downsampled = mesoneo_downsampled.sort_values(by=['inid'])\n",
    "mesoneo_downsampled"
   ]
  },
  {
   "cell_type": "code",
   "execution_count": 47,
   "id": "6fa48310-c885-4f9c-ad32-17f975796276",
   "metadata": {},
   "outputs": [],
   "source": [
    "%%bash\n",
    "\n",
    "mkdir -p ../sandbox/europe/spaceNNtime/exp008"
   ]
  },
  {
   "cell_type": "code",
   "execution_count": 48,
   "id": "effab972-cd67-4109-b66f-6389e99a24e7",
   "metadata": {},
   "outputs": [],
   "source": [
    "mesoneo_downsampled.to_csv(path_or_buf=\"../sandbox/europe/spaceNNtime/exp00{}/metadata.csv\".format(8), sep=',', header=True, index=False)\n",
    "_ = get_tra_val_tes(mesoneo_downsampled[\"inid\"].to_numpy(), file = \"../sandbox/europe/spaceNNtime/exp00{}/exp00{}.yaml\".format(8, 8), \n",
    "                    overwrite = True, n_tes = 3, p_tra = 0.9, max_tes_groups = 100)"
   ]
  },
  {
   "cell_type": "markdown",
   "id": "5708b82e-2973-473c-a9cd-a1ad73a76c9b",
   "metadata": {},
   "source": [
    "[<img src=\"arrow.png\" width=\"100\" style=\"float: left;\">](#Home3) &nbsp;\n",
    "\n",
    "&nbsp;\n",
    "\n",
    "<a name=\"Snp\"></a>\n",
    "### F. Decreasing SNP density\n"
   ]
  },
  {
   "cell_type": "code",
   "execution_count": 49,
   "id": "33a429be-9796-4613-957c-0c59e802c26c",
   "metadata": {},
   "outputs": [],
   "source": [
    "%%bash\n",
    "\n",
    "mkdir -p ../sandbox/europe/spaceNNtime/exp009\n",
    "mkdir -p ../sandbox/europe/spaceNNtime/exp010\n",
    "mkdir -p ../sandbox/europe/spaceNNtime/exp011\n",
    "mkdir -p ../sandbox/europe/spaceNNtime/exp012"
   ]
  },
  {
   "cell_type": "code",
   "execution_count": 50,
   "id": "dc693544-5dd0-4402-9988-fd33a3ebd3fd",
   "metadata": {},
   "outputs": [
    {
     "name": "stdout",
     "output_type": "stream",
     "text": [
      "exp004.yaml  metadata.csv\n"
     ]
    }
   ],
   "source": [
    "ls ../sandbox/europe/spaceNNtime/exp004/"
   ]
  },
  {
   "cell_type": "code",
   "execution_count": 51,
   "id": "9a1e572e-bfdd-4e9f-8db6-84e7fcdf749e",
   "metadata": {},
   "outputs": [
    {
     "name": "stdout",
     "output_type": "stream",
     "text": [
      "09\n",
      "10\n",
      "11\n",
      "12\n"
     ]
    }
   ],
   "source": [
    "%%bash\n",
    "\n",
    "for x in 09 `seq 10 12`;\n",
    "do\n",
    "    echo ${x}\n",
    "    cp ../sandbox/europe/spaceNNtime/exp004/exp004.yaml ../sandbox/europe/spaceNNtime/exp0${x}/exp0${x}.yaml\n",
    "    cp ../sandbox/europe/spaceNNtime/exp004/metadata.csv ../sandbox/europe/spaceNNtime/exp0${x}/metadata.csv\n",
    "done;"
   ]
  },
  {
   "cell_type": "markdown",
   "id": "8894e983-55d5-4915-9bdc-7afdbd5f284d",
   "metadata": {},
   "source": [
    "[<img src=\"arrow.png\" width=\"100\" style=\"float: left;\">](#Home3) &nbsp;\n",
    "\n",
    "&nbsp;\n",
    "\n",
    "<a name=\"Onl\"></a>\n",
    "### G. Only location and only time"
   ]
  },
  {
   "cell_type": "code",
   "execution_count": 52,
   "id": "bc548e2e-7508-4970-8068-4998562c2478",
   "metadata": {},
   "outputs": [],
   "source": [
    "%%bash\n",
    "\n",
    "mkdir -p ../sandbox/europe/spaceNNtime/exp013\n",
    "mkdir -p ../sandbox/europe/spaceNNtime/exp014"
   ]
  },
  {
   "cell_type": "code",
   "execution_count": 53,
   "id": "8ec3e08e-63f0-4e27-ae3b-8f403e1fc374",
   "metadata": {},
   "outputs": [
    {
     "name": "stdout",
     "output_type": "stream",
     "text": [
      "13\n",
      "14\n"
     ]
    }
   ],
   "source": [
    "%%bash\n",
    "\n",
    "for x in `seq 13 14`;\n",
    "do\n",
    "    echo ${x}\n",
    "    cp ../sandbox/europe/spaceNNtime/exp004/exp004.yaml ../sandbox/europe/spaceNNtime/exp0${x}/exp0${x}.yaml\n",
    "    cp ../sandbox/europe/spaceNNtime/exp004/metadata.csv ../sandbox/europe/spaceNNtime/exp0${x}/metadata.csv\n",
    "done;"
   ]
  },
  {
   "cell_type": "markdown",
   "id": "0a5dd686-5ba5-46fc-b0c7-95bbf4850708",
   "metadata": {
    "tags": []
   },
   "source": [
    "[<img src=\"arrow.png\" width=\"100\" style=\"float: left;\">](#Home3) &nbsp;\n",
    "\n",
    "&nbsp;\n",
    "\n",
    "<a name=\"GLs\"></a>\n",
    "### H. Genotype Likelihoods\n",
    "\n",
    "In this chuck I'll produce Genotype Likelihoods simulated using `simGL`. "
   ]
  },
  {
   "cell_type": "code",
   "execution_count": 5,
   "id": "ce66cc4c-28bc-46da-8801-af4105062df6",
   "metadata": {},
   "outputs": [
    {
     "name": "stdout",
     "output_type": "stream",
     "text": [
      "/maps/projects/racimolab/people/qxz396/spaceNNtime/jupyternotebooks\n"
     ]
    }
   ],
   "source": [
    "%%bash\n",
    "\n",
    "pwd"
   ]
  },
  {
   "cell_type": "code",
   "execution_count": 116,
   "id": "9953d882-1329-4996-a961-042ac455dad1",
   "metadata": {},
   "outputs": [],
   "source": [
    "e        = 0.005\n",
    "ts       = pyslim.load(\"../sandbox/europe/processed_tree/tree.trees\")\n",
    "metadata = pd.read_csv(\"../sandbox/europe/spaceNNtime/exp{exp}/metadata.csv\".format(exp = \"004\"))\n",
    "gm       = allele_counts_from_simulations(ts, metadata, 1, False)\n",
    "arc      = simGL.sim_allelereadcounts(gm = gm, mean_depth = 10., std_depth = 3., e = e, ploidy = 2, seed = 1234)\n",
    "GL       = simGL.allelereadcounts_to_GL(arc = arc, e = e, ploidy = 2)[:, :, 0:3]\n",
    "\n",
    "argsorGL = np.argsort(GL)\n",
    "\n",
    "minGLidx = np.argmax(argsorGL == 0, axis = 2).reshape(-1)\n",
    "\n",
    "dim1_idx = np.repeat(np.arange(GL.shape[0]), GL.shape[1])\n",
    "dim2_idx = np.tile(np.arange(GL.shape[1]), GL.shape[0])\n",
    "dim3_idx = np.argmax(np.argsort(GL) == 1, axis = 2).reshape(-1)\n",
    "midGLval = GL[dim1_idx, dim2_idx, dim3_idx]\n",
    "\n",
    "missing  = ((GL == 0).sum(axis = 2) == 3).reshape(-1)\n",
    "\n",
    "minGLidx[missing] = -1\n",
    "midGLval[missing] = max(midGLval)*2\n",
    "GLmix = np.concatenate((minGLidx, midGLval)).reshape(2, midGLval.shape[0]).reshape(2, GL.shape[0], GL.shape[1]).transpose((1, 0, 2)).reshape(GL.shape[0]*2, GL.shape[1])"
   ]
  },
  {
   "cell_type": "code",
   "execution_count": 117,
   "id": "4e4d764c-ba70-446f-adc2-446028e44132",
   "metadata": {},
   "outputs": [
    {
     "data": {
      "text/plain": [
       "array([0, 0, 0, ..., 0, 0, 0])"
      ]
     },
     "execution_count": 117,
     "metadata": {},
     "output_type": "execute_result"
    }
   ],
   "source": [
    "minGLidx"
   ]
  },
  {
   "cell_type": "code",
   "execution_count": 118,
   "id": "8c44449d-13ec-4690-8380-110d3ef579b0",
   "metadata": {},
   "outputs": [
    {
     "data": {
      "text/plain": [
       "array([11.06357664, 22.81862682, 21.43567974, ...,  5.53178832,\n",
       "       11.75505018, 12.44652372])"
      ]
     },
     "execution_count": 118,
     "metadata": {},
     "output_type": "execute_result"
    }
   ],
   "source": [
    "midGLval"
   ]
  },
  {
   "cell_type": "code",
   "execution_count": 124,
   "id": "dc37765e-c744-4b49-ad47-44c92e319867",
   "metadata": {},
   "outputs": [
    {
     "data": {
      "text/plain": [
       "(1324, 1500, 3)"
      ]
     },
     "execution_count": 124,
     "metadata": {},
     "output_type": "execute_result"
    }
   ],
   "source": [
    "GL.shape"
   ]
  },
  {
   "cell_type": "code",
   "execution_count": 122,
   "id": "49eec11e-8ef8-4cf1-892b-7c941e72ac22",
   "metadata": {},
   "outputs": [
    {
     "name": "stdout",
     "output_type": "stream",
     "text": [
      "(2648, 1500)\n"
     ]
    },
    {
     "data": {
      "text/plain": [
       "array([[ 0.        ,  0.        ,  0.        , ...,  0.        ,\n",
       "         0.        ,  0.        ],\n",
       "       [11.06357664, 22.81862682, 21.43567974, ...,  8.98915602,\n",
       "        11.75505018,  8.98915602],\n",
       "       [ 0.        ,  0.        ,  0.        , ...,  0.        ,\n",
       "         0.        ,  0.        ],\n",
       "       ...,\n",
       "       [ 5.53178832, 15.21241788, 14.52094434, ...,  5.53178832,\n",
       "        15.21241788,  8.98915602],\n",
       "       [ 0.        ,  0.        ,  0.        , ...,  0.        ,\n",
       "         0.        ,  0.        ],\n",
       "       [10.3721031 , 15.21241788, 18.66978558, ...,  5.53178832,\n",
       "        11.75505018, 12.44652372]])"
      ]
     },
     "execution_count": 122,
     "metadata": {},
     "output_type": "execute_result"
    }
   ],
   "source": [
    "print(GLmix.shape)\n",
    "GLmix"
   ]
  },
  {
   "cell_type": "markdown",
   "id": "c183ecdd-1ba0-49ca-a6bc-763201992379",
   "metadata": {},
   "source": [
    "Prove that this method works"
   ]
  },
  {
   "cell_type": "code",
   "execution_count": 115,
   "id": "6261485e-82ca-4f35-91d3-0ae242520168",
   "metadata": {},
   "outputs": [
    {
     "data": {
      "text/plain": [
       "array([[ 0,  1,  2,  3,  4],\n",
       "       [ 0,  1,  2,  3,  4],\n",
       "       [ 5,  6,  7,  8,  9],\n",
       "       [ 5,  6,  7,  8,  9],\n",
       "       [10, 11, 12, 13, 14],\n",
       "       [10, 11, 12, 13, 14]])"
      ]
     },
     "execution_count": 115,
     "metadata": {},
     "output_type": "execute_result"
    }
   ],
   "source": [
    "np.concatenate((np.arange(3*5).reshape(3, 5).reshape(-1), np.arange(3*5).reshape(3, 5).reshape(-1))).reshape(2, 3, 5).transpose((1, 0, 2)).reshape(3*2, 5)\n"
   ]
  },
  {
   "cell_type": "code",
   "execution_count": 112,
   "id": "b23b6744-36ac-44d3-ae09-aee07e0b4bdb",
   "metadata": {},
   "outputs": [
    {
     "data": {
      "text/plain": [
       "array([ 0.        , 17.97831204,  0.        , ..., 13.66081555,\n",
       "        0.        , 15.90389142])"
      ]
     },
     "execution_count": 112,
     "metadata": {},
     "output_type": "execute_result"
    }
   ],
   "source": [
    "\n"
   ]
  },
  {
   "cell_type": "code",
   "execution_count": 86,
   "id": "85aa5d94-2124-4151-90a6-74be3967abfd",
   "metadata": {},
   "outputs": [
    {
     "data": {
      "text/plain": [
       "array([[ 0.        , 11.06357664,  0.        , ...,  8.98915602,\n",
       "         0.        , 20.05273266],\n",
       "       [ 0.        ,  9.68062956,  0.        , ..., 11.75505018,\n",
       "         0.        ,  8.98915602],\n",
       "       [ 0.        ,  4.67165953,  0.        , ..., 12.44652372,\n",
       "         0.        , 18.66978558],\n",
       "       ...,\n",
       "       [ 0.        , 15.90389142,  0.        , ..., 15.21241788,\n",
       "         0.        ,  8.98915602],\n",
       "       [ 0.        , 10.3721031 ,  0.        , ..., 15.21241788,\n",
       "         0.        , 22.12715328],\n",
       "       [ 0.        , 14.52094434,  0.        , ..., 11.75505018,\n",
       "         0.        , 12.44652372]])"
      ]
     },
     "execution_count": 86,
     "metadata": {},
     "output_type": "execute_result"
    }
   ],
   "source": [
    "np.concatenate((minGLidx, midGLval)).reshape(2, midGLval.shape[0]).T.reshape(-1).reshape(GL.shape[0]*2, GL.shape[1])"
   ]
  },
  {
   "cell_type": "code",
   "execution_count": 48,
   "id": "d0e6edc8-ae5e-4d3b-a31c-42d725da5a98",
   "metadata": {},
   "outputs": [
    {
     "data": {
      "text/plain": [
       "(1324, 1500, 3)"
      ]
     },
     "execution_count": 48,
     "metadata": {},
     "output_type": "execute_result"
    }
   ],
   "source": [
    "GL.shape"
   ]
  },
  {
   "cell_type": "code",
   "execution_count": 125,
   "id": "ca84f98e-60b9-420b-acf1-837949f25142",
   "metadata": {},
   "outputs": [
    {
     "data": {
      "text/plain": [
       "'1.22.1'"
      ]
     },
     "execution_count": 125,
     "metadata": {},
     "output_type": "execute_result"
    }
   ],
   "source": [
    "np.__version__"
   ]
  },
  {
   "cell_type": "code",
   "execution_count": 130,
   "id": "7411551f-2ed1-407d-9273-d824fde380c3",
   "metadata": {},
   "outputs": [],
   "source": [
    "def depth_per_haplotype(rng, mean_depth, std_depth, n_hap):\n",
    "    if isinstance(mean_depth, np.ndarray):\n",
    "        return mean_depth\n",
    "    else:\n",
    "        dp = np.full((n_hap, ), 0.0)\n",
    "        while (dp <= 0).sum():\n",
    "            n = (dp <= 0).sum()\n",
    "            dp[dp <= 0] = rng.normal(loc = mean_depth, scale = std_depth, size=n)\n",
    "        return dp\n",
    "\n",
    "def refalt_int_encoding(gm, ref, alt):\n",
    "    refalt_str                    = np.array([ref, alt])\n",
    "    refalt_int                    = np.zeros(refalt_str.shape, dtype=int)\n",
    "    refalt_int[refalt_str == \"C\"] = 1\n",
    "    refalt_int[refalt_str == \"G\"] = 2\n",
    "    refalt_int[refalt_str == \"T\"] = 3\n",
    "    return refalt_int[gm.reshape(-1), np.repeat(np.arange(gm.shape[0]), gm.shape[1])].reshape(gm.shape)"
   ]
  },
  {
   "cell_type": "code",
   "execution_count": 133,
   "id": "425bf539-153f-4bef-bcce-bb3151f7fe3d",
   "metadata": {},
   "outputs": [
    {
     "data": {
      "text/plain": [
       "array([[[50,  0,  0,  0],\n",
       "        [69,  0,  0,  0],\n",
       "        [96,  0,  0,  1],\n",
       "        ...,\n",
       "        [47,  0,  0,  0],\n",
       "        [47,  1,  0,  0],\n",
       "        [51,  1,  0,  0]],\n",
       "\n",
       "       [[55,  0,  0,  0],\n",
       "        [63,  0,  1,  1],\n",
       "        [95,  0,  0,  0],\n",
       "        ...,\n",
       "        [38,  0,  0,  0],\n",
       "        [56,  0,  0,  0],\n",
       "        [45,  0,  0,  0]],\n",
       "\n",
       "       [[48,  0,  1,  0],\n",
       "        [59,  1,  0,  0],\n",
       "        [71,  0,  1,  0],\n",
       "        ...,\n",
       "        [57,  0,  0,  0],\n",
       "        [61,  1,  0,  0],\n",
       "        [48,  0,  0,  0]],\n",
       "\n",
       "       ...,\n",
       "\n",
       "       [[55,  0,  0,  0],\n",
       "        [53,  0,  0,  0],\n",
       "        [77,  0,  0,  0],\n",
       "        ...,\n",
       "        [60,  0,  0,  0],\n",
       "        [61,  0,  0,  0],\n",
       "        [56,  0,  0,  0]],\n",
       "\n",
       "       [[57,  0,  0,  2],\n",
       "        [82,  0,  1,  0],\n",
       "        [62,  1,  0,  0],\n",
       "        ...,\n",
       "        [49,  0,  0,  0],\n",
       "        [61,  0,  0,  0],\n",
       "        [53,  0,  0,  0]],\n",
       "\n",
       "       [[49,  0,  0,  0],\n",
       "        [55,  0,  0,  0],\n",
       "        [67,  0,  0,  0],\n",
       "        ...,\n",
       "        [47,  0,  0,  0],\n",
       "        [57,  0,  0,  0],\n",
       "        [65,  0,  0,  0]]])"
      ]
     },
     "execution_count": 133,
     "metadata": {},
     "output_type": "execute_result"
    }
   ],
   "source": [
    "seed = 1234\n",
    "mean_depth = 30.0\n",
    "std_depth = 5.0\n",
    "ploidy = 2\n",
    "\n",
    "ts       = pyslim.load(\"../sandbox/europe/processed_tree/tree.trees\")\n",
    "metadata = pd.read_csv(\"../sandbox/europe/spaceNNtime/exp{exp}/metadata.csv\".format(exp = \"004\"))\n