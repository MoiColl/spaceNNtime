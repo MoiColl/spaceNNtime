{
 "cells": [
  {
   "cell_type": "markdown",
   "id": "1b78baa7-2d27-4835-a82b-a7b902a2fc6e",
   "metadata": {},
   "source": [
    "# spaceNNtime in AADR dataset\n",
    "\n",
    "In this notebook I analyse spaceNNtime results on AADR dataset\n",
    "\n",
    "<a name=\"AADRHome4\"></a>\n",
    "\n",
    "## Contents\n",
    "\n",
    "0. [ Library and packages ](#AADRLib)\n",
    "1. [ Functions ](#AADRFun)\n",
    "    + 1. [Python Functions](#AADRPyf)\n",
    "    + 2. [R Functions](#AADRRfu)\n",
    "2. [ spaceNNtime results in simulations ](#AADRExp)\n",
    "    + 1. [Presentation of experiment simulated data](#AADRPrs)\n",
    "    + 2. [Analise results](#AADRAna)\n",
    "        - Correlation true vs predicted\n",
    "        - Error\n",
    "        - Plots\n",
    "   \n",
    "<a name=\"AADRLib\"></a>\n",
    "## 0. Library and packages"
   ]
  },
  {
   "cell_type": "code",
   "execution_count": 1,
   "id": "30ef4768-a859-4d61-9735-2d396a06b006",
   "metadata": {},
   "outputs": [],
   "source": [
    "%load_ext rpy2.ipython"
   ]
  },
  {
   "cell_type": "code",
   "execution_count": 2,
   "id": "17feb0f4-3f6e-4fc2-ad44-71c855f363c6",
   "metadata": {},
   "outputs": [
    {
     "name": "stdout",
     "output_type": "stream",
     "text": [
      "[1] \"/maps/projects/racimolab/people/qxz396/miniconda3/envs/sNNt_slendr/lib/R/library\"\n"
     ]
    }
   ],
   "source": [
    "%%R\n",
    ".libPaths()"
   ]
  },
  {
   "cell_type": "code",
   "execution_count": 3,
   "id": "abf9057d-3eac-40e4-8146-5347d33ace93",
   "metadata": {},
   "outputs": [
    {
     "name": "stderr",
     "output_type": "stream",
     "text": [
      "R[write to console]: ── Attaching packages ─────────────────────────────────────── tidyverse 1.3.1 ──\n",
      "\n",
      "R[write to console]: ✔ tibble  3.1.6     ✔ dplyr   1.0.9\n",
      "✔ tidyr   1.2.0     ✔ stringr 1.4.0\n",
      "✔ readr   2.1.2     ✔ forcats 0.5.1\n",
      "✔ purrr   0.3.4     \n",
      "\n",
      "R[write to console]: ── Conflicts ────────────────────────────────────────── tidyverse_conflicts() ──\n",
      "✖ dplyr::filter() masks stats::filter()\n",
      "✖ dplyr::lag()    masks stats::lag()\n",
      "\n",
      "R[write to console]: Linking to GEOS 3.7.2, GDAL 3.0.4, PROJ 6.3.2; sf_use_s2() is TRUE\n",
      "\n",
      "R[write to console]: You can setup a pre-configured environment with all of slendr's Python\n",
      "tree-sequence dependencies (Python modules tskit, pyslim, and msprime)\n",
      "by running the function setup_env().\n",
      "\n"
     ]
    }
   ],
   "source": [
    "%%R\n",
    ".libPaths(c(\"/maps/projects/racimolab/people/qxz396/spaceNNtime/backup/environments/renv/library/R-4.1/x86_64-redhat-linux-gnu\"))\n",
    "\n",
    "library(ggplot2)\n",
    "library(cowplot)\n",
    "library(tidyverse)\n",
    "library(stringr)\n",
    "library(sf)\n",
    "library(slendr)\n",
    "library(rnaturalearth)\n",
    "library(rnaturalearthdata)\n",
    "\n",
    "options(dplyr.summarise.inform = FALSE)"
   ]
  },
  {
   "cell_type": "code",
   "execution_count": 4,
   "id": "1a443205-da51-4704-a884-94a676b60fb6",
   "metadata": {},
   "outputs": [],
   "source": [
    "#%%R\n",
    "#\n",
    "#gg_color_hue <- function(n) {\n",
    "#  hues = seq(15, 375, length = n + 1)\n",
    "#  hcl(h = hues, l = 65, c = 100)[1:n]\n",
    "#}\n",
    "#\n",
    "#colors = gg_color_hue(6)\n",
    "#col_pop = c(\"ALL\" = \"black\",\n",
    "#            \"AFR\" = colors[1], \"OOA\" = colors[2], \"EHG\" = colors[3],\n",
    "#            \"ANA\" = colors[4], \"EUR\" = colors[5], \"YAM\" = colors[6])\n"
   ]
  },
  {
   "cell_type": "code",
   "execution_count": 5,
   "id": "1ae29eaf-c65f-489c-afc8-fe3fff847865",
   "metadata": {},
   "outputs": [
    {
     "name": "stdout",
     "output_type": "stream",
     "text": [
      "[1] \"/maps/projects/racimolab/people/qxz396/spaceNNtime/backup/environments/renv/library/R-4.1/x86_64-redhat-linux-gnu\"\n",
      "[2] \"/maps/projects/racimolab/people/qxz396/miniconda3/envs/sNNt_slendr/lib/R/library\"                                 \n"
     ]
    }
   ],
   "source": [
    "%%R\n",
    ".libPaths()"
   ]
  },
  {
   "cell_type": "markdown",
   "id": "510a27d6-fb0d-4983-ad0c-b650370a39ee",
   "metadata": {
    "tags": []
   },
   "source": [
    "\n",
    "[<img src=\"arrow.png\" width=\"100\" style=\"float: left;\">](#AADRHome4) &nbsp;\n",
    "\n",
    "&nbsp;\n",
    "\n",
    "<a name=\"AADRFun\"></a>\n",
    "## 1. Functions\n",
    "\n",
    "<a name=\"AADRPfu\"></a>\n",
    "### A. Python Functions"
   ]
  },
  {
   "cell_type": "markdown",
   "id": "f1c8e880-2e30-4c31-9ab1-6529d9768199",
   "metadata": {},
   "source": [
    "<a name=\"AADRRfu\"></a>\n",
    "### B. R Functions"
   ]
  },
  {
   "cell_type": "code",
   "execution_count": 6,
   "id": "a1b4b6ea-2e1e-4dbd-af02-27a8adb52e0e",
   "metadata": {},
   "outputs": [],
   "source": [
    "%%R\n",
    "\n",
    "rad <- function(x){\n",
    "    (x * 180)/pi\n",
    "}\n",
    "\n",
    "haversine <- function(lat1, lon1, lat2, lon2){\n",
    "    R = 6371  # radius of Earth in km\n",
    "    \n",
    "    phi_1 = lat1 * pi/180\n",
    "    phi_2 = lat2 * pi/180\n",
    "    del_phi = (lat2-lat1)* pi/180\n",
    "    del_lam = (lon2-lon1)* pi/180\n",
    "    \n",
    "    a = (sin(del_phi/2)^2) + cos(phi_1) * cos(phi_2) * (sin(del_lam/2)^2)\n",
    "    \n",
    "    c = 2 * atan2(sqrt(a), sqrt(1-a))\n",
    "    \n",
    "    round(R * c, 3)\n",
    "}"
   ]
  },
  {
   "cell_type": "code",
   "execution_count": 7,
   "id": "0bf7ca29-1a5f-4c5c-9a0c-5d168ea0c5e5",
   "metadata": {},
   "outputs": [
    {
     "name": "stdout",
     "output_type": "stream",
     "text": [
      "  lat_true   lon_true lat_pred  lon_pred     diff\n",
      "1 41.50748 -99.436554 38.50405 -98.31595  347.328\n",
      "2 51.51036  -0.116773 38.88993 -77.00900 5897.658\n"
     ]
    }
   ],
   "source": [
    "%%R\n",
    "\n",
    "data.frame(lat_true = c(41.507483, 51.510357),\n",
    "           lon_true = c(-99.436554, -0.116773),\n",
    "           lat_pred = c(38.504048, 38.889931),\n",
    "           lon_pred = c(-98.315949, -77.009003)) %>%\n",
    "    mutate(diff = haversine(lat_true, lon_true, lat_pred, lon_pred))"
   ]
  },
  {
   "cell_type": "markdown",
   "id": "c9ca0cdb-4b33-4ec3-b839-6da667655930",
   "metadata": {},
   "source": [
    "\n",
    "[<img src=\"arrow.png\" width=\"100\" style=\"float: left;\">](#AADRHome4) &nbsp;\n",
    "\n",
    "&nbsp;\n",
    "\n",
    "<a name=\"AADRExp\"></a>\n",
    "## 2. spaceNNtime results in the AADR dataset\n",
    "\n",
    "<a name=\"AADRPrs\"></a>\n",
    "### A. Presentation of experiments ran\n",
    "\n",
    "In the table below, we can check each simulation experiment that has been run, its attributes and running conditions."
   ]
  },
  {
   "cell_type": "code",
   "execution_count": 8,
   "id": "bcd0947d-6b9e-4a40-8dc9-b1b259fe315a",
   "metadata": {},
   "outputs": [
    {
     "name": "stdout",
     "output_type": "stream",
     "text": [
      "   exp           nam met cro sta end  win\n",
      "1    1          loss   1   1  10  20   10\n",
      "2    2       general   1   1   0 100   10\n",
      "3    2       general   1   2   0 100   10\n",
      "4    3          loss   1   1  10  20   10\n",
      "5    4     allwindow   1   1   0 100  100\n",
      "6    4     allwindow   1   2   0 100  100\n",
      "7    5    prediction   1   1  10  20   10\n",
      "8    6    prediction   1   1  10  20   10\n",
      "9    7         nodes   1   1  10  20   10\n",
      "10   8         nodes   1   1  10  20   10\n",
      "11   9        modern   9   1  10  20   10\n",
      "12  10          tims  10   1   0 250   10\n",
      "13  10          tims  10   2   0 100   10\n",
      "14  11          tims  10   1   0 250  100\n",
      "15  11          tims  10   2   0 100  100\n",
      "16  12 tims_nomodern  12   1  10  20   10\n",
      "17  13   tims_weight  10   1   0 100   10\n",
      "18  14          tims  10   1   0 250 1000\n",
      "                                                            dmt   pre typ  los\n",
      "1               sntind_and_datmet_in_[\\\\\"Direct\\\\\",\\\\\"Known\\\\\"]  sNNt  gt hdtd\n",
      "2               sntind_and_datmet_in_[\\\\\"Direct\\\\\",\\\\\"Known\\\\\"]  sNNt  gt hdtd\n",
      "3               sntind_and_datmet_in_[\\\\\"Direct\\\\\",\\\\\"Known\\\\\"]  sNNt  gt hdtd\n",
      "4               sntind_and_datmet_in_[\\\\\"Direct\\\\\",\\\\\"Known\\\\\"]  sNNt  gt hdtd\n",
      "5               sntind_and_datmet_in_[\\\\\"Direct\\\\\",\\\\\"Known\\\\\"]  sNNt  gt hdtd\n",
      "6               sntind_and_datmet_in_[\\\\\"Direct\\\\\",\\\\\"Known\\\\\"]  sNNt  gt hdtd\n",
      "7               sntind_and_datmet_in_[\\\\\"Direct\\\\\",\\\\\"Known\\\\\"] space  gt   hd\n",
      "8               sntind_and_datmet_in_[\\\\\"Direct\\\\\",\\\\\"Known\\\\\"]  time  gt  mse\n",
      "9               sntind_and_datmet_in_[\\\\\"Direct\\\\\",\\\\\"Known\\\\\"]  sNNt  gt hdtd\n",
      "10              sntind_and_datmet_in_[\\\\\"Direct\\\\\",\\\\\"Known\\\\\"]  sNNt  gt hdtd\n",
      "11 sntind_and_datmet_in_[\\\\\"Direct\\\\\",\\\\\"Known\\\\\",\\\\\"Modern\\\\\"]  sNNt  gt hdtd\n",
      "12                                                       timind  time  gt  mse\n",
      "13                                                       timind  time  gt  mse\n",
      "14                                                       timind  time  gt  mse\n",
      "15                                                       timind  time  gt  mse\n",
      "16              timind_and_datmet_in_[\\\\\"Direct\\\\\",\\\\\"Known\\\\\"]  time  gt  mse\n",
      "17                                                       timind  time  gt  mse\n",
      "18                                                       timind  time  gt  mse\n",
      "    nfe  nla wti    wsp      wsa nod  mem    que        tim      tto\n",
      "1  None None   1   1000     None  64   8g normal   16:00:00 00:00:00\n",
      "2  None None   1  10000     None  64   8g normal   16:00:00 00:00:00\n",
      "3  None None   1  10000     None  64   8g normal   16:00:00 00:00:00\n",
      "4  None None   1 100000     None  64   8g normal   16:00:00 00:00:00\n",
      "5  None None   1  10000     None  64 100g normal 1-00:00:00 00:00:00\n",
      "6  None None   1  10000     None  64 100g normal 1-00:00:00 00:00:00\n",
      "7  None None   1  10000     None  64   8g normal   16:00:00 00:00:00\n",
      "8  None None   1  10000     None  64   8g normal   16:00:00 00:00:00\n",
      "9  None None   1  10000     None 128   8g normal   16:00:00 00:00:00\n",
      "10 None None   1  10000     None 256   8g normal   16:00:00 00:00:00\n",
      "11 None None   1  10000     None  64   8g normal   16:00:00 00:00:00\n",
      "12 None None   1  10000     None  64   8g normal   16:00:00 00:00:00\n",
      "13 None None   1  10000     None  64   8g normal   16:00:00 00:00:00\n",
      "14 None None   1  10000     None  64  60g    gpu 1-00:00:00 00:00:00\n",
      "15 None None   1  10000     None  64  60g normal 1-00:00:00 00:00:00\n",
      "16 None None   1  10000     None  64   8g normal   16:00:00 00:00:00\n",
      "17 None None   1  10000 coverage  64   8g normal   16:00:00 00:00:00\n",
      "18 None None   1  10000     None  64  60g    gpu 1-00:00:00 00:00:00\n"
     ]
    }
   ],
   "source": [
    "%%R\n",
    "\n",
    "read.csv(\"../../files/experiments_AADR.csv\", sep = \";\")"
   ]
  },
  {
   "cell_type": "markdown",
   "id": "36d7ad57-e7dd-4d3c-9556-11295488b147",
   "metadata": {},
   "source": [
    "\n",
    "[<img src=\"arrow.png\" width=\"100\" style=\"float: left;\">](#AADRHome4) &nbsp;\n",
    "\n",
    "&nbsp;\n",
    "\n",
    "<a name=\"AADRAna\"></a>\n",
    "### E. Analise results\n",
    "\n",
    "For each experiment, there is a `pred.txt` file which contains all necessary information to visualize results:"
   ]
  },
  {
   "cell_type": "code",
   "execution_count": 9,
   "id": "8a062b68-c938-4155-b620-b8ca2198ba11",
   "metadata": {},
   "outputs": [
    {
     "name": "stdout",
     "output_type": "stream",
     "text": [
      "   sim exp     nam typ cro      sta      end gro                ind  idx  snp\n",
      "1 AADR   2 general  gt   1 10000000 20000000   0             I13840   26 4463\n",
      "2 AADR   2 general  gt   1 10000000 20000000   0             I15969  827 4463\n",
      "3 AADR   2 general  gt   1 10000000 20000000   0      DA13_noUDG.SG 2131 4463\n",
      "4 AADR   2 general  gt   1 10000000 20000000   1 s19_X20_1_noUDG.SG 1189 4463\n",
      "5 AADR   2 general  gt   1 10000000 20000000   1     CR-01_noUDG.SG 4163 4463\n",
      "6 AADR   2 general  gt   1 10000000 20000000   1          R11833.SG 4740 4463\n",
      "       run true_lat   true_lon  pred_lat  pred_lon diff_space true_tim pred_tim\n",
      "1 3.416814 40.67111   20.98472 50.390270  14.49986  1191.8320     6102 3785.895\n",
      "2 3.416814 18.45100  -69.68600 13.421976 -65.30150   729.5843      995 1253.492\n",
      "3 3.416814 49.06065   75.50320 47.649044  77.69067   225.2881     2568 3062.791\n",
      "4 3.414237 59.43080   24.90890 50.660572  17.80256  1073.7507     2787 4494.631\n",
      "5 3.414237 34.00361 -119.72639 -7.736803 -81.61590  6135.3306     1017 1481.488\n",
      "6 3.414237 40.59380    8.20450 42.026917  15.57549   635.7094     1639 3108.057\n",
      "   diff_time\n",
      "1  2316.1050\n",
      "2  -258.4924\n",
      "3  -494.7915\n",
      "4 -1707.6309\n",
      "5  -464.4878\n",
      "6 -1469.0571\n"
     ]
    }
   ],
   "source": [
    "%%R\n",
    "\n",
    "read.table(\"../../sandbox/AADR/2/pred_1_10000000_20000000.txt\", header = T) %>%\n",
    "    head()"
   ]
  },
  {
   "cell_type": "code",
   "execution_count": 10,
   "id": "c7e01d40-f33b-4913-b061-d3cb1bab3f4b",
   "metadata": {},
   "outputs": [
    {
     "name": "stdout",
     "output_type": "stream",
     "text": [
      "../../files/AADR_filtered_metadata.csv\n",
      "../../files/AADR_filtered_metadata.txt\n"
     ]
    }
   ],
   "source": [
    "%%bash\n",
    "\n",
    "ls ../../files/AADR_*"
   ]
  },
  {
   "cell_type": "code",
   "execution_count": 11,
   "id": "4556d2a6-b4af-45dc-b120-fa1c5b9d0310",
   "metadata": {},
   "outputs": [
    {
     "name": "stdout",
     "output_type": "stream",
     "text": [
      "                    ind master  datmet datmea                           locate\n",
      "1 Ne30_genotyping_noUDG   NE30  Direct   9896                Nepal,__Kathmandu\n",
      "2 Ne61_genotyping_noUDG   NE61  Direct   3421                Nepal,__Kathmandu\n",
      "3 Ne35_genotyping_noUDG   NE35  Direct   8990                Nepal,__Kathmandu\n",
      "4                I17622 I17622 Context   3050                Southwest,__Dukat\n",
      "5                I13833 I13833 Context    325 Barç__(Southeast,__Korça__Basin)\n",
      "6                 I3931  I3931  Direct   7858                         Aknashen\n",
      "   countr      latitu      longit                                   warnin\n",
      "1   China       45.96      126.23                                       ..\n",
      "2   China       45.88      126.22                                       ..\n",
      "3   China       45.91      125.95                                       ..\n",
      "4 Albania      40.295 19.49027778 2500.to.5000.SNPs,__damage.ss.half=0.096\n",
      "5 Albania   40.625278   20.801111                                       ..\n",
      "6 Armenia 40.10093333 44.29051667                                       ..\n",
      "  timind sntind\n",
      "1  FALSE   TRUE\n",
      "2  FALSE   TRUE\n",
      "3  FALSE   TRUE\n",
      "4  FALSE   TRUE\n",
      "5  FALSE   TRUE\n",
      "6  FALSE   TRUE\n"
     ]
    }
   ],
   "source": [
    "%%R\n",
    "\n",
    "read.csv(\"../../files/AADR_filtered_metadata.txt\", header = T, sep = \"\\t\") %>%\n",
    "    select(ind = indivi, master, datmet, datmea, locate, countr, latitu, longit, warnin, timind, sntind) %>%\n",
    "    head()"
   ]
  },
  {
   "cell_type": "code",
   "execution_count": 12,
   "id": "6ecccbcb-76e7-43f1-bf5c-851b8bcfebc0",
   "metadata": {},
   "outputs": [
    {
     "name": "stdout",
     "output_type": "stream",
     "text": [
      "   sim exp     nam typ cro      sta      end gro                ind  idx  snp\n",
      "1 AADR   2 general  gt   1 10000000 20000000   0             I13840   26 4463\n",
      "2 AADR   2 general  gt   1 10000000 20000000   0             I15969  827 4463\n",
      "3 AADR   2 general  gt   1 10000000 20000000   0      DA13_noUDG.SG 2131 4463\n",
      "4 AADR   2 general  gt   1 10000000 20000000   1 s19_X20_1_noUDG.SG 1189 4463\n",
      "5 AADR   2 general  gt   1 10000000 20000000   1     CR-01_noUDG.SG 4163 4463\n",
      "6 AADR   2 general  gt   1 10000000 20000000   1          R11833.SG 4740 4463\n",
      "       run truepred stat    value master datmet datmea\n",
      "1 3.416814     true  lat 40.67111 I13840 Direct   6102\n",
      "2 3.416814     true  lat 18.45100 I15969 Direct    995\n",
      "3 3.416814     true  lat 49.06065   DA13 Direct   2568\n",
      "4 3.414237     true  lat 59.43080    X20 Direct   2787\n",
      "5 3.414237     true  lat 34.00361  CR-01 Direct   1017\n",
      "6 3.414237     true  lat 40.59380 R11833 Direct   1639\n",
      "                                         locate              countr    latitu\n",
      "1    Tren__Cave__(Southeast__,__Devoll__area)__             Albania 40.671111\n",
      "2                                    La__Caleta Dominican__Republic    18.451\n",
      "3                  Tian__Shan,__Central__Steppe          Kazakhstan 49.060646\n",
      "4              Harju,__Parna__1__at__Väo,__cist             Estonia   59.4308\n",
      "5                        San__Cruz__Island,__CA                 USA 34.003611\n",
      "6 Sardinia,__Porto__Conte__bay,__Sant'__Imbenia               Italy   40.5938\n",
      "       longit                warnin timind sntind\n",
      "1   20.984722                    ..  FALSE   TRUE\n",
      "2     -69.686 Xcontam=[0.005,0.012]  FALSE   TRUE\n",
      "3     75.5032                    ..   TRUE   TRUE\n",
      "4     24.9089                    ..   TRUE   TRUE\n",
      "5 -119.726389                    ..  FALSE   TRUE\n",
      "6      8.2045                    ..  FALSE   TRUE\n"
     ]
    }
   ],
   "source": [
    "%%R -w 1000 -h 1250\n",
    "\n",
    "read.table(\"../../sandbox/AADR/2/pred_1_10000000_20000000.txt\", header = T) %>%\n",
    "#read.table(\"../../sandbox/AADR/4/pred_1_0_100000000.txt\", header = T) %>%\n",
    "    select(-c(diff_time, diff_space)) %>%\n",
    "    gather(\"stat\", \"value\", c(true_lat, true_lon, pred_lat, pred_lon, true_tim,  pred_tim)) %>% \n",
    "    separate(stat, c(\"truepred\", \"stat\"), sep = \"_\") %>%\n",
    "    left_join(read.csv(\"../../files/AADR_filtered_metadata.txt\", header = T, sep = \"\\t\") %>%\n",
    "                select(ind = indivi, master, datmet, datmea, locate, countr, latitu, longit, warnin, timind, sntind), by = c(\"ind\")) %>% \n",
    "    mutate(truepred = factor(truepred, levels = c(\"true\", \"pred\"))) -> df\n",
    "    \n",
    "df %>%\n",
    "    head()"
   ]
  },
  {
   "cell_type": "code",
   "execution_count": 13,
   "id": "b7cbe511-5e0d-4983-af42-16c487fbd839",
   "metadata": {},
   "outputs": [
    {
     "data": {
      "image/png": "[encoded data removed]"
     },
     "metadata": {},
     "output_type": "display_data"
    }
   ],
   "source": [
    "%%R -w 1000 -h 750\n",
    "\n",
    "plot_grid(\n",
    "    df %>%        \n",
    "        ggplot() +\n",
    "        #geom_histogram(aes(x = value, fill = pop), bins = 30) + \n",
    "        geom_histogram(aes(x = value), bins = 30) + \n",
    "        #geom_vline(data = . %>% group_by(pop, stat, truepred) %>% summarize(mean = mean(value)), aes(xintercept = mean, color = pop)) +\n",
    "        #geom_vline(data = . %>% group_by(stat, truepred) %>% summarize(mean = mean(value)), aes(xintercept = mean)) +\n",
    "        #scale_color_manual(values=col_pop) +\n",
    "        #scale_fill_manual(values=col_pop) +\n",
    "        facet_wrap(truepred~stat, scales = \"free\") +\n",
    "        theme_light(),\n",
    "    df %>%\n",
    "        spread(truepred, value) %>%\n",
    "        mutate(diff = true - pred) %>%\n",
    "        ggplot() +\n",
    "        geom_histogram(aes(x = diff), bins = 30) + \n",
    "        #geom_histogram(aes(x = diff, fill = pop), bins = 30) + \n",
    "        #geom_vline(data = . %>% group_by(pop, stat) %>% summarize(mean = mean(diff)), aes(xintercept = mean, color = pop)) +\n",
    "        #scale_color_manual(values=col_pop) +\n",
    "        #scale_fill_manual(values=col_pop) +\n",
    "        facet_wrap(.~stat, scales = \"free\") +\n",
    "        theme_light() +\n",
    "        ggtitle(\"Difference = real - prediciton\"),\n",
    "    df %>%\n",
    "        spread(truepred, value) %>%\n",
    "        ggplot() +\n",
    "        #geom_hline(data = . %>% group_by(stat) %>% summarize(mean = mean(true)), aes(yintercept = mean), linetype = \"dashed\") +\n",
    "        #geom_point(aes(x = true, y = pred, color = pop)) +\n",
    "        geom_point(aes(x = true, y = pred)) +\n",
    "        geom_abline(slope = 1, intercept = 0, linetype = \"dashed\") +\n",
    "        geom_smooth(method = \"lm\", formula = 'y ~ x', aes(x = true, y = pred)) +\n",
    "        #geom_errorbar(data = . %>% group_by(pop, stat) %>% summarize(mean_pred = mean(pred), \n",
    "        #                                                             mean_true = mean(true),\n",
    "        #                                                             se_pred   = 1.96*(sd(pred)/sqrt(n())),\n",
    "        #                                                             se_true   = 1.96*(sd(true)/sqrt(n()))), \n",
    "        #              aes(x = mean_true, ymin = mean_pred-se_pred, ymax = mean_pred+se_pred)) +\n",
    "        #geom_errorbar(data = . %>% group_by(pop, stat) %>% summarize(mean_pred = mean(pred), \n",
    "        #                                                             mean_true = mean(true),\n",
    "        #                                                             se_pred   = 1.96*(sd(pred)/sqrt(n())),\n",
    "        #                                                             se_true   = 1.96*(sd(true)/sqrt(n()))), \n",
    "        #              aes(y = mean_pred, xmin = mean_true-se_true, xmax = mean_true+se_true)) +\n",
    "        #geom_point(data = . %>% group_by(pop, stat) %>% summarize(mean_pred = mean(pred), \n",
    "        #                                                          mean_true = mean(true)), \n",
    "        #           aes(x = mean_true, y = mean_pred, fill = pop), shape = 22, size = 5) +\n",
    "        #scale_color_manual(values=col_pop) +\n",
    "        #scale_fill_manual(values=col_pop) +\n",
    "        facet_wrap(.~stat, scales = \"free\") +\n",
    "        theme_light() +\n",
    "        ggtitle(\"Correlation true vs predicted values\"),\n",
    "    \n",
    "    ncol = 1, labels = \"auto\", rel_heights = c(2, 1, 1)\n",
    ") -> plot\n",
    "\n",
    "plot\n",
    "\n",
    "#ggsave(\"true_pred.pdf\", width = 20*2, height = 15*1.5, units = \"cm\")\n",
    "\n",
    "plot"
   ]
  },
  {
   "cell_type": "code",
   "execution_count": 14,
   "id": "49df4435-dadc-4030-a6b4-db4434c9d4e7",
   "metadata": {},
   "outputs": [
    {
     "name": "stdout",
     "output_type": "stream",
     "text": [
      "  stat  mean_pred  mean_true  mean_diff    sqrtdiff\n",
      "1  lat   43.20763   40.88495  -2.322682    9.664024\n",
      "2  lon   27.69199   26.12650  -1.565483   25.709938\n",
      "3  tim 3869.68709 3835.39557 -34.291520 1904.485669\n"
     ]
    }
   ],
   "source": [
    "%%R\n",
    "\n",
    "df %>% \n",
    "    group_by(stat) %>%\n",
    "    spread(truepred, value) %>%\n",
    "    summarize(mean_pred = mean(pred), mean_true = mean(true), mean_diff = mean(true-pred), sqrtdiff = mean(sqrt((true-pred)^2))) %>%\n",
    "    as.data.frame() %>%\n",
    "    print()"
   ]
  },
  {
   "cell_type": "code",
   "execution_count": 15,
   "id": "5ea6c91a-3bab-4124-82eb-03446ebcf86b",
   "metadata": {},
   "outputs": [
    {
     "name": "stdout",
     "output_type": "stream",
     "text": [
      "   sim exp     nam typ cro      sta      end gro                ind  idx  snp\n",
      "1 AADR   2 general  gt   1 10000000 20000000   0             I13840   26 4463\n",
      "2 AADR   2 general  gt   1 10000000 20000000   0             I15969  827 4463\n",
      "3 AADR   2 general  gt   1 10000000 20000000   0      DA13_noUDG.SG 2131 4463\n",
      "4 AADR   2 general  gt   1 10000000 20000000   1 s19_X20_1_noUDG.SG 1189 4463\n",
      "5 AADR   2 general  gt   1 10000000 20000000   1     CR-01_noUDG.SG 4163 4463\n",
      "6 AADR   2 general  gt   1 10000000 20000000   1          R11833.SG 4740 4463\n",
      "       run           extendedexp stat      value master datmet datmea\n",
      "1 3.416814 2_1_10000000_20000000 time  2316.1050 I13840 Direct   6102\n",
      "2 3.416814 2_1_10000000_20000000 time  -258.4924 I15969 Direct    995\n",
      "3 3.416814 2_1_10000000_20000000 time  -494.7915   DA13 Direct   2568\n",
      "4 3.414237 2_1_10000000_20000000 time -1707.6309    X20 Direct   2787\n",
      "5 3.414237 2_1_10000000_20000000 time  -464.4878  CR-01 Direct   1017\n",
      "6 3.414237 2_1_10000000_20000000 time -1469.0571 R11833 Direct   1639\n",
      "                                         locate              countr    latitu\n",
      "1    Tren__Cave__(Southeast__,__Devoll__area)__             Albania 40.671111\n",
      "2                                    La__Caleta Dominican__Republic    18.451\n",
      "3                  Tian__Shan,__Central__Steppe          Kazakhstan 49.060646\n",
      "4              Harju,__Parna__1__at__Väo,__cist             Estonia   59.4308\n",
      "5                        San__Cruz__Island,__CA                 USA 34.003611\n",
      "6 Sardinia,__Porto__Conte__bay,__Sant'__Imbenia               Italy   40.5938\n",
      "       longit                warnin timind sntind\n",
      "1   20.984722                    ..  FALSE   TRUE\n",
      "2     -69.686 Xcontam=[0.005,0.012]  FALSE   TRUE\n",
      "3     75.5032                    ..   TRUE   TRUE\n",
      "4     24.9089                    ..   TRUE   TRUE\n",
      "5 -119.726389                    ..  FALSE   TRUE\n",
      "6      8.2045                    ..  FALSE   TRUE\n"
     ]
    }
   ],
   "source": [
    "%%R\n",
    "\n",
    "get_diff_data <- function(exp, cro, sta, end){\n",
    "    if(exp == 5){\n",
    "        read.table(paste(\"../../sandbox/AADR/\", exp, \"/pred_\", cro, \"_\", sta, \"_\", end, \".txt\", sep = \"\"), header = T) %>%\n",
    "            mutate(cro = cro, sta = sta, end = end,\n",
    "                   extendedexp = paste(exp, cro, sta, end, sep = \"_\")) %>%\n",
    "            select(-c(true_lat, true_lon, pred_lat, pred_lon)) %>%\n",
    "            rename(space = diff_space) %>%\n",
    "            gather(\"stat\", \"value\", c(space)) %>% \n",
    "            left_join(read.csv(\"../../files/AADR_filtered_metadata.txt\", header = T, sep = \"\\t\") %>%\n",
    "                select(ind = indivi, master, datmet, datmea, locate, countr, latitu, longit, warnin, timind, sntind), by = c(\"ind\")) %>%\n",
    "            ######################################REMOVE MODERN INDIVIDUALS#######################################\n",
    "            filter(datmet != \"Modern\")\n",
    "    }else if(exp == 6 || exp == 10 || exp == 11){\n",
    "        read.table(paste(\"../../sandbox/AADR/\", exp, \"/pred_\", cro, \"_\", sta, \"_\", end, \".txt\", sep = \"\"), header = T) %>%\n",
    "            mutate(cro = cro, sta = sta, end = end,\n",
    "                   extendedexp = paste(exp, cro, sta, end, sep = \"_\")) %>%\n",
    "            select(-c(true_tim,  pred_tim)) %>%\n",
    "            rename(time = diff_time) %>%\n",
    "            gather(\"stat\", \"value\", c(time)) %>% \n",
    "            left_join(read.csv(\"../../files/AADR_filtered_metadata.txt\", header = T, sep = \"\\t\") %>%\n",
    "                select(ind = indivi, master, datmet, datmea, locate, countr, latitu, longit, warnin, timind, sntind), by = c(\"ind\")) %>%\n",
    "            ######################################REMOVE MODERN INDIVIDUALS#######################################\n",
    "            filter(datmet != \"Modern\")\n",
    "    }else{\n",
    "        read.table(paste(\"../../sandbox/AADR/\", exp, \"/pred_\", cro, \"_\", sta, \"_\", end, \".txt\", sep = \"\"), header = T) %>%\n",
    "        \n",
    "            mutate(cro = cro, sta = sta, end = end,\n",
    "                   extendedexp = paste(exp, cro, sta, end, sep = \"_\")) %>%\n",
    "            select(-c(true_lat, true_lon, pred_lat, pred_lon, true_tim,  pred_tim)) %>%\n",
    "            rename(time = diff_time, space = diff_space) %>%\n",
    "            gather(\"stat\", \"value\", c(time, space)) %>% \n",
    "            left_join(read.csv(\"../../files/AADR_filtered_metadata.txt\", header = T, sep = \"\\t\") %>%\n",
    "                select(ind = indivi, master, datmet, datmea, locate, countr, latitu, longit, warnin, timind, sntind), by = c(\"ind\")) %>%\n",
    "            ######################################REMOVE MODERN INDIVIDUALS#######################################    \n",
    "            filter(datmet != \"Modern\")\n",
    "    }\n",
    "}\n",
    "\n",
    "    \n",
    "\n",
    "get_diff_data(2, 1, \"10000000\", \"20000000\") %>%\n",
    "    head()"
   ]
  },
  {
   "cell_type": "code",
   "execution_count": 16,
   "id": "6e1a1562-b647-4719-be68-648d0257eee0",
   "metadata": {},
   "outputs": [
    {
     "data": {
      "image/png": "[encoded data removed]"
     },
     "metadata": {},
     "output_type": "display_data"
    }
   ],
   "source": [
    "%%R -w 1500 -h 1000\n",
    "\n",
    "exp = \"2\"\n",
    "cro = \"1\"\n",
    "sta = \"10000000\"\n",
    "end = \"20000000\"\n",
    "\n",
    "plot_grid(\n",
    "    get_diff_data(exp, cro, sta, end) %>%\n",
    "        ggplot() +\n",
    "        geom_histogram(aes(x = value), bins = 30) +\n",
    "        geom_vline(data = . %>% group_by(stat) %>% summarize(mean = mean(value)), aes(xintercept = mean)) +\n",
    "        geom_text(data = . %>% group_by(stat) %>% summarize(mean = mean(value)), aes(x = mean, y = 50, label = round(mean, 2))) +\n",
    "        #geom_vline(data = . %>% group_by(pop, stat) %>% summarize(mean = mean(value)), aes(xintercept = mean, color = pop)) +\n",
    "        #scale_color_manual(values=col_pop) +\n",
    "        #scale_fill_manual(values=col_pop) +    \n",
    "        facet_wrap(.~stat, scales = \"free\") +\n",
    "        theme_light(),\n",
    "    \n",
    "    get_diff_data(exp, cro, sta, end) %>%\n",
    "        mutate(value = sqrt(value^2)) %>%\n",
    "        ggplot() +\n",
    "        geom_histogram(aes(x = value), bins = 30) +\n",
    "        geom_vline(data = . %>% group_by(stat) %>% summarize(mean = mean(value)), aes(xintercept = mean)) +\n",
    "        #geom_vline(data = . %>% group_by(pop, stat) %>% summarize(mean = mean(value)), aes(xintercept = mean, color = pop)) +\n",
    "        geom_text(data = . %>% group_by(stat) %>% summarize(mean = mean(value)), aes(x = mean+(mean*0.5), y = 50, label = round(mean, 2))) +\n",
    "        ylab(\"count\") +\n",
    "        #scale_color_manual(values=col_pop) +\n",
    "        #scale_fill_manual(values=col_pop) +\n",
    "        facet_wrap(.~stat, scales = \"free\") +\n",
    "        theme_light(),\n",
    "    \n",
    "    nrow = 2) -> plot\n",
    "\n",
    "plot\n",
    "\n",
    "#ggsave(\"diff.pdf\", width = 20*1.5, height = 15*1.5, units = \"cm\")\n",
    "\n",
    "#plot"
   ]
  },
  {
   "cell_type": "code",
   "execution_count": 26,
   "id": "862ca54d-c9f1-4665-a22d-87a67e3ea4f1",
   "metadata": {},
   "outputs": [
    {
     "name": "stdout",
     "output_type": "stream",
     "text": [
      "[1] 1\n",
      "[1] 1e+07\n",
      "[1] \"I'm here!\"\n",
      "[1] 2\n",
      "[1] 1e+07\n",
      "[1] \"I'm here!\"\n",
      "[1] \"I'm here!\"\n",
      "[1] \"I'm here!\"\n",
      "[1] \"I'm here!\"\n",
      "[1] \"I'm here!\"\n",
      "[1] \"I'm here!\"\n",
      "[1] \"I'm here!\"\n",
      "[1] \"I'm here!\"\n",
      "[1] \"I'm here!\"\n",
      "[1] \"I'm here!\"\n",
      "[1] 3\n",
      "[1] 1e+07\n",
      "[1] \"I'm here!\"\n",
      "[1] \"I'm here!\"\n",
      "[1] \"I'm here!\"\n",
      "[1] \"I'm here!\"\n",
      "[1] \"I'm here!\"\n",
      "[1] \"I'm here!\"\n",
      "[1] \"I'm here!\"\n",
      "[1] \"I'm here!\"\n",
      "[1] \"I'm here!\"\n",
      "[1] \"I'm here!\"\n",
      "[1] 4\n",
      "[1] 1e+07\n",
      "[1] \"I'm here!\"\n",
      "[1] 5\n",
      "[1] 1e+08\n",
      "[1] \"I'm here!\"\n",
      "[1] 6\n",
      "[1] 1e+08\n",
      "[1] \"I'm here!\"\n",
      "[1] 7\n",
      "[1] 1e+07\n",
      "[1] \"I'm here!\"\n",
      "[1] 8\n",
      "[1] 1e+07\n",
      "[1] \"I'm here!\"\n",
      "[1] 9\n",
      "[1] 1e+07\n",
      "[1] \"I'm here!\"\n",
      "[1] 10\n",
      "[1] 1e+07\n",
      "[1] \"I'm here!\"\n",
      "[1] 11\n",
      "[1] 1e+07\n",
      "[1] \"I'm here!\"\n",
      "[1] 12\n",
      "[1] 1e+07\n",
      "[1] \"I'm here!\"\n",
      "[1] \"I'm here!\"\n",
      "[1] \"I'm here!\"\n",
      "[1] \"I'm here!\"\n",
      "[1] \"I'm here!\"\n",
      "[1] \"I'm here!\"\n",
      "[1] \"I'm here!\"\n",
      "[1] \"I'm here!\"\n",
      "[1] \"I'm here!\"\n",
      "[1] \"I'm here!\"\n",
      "[1] \"I'm here!\"\n",
      "[1] \"I'm here!\"\n",
      "[1] \"I'm here!\"\n",
      "[1] \"the file ../../sandbox/AADR/10/pred_1_130000000_140000000.txt does not exist!\"\n",
      "[1] \"I'm here!\"\n",
      "[1] \"I'm here!\"\n",
      "[1] \"I'm here!\"\n",
      "[1] \"I'm here!\"\n",
      "[1] \"I'm here!\"\n",
      "[1] \"I'm here!\"\n",
      "[1] \"I'm here!\"\n",
      "[1] \"I'm here!\"\n",
      "[1] \"I'm here!\"\n",
      "[1] \"I'm here!\"\n",
      "[1] \"I'm here!\"\n",
      "[1] 13\n",
      "[1] 1e+07\n",
      "[1] \"the file ../../sandbox/AADR/10/pred_2_0_10000000.txt does not exist!\"\n",
      "[1] \"the file ../../sandbox/AADR/10/pred_2_10000000_20000000.txt does not exist!\"\n",
      "[1] \"the file ../../sandbox/AADR/10/pred_2_20000000_30000000.txt does not exist!\"\n",
      "[1] \"the file ../../sandbox/AADR/10/pred_2_30000000_40000000.txt does not exist!\"\n",
      "[1] \"the file ../../sandbox/AADR/10/pred_2_40000000_50000000.txt does not exist!\"\n",
      "[1] \"the file ../../sandbox/AADR/10/pred_2_50000000_60000000.txt does not exist!\"\n",
      "[1] \"the file ../../sandbox/AADR/10/pred_2_60000000_70000000.txt does not exist!\"\n",
      "[1] \"the file ../../sandbox/AADR/10/pred_2_70000000_80000000.txt does not exist!\"\n",
      "[1] \"the file ../../sandbox/AADR/10/pred_2_80000000_90000000.txt does not exist!\"\n",
      "[1] \"the file ../../sandbox/AADR/10/pred_2_90000000_100000000.txt does not exist!\"\n",
      "[1] 14\n",
      "[1] 1e+08\n",
      "[1] \"I'm here!\"\n",
      "[1] \"I'm here!\"\n",
      "[1] \"I'm here!\"\n",
      "[1] \"the file ../../sandbox/AADR/11/pred_1_300000000_400000000.txt does not exist!\"\n",
      "[1] \"the file ../../sandbox/AADR/11/pred_1_400000000_500000000.txt does not exist!\"\n",
      "[1] \"the file ../../sandbox/AADR/11/pred_1_500000000_600000000.txt does not exist!\"\n",
      "[1] \"the file ../../sandbox/AADR/11/pred_1_600000000_700000000.txt does not exist!\"\n",
      "[1] \"the file ../../sandbox/AADR/11/pred_1_700000000_800000000.txt does not exist!\"\n",
      "[1] \"the file ../../sandbox/AADR/11/pred_1_800000000_900000000.txt does not exist!\"\n",
      "[1] \"the file ../../sandbox/AADR/11/pred_1_900000000_1000000000.txt does not exist!\"\n",
      "[1] 15\n",
      "[1] 1e+08\n",
      "[1] \"I'm here!\"\n",
      "[1] 16\n",
      "[1] 1e+07\n",
      "[1] \"the file ../../sandbox/AADR/12/pred_1_10000000_20000000.txt does not exist!\"\n",
      "[1] 17\n",
      "[1] 1e+07\n",
      "[1] \"the file ../../sandbox/AADR/13/pred_1_0_10000000.txt does not exist!\"\n",
      "[1] \"the file ../../sandbox/AADR/13/pred_1_10000000_20000000.txt does not exist!\"\n",
      "[1] \"the file ../../sandbox/AADR/13/pred_1_20000000_30000000.txt does not exist!\"\n",
      "[1] \"the file ../../sandbox/AADR/13/pred_1_30000000_40000000.txt does not exist!\"\n",
      "[1] \"the file ../../sandbox/AADR/13/pred_1_40000000_50000000.txt does not exist!\"\n",
      "[1] \"the file ../../sandbox/AADR/13/pred_1_50000000_60000000.txt does not exist!\"\n",
      "[1] \"the file ../../sandbox/AADR/13/pred_1_60000000_70000000.txt does not exist!\"\n",
      "[1] \"the file ../../sandbox/AADR/13/pred_1_70000000_80000000.txt does not exist!\"\n",
      "[1] \"the file ../../sandbox/AADR/13/pred_1_80000000_90000000.txt does not exist!\"\n",
      "[1] \"the file ../../sandbox/AADR/13/pred_1_90000000_100000000.txt does not exist!\"\n",
      "[1] 18\n",
      "[1] 1e+09\n"
     ]
    },
    {
     "name": "stderr",
     "output_type": "stream",
     "text": [
      "R[write to console]: Error in seq.default(sta, end - win, win) : wrong sign in 'by' argument\n",
      "\n"
     ]
    },
    {
     "name": "stdout",
     "output_type": "stream",
     "text": [
      "\n",
      "Error in seq.default(sta, end - win, win) : wrong sign in 'by' argument\n"
     ]
    },
    {
     "ename": "RInterpreterError",
     "evalue": "Failed to parse and evaluate line '\\n\\nerror_spaceNNtime_all_scenarios <- function(){\\n    read.csv(\"../../files/experiments_AADR.csv\", sep = \";\") -> experiments\\n    \\n    all_scenarios = data.frame()\\n    \\n    for(i in 1:(experiments %>% nrow())){\\n        #for(i in c(4, 34, 35, 36, 37, 38, 39, 40)){\\n        print(i)\\n        #sim = experiments %>% pull(sim) %>% .[i]\\n        exp = experiments %>% pull(exp) %>% .[i]\\n        cro = experiments %>% pull(cro) %>% .[i]\\n        sta = experiments %>% pull(sta) %>% .[i]\\n        sta = as.numeric(sta)*1e6\\n        end = experiments %>% pull(end) %>% .[i]\\n        end = as.numeric(end)*1e6\\n        if(i == 14){\\n            end = 1000000000\\n        }\\n        win = experiments %>% pull(win) %>% .[i]\\n        win = as.numeric(win)*1e6\\n        print(win)\\n        pre = experiments %>% pull(pre) %>% .[i]\\n        \\n        if(TRUE){\\n            for(s in seq(sta, end-win, win)){             \\n                z = format(s, scientific = FALSE, trim = TRUE)\\n                e = format(s+win, scientific = FALSE, trim = TRUE)\\n                if(file.exists(paste(\"../../sandbox/AADR/\", exp, \"/pred_\", cro, \"_\", z, \"_\", e, \".txt\", sep = \"\"))){\\n                    print(\"I\\'m here!\")\\n                    all_scenarios = rbind(all_scenarios, \\n                                          get_diff_data(exp, cro, z, e) %>%\\n                                              mutate(value = abs(value)) %>%\\n                                              group_by(exp, cro, sta, end, extendedexp, nam, typ, stat) %>%\\n                                              summarize(mean = mean(value),\\n                                                        se   = sd(value)/sqrt(n())) %>%\\n                                              mutate(exp = factor(exp))\\n                                         )\\n                }else{\\n                    print(paste(\"the file \", paste(\"../../sandbox/AADR/\", exp, \"/pred_\", cro, \"_\", z, \"_\", e, \".txt\", sep = \"\"), \" does not exist!\", sep = \"\"))\\n                }\\n            }\\n\\n        }\\n        \\n    }\\n    all_scenarios\\n}\\n\\nall_scenarios <- error_spaceNNtime_all_scenarios()\\nhead(all_scenarios)\\n'.\nR error message: \"Error in seq.default(sta, end - win, win) : wrong sign in 'by' argument\"",
     "output_type": "error",
     "traceback": [
      "\u001b[0;31m---------------------------------------------------------------------------\u001b[0m",
      "\u001b[0;31mRRuntimeError\u001b[0m                             Traceback (most recent call last)",
      "\u001b[0;32m~/miniconda3/envs/sNNt_slendr/lib/python3.9/site-packages/rpy2/ipython/rmagic.py\u001b[0m in \u001b[0;36meval\u001b[0;34m(self, code)\u001b[0m\n\u001b[1;32m    267\u001b[0m                 \u001b[0;31m# Need the newline in case the last line in code is a comment.\u001b[0m\u001b[0;34m\u001b[0m\u001b[0;34m\u001b[0m\u001b[0m\n\u001b[0;32m--> 268\u001b[0;31m                 \u001b[0mvalue\u001b[0m\u001b[0;34m,\u001b[0m \u001b[0mvisible\u001b[0m \u001b[0;34m=\u001b[0m \u001b[0mro\u001b[0m\u001b[0;34m.\u001b[0m\u001b[0mr\u001b[0m\u001b[0;34m(\u001b[0m\u001b[0;34m\"withVisible({%s\\n})\"\u001b[0m \u001b[0;34m%\u001b[0m \u001b[0mcode\u001b[0m\u001b[0;34m)\u001b[0m\u001b[0;34m\u001b[0m\u001b[0;34m\u001b[0m\u001b[0m\n\u001b[0m\u001b[1;32m    269\u001b[0m             \u001b[0;32mexcept\u001b[0m \u001b[0;34m(\u001b[0m\u001b[0mri\u001b[0m\u001b[0;34m.\u001b[0m\u001b[0membedded\u001b[0m\u001b[0;34m.\u001b[0m\u001b[0mRRuntimeError\u001b[0m\u001b[0;34m,\u001b[0m \u001b[0mValueError\u001b[0m\u001b[0;34m)\u001b[0m \u001b[0;32mas\u001b[0m \u001b[0mexception\u001b[0m\u001b[0;34m:\u001b[0m\u001b[0;34m\u001b[0m\u001b[0;34m\u001b[0m\u001b[0m\n",
      "\u001b[0;32m~/miniconda3/envs/sNNt_slendr/lib/python3.9/site-packages/rpy2/robjects/__init__.py\u001b[0m in \u001b[0;36m__call__\u001b[0;34m(self, string)\u001b[0m\n\u001b[1;32m    437\u001b[0m         \u001b[0mp\u001b[0m \u001b[0;34m=\u001b[0m \u001b[0mrinterface\u001b[0m\u001b[0;34m.\u001b[0m\u001b[0mparse\u001b[0m\u001b[0;34m(\u001b[0m\u001b[0mstring\u001b[0m\u001b[0;34m)\u001b[0m\u001b[0;34m\u001b[0m\u001b[0;34m\u001b[0m\u001b[0m\n\u001b[0;32m--> 438\u001b[0;31m         \u001b[0mres\u001b[0m \u001b[0;34m=\u001b[0m \u001b[0mself\u001b[0m\u001b[0;34m.\u001b[0m\u001b[0meval\u001b[0m\u001b[0;34m(\u001b[0m\u001b[0mp\u001b[0m\u001b[0;34m)\u001b[0m\u001b[0;34m\u001b[0m\u001b[0;34m\u001b[0m\u001b[0m\n\u001b[0m\u001b[1;32m    439\u001b[0m         \u001b[0;32mreturn\u001b[0m \u001b[0mconversion\u001b[0m\u001b[0;34m.\u001b[0m\u001b[0mrpy2py\u001b[0m\u001b[0;34m(\u001b[0m\u001b[0mres\u001b[0m\u001b[0;34m)\u001b[0m\u001b[0;34m\u001b[0m\u001b[0;34m\u001b[0m\u001b[0m\n",
      "\u001b[0;32m~/miniconda3/envs/sNNt_slendr/lib/python3.9/site-packages/rpy2/robjects/functions.py\u001b[0m in \u001b[0;36m__call__\u001b[0;34m(self, *args, **kwargs)\u001b[0m\n\u001b[1;32m    197\u001b[0m                 \u001b[0mkwargs\u001b[0m\u001b[0;34m[\u001b[0m\u001b[0mr_k\u001b[0m\u001b[0;34m]\u001b[0m \u001b[0;34m=\u001b[0m \u001b[0mv\u001b[0m\u001b[0;34m\u001b[0m\u001b[0;34m\u001b[0m\u001b[0m\n\u001b[0;32m--> 198\u001b[0;31m         return (super(SignatureTranslatedFunction, self)\n\u001b[0m\u001b[1;32m    199\u001b[0m                 .__call__(*args, **kwargs))\n",
      "\u001b[0;32m~/miniconda3/envs/sNNt_slendr/lib/python3.9/site-packages/rpy2/robjects/functions.py\u001b[0m in \u001b[0;36m__call__\u001b[0;34m(self, *args, **kwargs)\u001b[0m\n\u001b[1;32m    124\u001b[0m                 \u001b[0mnew_kwargs\u001b[0m\u001b[0;34m[\u001b[0m\u001b[0mk\u001b[0m\u001b[0;34m]\u001b[0m \u001b[0;34m=\u001b[0m \u001b[0mconversion\u001b[0m\u001b[0;34m.\u001b[0m\u001b[0mpy2rpy\u001b[0m\u001b[0;34m(\u001b[0m\u001b[0mv\u001b[0m\u001b[0;34m)\u001b[0m\u001b[0;34m\u001b[0m\u001b[0;34m\u001b[0m\u001b[0m\n\u001b[0;32m--> 125\u001b[0;31m         \u001b[0mres\u001b[0m \u001b[0;34m=\u001b[0m \u001b[0msuper\u001b[0m\u001b[0;34m(\u001b[0m\u001b[0mFunction\u001b[0m\u001b[0;34m,\u001b[0m \u001b[0mself\u001b[0m\u001b[0;34m)\u001b[0m\u001b[0;34m.\u001b[0m\u001b[0m__call__\u001b[0m\u001b[0;34m(\u001b[0m\u001b[0;34m*\u001b[0m\u001b[0mnew_args\u001b[0m\u001b[0;34m,\u001b[0m \u001b[0;34m**\u001b[0m\u001b[0mnew_kwargs\u001b[0m\u001b[0;34m)\u001b[0m\u001b[0;34m\u001b[0m\u001b[0;34m\u001b[0m\u001b[0m\n\u001b[0m\u001b[1;32m    126\u001b[0m         \u001b[0mres\u001b[0m \u001b[0;34m=\u001b[0m \u001b[0mconversion\u001b[0m\u001b[0;34m.\u001b[0m\u001b[0mrpy2py\u001b[0m\u001b[0;34m(\u001b[0m\u001b[0mres\u001b[0m\u001b[0;34m)\u001b[0m\u001b[0;34m\u001b[0m\u001b[0;34m\u001b[0m\u001b[0m\n",
      "\u001b[0;32m~/miniconda3/envs/sNNt_slendr/lib/python3.9/site-packages/rpy2/rinterface_lib/conversion.py\u001b[0m in \u001b[0;36m_\u001b[0;34m(*args, **kwargs)\u001b[0m\n\u001b[1;32m     44\u001b[0m     \u001b[0;32mdef\u001b[0m \u001b[0m_\u001b[0m\u001b[0;34m(\u001b[0m\u001b[0;34m*\u001b[0m\u001b[0margs\u001b[0m\u001b[0;34m,\u001b[0m \u001b[0;34m**\u001b[0m\u001b[0mkwargs\u001b[0m\u001b[0;34m)\u001b[0m\u001b[0;34m:\u001b[0m\u001b[0;34m\u001b[0m\u001b[0;34m\u001b[0m\u001b[0m\n\u001b[0;32m---> 45\u001b[0;31m         \u001b[0mcdata\u001b[0m \u001b[0;34m=\u001b[0m \u001b[0mfunction\u001b[0m\u001b[0;34m(\u001b[0m\u001b[0;34m*\u001b[0m\u001b[0margs\u001b[0m\u001b[0;34m,\u001b[0m \u001b[0;34m**\u001b[0m\u001b[0mkwargs\u001b[0m\u001b[0;34m)\u001b[0m\u001b[0;34m\u001b[0m\u001b[0;34m\u001b[0m\u001b[0m\n\u001b[0m\u001b[1;32m     46\u001b[0m         \u001b[0;31m# TODO: test cdata is of the expected CType\u001b[0m\u001b[0;34m\u001b[0m\u001b[0;34m\u001b[0m\u001b[0m\n",
      "\u001b[0;32m~/miniconda3/envs/sNNt_slendr/lib/python3.9/site-packages/rpy2/rinterface.py\u001b[0m in \u001b[0;36m__call__\u001b[0;34m(self, *args, **kwargs)\u001b[0m\n\u001b[1;32m    679\u001b[0m             \u001b[0;32mif\u001b[0m \u001b[0merror_occured\u001b[0m\u001b[0;34m[\u001b[0m\u001b[0;36m0\u001b[0m\u001b[0;34m]\u001b[0m\u001b[0;34m:\u001b[0m\u001b[0;34m\u001b[0m\u001b[0;34m\u001b[0m\u001b[0m\n\u001b[0;32m--> 680\u001b[0;31m                 \u001b[0;32mraise\u001b[0m \u001b[0membedded\u001b[0m\u001b[0;34m.\u001b[0m\u001b[0mRRuntimeError\u001b[0m\u001b[0;34m(\u001b[0m\u001b[0m_rinterface\u001b[0m\u001b[0;34m.\u001b[0m\u001b[0m_geterrmessage\u001b[0m\u001b[0;34m(\u001b[0m\u001b[0;34m)\u001b[0m\u001b[0;34m)\u001b[0m\u001b[0;34m\u001b[0m\u001b[0;34m\u001b[0m\u001b[0m\n\u001b[0m\u001b[1;32m    681\u001b[0m         \u001b[0;32mreturn\u001b[0m \u001b[0mres\u001b[0m\u001b[0;34m\u001b[0m\u001b[0;34m\u001b[0m\u001b[0m\n",
      "\u001b[0;31mRRuntimeError\u001b[0m: Error in seq.default(sta, end - win, win) : wrong sign in 'by' argument\n",
      "\nDuring handling of the above exception, another exception occurred:\n",
      "\u001b[0;31mRInterpreterError\u001b[0m                         Traceback (most recent call last)",
      "\u001b[0;32m/tmp/ipykernel_3791436/1428967080.py\u001b[0m in \u001b[0;36m<module>\u001b[0;34m\u001b[0m\n\u001b[0;32m----> 1\u001b[0;31m \u001b[0mget_ipython\u001b[0m\u001b[0;34m(\u001b[0m\u001b[0;34m)\u001b[0m\u001b[0;34m.\u001b[0m\u001b[0mrun_cell_magic\u001b[0m\u001b[0;34m(\u001b[0m\u001b[0;34m'R'\u001b[0m\u001b[0;34m,\u001b[0m \u001b[0;34m''\u001b[0m\u001b[0;34m,\u001b[0m \u001b[0;34m'\\n\\nerror_spaceNNtime_all_scenarios <- function(){\\n    read.csv(\"../../files/experiments_AADR.csv\", sep = \";\") -> experiments\\n    \\n    all_scenarios = data.frame()\\n    \\n    for(i in 1:(experiments %>% nrow())){\\n        #for(i in c(4, 34, 35, 36, 37, 38, 39, 40)){\\n        print(i)\\n        #sim = experiments %>% pull(sim) %>% .[i]\\n        exp = experiments %>% pull(exp) %>% .[i]\\n        cro = experiments %>% pull(cro) %>% .[i]\\n        sta = experiments %>% pull(sta) %>% .[i]\\n        sta = as.numeric(sta)*1e6\\n        end = experiments %>% pull(end) %>% .[i]\\n        end = as.numeric(end)*1e6\\n        if(i == 14){\\n            end = 1000000000\\n        }\\n        win = experiments %>% pull(win) %>% .[i]\\n        win = as.numeric(win)*1e6\\n        print(win)\\n        pre = experiments %>% pull(pre) %>% .[i]\\n        \\n        if(TRUE){\\n            for(s in seq(sta, end-win, win)){             \\n                z = format(s, scientific = FALSE, trim = TRUE)\\n                e = format(s+win, scientific = FALSE, trim = TRUE)\\n                if(file.exists(paste(\"../../sandbox/AADR/\", exp, \"/pred_\", cro, \"_\", z, \"_\", e, \".txt\", sep = \"\"))){\\n                    print(\"I\\'m here!\")\\n                    all_scenarios = rbind(all_scenarios, \\n                                          get_diff_data(exp, cro, z, e) %>%\\n                                              mutate(value = abs(value)) %>%\\n                                              group_by(exp, cro, sta, end, extendedexp, nam, typ, stat) %>%\\n                                              summarize(mean = mean(value),\\n                                                        se   = sd(value)/sqrt(n())) %>%\\n                                              mutate(exp = factor(exp))\\n                                         )\\n                }else{\\n                    print(paste(\"the file \", paste(\"../../sandbox/AADR/\", exp, \"/pred_\", cro, \"_\", z, \"_\", e, \".txt\", sep = \"\"), \" does not exist!\", sep = \"\"))\\n                }\\n            }\\n\\n        }\\n        \\n    }\\n    all_scenarios\\n}\\n\\nall_scenarios <- error_spaceNNtime_all_scenarios()\\nhead(all_scenarios)\\n'\u001b[0m\u001b[0;34m)\u001b[0m\u001b[0;34m\u001b[0m\u001b[0;34m\u001b[0m\u001b[0m\n\u001b[0m",
      "\u001b[0;32m~/miniconda3/envs/sNNt_slendr/lib/python3.9/site-packages/IPython/core/interactiveshell.py\u001b[0m in \u001b[0;36mrun_cell_magic\u001b[0;34m(self, magic_name, line, cell)\u001b[0m\n\u001b[1;32m   2417\u001b[0m             \u001b[0;32mwith\u001b[0m \u001b[0mself\u001b[0m\u001b[0;34m.\u001b[0m\u001b[0mbuiltin_trap\u001b[0m\u001b[0;34m:\u001b[0m\u001b[0;34m\u001b[0m\u001b[0;34m\u001b[0m\u001b[0m\n\u001b[1;32m   2418\u001b[0m                 \u001b[0margs\u001b[0m \u001b[0;34m=\u001b[0m \u001b[0;34m(\u001b[0m\u001b[0mmagic_arg_s\u001b[0m\u001b[0;34m,\u001b[0m \u001b[0mcell\u001b[0m\u001b[0;34m)\u001b[0m\u001b[0;34m\u001b[0m\u001b[0;34m\u001b[0m\u001b[0m\n\u001b[0;32m-> 2419\u001b[0;31m                 \u001b[0mresult\u001b[0m \u001b[0;34m=\u001b[0m \u001b[0mfn\u001b[0m\u001b[0;34m(\u001b[0m\u001b[0;34m*\u001b[0m\u001b[0margs\u001b[0m\u001b[0;34m,\u001b[0m \u001b[0;34m**\u001b[0m\u001b[0mkwargs\u001b[0m\u001b[0;34m)\u001b[0m\u001b[0;34m\u001b[0m\u001b[0;34m\u001b[0m\u001b[0m\n\u001b[0m\u001b[1;32m   2420\u001b[0m             \u001b[0;32mreturn\u001b[0m \u001b[0mresult\u001b[0m\u001b[0;34m\u001b[0m\u001b[0;34m\u001b[0m\u001b[0m\n\u001b[1;32m   2421\u001b[0m \u001b[0;34m\u001b[0m\u001b[0m\n",
      "\u001b[0;32m~/miniconda3/envs/sNNt_slendr/lib/python3.9/site-packages/decorator.py\u001b[0m in \u001b[0;36mfun\u001b[0;34m(*args, **kw)\u001b[0m\n\u001b[1;32m    230\u001b[0m             \u001b[0;32mif\u001b[0m \u001b[0;32mnot\u001b[0m \u001b[0mkwsyntax\u001b[0m\u001b[0;34m:\u001b[0m\u001b[0;34m\u001b[0m\u001b[0;34m\u001b[0m\u001b[0m\n\u001b[1;32m    231\u001b[0m                 \u001b[0margs\u001b[0m\u001b[0;34m,\u001b[0m \u001b[0mkw\u001b[0m \u001b[0;34m=\u001b[0m \u001b[0mfix\u001b[0m\u001b[0;34m(\u001b[0m\u001b[0margs\u001b[0m\u001b[0;34m,\u001b[0m \u001b[0mkw\u001b[0m\u001b[0;34m,\u001b[0m \u001b[0msig\u001b[0m\u001b[0;34m)\u001b[0m\u001b[0;34m\u001b[0m\u001b[0;34m\u001b[0m\u001b[0m\n\u001b[0;32m--> 232\u001b[0;31m             \u001b[0;32mreturn\u001b[0m \u001b[0mcaller\u001b[0m\u001b[0;34m(\u001b[0m\u001b[0mfunc\u001b[0m\u001b[0;34m,\u001b[0m \u001b[0;34m*\u001b[0m\u001b[0;34m(\u001b[0m\u001b[0mextras\u001b[0m \u001b[0;34m+\u001b[0m \u001b[0margs\u001b[0m\u001b[0;34m)\u001b[0m\u001b[0;34m,\u001b[0m \u001b[0;34m**\u001b[0m\u001b[0mkw\u001b[0m\u001b[0;34m)\u001b[0m\u001b[0;34m\u001b[0m\u001b[0;34m\u001b[0m\u001b[0m\n\u001b[0m\u001b[1;32m    233\u001b[0m     \u001b[0mfun\u001b[0m\u001b[0;34m.\u001b[0m\u001b[0m__name__\u001b[0m \u001b[0;34m=\u001b[0m \u001b[0mfunc\u001b[0m\u001b[0;34m.\u001b[0m\u001b[0m__name__\u001b[0m\u001b[0;34m\u001b[0m\u001b[0;34m\u001b[0m\u001b[0m\n\u001b[1;32m    234\u001b[0m     \u001b[0mfun\u001b[0m\u001b[0;34m.\u001b[0m\u001b[0m__doc__\u001b[0m \u001b[0;34m=\u001b[0m \u001b[0mfunc\u001b[0m\u001b[0;34m.\u001b[0m\u001b[0m__doc__\u001b[0m\u001b[0;34m\u001b[0m\u001b[0;34m\u001b[0m\u001b[0m\n",
      "\u001b[0;32m~/miniconda3/envs/sNNt_slendr/lib/python3.9/site-packages/IPython/core/magic.py\u001b[0m in \u001b[0;36m<lambda>\u001b[0;34m(f, *a, **k)\u001b[0m\n\u001b[1;32m    185\u001b[0m     \u001b[0;31m# but it's overkill for just that one bit of state.\u001b[0m\u001b[0;34m\u001b[0m\u001b[0;34m\u001b[0m\u001b[0m\n\u001b[1;32m    186\u001b[0m     \u001b[0;32mdef\u001b[0m \u001b[0mmagic_deco\u001b[0m\u001b[0;34m(\u001b[0m\u001b[0marg\u001b[0m\u001b[0;34m)\u001b[0m\u001b[0;34m:\u001b[0m\u001b[0;34m\u001b[0m\u001b[0;34m\u001b[0m\u001b[0m\n\u001b[0;32m--> 187\u001b[0;31m         \u001b[0mcall\u001b[0m \u001b[0;34m=\u001b[0m \u001b[0;32mlambda\u001b[0m \u001b[0mf\u001b[0m\u001b[0;34m,\u001b[0m \u001b[0;34m*\u001b[0m\u001b[0ma\u001b[0m\u001b[0;34m,\u001b[0m \u001b[0;34m**\u001b[0m\u001b[0mk\u001b[0m\u001b[0;34m:\u001b[0m \u001b[0mf\u001b[0m\u001b[0;34m(\u001b[0m\u001b[0;34m*\u001b[0m\u001b[0ma\u001b[0m\u001b[0;34m,\u001b[0m \u001b[0;34m**\u001b[0m\u001b[0mk\u001b[0m\u001b[0;34m)\u001b[0m\u001b[0;34m\u001b[0m\u001b[0;34m\u001b[0m\u001b[0m\n\u001b[0m\u001b[1;32m    188\u001b[0m \u001b[0;34m\u001b[0m\u001b[0m\n\u001b[1;32m    189\u001b[0m         \u001b[0;32mif\u001b[0m \u001b[0mcallable\u001b[0m\u001b[0;34m(\u001b[0m\u001b[0marg\u001b[0m\u001b[0;34m)\u001b[0m\u001b[0;34m:\u001b[0m\u001b[0;34m\u001b[0m\u001b[0;34m\u001b[0m\u001b[0m\n",
      "\u001b[0;32m~/miniconda3/envs/sNNt_slendr/lib/python3.9/site-packages/rpy2/ipython/rmagic.py\u001b[0m in \u001b[0;36mR\u001b[0;34m(self, line, cell, local_ns)\u001b[0m\n\u001b[1;32m    781\u001b[0m             \u001b[0;32mif\u001b[0m \u001b[0;32mnot\u001b[0m \u001b[0me\u001b[0m\u001b[0;34m.\u001b[0m\u001b[0mstdout\u001b[0m\u001b[0;34m.\u001b[0m\u001b[0mendswith\u001b[0m\u001b[0;34m(\u001b[0m\u001b[0me\u001b[0m\u001b[0;34m.\u001b[0m\u001b[0merr\u001b[0m\u001b[0;34m)\u001b[0m\u001b[0;34m:\u001b[0m\u001b[0;34m\u001b[0m\u001b[0;34m\u001b[0m\u001b[0m\n\u001b[1;32m    782\u001b[0m                 \u001b[0mprint\u001b[0m\u001b[0;34m(\u001b[0m\u001b[0me\u001b[0m\u001b[0;34m.\u001b[0m\u001b[0merr\u001b[0m\u001b[0;34m)\u001b[0m\u001b[0;34m\u001b[0m\u001b[0;34m\u001b[0m\u001b[0m\n\u001b[0;32m--> 783\u001b[0;31m             \u001b[0;32mraise\u001b[0m \u001b[0me\u001b[0m\u001b[0;34m\u001b[0m\u001b[0;34m\u001b[0m\u001b[0m\n\u001b[0m\u001b[1;32m    784\u001b[0m         \u001b[0;32mfinally\u001b[0m\u001b[0;34m:\u001b[0m\u001b[0;34m\u001b[0m\u001b[0;34m\u001b[0m\u001b[0m\n\u001b[1;32m    785\u001b[0m             \u001b[0;32mif\u001b[0m \u001b[0mself\u001b[0m\u001b[0;34m.\u001b[0m\u001b[0mdevice\u001b[0m \u001b[0;32min\u001b[0m \u001b[0;34m[\u001b[0m\u001b[0;34m'png'\u001b[0m\u001b[0;34m,\u001b[0m \u001b[0;34m'svg'\u001b[0m\u001b[0;34m]\u001b[0m\u001b[0;34m:\u001b[0m\u001b[0;34m\u001b[0m\u001b[0;34m\u001b[0m\u001b[0m\n",
      "\u001b[0;32m~/miniconda3/envs/sNNt_slendr/lib/python3.9/site-packages/rpy2/ipython/rmagic.py\u001b[0m in \u001b[0;36mR\u001b[0;34m(self, line, cell, local_ns)\u001b[0m\n\u001b[1;32m    761\u001b[0m                     \u001b[0mreturn_output\u001b[0m \u001b[0;34m=\u001b[0m \u001b[0;32mFalse\u001b[0m\u001b[0;34m\u001b[0m\u001b[0;34m\u001b[0m\u001b[0m\n\u001b[1;32m    762\u001b[0m             \u001b[0;32melse\u001b[0m\u001b[0;34m:\u001b[0m\u001b[0;34m\u001b[0m\u001b[0;34m\u001b[0m\u001b[0m\n\u001b[0;32m--> 763\u001b[0;31m                 \u001b[0mtext_result\u001b[0m\u001b[0;34m,\u001b[0m \u001b[0mresult\u001b[0m\u001b[0;34m,\u001b[0m \u001b[0mvisible\u001b[0m \u001b[0;34m=\u001b[0m \u001b[0mself\u001b[0m\u001b[0;34m.\u001b[0m\u001b[0meval\u001b[0m\u001b[0;34m(\u001b[0m\u001b[0mcode\u001b[0m\u001b[0;34m)\u001b[0m\u001b[0;34m\u001b[0m\u001b[0;34m\u001b[0m\u001b[0m\n\u001b[0m\u001b[1;32m    764\u001b[0m                 \u001b[0mtext_output\u001b[0m \u001b[0;34m+=\u001b[0m \u001b[0mtext_result\u001b[0m\u001b[0;34m\u001b[0m\u001b[0;34m\u001b[0m\u001b[0m\n\u001b[1;32m    765\u001b[0m                 \u001b[0;32mif\u001b[0m \u001b[0mvisible\u001b[0m\u001b[0;34m:\u001b[0m\u001b[0;34m\u001b[0m\u001b[0;34m\u001b[0m\u001b[0m\n",
      "\u001b[0;32m~/miniconda3/envs/sNNt_slendr/lib/python3.9/site-packages/rpy2/ipython/rmagic.py\u001b[0m in \u001b[0;36meval\u001b[0;34m(self, code)\u001b[0m\n\u001b[1;32m    270\u001b[0m                 \u001b[0;31m# Otherwise next return seems to have copy of error.\u001b[0m\u001b[0;34m\u001b[0m\u001b[0;34m\u001b[0m\u001b[0m\n\u001b[1;32m    271\u001b[0m                 \u001b[0mwarning_or_other_msg\u001b[0m \u001b[0;34m=\u001b[0m \u001b[0mself\u001b[0m\u001b[0;34m.\u001b[0m\u001b[0mflush\u001b[0m\u001b[0;34m(\u001b[0m\u001b[0;34m)\u001b[0m\u001b[0;34m\u001b[0m\u001b[0;34m\u001b[0m\u001b[0m\n\u001b[0;32m--> 272\u001b[0;31m                 raise RInterpreterError(code, str(exception),\n\u001b[0m\u001b[1;32m    273\u001b[0m                                         warning_or_other_msg)\n\u001b[1;32m    274\u001b[0m             \u001b[0mtext_output\u001b[0m \u001b[0;34m=\u001b[0m \u001b[0mself\u001b[0m\u001b[0;34m.\u001b[0m\u001b[0mflush\u001b[0m\u001b[0;34m(\u001b[0m\u001b[0;34m)\u001b[0m\u001b[0;34m\u001b[0m\u001b[0;34m\u001b[0m\u001b[0m\n",
      "\u001b[0;31mRInterpreterError\u001b[0m: Failed to parse and evaluate line '\\n\\nerror_spaceNNtime_all_scenarios <- function(){\\n    read.csv(\"../../files/experiments_AADR.csv\", sep = \";\") -> experiments\\n    \\n    all_scenarios = data.frame()\\n    \\n    for(i in 1:(experiments %>% nrow())){\\n        #for(i in c(4, 34, 35, 36, 37, 38, 39, 40)){\\n        print(i)\\n        #sim = experiments %>% pull(sim) %>% .[i]\\n        exp = experiments %>% pull(exp) %>% .[i]\\n        cro = experiments %>% pull(cro) %>% .[i]\\n        sta = experiments %>% pull(sta) %>% .[i]\\n        sta = as.numeric(sta)*1e6\\n        end = experiments %>% pull(end) %>% .[i]\\n        end = as.numeric(end)*1e6\\n        if(i == 14){\\n            end = 1000000000\\n        }\\n        win = experiments %>% pull(win) %>% .[i]\\n        win = as.numeric(win)*1e6\\n        print(win)\\n        pre = experiments %>% pull(pre) %>% .[i]\\n        \\n        if(TRUE){\\n            for(s in seq(sta, end-win, win)){             \\n                z = format(s, scientific = FALSE, trim = TRUE)\\n                e = format(s+win, scientific = FALSE, trim = TRUE)\\n                if(file.exists(paste(\"../../sandbox/AADR/\", exp, \"/pred_\", cro, \"_\", z, \"_\", e, \".txt\", sep = \"\"))){\\n                    print(\"I\\'m here!\")\\n                    all_scenarios = rbind(all_scenarios, \\n                                          get_diff_data(exp, cro, z, e) %>%\\n                                              mutate(value = abs(value)) %>%\\n                                              group_by(exp, cro, sta, end, extendedexp, nam, typ, stat) %>%\\n                                              summarize(mean = mean(value),\\n                                                        se   = sd(value)/sqrt(n())) %>%\\n                                              mutate(exp = factor(exp))\\n                                         )\\n                }else{\\n                    print(paste(\"the file \", paste(\"../../sandbox/AADR/\", exp, \"/pred_\", cro, \"_\", z, \"_\", e, \".txt\", sep = \"\"), \" does not exist!\", sep = \"\"))\\n                }\\n            }\\n\\n        }\\n        \\n    }\\n    all_scenarios\\n}\\n\\nall_scenarios <- error_spaceNNtime_all_scenarios()\\nhead(all_scenarios)\\n'.\nR error message: \"Error in seq.default(sta, end - win, win) : wrong sign in 'by' argument\""
     ]
    }
   ],
   "source": [
    "%%R\n",
    "\n",
    "\n",
    "error_spaceNNtime_all_scenarios <- function(){\n",
    "    read.csv(\"../../files/experiments_AADR.csv\", sep = \";\") -> experiments\n",
    "    \n",
    "    all_scenarios = data.frame()\n",
    "    \n",
    "    for(i in 1:(experiments %>% nrow())){\n",
    "        #for(i in c(4, 34, 35, 36, 37, 38, 39, 40)){\n",
    "        print(i)\n",
    "        #sim = experiments %>% pull(sim) %>% .[i]\n",
    "        exp = experiments %>% pull(exp) %>% .[i]\n",
    "        cro = experiments %>% pull(cro) %>% .[i]\n",
    "        sta = experiments %>% pull(sta) %>% .[i]\n",
    "        sta = as.numeric(sta)*1e6\n",
    "        end = experiments %>% pull(end) %>% .[i]\n",
    "        end = as.numeric(end)*1e6\n",
    "        if(i == 14){\n",
    "            end = 1000000000\n",
    "        }\n",
    "        win = experiments %>% pull(win) %>% .[i]\n",
    "        win = as.numeric(win)*1e6\n",
    "        print(win)\n",
    "        pre = experiments %>% pull(pre) %>% .[i]\n",
    "        \n",
    "        if(TRUE){\n",
    "            for(s in seq(sta, end-win, win)){             \n",
    "                z = format(s, scientific = FALSE, trim = TRUE)\n",
    "                e = format(s+win, scientific = FALSE, trim = TRUE)\n",
    "                if(file.exists(paste(\"../../sandbox/AADR/\", exp, \"/pred_\", cro, \"_\", z, \"_\", e, \".txt\", sep = \"\"))){\n",
    "                    all_scenarios = rbind(all_scenarios, \n",
    "                                          get_diff_data(exp, cro, z, e) %>%\n",
    "                                              mutate(value = abs(value)) %>%\n",
    "                                              group_by(exp, cro, sta, end, extendedexp, nam, typ, stat) %>%\n",
    "                                              summarize(mean = mean(value),\n",
    "                                                        se   = sd(value)/sqrt(n())) %>%\n",
    "                                              mutate(exp = factor(exp))\n",
    "                                         )\n",
    "                }else{\n",
    "                    print(paste(\"the file \", paste(\"../../sandbox/AADR/\", exp, \"/pred_\", cro, \"_\", z, \"_\", e, \".txt\", sep = \"\"), \" does not exist!\", sep = \"\"))\n",
    "                }\n",
    "            }\n",
    "\n",
    "        }\n",
    "        \n",
    "    }\n",
    "    all_scenarios\n",
    "}\n",
    "\n",
    "all_scenarios <- error_spaceNNtime_all_scenarios()\n",
    "head(all_scenarios)"
   ]
  },
  {
   "cell_type": "code",
   "execution_count": 24,
   "id": "164cf541-30b7-4668-b72c-4972c90df30b",
   "metadata": {},
   "outputs": [
    {
     "name": "stdout",
     "output_type": "stream",
     "text": [
      "[1] \"10000000\"\n",
      "[1] \"20000000\"\n"
     ]
    },
    {
     "name": "stderr",
     "output_type": "stream",
     "text": [
      "R[write to console]: Error in print(win) : object 'win' not found\n",
      "\n"
     ]
    },
    {
     "name": "stdout",
     "output_type": "stream",
     "text": [
      "\n",
      "Error in print(win) : object 'win' not found\n"
     ]
    },
    {
     "ename": "RInterpreterError",
     "evalue": "Failed to parse and evaluate line '\\nprint(sta)\\nprint(end)\\nprint(win)\\n'.\nR error message: \"Error in print(win) : object 'win' not found\"",
     "output_type": "error",
     "traceback": [
      "\u001b[0;31m---------------------------------------------------------------------------\u001b[0m",
      "\u001b[0;31mRRuntimeError\u001b[0m                             Traceback (most recent call last)",
      "\u001b[0;32m~/miniconda3/envs/sNNt_slendr/lib/python3.9/site-packages/rpy2/ipython/rmagic.py\u001b[0m in \u001b[0;36meval\u001b[0;34m(self, code)\u001b[0m\n\u001b[1;32m    267\u001b[0m                 \u001b[0;31m# Need the newline in case the last line in code is a comment.\u001b[0m\u001b[0;34m\u001b[0m\u001b[0;34m\u001b[0m\u001b[0m\n\u001b[0;32m--> 268\u001b[0;31m                 \u001b[0mvalue\u001b[0m\u001b[0;34m,\u001b[0m \u001b[0mvisible\u001b[0m \u001b[0;34m=\u001b[0m \u001b[0mro\u001b[0m\u001b[0;34m.\u001b[0m\u001b[0mr\u001b[0m\u001b[0;34m(\u001b[0m\u001b[0;34m\"withVisible({%s\\n})\"\u001b[0m \u001b[0;34m%\u001b[0m \u001b[0mcode\u001b[0m\u001b[0;34m)\u001b[0m\u001b[0;34m\u001b[0m\u001b[0;34m\u001b[0m\u001b[0m\n\u001b[0m\u001b[1;32m    269\u001b[0m             \u001b[0;32mexcept\u001b[0m \u001b[0;34m(\u001b[0m\u001b[0mri\u001b[0m\u001b[0;34m.\u001b[0m\u001b[0membedded\u001b[0m\u001b[0;34m.\u001b[0m\u001b[0mRRuntimeError\u001b[0m\u001b[0;34m,\u001b[0m \u001b[0mValueError\u001b[0m\u001b[0;34m)\u001b[0m \u001b[0;32mas\u001b[0m \u001b[0mexception\u001b[0m\u001b[0;34m:\u001b[0m\u001b[0;34m\u001b[0m\u001b[0;34m\u001b[0m\u001b[0m\n",
      "\u001b[0;32m~/miniconda3/envs/sNNt_slendr/lib/python3.9/site-packages/rpy2/robjects/__init__.py\u001b[0m in \u001b[0;36m__call__\u001b[0;34m(self, string)\u001b[0m\n\u001b[1;32m    437\u001b[0m         \u001b[0mp\u001b[0m \u001b[0;34m=\u001b[0m \u001b[0mrinterface\u001b[0m\u001b[0;34m.\u001b[0m\u001b[0mparse\u001b[0m\u001b[0;34m(\u001b[0m\u001b[0mstring\u001b[0m\u001b[0;34m)\u001b[0m\u001b[0;34m\u001b[0m\u001b[0;34m\u001b[0m\u001b[0m\n\u001b[0;32m--> 438\u001b[0;31m         \u001b[0mres\u001b[0m \u001b[0;34m=\u001b[0m \u001b[0mself\u001b[0m\u001b[0;34m.\u001b[0m\u001b[0meval\u001b[0m\u001b[0;34m(\u001b[0m\u001b[0mp\u001b[0m\u001b[0;34m)\u001b[0m\u001b[0;34m\u001b[0m\u001b[0;34m\u001b[0m\u001b[0m\n\u001b[0m\u001b[1;32m    439\u001b[0m         \u001b[0;32mreturn\u001b[0m \u001b[0mconversion\u001b[0m\u001b[0;34m.\u001b[0m\u001b[0mrpy2py\u001b[0m\u001b[0;34m(\u001b[0m\u001b[0mres\u001b[0m\u001b[0;34m)\u001b[0m\u001b[0;34m\u001b[0m\u001b[0;34m\u001b[0m\u001b[0m\n",
      "\u001b[0;32m~/miniconda3/envs/sNNt_slendr/lib/python3.9/site-packages/rpy2/robjects/functions.py\u001b[0m in \u001b[0;36m__call__\u001b[0;34m(self, *args, **kwargs)\u001b[0m\n\u001b[1;32m    197\u001b[0m                 \u001b[0mkwargs\u001b[0m\u001b[0;34m[\u001b[0m\u001b[0mr_k\u001b[0m\u001b[0;34m]\u001b[0m \u001b[0;34m=\u001b[0m \u001b[0mv\u001b[0m\u001b[0;34m\u001b[0m\u001b[0;34m\u001b[0m\u001b[0m\n\u001b[0;32m--> 198\u001b[0;31m         return (super(SignatureTranslatedFunction, self)\n\u001b[0m\u001b[1;32m    199\u001b[0m                 .__call__(*args, **kwargs))\n",
      "\u001b[0;32m~/miniconda3/envs/sNNt_slendr/lib/python3.9/site-packages/rpy2/robjects/functions.py\u001b[0m in \u001b[0;36m__call__\u001b[0;34m(self, *args, **kwargs)\u001b[0m\n\u001b[1;32m    124\u001b[0m                 \u001b[0mnew_kwargs\u001b[0m\u001b[0;34m[\u001b[0m\u001b[0mk\u001b[0m\u001b[0;34m]\u001b[0m \u001b[0;34m=\u001b[0m \u001b[0mconversion\u001b[0m\u001b[0;34m.\u001b[0m\u001b[0mpy2rpy\u001b[0m\u001b[0;34m(\u001b[0m\u001b[0mv\u001b[0m\u001b[0;34m)\u001b[0m\u001b[0;34m\u001b[0m\u001b[0;34m\u001b[0m\u001b[0m\n\u001b[0;32m--> 125\u001b[0;31m         \u001b[0mres\u001b[0m \u001b[0;34m=\u001b[0m \u001b[0msuper\u001b[0m\u001b[0;34m(\u001b[0m\u001b[0mFunction\u001b[0m\u001b[0;34m,\u001b[0m \u001b[0mself\u001b[0m\u001b[0;34m)\u001b[0m\u001b[0;34m.\u001b[0m\u001b[0m__call__\u001b[0m\u001b[0;34m(\u001b[0m\u001b[0;34m*\u001b[0m\u001b[0mnew_args\u001b[0m\u001b[0;34m,\u001b[0m \u001b[0;34m**\u001b[0m\u001b[0mnew_kwargs\u001b[0m\u001b[0;34m)\u001b[0m\u001b[0;34m\u001b[0m\u001b[0;34m\u001b[0m\u001b[0m\n\u001b[0m\u001b[1;32m    126\u001b[0m         \u001b[0mres\u001b[0m \u001b[0;34m=\u001b[0m \u001b[0mconversion\u001b[0m\u001b[0;34m.\u001b[0m\u001b[0mrpy2py\u001b[0m\u001b[0;34m(\u001b[0m\u001b[0mres\u001b[0m\u001b[0;34m)\u001b[0m\u001b[0;34m\u001b[0m\u001b[0;34m\u001b[0m\u001b[0m\n",
      "\u001b[0;32m~/miniconda3/envs/sNNt_slendr/lib/python3.9/site-packages/rpy2/rinterface_lib/conversion.py\u001b[0m in \u001b[0;36m_\u001b[0;34m(*args, **kwargs)\u001b[0m\n\u001b[1;32m     44\u001b[0m     \u001b[0;32mdef\u001b[0m \u001b[0m_\u001b[0m\u001b[0;34m(\u001b[0m\u001b[0;34m*\u001b[0m\u001b[0margs\u001b[0m\u001b[0;34m,\u001b[0m \u001b[0;34m**\u001b[0m\u001b[0mkwargs\u001b[0m\u001b[0;34m)\u001b[0m\u001b[0;34m:\u001b[0m\u001b[0;34m\u001b[0m\u001b[0;34m\u001b[0m\u001b[0m\n\u001b[0;32m---> 45\u001b[0;31m         \u001b[0mcdata\u001b[0m \u001b[0;34m=\u001b[0m \u001b[0mfunction\u001b[0m\u001b[0;34m(\u001b[0m\u001b[0;34m*\u001b[0m\u001b[0margs\u001b[0m\u001b[0;34m,\u001b[0m \u001b[0;34m**\u001b[0m\u001b[0mkwargs\u001b[0m\u001b[0;34m)\u001b[0m\u001b[0;34m\u001b[0m\u001b[0;34m\u001b[0m\u001b[0m\n\u001b[0m\u001b[1;32m     46\u001b[0m         \u001b[0;31m# TODO: test cdata is of the expected CType\u001b[0m\u001b[0;34m\u001b[0m\u001b[0;34m\u001b[0m\u001b[0m\n",
      "\u001b[0;32m~/miniconda3/envs/sNNt_slendr/lib/python3.9/site-packages/rpy2/rinterface.py\u001b[0m in \u001b[0;36m__call__\u001b[0;34m(self, *args, **kwargs)\u001b[0m\n\u001b[1;32m    679\u001b[0m             \u001b[0;32mif\u001b[0m \u001b[0merror_occured\u001b[0m\u001b[0;34m[\u001b[0m\u001b[0;36m0\u001b[0m\u001b[0;34m]\u001b[0m\u001b[0;34m:\u001b[0m\u001b[0;34m\u001b[0m\u001b[0;34m\u001b[0m\u001b[0m\n\u001b[0;32m--> 680\u001b[0;31m                 \u001b[0;32mraise\u001b[0m \u001b[0membedded\u001b[0m\u001b[0;34m.\u001b[0m\u001b[0mRRuntimeError\u001b[0m\u001b[0;34m(\u001b[0m\u001b[0m_rinterface\u001b[0m\u001b[0;34m.\u001b[0m\u001b[0m_geterrmessage\u001b[0m\u001b[0;34m(\u001b[0m\u001b[0;34m)\u001b[0m\u001b[0;34m)\u001b[0m\u001b[0;34m\u001b[0m\u001b[0;34m\u001b[0m\u001b[0m\n\u001b[0m\u001b[1;32m    681\u001b[0m         \u001b[0;32mreturn\u001b[0m \u001b[0mres\u001b[0m\u001b[0;34m\u001b[0m\u001b[0;34m\u001b[0m\u001b[0m\n",
      "\u001b[0;31mRRuntimeError\u001b[0m: Error in print(win) : object 'win' not found\n",
      "\nDuring handling of the above exception, another exception occurred:\n",
      "\u001b[0;31mRInterpreterError\u001b[0m                         Traceback (most recent call last)",
      "\u001b[0;32m/tmp/ipykernel_3791436/105862826.py\u001b[0m in \u001b[0;36m<module>\u001b[0;34m\u001b[0m\n\u001b[0;32m----> 1\u001b[0;31m \u001b[0mget_ipython\u001b[0m\u001b[0;34m(\u001b[0m\u001b[0;34m)\u001b[0m\u001b[0;34m.\u001b[0m\u001b[0mrun_cell_magic\u001b[0m\u001b[0;34m(\u001b[0m\u001b[0;34m'R'\u001b[0m\u001b[0;34m,\u001b[0m \u001b[0;34m''\u001b[0m\u001b[0;34m,\u001b[0m \u001b[0;34m'\\nprint(sta)\\nprint(end)\\nprint(win)\\n'\u001b[0m\u001b[0;34m)\u001b[0m\u001b[0;34m\u001b[0m\u001b[0;34m\u001b[0m\u001b[0m\n\u001b[0m",
      "\u001b[0;32m~/miniconda3/envs/sNNt_slendr/lib/python3.9/site-packages/IPython/core/interactiveshell.py\u001b[0m in \u001b[0;36mrun_cell_magic\u001b[0;34m(self, magic_name, line, cell)\u001b[0m\n\u001b[1;32m   2417\u001b[0m             \u001b[0;32mwith\u001b[0m \u001b[0mself\u001b[0m\u001b[0;34m.\u001b[0m\u001b[0mbuiltin_trap\u001b[0m\u001b[0;34m:\u001b[0m\u001b[0;34m\u001b[0m\u001b[0;34m\u001b[0m\u001b[0m\n\u001b[1;32m   2418\u001b[0m                 \u001b[0margs\u001b[0m \u001b[0;34m=\u001b[0m \u001b[0;34m(\u001b[0m\u001b[0mmagic_arg_s\u001b[0m\u001b[0;34m,\u001b[0m \u001b[0mcell\u001b[0m\u001b[0;34m)\u001b[0m\u001b[0;34m\u001b[0m\u001b[0;34m\u001b[0m\u001b[0m\n\u001b[0;32m-> 2419\u001b[0;31m                 \u001b[0mresult\u001b[0m \u001b[0;34m=\u001b[0m \u001b[0mfn\u001b[0m\u001b[0;34m(\u001b[0m\u001b[0;34m*\u001b[0m\u001b[0margs\u001b[0m\u001b[0;34m,\u001b[0m \u001b[0;34m**\u001b[0m\u001b[0mkwargs\u001b[0m\u001b[0;34m)\u001b[0m\u001b[0;34m\u001b[0m\u001b[0;34m\u001b[0m\u001b[0m\n\u001b[0m\u001b[1;32m   2420\u001b[0m             \u001b[0;32mreturn\u001b[0m \u001b[0mresult\u001b[0m\u001b[0;34m\u001b[0m\u001b[0;34m\u001b[0m\u001b[0m\n\u001b[1;32m   2421\u001b[0m \u001b[0;34m\u001b[0m\u001b[0m\n",
      "\u001b[0;32m~/miniconda3/envs/sNNt_slendr/lib/python3.9/site-packages/decorator.py\u001b[0m in \u001b[0;36mfun\u001b[0;34m(*args, **kw)\u001b[0m\n\u001b[1;32m    230\u001b[0m             \u001b[0;32mif\u001b[0m \u001b[0;32mnot\u001b[0m \u001b[0mkwsyntax\u001b[0m\u001b[0;34m:\u001b[0m\u001b[0;34m\u001b[0m\u001b[0;34m\u001b[0m\u001b[0m\n\u001b[1;32m    231\u001b[0m                 \u001b[0margs\u001b[0m\u001b[0;34m,\u001b[0m \u001b[0mkw\u001b[0m \u001b[0;34m=\u001b[0m \u001b[0mfix\u001b[0m\u001b[0;34m(\u001b[0m\u001b[0margs\u001b[0m\u001b[0;34m,\u001b[0m \u001b[0mkw\u001b[0m\u001b[0;34m,\u001b[0m \u001b[0msig\u001b[0m\u001b[0;34m)\u001b[0m\u001b[0;34m\u001b[0m\u001b[0;34m\u001b[0m\u001b[0m\n\u001b[0;32m--> 232\u001b[0;31m             \u001b[0;32mreturn\u001b[0m \u001b[0mcaller\u001b[0m\u001b[0;34m(\u001b[0m\u001b[0mfunc\u001b[0m\u001b[0;34m,\u001b[0m \u001b[0;34m*\u001b[0m\u001b[0;34m(\u001b[0m\u001b[0mextras\u001b[0m \u001b[0;34m+\u001b[0m \u001b[0margs\u001b[0m\u001b[0;34m)\u001b[0m\u001b[0;34m,\u001b[0m \u001b[0;34m**\u001b[0m\u001b[0mkw\u001b[0m\u001b[0;34m)\u001b[0m\u001b[0;34m\u001b[0m\u001b[0;34m\u001b[0m\u001b[0m\n\u001b[0m\u001b[1;32m    233\u001b[0m     \u001b[0mfun\u001b[0m\u001b[0;34m.\u001b[0m\u001b[0m__name__\u001b[0m \u001b[0;34m=\u001b[0m \u001b[0mfunc\u001b[0m\u001b[0;34m.\u001b[0m\u001b[0m__name__\u001b[0m\u001b[0;34m\u001b[0m\u001b[0;34m\u001b[0m\u001b[0m\n\u001b[1;32m    234\u001b[0m     \u001b[0mfun\u001b[0m\u001b[0;34m.\u001b[0m\u001b[0m__doc__\u001b[0m \u001b[0;34m=\u001b[0m \u001b[0mfunc\u001b[0m\u001b[0;34m.\u001b[0m\u001b[0m__doc__\u001b[0m\u001b[0;34m\u001b[0m\u001b[0;34m\u001b[0m\u001b[0m\n",
      "\u001b[0;32m~/miniconda3/envs/sNNt_slendr/lib/python3.9/site-packages/IPython/core/magic.py\u001b[0m in \u001b[0;36m<lambda>\u001b[0;34m(f, *a, **k)\u001b[0m\n\u001b[1;32m    185\u001b[0m     \u001b[0;31m# but it's overkill for just that one bit of state.\u001b[0m\u001b[0;34m\u001b[0m\u001b[0;34m\u001b[0m\u001b[0m\n\u001b[1;32m    186\u001b[0m     \u001b[0;32mdef\u001b[0m \u001b[0mmagic_deco\u001b[0m\u001b[0;34m(\u001b[0m\u001b[0marg\u001b[0m\u001b[0;34m)\u001b[0m\u001b[0;34m:\u001b[0m\u001b[0;34m\u001b[0m\u001b[0;34m\u001b[0m\u001b[0m\n\u001b[0;32m--> 187\u001b[0;31m         \u001b[0mcall\u001b[0m \u001b[0;34m=\u001b[0m \u001b[0;32mlambda\u001b[0m \u001b[0mf\u001b[0m\u001b[0;34m,\u001b[0m \u001b[0;34m*\u001b[0m\u001b[0ma\u001b[0m\u001b[0;34m,\u001b[0m \u001b[0;34m**\u001b[0m\u001b[0mk\u001b[0m\u001b[0;34m:\u001b[0m \u001b[0mf\u001b[0m\u001b[0;34m(\u001b[0m\u001b[0;34m*\u001b[0m\u001b[0ma\u001b[0m\u001b[0;34m,\u001b[0m \u001b[0;34m**\u001b[0m\u001b[0mk\u001b[0m\u001b[0;34m)\u001b[0m\u001b[0;34m\u001b[0m\u001b[0;34m\u001b[0m\u001b[0m\n\u001b[0m\u001b[1;32m    188\u001b[0m \u001b[0;34m\u001b[0m\u001b[0m\n\u001b[1;32m    189\u001b[0m         \u001b[0;32mif\u001b[0m \u001b[0mcallable\u001b[0m\u001b[0;34m(\u001b[0m\u001b[0marg\u001b[0m\u001b[0;34m)\u001b[0m\u001b[0;34m:\u001b[0m\u001b[0;34m\u001b[0m\u001b[0;34m\u001b[0m\u001b[0m\n",
      "\u001b[0;32m~/miniconda3/envs/sNNt_slendr/lib/python3.9/site-packages/rpy2/ipython/rmagic.py\u001b[0m in \u001b[0;36mR\u001b[0;34m(self, line, cell, local_ns)\u001b[0m\n\u001b[1;32m    781\u001b[0m             \u001b[0;32mif\u001b[0m \u001b[0;32mnot\u001b[0m \u001b[0me\u001b[0m\u001b[0;34m.\u001b[0m\u001b[0mstdout\u001b[0m\u001b[0;34m.\u001b[0m\u001b[0mendswith\u001b[0m\u001b[0;34m(\u001b[0m\u001b[0me\u001b[0m\u001b[0;34m.\u001b[0m\u001b[0merr\u001b[0m\u001b[0;34m)\u001b[0m\u001b[0;34m:\u001b[0m\u001b[0;34m\u001b[0m\u001b[0;34m\u001b[0m\u001b[0m\n\u001b[1;32m    782\u001b[0m                 \u001b[0mprint\u001b[0m\u001b[0;34m(\u001b[0m\u001b[0me\u001b[0m\u001b[0;34m.\u001b[0m\u001b[0merr\u001b[0m\u001b[0;34m)\u001b[0m\u001b[0;34m\u001b[0m\u001b[0;34m\u001b[0m\u001b[0m\n\u001b[0;32m--> 783\u001b[0;31m             \u001b[0;32mraise\u001b[0m \u001b[0me\u001b[0m\u001b[0;34m\u001b[0m\u001b[0;34m\u001b[0m\u001b[0m\n\u001b[0m\u001b[1;32m    784\u001b[0m         \u001b[0;32mfinally\u001b[0m\u001b[0;34m:\u001b[0m\u001b[0;34m\u001b[0m\u001b[0;34m\u001b[0m\u001b[0m\n\u001b[1;32m    785\u001b[0m             \u001b[0;32mif\u001b[0m \u001b[0mself\u001b[0m\u001b[0;34m.\u001b[0m\u001b[0mdevice\u001b[0m \u001b[0;32min\u001b[0m \u001b[0;34m[\u001b[0m\u001b[0;34m'png'\u001b[0m\u001b[0;34m,\u001b[0m \u001b[0;34m'svg'\u001b[0m\u001b[0;34m]\u001b[0m\u001b[0;34m:\u001b[0m\u001b[0;34m\u001b[0m\u001b[0;34m\u001b[0m\u001b[0m\n",
      "\u001b[0;32m~/miniconda3/envs/sNNt_slendr/lib/python3.9/site-packages/rpy2/ipython/rmagic.py\u001b[0m in \u001b[0;36mR\u001b[0;34m(self, line, cell, local_ns)\u001b[0m\n\u001b[1;32m    761\u001b[0m                     \u001b[0mreturn_output\u001b[0m \u001b[0;34m=\u001b[0m \u001b[0;32mFalse\u001b[0m\u001b[0;34m\u001b[0m\u001b[0;34m\u001b[0m\u001b[0m\n\u001b[1;32m    762\u001b[0m             \u001b[0;32melse\u001b[0m\u001b[0;34m:\u001b[0m\u001b[0;34m\u001b[0m\u001b[0;34m\u001b[0m\u001b[0m\n\u001b[0;32m--> 763\u001b[0;31m                 \u001b[0mtext_result\u001b[0m\u001b[0;34m,\u001b[0m \u001b[0mresult\u001b[0m\u001b[0;34m,\u001b[0m \u001b[0mvisible\u001b[0m \u001b[0;34m=\u001b[0m \u001b[0mself\u001b[0m\u001b[0;34m.\u001b[0m\u001b[0meval\u001b[0m\u001b[0;34m(\u001b[0m\u001b[0mcode\u001b[0m\u001b[0;34m)\u001b[0m\u001b[0;34m\u001b[0m\u001b[0;34m\u001b[0m\u001b[0m\n\u001b[0m\u001b[1;32m    764\u001b[0m                 \u001b[0mtext_output\u001b[0m \u001b[0;34m+=\u001b[0m \u001b[0mtext_result\u001b[0m\u001b[0;34m\u001b[0m\u001b[0;34m\u001b[0m\u001b[0m\n\u001b[1;32m    765\u001b[0m                 \u001b[0;32mif\u001b[0m \u001b[0mvisible\u001b[0m\u001b[0;34m:\u001b[0m\u001b[0;34m\u001b[0m\u001b[0;34m\u001b[0m\u001b[0m\n",
      "\u001b[0;32m~/miniconda3/envs/sNNt_slendr/lib/python3.9/site-packages/rpy2/ipython/rmagic.py\u001b[0m in \u001b[0;36meval\u001b[0;34m(self, code)\u001b[0m\n\u001b[1;32m    270\u001b[0m                 \u001b[0;31m# Otherwise next return seems to have copy of error.\u001b[0m\u001b[0;34m\u001b[0m\u001b[0;34m\u001b[0m\u001b[0m\n\u001b[1;32m    271\u001b[0m                 \u001b[0mwarning_or_other_msg\u001b[0m \u001b[0;34m=\u001b[0m \u001b[0mself\u001b[0m\u001b[0;34m.\u001b[0m\u001b[0mflush\u001b[0m\u001b[0;34m(\u001b[0m\u001b[0;34m)\u001b[0m\u001b[0;34m\u001b[0m\u001b[0;34m\u001b[0m\u001b[0m\n\u001b[0;32m--> 272\u001b[0;31m                 raise RInterpreterError(code, str(exception),\n\u001b[0m\u001b[1;32m    273\u001b[0m                                         warning_or_other_msg)\n\u001b[1;32m    274\u001b[0m             \u001b[0mtext_output\u001b[0m \u001b[0;34m=\u001b[0m \u001b[0mself\u001b[0m\u001b[0;34m.\u001b[0m\u001b[0mflush\u001b[0m\u001b[0;34m(\u001b[0m\u001b[0;34m)\u001b[0m\u001b[0;34m\u001b[0m\u001b[0;34m\u001b[0m\u001b[0m\n",
      "\u001b[0;31mRInterpreterError\u001b[0m: Failed to parse and evaluate line '\\nprint(sta)\\nprint(end)\\nprint(win)\\n'.\nR error message: \"Error in print(win) : object 'win' not found\""
     ]
    }
   ],
   "source": [
    "%%R\n",
    "\n",
    "print(sta)\n",
    "print(end)\n",
    "print(win)"
   ]
  },
  {
   "cell_type": "code",
   "execution_count": 104,
   "id": "c9672176-f141-41f6-9889-e2d347d6dbf9",
   "metadata": {},
   "outputs": [
    {
     "name": "stdout",
     "output_type": "stream",
     "text": [
      "[1] 1\n",
      "[1] 2\n",
      "[1] 3\n",
      "[1] 4\n",
      "[1] 5\n",
      "[1] 6\n",
      "[1] 7\n",
      "[1] 8\n",
      "[1] 9\n",
      "[1] 10\n",
      "[1] 11\n",
      "[1] 12\n",
      "[1] 13\n",
      "[1] 14\n",
      "[1] 15\n",
      "# A tibble: 6 × 10\n",
      "# Groups:   exp, cro, sta, end, extendedexp, nam, typ [3]\n",
      "    exp   cro   sta       end extendedexp     nam   typ   stat   mean    se\n",
      "  <int> <int> <int>     <int> <chr>           <chr> <chr> <chr> <dbl> <dbl>\n",
      "1     2     1     0  40000000 2_1_0_40000000  mean  gt    space 1962. 287. \n",
      "2     2     1     0  40000000 2_1_0_40000000  mean  gt    time  1518. 178. \n",
      "3     2     1     0  80000000 2_1_0_80000000  mean  gt    space 1876. 124. \n",
      "4     2     1     0  80000000 2_1_0_80000000  mean  gt    time  1759. 180. \n",
      "5     2     1     0 100000000 2_1_0_100000000 mean  gt    space 2071.  48.2\n",
      "6     2     1     0 100000000 2_1_0_100000000 mean  gt    time  1729.  51.7\n"
     ]
    }
   ],
   "source": [
    "%%R\n",
    "\n",
    "get_all_data <- function(exp, cro, sta, end){\n",
    "    read.table(paste(\"../../sandbox/AADR/\", exp, \"/pred_\", cro, \"_\", sta, \"_\", end, \".txt\", sep = \"\"), header = T) %>%\n",
    "        mutate(cro = cro, \n",
    "               sta = sta, \n",
    "               end = end,\n",
    "               extendedexp = paste(exp, cro, sta, end, sep = \"_\")) %>%\n",
    "        left_join(read.csv(\"../../files/AADR_filtered_metadata.txt\", header = T, sep = \"\\t\") %>%\n",
    "             select(ind = indivi, master, datmet, datmea, locate, countr, latitu, longit, warnin, timind, sntind), by = c(\"ind\")) -> a\n",
    "    if(exp == 5){\n",
    "        a %>%\n",
    "            mutate(true_tim = 0, pred_tim = 0, diff_time = 0) -> a\n",
    "    }\n",
    "    if(exp == 6 || exp == 10 || exp == 11){\n",
    "        a %>%\n",
    "            mutate(true_lat = 0, true_lon = 0, pred_lat = 0, pred_lon = 0, diff_space = 0) -> a\n",
    "    }  \n",
    "\n",
    "    a\n",
    "}\n",
    "\n",
    "\n",
    "error_spaceNNtime_mean_windows <- function(){\n",
    "    read.csv(\"../../files/experiments_AADR.csv\", sep = \";\") -> experiments\n",
    "\n",
    "    all_scenarios = data.frame()\n",
    "    \n",
    "    for(i in 1:(experiments %>% nrow())){\n",
    "        \n",
    "        print(i)\n",
    "        \n",
    "        exp = experiments %>% pull(exp) %>% .[i]\n",
    "        cro = experiments %>% pull(cro) %>% .[i]\n",
    "        sta = experiments %>% pull(sta) %>% .[i]\n",
    "        sta = as.numeric(sta)*1e6\n",
    "        end = experiments %>% pull(end) %>% .[i]\n",
    "        end = as.numeric(end)*1e6\n",
    "        win = experiments %>% pull(win) %>% .[i]\n",
    "        win = as.numeric(win)*1e6\n",
    "        pre = experiments %>% pull(pre) %>% .[i]\n",
    "\n",
    "        if(cro != \"2\" && cro != \"11\"){\n",
    "            for(s in seq(sta, end-win, win)){             \n",
    "                z = format(s, scientific = FALSE, trim = TRUE)\n",
    "                e = format(s+win, scientific = FALSE, trim = TRUE)\n",
    "                all_scenarios = rbind(all_scenarios, \n",
    "                                  get_all_data(exp, cro, z, e)\n",
    "                                     )\n",
    "            }\n",
    "        }\n",
    "            \n",
    "    }\n",
    "\n",
    "    all_scenarios %>%\n",
    "        group_by(sim, exp, ind, cro) %>%\n",
    "        summarize(sta = min(sta),\n",
    "                  end = max(end),\n",
    "                  true_lat = mean(true_lat),\n",
    "                  true_lon = mean(true_lon),\n",
    "                  pred_lat = mean(pred_lat),\n",
    "                  pred_lon = mean(pred_lon),\n",
    "                  true_tim = mean(true_tim),\n",
    "                  pred_tim = mean(pred_tim))\n",
    "        \n",
    "        \n",
    "}\n",
    "\n",
    "error_spaceNNtime_mean_windows() %>%\n",
    "    mutate(space = haversine(true_lat, true_lon, pred_lat, pred_lon),\n",
    "           time  = sqrt((pred_tim-true_tim)^2),\n",
    "           extendedexp = paste(exp, cro, sta, end, sep = \"_\"),\n",
    "           nam = \"mean\",\n",
    "           typ = \"gt\") %>%\n",
    "    as.data.frame() %>%\n",
    "    select(-c(sim, true_lat, true_lon, pred_lat, pred_lon, true_tim, pred_tim)) %>%\n",
    "    gather(\"stat\", \"diff\", space, time) %>%\n",
    "    group_by(exp, cro, sta, end, extendedexp, nam, typ, stat) %>%\n",
    "    summarize(mean = mean(diff), se = sd(diff)/sqrt(n())) %>%\n",
    "    filter(sta == 0) -> mean_scenarios\n",
    "\n",
    "head(mean_scenarios)"
   ]
  },
  {
   "cell_type": "code",
   "execution_count": 50,
   "id": "8042006a-e317-42ac-94c7-7651ecd00b10",
   "metadata": {},
   "outputs": [
    {
     "name": "stdout",
     "output_type": "stream",
     "text": [
      "# A tibble: 6 × 10\n",
      "# Groups:   exp, cro, sta, end, extendedexp, nam, typ [3]\n",
      "  exp     cro      sta      end extendedexp        nam   typ   stat   mean    se\n",
      "  <fct> <int>    <int>    <int> <chr>              <chr> <chr> <chr> <dbl> <dbl>\n",
      "1 1         1 10000000 20000000 1_1_10000000_2000… loss  gt    space 2445.  39.7\n",
      "2 1         1 10000000 20000000 1_1_10000000_2000… loss  gt    time  1851.  43.4\n",
      "3 2         1        0 10000000 2_1_0_10000000     gene… gt    space 2302.  47.5\n",
      "4 2         1        0 10000000 2_1_0_10000000     gene… gt    time  1929.  50.6\n",
      "5 2         1 10000000 20000000 2_1_10000000_2000… gene… gt    space 2329.  49.7\n",
      "6 2         1 10000000 20000000 2_1_10000000_2000… gene… gt    time  1904.  56.4\n"
     ]
    }
   ],
   "source": [
    "%%R\n",
    "\n",
    "all_scenarios %>%\n",
    "    head()"
   ]
  },
  {
   "cell_type": "code",
   "execution_count": 51,
   "id": "01fbd2f5-6f8d-4745-b380-ebcd17a92941",
   "metadata": {},
   "outputs": [
    {
     "name": "stdout",
     "output_type": "stream",
     "text": [
      "# A tibble: 6 × 10\n",
      "# Groups:   exp, cro, sta, end, extendedexp, nam, typ [3]\n",
      "    exp   cro   sta       end extendedexp     nam   typ   stat   mean    se\n",
      "  <int> <int> <int>     <int> <chr>           <chr> <chr> <chr> <dbl> <dbl>\n",
      "1     2     1     0  40000000 2_1_0_40000000  mean  gt    space 1962. 287. \n",
      "2     2     1     0  40000000 2_1_0_40000000  mean  gt    time  1518. 178. \n",
      "3     2     1     0  80000000 2_1_0_80000000  mean  gt    space 1876. 124. \n",
      "4     2     1     0  80000000 2_1_0_80000000  mean  gt    time  1759. 180. \n",
      "5     2     1     0 100000000 2_1_0_100000000 mean  gt    space 2071.  48.2\n",
      "6     2     1     0 100000000 2_1_0_100000000 mean  gt    time  1729.  51.7\n"
     ]
    }
   ],
   "source": [
    "%%R\n",
    "\n",
    "mean_scenarios %>%\n",
    "    head()"
   ]
  },
  {
   "cell_type": "code",
   "execution_count": 52,
   "id": "a0717f24-afa1-41d5-82fe-a878b0bc17af",
   "metadata": {},
   "outputs": [
    {
     "name": "stdout",
     "output_type": "stream",
     "text": [
      "# A tibble: 6 × 10\n",
      "  exp     cro      sta      end extendedexp        nam   typ   stat   mean    se\n",
      "  <fct> <int>    <int>    <int> <chr>              <chr> <chr> <chr> <dbl> <dbl>\n",
      "1 1         1 10000000 20000000 1_1_10000000_2000… loss  gt    space 2445.  39.7\n",
      "2 1         1 10000000 20000000 1_1_10000000_2000… loss  gt    time  1851.  43.4\n",
      "3 2         1        0 10000000 2_1_0_10000000     gene… gt    space 2302.  47.5\n",
      "4 2         1        0 10000000 2_1_0_10000000     gene… gt    time  1929.  50.6\n",
      "5 2         1 10000000 20000000 2_1_10000000_2000… gene… gt    space 2329.  49.7\n",
      "6 2         1 10000000 20000000 2_1_10000000_2000… gene… gt    time  1904.  56.4\n"
     ]
    }
   ],
   "source": [
    "%%R\n",
    "\n",
    "rbind(all_scenarios %>% ungroup(), mean_scenarios %>% ungroup()) %>% head()"
   ]
  },
  {
   "cell_type": "code",
   "execution_count": 105,
   "id": "ead6da30-2ba7-481a-9c26-f226a3a72f47",
   "metadata": {},
   "outputs": [],
   "source": [
    "%%R\n",
    "\n",
    "plot_errors <- function(all_scenarios_all, exp_to_plot, labels, limits, title, xlab, ylab, ylimspace = c(\"None\", \"None\"), ylimtime = c(\"None\", \"None\"), nolegend = TRUE){\n",
    "    \n",
    "    all_scenarios_all %>% \n",
    "        filter(extendedexp %in% exp_to_plot,\n",
    "               stat == \"space\") %>%\n",
    "        ggplot() +\n",
    "        geom_errorbar(aes(x = extendedexp, ymin = mean-se, ymax = mean+se), alpha = 0.5, width = 0.2) +\n",
    "        geom_line(aes(x = extendedexp, y = mean, group = 1), alpha = 0.5, linetype = \"dashed\") +\n",
    "        geom_point(aes(x = extendedexp, y = mean), size = 3) +\n",
    "        labs(x = xlab, y = ylab) +\n",
    "        scale_x_discrete(labels = labels, limits = limits) +\n",
    "        facet_wrap(stat~., nrow = 2, scales = \"free\") +\n",
    "        theme(axis.text.x = element_text(angle = 45, vjust = 1, hjust=1)) +\n",
    "        theme_light() -> plot1\n",
    "    \n",
    "    if(ylimspace[1] != \"None\"){\n",
    "        plot1 + coord_cartesian(ylim = ylimspace) -> plot1\n",
    "    }\n",
    "    if(nolegend){\n",
    "        plot1 + theme(legend.position = 'none', axis.text.x = element_text(angle = 45, vjust = 1, hjust=1)) -> plot1\n",
    "    }\n",
    "    \n",
    "    all_scenarios_all %>% \n",
    "        filter(extendedexp %in% exp_to_plot,\n",
    "               stat == \"time\") %>%\n",
    "        ggplot() +\n",
    "        geom_errorbar(aes(x = extendedexp, ymin = mean-se, ymax = mean+se), alpha = 0.5, width = 0.2) +\n",
    "        geom_line(aes(x = extendedexp, y = mean, group = 1), alpha = 0.5, linetype = \"dashed\") +\n",
    "        geom_point(aes(x = extendedexp, y = mean), size = 3) +\n",
    "        labs(x = xlab, y = ylab) +\n",
    "        scale_x_discrete(labels=labels, limits = limits) +\n",
    "        facet_wrap(stat~., nrow = 2, scales = \"free\") +\n",
    "        theme(axis.text.x = element_text(angle = 45, vjust = 1, hjust=1)) +\n",
    "        theme_light() -> plot2\n",
    "    \n",
    "    if(ylimtime[1] != \"None\"){\n",
    "        plot2 + coord_cartesian(ylim = ylimtime) -> plot2\n",
    "    }\n",
    "    if(nolegend){\n",
    "        plot2 + theme(legend.position = 'none', axis.text.x = element_text(angle = 45, vjust = 1, hjust=1)) -> plot2\n",
    "    }\n",
    "    \n",
    "    title <- ggdraw() + draw_label(title)\n",
    "    \n",
    "    plot_grid(title, plot1, plot2, ncol = 1, rel_heights=c(0.1, 1, 1))\n",
    "\n",
    "}"
   ]
  },
  {
   "cell_type": "code",
   "execution_count": 54,
   "id": "4f884eb0-43c3-4db3-a43a-c710d4e215a0",
   "metadata": {},
   "outputs": [
    {
     "name": "stdout",
     "output_type": "stream",
     "text": [
      "  exp cro      sta      end           extendedexp     nam typ  stat     mean\n",
      "1   1   1 10000000 20000000 1_1_10000000_20000000    loss  gt space 2445.418\n",
      "2   1   1 10000000 20000000 1_1_10000000_20000000    loss  gt  time 1851.004\n",
      "3   2   1        0 10000000        2_1_0_10000000 general  gt space 2302.395\n",
      "4   2   1        0 10000000        2_1_0_10000000 general  gt  time 1928.943\n",
      "5   2   1 10000000 20000000 2_1_10000000_20000000 general  gt space 2329.394\n",
      "6   2   1 10000000 20000000 2_1_10000000_20000000 general  gt  time 1904.486\n",
      "        se\n",
      "1 39.65613\n",
      "2 43.41976\n",
      "3 47.52936\n",
      "4 50.55995\n",
      "5 49.70212\n",
      "6 56.43739\n"
     ]
    }
   ],
   "source": [
    "%%R\n",
    "\n",
    "all_scenarios %>%\n",
    "    as.data.frame() %>%\n",
    "    head()"
   ]
  },
  {
   "cell_type": "code",
   "execution_count": 61,
   "id": "78bf515c-c634-45d6-9f73-923f93169401",
   "metadata": {},
   "outputs": [
    {
     "data": {
      "image/png": "[encoded data removed]"
     },
     "metadata": {},
     "output_type": "display_data"
    }
   ],
   "source": [
    "%%R\n",
    "\n",
    "plot_errors(all_scenarios_all = rbind(all_scenarios %>% ungroup(), mean_scenarios %>% ungroup()), \n",
    "            exp_to_plot       = c(\"2_1_0_10000000\",       \"2_1_10000000_20000000\",       \"2_1_20000000_30000000\",       \"2_1_30000000_40000000\",       \"2_1_40000000_50000000\",       \"2_1_50000000_60000000\",       \"2_1_60000000_70000000\",       \"2_1_70000000_80000000\",       \"2_1_80000000_90000000\",       \"2_1_90000000_100000000\",       \"4_1_0_100000000\",         \"2_1_0_100000000\"), \n",
    "            labels            = c(\"2_1_0_10000000\" = \"0\", \"2_1_10000000_20000000\" = \"1\", \"2_1_20000000_30000000\" = \"2\", \"2_1_30000000_40000000\" = \"3\", \"2_1_40000000_50000000\" = \"4\", \"2_1_50000000_60000000\" = \"5\", \"2_1_60000000_70000000\" = \"6\", \"2_1_70000000_80000000\" = \"7\", \"2_1_80000000_90000000\" = \"8\", \"2_1_90000000_100000000\" = \"9\", \"4_1_0_100000000\" = \"0-9\", \"2_1_0_100000000\" = \"mean0-9\"), \n",
    "            limits            = c(\"2_1_0_10000000\",       \"2_1_10000000_20000000\",       \"2_1_20000000_30000000\",       \"2_1_30000000_40000000\",       \"2_1_40000000_50000000\",       \"2_1_50000000_60000000\",       \"2_1_60000000_70000000\",       \"2_1_70000000_80000000\",       \"2_1_80000000_90000000\",       \"2_1_90000000_100000000\",       \"4_1_0_100000000\",         \"2_1_0_100000000\"),  \n",
    "            title             = \"10 Mb windows, per window, all at once, average\", \n",
    "            xlab              = \"exp\", \n",
    "            ylab              = \"error\")\n"
   ]
  },
  {
   "cell_type": "code",
   "execution_count": 72,
   "id": "644e857d-c384-463a-a0be-9e60645ed42c",
   "metadata": {},
   "outputs": [
    {
     "data": {
      "image/png": "[encoded data removed]"
     },
     "metadata": {},
     "output_type": "display_data"
    }
   ],
   "source": [
    "%%R\n",
    "\n",
    "plot_errors(all_scenarios_all = rbind(all_scenarios %>% ungroup(), mean_scenarios %>% ungroup()), \n",
    "            exp_to_plot       = c(\"2_1_10000000_20000000\"       , \"7_1_10000000_20000000\"        , \"8_1_10000000_20000000\"        ), \n",
    "            labels            = c(\"2_1_10000000_20000000\" = \"64\", \"7_1_10000000_20000000\" = \"128\", \"8_1_10000000_20000000\" = \"256\"), \n",
    "            limits            = c(\"2_1_10000000_20000000\"       , \"7_1_10000000_20000000\"        , \"8_1_10000000_20000000\"        ),  \n",
    "            title             = \"Number of NN layer nodes\", \n",
    "            xlab              = \"exp\", \n",
    "            ylab              = \"error\")"
   ]
  },
  {
   "cell_type": "code",
   "execution_count": 106,
   "id": "6c1e1137-fef2-49cf-9791-00cffc874924",
   "metadata": {},
   "outputs": [
    {
     "data": {
      "image/png": "[encoded data removed]"
     },
     "metadata": {},
     "output_type": "display_data"
    }
   ],
   "source": [
    "%%R\n",
    "\n",
    "plot_errors(all_scenarios_all = rbind(all_scenarios %>% ungroup(), mean_scenarios %>% ungroup()), \n",
    "            exp_to_plot       = c(\"2_1_10000000_20000000\"            , \"9_1_10000000_20000000\"           ), \n",
    "            labels            = c(\"2_1_10000000_20000000\" = \"Ancient\", \"9_1_10000000_20000000\" = \"Modern\"), \n",
    "            limits            = c(\"2_1_10000000_20000000\"            , \"9_1_10000000_20000000\"           ),  \n",
    "            title             = \"Only ancient or with modern\", \n",
    "            xlab              = \"exp\", \n",
    "            ylab              = \"error\")"
   ]
  },
  {
   "cell_type": "code",
   "execution_count": 83,
   "id": "37e526fb-9ee7-484f-bbf8-bd094d79f3ad",
   "metadata": {},
   "outputs": [
    {
     "name": "stdout",
     "output_type": "stream",
     "text": [
      "# A tibble: 6 × 10\n",
      "# Groups:   exp, cro, sta, end, extendedexp, nam, typ [3]\n",
      "    exp   cro   sta       end extendedexp     nam   typ   stat   mean    se\n",
      "  <int> <int> <int>     <int> <chr>           <chr> <chr> <chr> <dbl> <dbl>\n",
      "1     2     1     0  40000000 2_1_0_40000000  mean  gt    space 1962. 287. \n",
      "2     2     1     0  40000000 2_1_0_40000000  mean  gt    time  1518. 178. \n",
      "3     2     1     0  80000000 2_1_0_80000000  mean  gt    space 1876. 124. \n",
      "4     2     1     0  80000000 2_1_0_80000000  mean  gt    time  1759. 180. \n",
      "5     2     1     0 100000000 2_1_0_100000000 mean  gt    space 2071.  48.2\n",
      "6     2     1     0 100000000 2_1_0_100000000 mean  gt    time  1729.  51.7\n"
     ]
    }
   ],
   "source": [
    "%%R\n",
    "\n",
    "all_scenarios %>% head()\n",
    "mean_scenarios %>% head()"
   ]
  },
  {
   "cell_type": "code",
   "execution_count": 85,
   "id": "0c692504-941a-4669-9b8b-9acc935edfc0",
   "metadata": {},
   "outputs": [
    {
     "data": {
      "image/png": "[encoded data removed]"
     },
     "metadata": {},
     "output_type": "display_data"
    }
   ],
   "source": [
    "%%R\n",
    "\n",
    "plot_errors(all_scenarios_all = rbind(all_scenarios %>% ungroup(), mean_scenarios %>% ungroup()), \n",
    "            exp_to_plot       = c(\"2_1_10000000_20000000\"         , \"5_1_10000000_20000000\"          , \"6_1_10000000_20000000\"           ), \n",
    "            labels            = c(\"2_1_10000000_20000000\" = \"sNNt\", \"5_1_10000000_20000000\" = \"space\", \"6_1_10000000_20000000\" = \"time\"), \n",
    "            limits            = c(\"2_1_10000000_20000000\"         , \"5_1_10000000_20000000\"          , \"6_1_10000000_20000000\"           ),  \n",
    "            title             = \"sNNt, only space or only time\", \n",
    "            xlab              = \"exp\", \n",
    "            ylab              = \"error\")"
   ]
  },
  {
   "cell_type": "code",
   "execution_count": null,
   "id": "6f2adbbe-7e80-4e69-a11d-c5c83370257d",
   "metadata": {},
   "outputs": [],
   "source": [
    "%%R\n",
    "\n",
    "plot_errors(all_scenarios_all = rbind(all_scenarios %>% ungroup(), mean_scenarios %>% ungroup()), \n",
    "            exp_to_plot       = c(\"2_1_10000000_20000000\"         , \"5_1_10000000_20000000\"          , \"6_1_10000000_20000000\"           ), \n",
    "            labels            = c(\"2_1_10000000_20000000\" = \"sNNt\", \"5_1_10000000_20000000\" = \"space\", \"6_1_10000000_20000000\" = \"time\"), \n",
    "            limits            = c(\"2_1_10000000_20000000\"         , \"5_1_10000000_20000000\"          , \"6_1_10000000_20000000\"           ),  \n",
    "            title             = \"sNNt, only space or only time\", \n",
    "            xlab              = \"exp\", \n",
    "            ylab              = \"error\")"
   ]
  },
  {
   "cell_type": "code",
   "execution_count": 61,
   "id": "660f2d89-fcfe-43dc-bd5c-d33443c4167b",
   "metadata": {},
   "outputs": [
    {
     "name": "stdout",
     "output_type": "stream",
     "text": [
      "# A tibble: 6 × 10\n",
      "# Groups:   exp, cro, sta, end, extendedexp, nam, typ [3]\n",
      "  exp     cro      sta      end extendedexp        nam   typ   stat   mean    se\n",
      "  <fct> <int>    <int>    <int> <chr>              <chr> <chr> <chr> <dbl> <dbl>\n",
      "1 1         1 10000000 20000000 1_1_10000000_2000… loss  gt    space 3250.  88.3\n",
      "2 1         1 10000000 20000000 1_1_10000000_2000… loss  gt    time  2100.  97.1\n",
      "3 2         1 10000000 20000000 2_1_10000000_2000… gene… gt    space 3068. 100. \n",
      "4 2         1 10000000 20000000 2_1_10000000_2000… gene… gt    time  3279. 121. \n",
      "5 3         1 10000000 20000000 3_1_10000000_2000… loss  gt    space 3015.  88.4\n",
      "6 3         1 10000000 20000000 3_1_10000000_2000… loss  gt    time  3936. 111. \n"
     ]
    }
   ],
   "source": [
    "%%R\n",
    "\n",
    "all_scenarios %>%\n",
    "    head()"
   ]
  },
  {
   "cell_type": "code",
   "execution_count": 108,
   "id": "cbfa5131-b00a-4617-bedd-939c0dde94cb",
   "metadata": {},
   "outputs": [
    {
     "data": {
      "image/png": "[encoded data removed]"
     },
     "metadata": {},
     "output_type": "display_data"
    }
   ],
   "source": [
    "%%R\n",
    "\n",
    "plot_errors(all_scenarios_all = all_scenarios, \n",
    "            exp_to_plot       = c(\"1_1_10000000_20000000\",       \"2_1_10000000_20000000\",       \"3_1_10000000_20000000\"), \n",
    "            labels            = c(\"1_1_10000000_20000000\" = \"x1,000\", \"2_1_10000000_20000000\" = \"x10,000\", \"3_1_10000000_20000000\" = \"x100,000\"), \n",
    "            limits            = c(\"1_1_10000000_20000000\",       \"2_1_10000000_20000000\",       \"3_1_10000000_20000000\"),  \n",
    "            title             = \"space error weighting\", \n",
    "            xlab              = \"exp\", \n",
    "            ylab              = \"error\")"
   ]
  },
  {
   "cell_type": "code",
   "execution_count": 77,
   "id": "56928913-9e70-4be5-a63c-b684e28a7fe2",
   "metadata": {},
   "outputs": [
    {
     "name": "stderr",
     "output_type": "stream",
     "text": [
      "R[write to console]: geom_path: Each group consists of only one observation. Do you need to adjust\n",
      "the group aesthetic?\n",
      "\n"
     ]
    },
    {
     "data": {
      "image/png": "[encoded data removed]"
     },
     "metadata": {},
     "output_type": "display_data"
    }
   ],
   "source": [
    "%%R\n",
    "\n",
    "plot_errors(all_scenarios_all = rbind(all_scenarios %>% ungroup(), mean_scenarios %>% ungroup()), \n",
    "            exp_to_plot       = c(\"10_1_0_10000000\",       \"10_1_10000000_20000000\",       \"10_1_20000000_30000000\",       \"10_1_30000000_40000000\",       \"10_1_40000000_50000000\",       \"10_1_50000000_60000000\",       \"10_1_60000000_70000000\",       \"10_1_70000000_80000000\",       \"10_1_80000000_90000000\",       \"10_1_90000000_100000000\",       \"10_1_0_100000000\",         \"10_1_0_100000000\"), \n",
    "            labels            = c(\"10_1_0_10000000\" = \"0\", \"10_1_10000000_20000000\" = \"1\", \"10_1_20000000_30000000\" = \"2\", \"10_1_30000000_40000000\" = \"3\", \"10_1_40000000_50000000\" = \"4\", \"10_1_50000000_60000000\" = \"5\", \"10_1_60000000_70000000\" = \"6\", \"10_1_70000000_80000000\" = \"7\", \"10_1_80000000_90000000\" = \"8\", \"10_1_90000000_100000000\" = \"9\", \"10_1_0_100000000\" = \"0-9\", \"10_1_0_100000000\" = \"mean0-9\"), \n",
    "            limits            = c(\"10_1_0_10000000\",       \"10_1_10000000_20000000\",       \"10_1_20000000_30000000\",       \"10_1_30000000_40000000\",       \"10_1_40000000_50000000\",       \"10_1_50000000_60000000\",       \"10_1_60000000_70000000\",       \"10_1_70000000_80000000\",       \"10_1_80000000_90000000\",       \"10_1_90000000_100000000\",       \"10_1_0_100000000\",         \"10_1_0_100000000\"),  \n",
    "            title             = \"10 Mb windows, per window, all at once, average\", \n",
    "            xlab              = \"exp\", \n",
    "            ylab              = \"error\")"
   ]
  }
 ],
 "metadata": {
  "kernelspec": {
   "display_name": "Python 3 (ipykernel)",
   "language": "python",
   "name": "python3"
  },
  "language_info": {
   "codemirror_mode": {
    "name": "ipython",
    "version": 3
   },
   "file_extension": ".py",
   "mimetype": "text/x-python",
   "name": "python",
   "nbconvert_exporter": "python",
   "pygments_lexer": "ipython3",
   "version": "3.9.7"
  }
 },
 "nbformat": 4,
 "nbformat_minor": 5
}
