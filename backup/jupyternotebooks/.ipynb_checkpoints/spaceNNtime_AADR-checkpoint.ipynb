{
 "cells": [
  {
   "cell_type": "markdown",
   "id": "1b78baa7-2d27-4835-a82b-a7b902a2fc6e",
   "metadata": {},
   "source": [
    "# spaceNNtime in simulated experiments\n",
    "\n",
    "In this notebook I run spaceNNtime in a example as a demonstration and later analise other experiments\n",
    "\n",
    "<a name=\"Home4\"></a>\n",
    "\n",
    "## Contents\n",
    "\n",
    "0. [ Library and packages ](#Lib)\n",
    "1. [ Functions ](#Fun)\n",
    "    + 1. [Python Functions](#Pyf)\n",
    "    + 2. [R Functions](#Rfu)\n",
    "2. [ spaceNNtime results in simulations ](#Exp)\n",
    "    + 1. [Presentation of experiment simulated data](#Prs)\n",
    "    + 2. [Allele counts per selected individuals](#All)\n",
    "    + 3. [Coordinates and sampling time per individual](#Coo)\n",
    "    + 4. [spaceNNtime on the first set of test individuals](#sNt)\n",
    "    + 5. [Analise results](#Ana)\n",
    "    + 6. [Summary results](#Sum)\n",
    "        - **DOWNSAMPLING EXPERIMENT**\n",
    "        - 1. [Exp001 : 15,000 randomly uniformally distributed samples ](#001)\n",
    "        - 2. [Exp002 : 10,000 randomly uniformally distributed samples ](#002)\n",
    "        - 3. [Exp003 :  5,000 randomly uniformally distributed samples ](#003)\n",
    "        - 4. [Exp004 :  1,500 randomly uniformally distributed samples ](#004)\n",
    "        - 5. [Exp005 :  1,000 randomly uniformally distributed samples ](#005)\n",
    "        - 6. [Exp006 :    500 randomly uniformally distributed samples ](#006)\n",
    "        - 7. [Exp007 :    250 randomly uniformally distributed samples ](#007)\n",
    "        - **EXPONENTIALLY SAMPLED (similarly to MesoNeo data)**\n",
    "        - 8. [Exp008 :  1,500 randmoly exponentially distributed samples ](#008)\n",
    "        - **SNP DENSITY EXPERIMENT**\n",
    "        - 9. [Exp009 :  1,500 randmoly uniformally distributed samples with 75% SNP density ](#009)\n",
    "        - 10. [Exp010 :  1,500 randmoly uniformally distributed samples with 50% SNP density ](#0010)\n",
    "        - 11. [Exp011 :  1,500 randmoly uniformally distributed samples with 25% SNP density ](#011)\n",
    "        - 12. [Exp012 :  1,500 randmoly uniformally distributed samples with 15% SNP density ](#012)\n",
    "        - **TRAINING SPACE AND TIME SEPARATELY**\n",
    "        - 13. [Exp013 :  1,500 randmoly uniformally distributed samples predicting space only ](#011)\n",
    "        - 14. [Exp014 :  1,500 randmoly uniformally distributed samples predicting time only ](#012)\n",
    "    + 7. [Summary results all together](#Tog)\n",
    "        \n",
    "<a name=\"011\"></a>\n",
    "#### L. Exp011 :  1,500 randmoly exponentially distributed samples with 25% SNP density\n",
    "   \n",
    "<a name=\"Lib\"></a>\n",
    "## 0. Library and packages"
   ]
  },
  {
   "cell_type": "code",
   "execution_count": 2,
   "id": "30ef4768-a859-4d61-9735-2d396a06b006",
   "metadata": {},
   "outputs": [],
   "source": [
    "%load_ext rpy2.ipython"
   ]
  },
  {
   "cell_type": "code",
   "execution_count": 3,
   "id": "17feb0f4-3f6e-4fc2-ad44-71c855f363c6",
   "metadata": {},
   "outputs": [
    {
     "name": "stdout",
     "output_type": "stream",
     "text": [
      "[1] \"/maps/projects/racimolab/people/qxz396/miniconda3/envs/sNNt_slendr/lib/R/library\"\n"
     ]
    }
   ],
   "source": [
    "%%R\n",
    ".libPaths()"
   ]
  },
  {
   "cell_type": "code",
   "execution_count": 4,
   "id": "abf9057d-3eac-40e4-8146-5347d33ace93",
   "metadata": {},
   "outputs": [
    {
     "name": "stderr",
     "output_type": "stream",
     "text": [
      "R[write to console]: ── Attaching packages ─────────────────────────────────────── tidyverse 1.3.1 ──\n",
      "\n",
      "R[write to console]: ✔ tibble  3.1.6     ✔ dplyr   1.0.9\n",
      "✔ tidyr   1.2.0     ✔ stringr 1.4.0\n",
      "✔ readr   2.1.2     ✔ forcats 0.5.1\n",
      "✔ purrr   0.3.4     \n",
      "\n",
      "R[write to console]: ── Conflicts ────────────────────────────────────────── tidyverse_conflicts() ──\n",
      "✖ dplyr::filter() masks stats::filter()\n",
      "✖ dplyr::lag()    masks stats::lag()\n",
      "\n",
      "R[write to console]: Linking to GEOS 3.7.2, GDAL 3.0.4, PROJ 6.3.2; sf_use_s2() is TRUE\n",
      "\n",
      "R[write to console]: You can setup a pre-configured environment with all of slendr's Python\n",
      "tree-sequence dependencies (Python modules tskit, pyslim, and msprime)\n",
      "by running the function setup_env().\n",
      "\n"
     ]
    }
   ],
   "source": [
    "%%R\n",
    ".libPaths(c(\"/maps/projects/racimolab/people/qxz396/spaceNNtime/backup/environments/renv/library/R-4.1/x86_64-redhat-linux-gnu\"))\n",
    "\n",
    "library(ggplot2)\n",
    "library(cowplot)\n",
    "library(tidyverse)\n",
    "library(stringr)\n",
    "library(sf)\n",
    "library(slendr)\n",
    "library(rnaturalearth)\n",
    "library(rnaturalearthdata)\n",
    "\n",
    "options(dplyr.summarise.inform = FALSE)"
   ]
  },
  {
   "cell_type": "code",
   "execution_count": 5,
   "id": "1a443205-da51-4704-a884-94a676b60fb6",
   "metadata": {},
   "outputs": [],
   "source": [
    "#%%R\n",
    "#\n",
    "#gg_color_hue <- function(n) {\n",
    "#  hues = seq(15, 375, length = n + 1)\n",
    "#  hcl(h = hues, l = 65, c = 100)[1:n]\n",
    "#}\n",
    "#\n",
    "#colors = gg_color_hue(6)\n",
    "#col_pop = c(\"ALL\" = \"black\",\n",
    "#            \"AFR\" = colors[1], \"OOA\" = colors[2], \"EHG\" = colors[3],\n",
    "#            \"ANA\" = colors[4], \"EUR\" = colors[5], \"YAM\" = colors[6])\n"
   ]
  },
  {
   "cell_type": "code",
   "execution_count": 6,
   "id": "1ae29eaf-c65f-489c-afc8-fe3fff847865",
   "metadata": {},
   "outputs": [
    {
     "name": "stdout",
     "output_type": "stream",
     "text": [
      "[1] \"/maps/projects/racimolab/people/qxz396/spaceNNtime/backup/environments/renv/library/R-4.1/x86_64-redhat-linux-gnu\"\n",
      "[2] \"/maps/projects/racimolab/people/qxz396/miniconda3/envs/sNNt_slendr/lib/R/library\"                                 \n"
     ]
    }
   ],
   "source": [
    "%%R\n",
    ".libPaths()"
   ]
  },
  {
   "cell_type": "markdown",
   "id": "510a27d6-fb0d-4983-ad0c-b650370a39ee",
   "metadata": {
    "tags": []
   },
   "source": [
    "\n",
    "[<img src=\"arrow.png\" width=\"100\" style=\"float: left;\">](#Home4) &nbsp;\n",
    "\n",
    "&nbsp;\n",
    "\n",
    "<a name=\"Fun\"></a>\n",
    "## 1. Functions\n",
    "\n",
    "<a name=\"Pfu\"></a>\n",
    "### A. Python Functions"
   ]
  },
  {
   "cell_type": "markdown",
   "id": "f1c8e880-2e30-4c31-9ab1-6529d9768199",
   "metadata": {},
   "source": [
    "<a name=\"Rfu\"></a>\n",
    "### B. R Functions"
   ]
  },
  {
   "cell_type": "code",
   "execution_count": 7,
   "id": "a1b4b6ea-2e1e-4dbd-af02-27a8adb52e0e",
   "metadata": {},
   "outputs": [],
   "source": [
    "%%R\n",
    "\n",
    "rad <- function(x){\n",
    "    (x * 180)/pi\n",
    "}\n",
    "\n",
    "haversine <- function(lat1, lon1, lat2, lon2){\n",
    "    R = 6371  # radius of Earth in km\n",
    "    \n",
    "    phi_1 = lat1 * pi/180\n",
    "    phi_2 = lat2 * pi/180\n",
    "    del_phi = (lat2-lat1)* pi/180\n",
    "    del_lam = (lon2-lon1)* pi/180\n",
    "    \n",
    "    a = (sin(del_phi/2)^2) + cos(phi_1) * cos(phi_2) * (sin(del_lam/2)^2)\n",
    "    \n",
    "    c = 2 * atan2(sqrt(a), sqrt(1-a))\n",
    "    \n",
    "    round(R * c, 3)\n",
    "}"
   ]
  },
  {
   "cell_type": "code",
   "execution_count": 8,
   "id": "0bf7ca29-1a5f-4c5c-9a0c-5d168ea0c5e5",
   "metadata": {},
   "outputs": [
    {
     "name": "stdout",
     "output_type": "stream",
     "text": [
      "  lat_true   lon_true lat_pred  lon_pred     diff\n",
      "1 41.50748 -99.436554 38.50405 -98.31595  347.328\n",
      "2 51.51036  -0.116773 38.88993 -77.00900 5897.658\n"
     ]
    }
   ],
   "source": [
    "%%R\n",
    "\n",
    "data.frame(lat_true = c(41.507483, 51.510357),\n",
    "           lon_true = c(-99.436554, -0.116773),\n",
    "           lat_pred = c(38.504048, 38.889931),\n",
    "           lon_pred = c(-98.315949, -77.009003)) %>%\n",
    "    mutate(diff = haversine(lat_true, lon_true, lat_pred, lon_pred))"
   ]
  },
  {
   "cell_type": "markdown",
   "id": "c9ca0cdb-4b33-4ec3-b839-6da667655930",
   "metadata": {},
   "source": [
    "\n",
    "[<img src=\"arrow.png\" width=\"100\" style=\"float: left;\">](#Home4) &nbsp;\n",
    "\n",
    "&nbsp;\n",
    "\n",
    "<a name=\"Exp\"></a>\n",
    "## 2. spaceNNtime results in the AADR dataset\n",
    "\n",
    "<a name=\"Prs\"></a>\n",
    "### A. Presentation of experiments ran\n",
    "\n",
    "In the table below, we can check each simulation experiment that has been run, its attributes and running conditions."
   ]
  },
  {
   "cell_type": "code",
   "execution_count": 13,
   "id": "bcd0947d-6b9e-4a40-8dc9-b1b259fe315a",
   "metadata": {},
   "outputs": [
    {
     "name": "stdout",
     "output_type": "stream",
     "text": [
      "   exp       nam met cro      sta       end          dmt  pre typ  los  nfe\n",
      "1    1      loss   1   1 10000000  20000000 Direct,Known sNNt  gt hdtd None\n",
      "2    2   general   1   1 10000000  20000000 Direct,Known sNNt  gt hdtd None\n",
      "3    3      loss   1   1 10000000  20000000 Direct,Known sNNt  gt hdtd None\n",
      "4    2    window   1   1        0  10000000 Direct,Known sNNt  gt hdtd None\n",
      "5    2    window   1   1 20000000  30000000 Direct,Known sNNt  gt hdtd None\n",
      "6    2    window   1   1 30000000  40000000 Direct,Known sNNt  gt hdtd None\n",
      "7    2    window   1   1 40000000  50000000 Direct,Known sNNt  gt hdtd None\n",
      "8    2    window   1   1 50000000  60000000 Direct,Known sNNt  gt hdtd None\n",
      "9    2    window   1   1 60000000  70000000 Direct,Known sNNt  gt hdtd None\n",
      "10   2    window   1   1 70000000  80000000 Direct,Known sNNt  gt hdtd None\n",
      "11   2    window   1   1 80000000  90000000 Direct,Known sNNt  gt hdtd None\n",
      "12   2    window   1   1 90000000 100000000 Direct,Known sNNt  gt hdtd None\n",
      "13   4 allwindow   1   1        0 100000000 Direct,Known sNNt  gt hdtd None\n",
      "    nla wti    wsp  wsa nod  mem    que        tim      tto\n",
      "1  None   1   1000 None  64   8g normal   08:00:00 12:59:36\n",
      "2  None   1  10000 None  64   8g normal   08:00:00 13:25:02\n",
      "3  None   1 100000 None  64   8g normal   08:00:00 13:25:02\n",
      "4  None   1  10000 None  64   8g normal   08:00:00 13:25:02\n",
      "5  None   1  10000 None  64   8g normal   08:00:00 13:25:02\n",
      "6  None   1  10000 None  64   8g normal   08:00:00 13:25:02\n",
      "7  None   1  10000 None  64   8g normal   08:00:00 13:25:02\n",
      "8  None   1  10000 None  64   8g normal   08:00:00 13:25:02\n",
      "9  None   1  10000 None  64   8g normal   08:00:00 13:25:02\n",
      "10 None   1  10000 None  64   8g normal   08:00:00 13:25:02\n",
      "11 None   1  10000 None  64   8g normal   08:00:00 13:25:02\n",
      "12 None   1  10000 None  64   8g normal   08:00:00 13:25:02\n",
      "13 None   1  10000 None  64 100g normal 1-00:00:00 13:25:02\n"
     ]
    }
   ],
   "source": [
    "%%R\n",
    "\n",
    "read.csv(\"../../files/experiments_AADR.csv\", sep = \";\")"
   ]
  },
  {
   "cell_type": "markdown",
   "id": "36d7ad57-e7dd-4d3c-9556-11295488b147",
   "metadata": {},
   "source": [
    "\n",
    "[<img src=\"arrow.png\" width=\"100\" style=\"float: left;\">](#Home4) &nbsp;\n",
    "\n",
    "&nbsp;\n",
    "\n",
    "<a name=\"Ana\"></a>\n",
    "### E. Analise results\n",
    "\n",
    "For each experiment, there is a `pred.txt` file which contains all necessary information to visualize results:"
   ]
  },
  {
   "cell_type": "code",
   "execution_count": 10,
   "id": "8a062b68-c938-4155-b620-b8ca2198ba11",
   "metadata": {},
   "outputs": [
    {
     "name": "stdout",
     "output_type": "stream",
     "text": [
      "   sim exp     nam typ gro        ind  idx  snp     run true_lat  true_lon\n",
      "1 AADR   2 general  gt   0     KNE003  554 4463 4.43607 50.11928  14.26706\n",
      "2 AADR   2 general  gt   0     I15978  834 4463 4.43607 18.45100 -69.68600\n",
      "3 AADR   2 general  gt   0     I10266 1872 4463 4.43607 32.58472  35.01694\n",
      "4 AADR   2 general  gt   1     I13710 1011 4463 4.43288 51.36030   1.34050\n",
      "5 AADR   2 general  gt   1     I20071 2468 4463 4.43288 46.96322  28.70845\n",
      "6 AADR   2 general  gt   1 TU905_SX18 3757 4463 4.43288 47.45000   9.29200\n",
      "  pred_lat  pred_lon diff_space true_tim pred_tim   diff_time\n",
      "1 52.10081 19.552681   429.6173     3971 4467.937  -496.93701\n",
      "2 48.64272  6.535088  7476.9210      959 3600.830 -2641.83032\n",
      "3 42.71340 53.147240  1946.7434     3462 3555.032   -93.03223\n",
      "4 35.51691 -1.828742  1779.7538     3252 2983.171   268.82935\n",
      "5 38.73061 17.253090  1305.1613     2749 3662.817  -913.81665\n",
      "6 45.06565 15.578653   551.0294     2032 3886.356 -1854.35596\n"
     ]
    }
   ],
   "source": [
    "%%R\n",
    "\n",
    "read.table(\"../../sandbox/AADR/2/pred_1_10000000_20000000.txt\", header = T) %>%\n",
    "    head()"
   ]
  },
  {
   "cell_type": "code",
   "execution_count": 11,
   "id": "4556d2a6-b4af-45dc-b120-fa1c5b9d0310",
   "metadata": {},
   "outputs": [
    {
     "name": "stdout",
     "output_type": "stream",
     "text": [
      "                   ind datmea datstd  countr        source   covera snps12\n",
      "1 s19_0LS03_1_noUDG.SG    740     17 Estonia       Shotgun 0.059112  57560\n",
      "2 s19_0LS09_1_noUDG.SG   2389     52 Estonia       Shotgun 0.009124   8405\n",
      "3 s19_0LS10_1_noUDG.SG   2609     82 Estonia       Shotgun 0.265721 233933\n",
      "4 s19_0LS11_1_noUDG.SG   2918     47 Estonia       Shotgun 0.180211 164551\n",
      "5            11KBM1.SG   3693     57   China       Shotgun       .. 106797\n",
      "6    18R21262_noUDG.EC   5050    173   China Exome.capture 0.090919  25884\n",
      "  assess warnin  datme2\n",
      "1   PASS     .. Context\n",
      "2   PASS     ..  Direct\n",
      "3   PASS     ..  Direct\n",
      "4   PASS     ..  Direct\n",
      "5   PASS     ..  Direct\n",
      "6   PASS     .. Context\n"
     ]
    }
   ],
   "source": [
    "%%R\n",
    "\n",
    "read.csv(\"../../files/AADR_filtered_metadata.txt\", header = T, sep = \"\\t\") %>%\n",
    "    select(ind = indivi, datmea, datstd, countr, source, covera, snps12, assess, warnin,  datme2) %>%\n",
    "    head()"
   ]
  },
  {
   "cell_type": "code",
   "execution_count": 16,
   "id": "6ecccbcb-76e7-43f1-bf5c-851b8bcfebc0",
   "metadata": {},
   "outputs": [
    {
     "name": "stdout",
     "output_type": "stream",
     "text": [
      "   sim exp       nam typ gro        ind  idx   snp     run truepred stat\n",
      "1 AADR   4 allwindow  gt   0     KNE003  554 40846 11.4525     true  lat\n",
      "2 AADR   4 allwindow  gt   0     I15978  834 40846 11.4525     true  lat\n",
      "3 AADR   4 allwindow  gt   0     I10266 1872 40846 11.4525     true  lat\n",
      "4 AADR   4 allwindow  gt   1     I13710 1011 40846 11.4544     true  lat\n",
      "5 AADR   4 allwindow  gt   1     I20071 2468 40846 11.4544     true  lat\n",
      "6 AADR   4 allwindow  gt   1 TU905_SX18 3757 40846 11.4544     true  lat\n",
      "     value datmea datstd              countr source   covera snps12 assess\n",
      "1 50.11928   3971     51     Czech__Republic  1240K 1.900021 779195   PASS\n",
      "2 18.45100    959     32 Dominican__Republic  1240K 2.504798 721357   PASS\n",
      "3 32.58472   3462     62              Israel  1240K 0.215713 203141   PASS\n",
      "4 51.36030   3252     59     United__Kingdom  1240K 0.239629 230342   PASS\n",
      "5 46.96322   2749      8             Moldova  1240K    0.414 327847   PASS\n",
      "6 47.45000   2032     53         Switzerland  1240K 1.547746 602945   PASS\n",
      "                 warnin datme2\n",
      "1                    .. Direct\n",
      "2 Xcontam=[0.005,0.012] Direct\n",
      "3                    .. Direct\n",
      "4                    .. Direct\n",
      "5                    .. Direct\n",
      "6                    .. Direct\n"
     ]
    }
   ],
   "source": [
    "%%R -w 1000 -h 1250\n",
    "\n",
    "read.table(\"../../sandbox/AADR/4/pred_1_0_100000000.txt\", header = T) %>%\n",
    "    select(-c(diff_time, diff_space)) %>%\n",
    "    gather(\"stat\", \"value\", c(true_lat, true_lon, pred_lat, pred_lon, true_tim,  pred_tim)) %>% \n",
    "    separate(stat, c(\"truepred\", \"stat\"), sep = \"_\") %>%\n",
    "    left_join(read.csv(\"../../files/AADR_filtered_metadata.txt\", header = T, sep = \"\\t\") %>%\n",
    "                select(ind = indivi, datmea, datstd, countr, source, covera, snps12, assess, warnin,  datme2), by = c(\"ind\")) %>% \n",
    "    mutate(truepred = factor(truepred, levels = c(\"true\", \"pred\"))) -> df\n",
    "    \n",
    "df %>%\n",
    "    head()"
   ]
  },
  {
   "cell_type": "code",
   "execution_count": 17,
   "id": "b7cbe511-5e0d-4983-af42-16c487fbd839",
   "metadata": {},
   "outputs": [
    {
     "data": {
      "image/png": "[encoded data removed]"
     },
     "metadata": {},
     "output_type": "display_data"
    }
   ],
   "source": [
    "%%R -w 1000 -h 750\n",
    "\n",
    "plot_grid(\n",
    "    df %>%        \n",
    "        ggplot() +\n",
    "        #geom_histogram(aes(x = value, fill = pop), bins = 30) + \n",
    "        geom_histogram(aes(x = value), bins = 30) + \n",
    "        #geom_vline(data = . %>% group_by(pop, stat, truepred) %>% summarize(mean = mean(value)), aes(xintercept = mean, color = pop)) +\n",
    "        #geom_vline(data = . %>% group_by(stat, truepred) %>% summarize(mean = mean(value)), aes(xintercept = mean)) +\n",
    "        #scale_color_manual(values=col_pop) +\n",
    "        #scale_fill_manual(values=col_pop) +\n",
    "        facet_wrap(truepred~stat, scales = \"free\") +\n",
    "        theme_light(),\n",
    "    df %>%\n",
    "        spread(truepred, value) %>%\n",
    "        mutate(diff = true - pred) %>%\n",
    "        ggplot() +\n",
    "        geom_histogram(aes(x = diff), bins = 30) + \n",
    "        #geom_histogram(aes(x = diff, fill = pop), bins = 30) + \n",
    "        #geom_vline(data = . %>% group_by(pop, stat) %>% summarize(mean = mean(diff)), aes(xintercept = mean, color = pop)) +\n",
    "        #scale_color_manual(values=col_pop) +\n",
    "        #scale_fill_manual(values=col_pop) +\n",
    "        facet_wrap(.~stat, scales = \"free\") +\n",
    "        theme_light() +\n",
    "        ggtitle(\"Difference = real - prediciton\"),\n",
    "    df %>%\n",
    "        spread(truepred, value) %>%\n",
    "        ggplot() +\n",
    "        #geom_hline(data = . %>% group_by(stat) %>% summarize(mean = mean(true)), aes(yintercept = mean), linetype = \"dashed\") +\n",
    "        #geom_point(aes(x = true, y = pred, color = pop)) +\n",
    "        geom_point(aes(x = true, y = pred)) +\n",
    "        geom_abline(slope = 1, intercept = 0, linetype = \"dashed\") +\n",
    "        geom_smooth(method = \"lm\", formula = 'y ~ x', aes(x = true, y = pred)) +\n",
    "        #geom_errorbar(data = . %>% group_by(pop, stat) %>% summarize(mean_pred = mean(pred), \n",
    "        #                                                             mean_true = mean(true),\n",
    "        #                                                             se_pred   = 1.96*(sd(pred)/sqrt(n())),\n",
    "        #                                                             se_true   = 1.96*(sd(true)/sqrt(n()))), \n",
    "        #              aes(x = mean_true, ymin = mean_pred-se_pred, ymax = mean_pred+se_pred)) +\n",
    "        #geom_errorbar(data = . %>% group_by(pop, stat) %>% summarize(mean_pred = mean(pred), \n",
    "        #                                                             mean_true = mean(true),\n",
    "        #                                                             se_pred   = 1.96*(sd(pred)/sqrt(n())),\n",
    "        #                                                             se_true   = 1.96*(sd(true)/sqrt(n()))), \n",
    "        #              aes(y = mean_pred, xmin = mean_true-se_true, xmax = mean_true+se_true)) +\n",
    "        #geom_point(data = . %>% group_by(pop, stat) %>% summarize(mean_pred = mean(pred), \n",
    "        #                                                          mean_true = mean(true)), \n",
    "        #           aes(x = mean_true, y = mean_pred, fill = pop), shape = 22, size = 5) +\n",
    "        #scale_color_manual(values=col_pop) +\n",
    "        #scale_fill_manual(values=col_pop) +\n",
    "        facet_wrap(.~stat, scales = \"free\") +\n",
    "        theme_light() +\n",
    "        ggtitle(\"Correlation true vs predicted values\"),\n",
    "    \n",
    "    ncol = 1, labels = \"auto\", rel_heights = c(2, 1, 1)\n",
    ") -> plot\n",
    "\n",
    "plot\n",
    "\n",
    "#ggsave(\"true_pred.pdf\", width = 20*2, height = 15*1.5, units = \"cm\")\n",
    "\n",
    "plot"
   ]
  },
  {
   "cell_type": "code",
   "execution_count": 54,
   "id": "49df4435-dadc-4030-a6b4-db4434c9d4e7",
   "metadata": {},
   "outputs": [
    {
     "name": "stdout",
     "output_type": "stream",
     "text": [
      "  mean_pred mean_true mean_diff sqrtdiff\n",
      "1  486.9991  1367.575  880.5763 1108.402\n"
     ]
    }
   ],
   "source": [
    "%%R\n",
    "\n",
    "df %>% \n",
    "    #group_by(pop, stat) %>%\n",
    "    spread(truepred, value) %>%\n",
    "    summarize(mean_pred = mean(pred), mean_true = mean(true), mean_diff = mean(true-pred), sqrtdiff = mean(sqrt((true-pred)^2))) %>%\n",
    "    as.data.frame() %>%\n",
    "    print()"
   ]
  },
  {
   "cell_type": "code",
   "execution_count": 55,
   "id": "5ea6c91a-3bab-4124-82eb-03446ebcf86b",
   "metadata": {},
   "outputs": [
    {
     "name": "stdout",
     "output_type": "stream",
     "text": [
      "   sim exp     nam typ gro        ind  idx  snp     run cro      sta      end\n",
      "1 AADR   2 general  gt   0     KNE003  554 4463 4.43607   1 10000000 20000000\n",
      "2 AADR   2 general  gt   0     I15978  834 4463 4.43607   1 10000000 20000000\n",
      "3 AADR   2 general  gt   0     I10266 1872 4463 4.43607   1 10000000 20000000\n",
      "4 AADR   2 general  gt   1     I13710 1011 4463 4.43288   1 10000000 20000000\n",
      "5 AADR   2 general  gt   1     I20071 2468 4463 4.43288   1 10000000 20000000\n",
      "6 AADR   2 general  gt   1 TU905_SX18 3757 4463 4.43288   1 10000000 20000000\n",
      "            extendedexp stat       value datmea datstd              countr\n",
      "1 2_1_10000000_20000000 time  -496.93701   3971     51     Czech__Republic\n",
      "2 2_1_10000000_20000000 time -2641.83032    959     32 Dominican__Republic\n",
      "3 2_1_10000000_20000000 time   -93.03223   3462     62              Israel\n",
      "4 2_1_10000000_20000000 time   268.82935   3252     59     United__Kingdom\n",
      "5 2_1_10000000_20000000 time  -913.81665   2749      8             Moldova\n",
      "6 2_1_10000000_20000000 time -1854.35596   2032     53         Switzerland\n",
      "  source   covera snps12 assess                warnin datme2\n",
      "1  1240K 1.900021 779195   PASS                    .. Direct\n",
      "2  1240K 2.504798 721357   PASS Xcontam=[0.005,0.012] Direct\n",
      "3  1240K 0.215713 203141   PASS                    .. Direct\n",
      "4  1240K 0.239629 230342   PASS                    .. Direct\n",
      "5  1240K    0.414 327847   PASS                    .. Direct\n",
      "6  1240K 1.547746 602945   PASS                    .. Direct\n"
     ]
    }
   ],
   "source": [
    "%%R\n",
    "\n",
    "get_diff_data <- function(exp, cro, sta, end){\n",
    "    if(exp == 10000){\n",
    "        read.table(paste(\"../../sandbox/AADR/\", exp, \"/pred_\", cro, \"_\", sta, \"_\", end, \".txt\", sep = \"\"), header = T) %>%\n",
    "            mutate(cro = cro, sta = sta, end = end) %>%\n",
    "            select(-c(true_lat, true_lon, pred_lat, pred_lon)) %>%\n",
    "            rename(space = diff_space) %>%\n",
    "            gather(\"stat\", \"value\", c(space)) %>% \n",
    "            left_join(read.csv(\"../../files/AADR_filtered_metadata.txt\", header = T, sep = \"\\t\") %>%\n",
    "                select(ind = indivi, datmea, datstd, countr, source, covera, snps12, assess, warnin,  datme2), by = c(\"ind\"))\n",
    "    }else if(exp == 20000){\n",
    "        read.table(paste(\"../../sandbox/AADR/\", exp, \"/pred_\", cro, \"_\", sta, \"_\", end, \".txt\", sep = \"\"), header = T) %>%\n",
    "            mutate(cro = cro, sta = sta, end = end) %>%\n",
    "            select(-c(true_tim,  pred_tim)) %>%\n",
    "            rename(time = diff_time) %>%\n",
    "            left_join(read.csv(\"../../files/AADR_filtered_metadata.txt\", header = T, sep = \"\\t\") %>%\n",
    "                select(ind = indivi, datmea, datstd, countr, source, covera, snps12, assess, warnin,  datme2), by = c(\"ind\"))\n",
    "    }else{\n",
    "        read.table(paste(\"../../sandbox/AADR/\", exp, \"/pred_\", cro, \"_\", sta, \"_\", end, \".txt\", sep = \"\"), header = T) %>%\n",
    "        \n",
    "            mutate(cro = cro, sta = sta, end = end,\n",
    "                   extendedexp = paste(exp, cro, sta, end, sep = \"_\")) %>%\n",
    "            select(-c(true_lat, true_lon, pred_lat, pred_lon, true_tim,  pred_tim)) %>%\n",
    "            rename(time = diff_time, space = diff_space) %>%\n",
    "            gather(\"stat\", \"value\", c(time, space)) %>% \n",
    "            left_join(read.csv(\"../../files/AADR_filtered_metadata.txt\", header = T, sep = \"\\t\") %>%\n",
    "                select(ind = indivi, datmea, datstd, countr, source, covera, snps12, assess, warnin,  datme2), by = c(\"ind\"))\n",
    "    }\n",
    "}\n",
    "\n",
    "    \n",
    "\n",
    "get_diff_data(2, 1, \"10000000\", \"20000000\") %>%\n",
    "    head()"
   ]
  },
  {
   "cell_type": "code",
   "execution_count": 56,
   "id": "6e1a1562-b647-4719-be68-648d0257eee0",
   "metadata": {},
   "outputs": [
    {
     "data": {
      "image/png": "[encoded data removed]"
     },
     "metadata": {},
     "output_type": "display_data"
    }
   ],
   "source": [
    "%%R -w 1500 -h 1000\n",
    "\n",
    "exp = \"2\"\n",
    "cro = \"1\"\n",
    "sta = \"10000000\"\n",
    "end = \"20000000\"\n",
    "\n",
    "plot_grid(\n",
    "    get_diff_data(exp, cro, sta, end) %>%\n",
    "        ggplot() +\n",
    "        geom_histogram(aes(x = value), bins = 30) +\n",
    "        geom_vline(data = . %>% group_by(stat) %>% summarize(mean = mean(value)), aes(xintercept = mean)) +\n",
    "        geom_text(data = . %>% group_by(stat) %>% summarize(mean = mean(value)), aes(x = mean, y = 50, label = round(mean, 2))) +\n",
    "        #geom_vline(data = . %>% group_by(pop, stat) %>% summarize(mean = mean(value)), aes(xintercept = mean, color = pop)) +\n",
    "        #scale_color_manual(values=col_pop) +\n",
    "        #scale_fill_manual(values=col_pop) +    \n",
    "        facet_wrap(.~stat, scales = \"free\") +\n",
    "        theme_light(),\n",
    "    \n",
    "    get_diff_data(exp, cro, sta, end) %>%\n",
    "        mutate(value = sqrt(value^2)) %>%\n",
    "        ggplot() +\n",
    "        geom_histogram(aes(x = value), bins = 30) +\n",
    "        geom_vline(data = . %>% group_by(stat) %>% summarize(mean = mean(value)), aes(xintercept = mean)) +\n",
    "        #geom_vline(data = . %>% group_by(pop, stat) %>% summarize(mean = mean(value)), aes(xintercept = mean, color = pop)) +\n",
    "        geom_text(data = . %>% group_by(stat) %>% summarize(mean = mean(value)), aes(x = mean+(mean*0.5), y = 50, label = round(mean, 2))) +\n",
    "        ylab(\"count\") +\n",
    "        #scale_color_manual(values=col_pop) +\n",
    "        #scale_fill_manual(values=col_pop) +\n",
    "        facet_wrap(.~stat, scales = \"free\") +\n",
    "        theme_light(),\n",
    "    \n",
    "    nrow = 2) -> plot\n",
    "\n",
    "plot\n",
    "\n",
    "#ggsave(\"diff.pdf\", width = 20*1.5, height = 15*1.5, units = \"cm\")\n",
    "\n",
    "#plot"
   ]
  },
  {
   "cell_type": "code",
   "execution_count": 57,
   "id": "862ca54d-c9f1-4665-a22d-87a67e3ea4f1",
   "metadata": {},
   "outputs": [
    {
     "name": "stdout",
     "output_type": "stream",
     "text": [
      "[1] 1\n",
      "[1] 2\n",
      "[1] 3\n",
      "[1] 4\n",
      "[1] 5\n",
      "[1] 6\n",
      "[1] 7\n",
      "[1] 8\n",
      "[1] 9\n",
      "[1] 10\n",
      "[1] 11\n",
      "[1] 12\n",
      "[1] 13\n",
      "# A tibble: 6 × 10\n",
      "# Groups:   exp, cro, sta, end, extendedexp, nam, typ [3]\n",
      "  exp     cro      sta      end extendedexp        nam   typ   stat   mean    se\n",
      "  <fct> <int>    <int>    <int> <chr>              <chr> <chr> <chr> <dbl> <dbl>\n",
      "1 1         1 10000000 20000000 1_1_10000000_2000… loss  gt    space 3250.  88.3\n",
      "2 1         1 10000000 20000000 1_1_10000000_2000… loss  gt    time  2100.  97.1\n",
      "3 2         1 10000000 20000000 2_1_10000000_2000… gene… gt    space 3068. 100. \n",
      "4 2         1 10000000 20000000 2_1_10000000_2000… gene… gt    time  3279. 121. \n",
      "5 3         1 10000000 20000000 3_1_10000000_2000… loss  gt    space 3015.  88.4\n",
      "6 3         1 10000000 20000000 3_1_10000000_2000… loss  gt    time  3936. 111. \n"
     ]
    }
   ],
   "source": [
    "%%R\n",
    "\n",
    "error_spaceNNtime_all_scenarios <- function(){\n",
    "    read.csv(\"../../files/experiments_AADR.csv\", sep = \";\") -> experiments\n",
    "    \n",
    "    all_scenarios = data.frame()\n",
    "    \n",
    "    for(i in 1:(experiments %>% nrow())){\n",
    "    #for(i in c(4, 34, 35, 36, 37, 38, 39, 40)){\n",
    "        print(i)\n",
    "        #sim = experiments %>% pull(sim) %>% .[i]\n",
    "        exp = experiments %>% pull(exp) %>% .[i]\n",
    "        cro = experiments %>% pull(cro) %>% .[i]\n",
    "        sta = experiments %>% pull(sta) %>% .[i]\n",
    "        end = experiments %>% pull(end) %>% .[i]\n",
    "        pre = experiments %>% pull(pre) %>% .[i]\n",
    "        all_scenarios = rbind(all_scenarios, \n",
    "                              get_diff_data(exp, cro, sta, end) %>%\n",
    "                                  mutate(value = abs(value)) %>%\n",
    "                                  group_by(exp, cro, sta, end, extendedexp, nam, typ, stat) %>%\n",
    "                                  summarize(mean = mean(value),\n",
    "                                            se   = sd(value)/sqrt(n())) %>%\n",
    "                                  mutate(exp = factor(exp))\n",
    "                             )\n",
    "            \n",
    "    }\n",
    "    all_scenarios\n",
    "}\n",
    "\n",
    "all_scenarios <- error_spaceNNtime_all_scenarios()\n",
    "head(all_scenarios)"
   ]
  },
  {
   "cell_type": "code",
   "execution_count": 98,
   "id": "c9672176-f141-41f6-9889-e2d347d6dbf9",
   "metadata": {},
   "outputs": [
    {
     "name": "stdout",
     "output_type": "stream",
     "text": [
      "# A tibble: 2 × 10\n",
      "# Groups:   exp, cro, sta, end, extendedexp, nam, typ [1]\n",
      "    exp   cro   sta       end extendedexp     nam   typ   stat   mean    se\n",
      "  <int> <int> <int>     <int> <chr>           <chr> <chr> <chr> <dbl> <dbl>\n",
      "1     2     1     0 100000000 2_1_0_100000000 mean  gt    space 2871.  93.3\n",
      "2     2     1     0 100000000 2_1_0_100000000 mean  gt    time  3071. 116. \n"
     ]
    }
   ],
   "source": [
    "%%R\n",
    "\n",
    "get_all_data <- function(exp, cro, sta, end){\n",
    "    read.table(paste(\"../../sandbox/AADR/\", exp, \"/pred_\", cro, \"_\", sta, \"_\", end, \".txt\", sep = \"\"), header = T) %>%\n",
    "        mutate(cro = cro, \n",
    "               sta = sta, \n",
    "               end = end,\n",
    "               extendedexp = paste(exp, cro, sta, end, sep = \"_\")) %>%\n",
    "        left_join(read.csv(\"../../files/AADR_filtered_metadata.txt\", header = T, sep = \"\\t\") %>%\n",
    "            select(ind = indivi, datmea, datstd, countr, source, covera, snps12, assess, warnin,  datme2), by = c(\"ind\"))\n",
    "}\n",
    "\n",
    "\n",
    "error_spaceNNtime_mean_windows <- function(){\n",
    "    read.csv(\"../../files/experiments_AADR.csv\", sep = \";\") %>% \n",
    "        filter(exp == 2, !(sta == 0 && end == 100000000)) -> experiments\n",
    "\n",
    "    \n",
    "    all_scenarios = data.frame()\n",
    "    \n",
    "    for(i in 1:(experiments %>% nrow())){\n",
    "        exp = experiments %>% pull(exp) %>% .[i]\n",
    "        cro = experiments %>% pull(cro) %>% .[i]\n",
    "        sta = experiments %>% pull(sta) %>% .[i]\n",
    "        end = experiments %>% pull(end) %>% .[i]\n",
    "        pre = experiments %>% pull(pre) %>% .[i]\n",
    "        \n",
    "        all_scenarios = rbind(all_scenarios, \n",
    "                              get_all_data(exp, cro, sta, end)\n",
    "                             )\n",
    "            \n",
    "    }\n",
    "    all_scenarios %>%\n",
    "        group_by(sim, exp, ind, cro) %>%\n",
    "        summarize(sta = min(sta),\n",
    "                  end = max(end),\n",
    "                  true_lat = mean(true_lat),\n",
    "                  true_lon = mean(true_lon),\n",
    "                  pred_lat = mean(pred_lat),\n",
    "                  pred_lon = mean(pred_lon),\n",
    "                  true_tim = mean(true_tim),\n",
    "                  pred_tim = mean(pred_tim))\n",
    "        \n",
    "        \n",
    "}\n",
    "\n",
    "error_spaceNNtime_mean_windows() %>%\n",
    "    mutate(space = haversine(true_lat, true_lon, pred_lat, pred_lon),\n",
    "           time  = sqrt((pred_tim-true_tim)^2),\n",
    "           extendedexp = paste(exp, cro, sta, end, sep = \"_\"),\n",
    "           nam = \"mean\",\n",
    "           typ = \"gt\") %>%\n",
    "    as.data.frame() %>%\n",
    "    select(-c(sim, true_lat, true_lon, pred_lat, pred_lon, true_tim, pred_tim)) %>%\n",
    "    gather(\"stat\", \"diff\", space, time) %>%\n",
    "    group_by(exp, cro, sta, end, extendedexp, nam, typ, stat) %>%\n",
    "    summarize(mean = mean(diff), se = sd(diff)/sqrt(n())) %>%\n",
    "    filter(sta == 0) -> mean_scenarios\n",
    "\n",
    "head(mean_scenarios)"
   ]
  },
  {
   "cell_type": "code",
   "execution_count": 99,
   "id": "8042006a-e317-42ac-94c7-7651ecd00b10",
   "metadata": {},
   "outputs": [
    {
     "name": "stdout",
     "output_type": "stream",
     "text": [
      "# A tibble: 6 × 10\n",
      "# Groups:   exp, cro, sta, end, extendedexp, nam, typ [3]\n",
      "  exp     cro      sta      end extendedexp        nam   typ   stat   mean    se\n",
      "  <fct> <int>    <int>    <int> <chr>              <chr> <chr> <chr> <dbl> <dbl>\n",
      "1 1         1 10000000 20000000 1_1_10000000_2000… loss  gt    space 3250.  88.3\n",
      "2 1         1 10000000 20000000 1_1_10000000_2000… loss  gt    time  2100.  97.1\n",
      "3 2         1 10000000 20000000 2_1_10000000_2000… gene… gt    space 3068. 100. \n",
      "4 2         1 10000000 20000000 2_1_10000000_2000… gene… gt    time  3279. 121. \n",
      "5 3         1 10000000 20000000 3_1_10000000_2000… loss  gt    space 3015.  88.4\n",
      "6 3         1 10000000 20000000 3_1_10000000_2000… loss  gt    time  3936. 111. \n"
     ]
    }
   ],
   "source": [
    "%%R\n",
    "\n",
    "all_scenarios %>%\n",
    "    head()"
   ]
  },
  {
   "cell_type": "code",
   "execution_count": 100,
   "id": "01fbd2f5-6f8d-4745-b380-ebcd17a92941",
   "metadata": {},
   "outputs": [
    {
     "name": "stdout",
     "output_type": "stream",
     "text": [
      "# A tibble: 2 × 10\n",
      "# Groups:   exp, cro, sta, end, extendedexp, nam, typ [1]\n",
      "    exp   cro   sta       end extendedexp     nam   typ   stat   mean    se\n",
      "  <int> <int> <int>     <int> <chr>           <chr> <chr> <chr> <dbl> <dbl>\n",
      "1     2     1     0 100000000 2_1_0_100000000 mean  gt    space 2871.  93.3\n",
      "2     2     1     0 100000000 2_1_0_100000000 mean  gt    time  3071. 116. \n"
     ]
    }
   ],
   "source": [
    "%%R\n",
    "\n",
    "mean_scenarios %>%\n",
    "    head()"
   ]
  },
  {
   "cell_type": "code",
   "execution_count": 101,
   "id": "a0717f24-afa1-41d5-82fe-a878b0bc17af",
   "metadata": {},
   "outputs": [
    {
     "name": "stdout",
     "output_type": "stream",
     "text": [
      "# A tibble: 6 × 10\n",
      "  exp     cro      sta      end extendedexp        nam   typ   stat   mean    se\n",
      "  <fct> <int>    <int>    <int> <chr>              <chr> <chr> <chr> <dbl> <dbl>\n",
      "1 1         1 10000000 20000000 1_1_10000000_2000… loss  gt    space 3250.  88.3\n",
      "2 1         1 10000000 20000000 1_1_10000000_2000… loss  gt    time  2100.  97.1\n",
      "3 2         1 10000000 20000000 2_1_10000000_2000… gene… gt    space 3068. 100. \n",
      "4 2         1 10000000 20000000 2_1_10000000_2000… gene… gt    time  3279. 121. \n",
      "5 3         1 10000000 20000000 3_1_10000000_2000… loss  gt    space 3015.  88.4\n",
      "6 3         1 10000000 20000000 3_1_10000000_2000… loss  gt    time  3936. 111. \n"
     ]
    }
   ],
   "source": [
    "%%R\n",
    "\n",
    "rbind(all_scenarios %>% ungroup(), mean_scenarios %>% ungroup()) %>% head()"
   ]
  },
  {
   "cell_type": "code",
   "execution_count": 93,
   "id": "ead6da30-2ba7-481a-9c26-f226a3a72f47",
   "metadata": {},
   "outputs": [],
   "source": [
    "%%R\n",
    "\n",
    "plot_errors <- function(all_scenarios_all, exp_to_plot, labels, limits, title, xlab, ylab, ylimspace = c(\"None\", \"None\"), ylimtime = c(\"None\", \"None\"), nolegend = TRUE){\n",
    "    \n",
    "    all_scenarios_all %>% \n",
    "        filter(extendedexp %in% exp_to_plot,\n",
    "               stat == \"space\") %>%\n",
    "        ggplot() +\n",
    "        geom_errorbar(aes(x = extendedexp, ymin = mean-se, ymax = mean+se), alpha = 0.5, width = 0.2) +\n",
    "        geom_line(aes(x = extendedexp, y = mean, group = 1), alpha = 0.5, linetype = \"dashed\") +\n",
    "        geom_point(aes(x = extendedexp, y = mean), size = 3) +\n",
    "        labs(x = xlab, y = ylab) +\n",
    "        scale_x_discrete(labels = labels, limits = limits) +\n",
    "        facet_wrap(stat~., nrow = 2, scales = \"free\") +\n",
    "        theme(axis.text.x = element_text(angle = 45, vjust = 1, hjust=1)) +\n",
    "        theme_light() -> plot1\n",
    "    \n",
    "    if(ylimspace[1] != \"None\"){\n",
    "        plot1 + coord_cartesian(ylim = ylimspace) -> plot1\n",
    "    }\n",
    "    if(nolegend){\n",
    "        plot1 + theme(legend.position = 'none', axis.text.x = element_text(angle = 45, vjust = 1, hjust=1)) -> plot1\n",
    "    }\n",
    "    \n",
    "    all_scenarios_all %>% \n",
    "        filter(extendedexp %in% exp_to_plot,\n",
    "               stat == \"time\") %>%\n",
    "        ggplot() +\n",
    "        geom_errorbar(aes(x = extendedexp, ymin = mean-se, ymax = mean+se), alpha = 0.5, width = 0.2) +\n",
    "        geom_line(aes(x = extendedexp, y = mean, group = 1), alpha = 0.5, linetype = \"dashed\") +\n",
    "        geom_point(aes(x = extendedexp, y = mean), size = 3) +\n",
    "        labs(x = xlab, y = ylab) +\n",
    "        scale_x_discrete(labels=labels, limits = limits) +\n",
    "        facet_wrap(stat~., nrow = 2, scales = \"free\") +\n",
    "        theme(axis.text.x = element_text(angle = 45, vjust = 1, hjust=1)) +\n",
    "        theme_light() -> plot2\n",
    "    \n",
    "    if(ylimtime[1] != \"None\"){\n",
    "        plot2 + coord_cartesian(ylim = ylimtime) -> plot2\n",
    "    }\n",
    "    if(nolegend){\n",
    "        plot2 + theme(legend.position = 'none', axis.text.x = element_text(angle = 45, vjust = 1, hjust=1)) -> plot2\n",
    "    }\n",
    "    \n",
    "    title <- ggdraw() + draw_label(title)\n",
    "    \n",
    "    plot_grid(title, plot1, plot2, ncol = 1, rel_heights=c(0.1, 1, 1))\n",
    "\n",
    "}"
   ]
  },
  {
   "cell_type": "code",
   "execution_count": 67,
   "id": "4f884eb0-43c3-4db3-a43a-c710d4e215a0",
   "metadata": {},
   "outputs": [
    {
     "name": "stdout",
     "output_type": "stream",
     "text": [
      "  exp cro      sta      end           extendedexp     nam typ  stat     mean\n",
      "1   1   1 10000000 20000000 1_1_10000000_20000000    loss  gt space 3250.499\n",
      "2   1   1 10000000 20000000 1_1_10000000_20000000    loss  gt  time 2100.013\n",
      "3   2   1 10000000 20000000 2_1_10000000_20000000 general  gt space 3067.775\n",
      "4   2   1 10000000 20000000 2_1_10000000_20000000 general  gt  time 3278.931\n",
      "5   3   1 10000000 20000000 3_1_10000000_20000000    loss  gt space 3014.508\n",
      "6   3   1 10000000 20000000 3_1_10000000_20000000    loss  gt  time 3935.551\n",
      "         se\n",
      "1  88.26386\n",
      "2  97.11285\n",
      "3 100.25184\n",
      "4 121.27727\n",
      "5  88.36175\n",
      "6 111.47139\n"
     ]
    }
   ],
   "source": [
    "%%R\n",
    "\n",
    "all_scenarios %>%\n",
    "    as.data.frame() %>%\n",
    "    head()"
   ]
  },
  {
   "cell_type": "code",
   "execution_count": 102,
   "id": "78bf515c-c634-45d6-9f73-923f93169401",
   "metadata": {},
   "outputs": [
    {
     "data": {
      "image/png": "[encoded data removed]"
     },
     "metadata": {},
     "output_type": "display_data"
    }
   ],
   "source": [
    "%%R\n",
    "\n",
    "plot_errors(all_scenarios_all = rbind(all_scenarios %>% ungroup(), mean_scenarios %>% ungroup()), \n",
    "            exp_to_plot       = c(\"2_1_0_10000000\",       \"2_1_10000000_20000000\",       \"2_1_20000000_30000000\",       \"2_1_30000000_40000000\",       \"2_1_40000000_50000000\",       \"2_1_50000000_60000000\",       \"2_1_60000000_70000000\",       \"2_1_70000000_80000000\",       \"2_1_80000000_90000000\",       \"2_1_90000000_100000000\",       \"4_1_0_100000000\",         \"2_1_0_100000000\"), \n",
    "            labels            = c(\"2_1_0_10000000\" = \"0\", \"2_1_10000000_20000000\" = \"1\", \"2_1_20000000_30000000\" = \"2\", \"2_1_30000000_40000000\" = \"3\", \"2_1_40000000_50000000\" = \"4\", \"2_1_50000000_60000000\" = \"5\", \"2_1_60000000_70000000\" = \"6\", \"2_1_70000000_80000000\" = \"7\", \"2_1_80000000_90000000\" = \"8\", \"2_1_90000000_100000000\" = \"9\", \"4_1_0_100000000\" = \"0-9\", \"2_1_0_100000000\" = \"mean0-9\"), \n",
    "            limits            = c(\"2_1_0_10000000\",       \"2_1_10000000_20000000\",       \"2_1_20000000_30000000\",       \"2_1_30000000_40000000\",       \"2_1_40000000_50000000\",       \"2_1_50000000_60000000\",       \"2_1_60000000_70000000\",       \"2_1_70000000_80000000\",       \"2_1_80000000_90000000\",       \"2_1_90000000_100000000\",       \"4_1_0_100000000\",         \"2_1_0_100000000\"),  \n",
    "            title             = \"10 Mb windows\", \n",
    "            xlab              = \"exp\", \n",
    "            ylab              = \"error\")\n"
   ]
  },
  {
   "cell_type": "code",
   "execution_count": 61,
   "id": "660f2d89-fcfe-43dc-bd5c-d33443c4167b",
   "metadata": {},
   "outputs": [
    {
     "name": "stdout",
     "output_type": "stream",
     "text": [
      "# A tibble: 6 × 10\n",
      "# Groups:   exp, cro, sta, end, extendedexp, nam, typ [3]\n",
      "  exp     cro      sta      end extendedexp        nam   typ   stat   mean    se\n",
      "  <fct> <int>    <int>    <int> <chr>              <chr> <chr> <chr> <dbl> <dbl>\n",
      "1 1         1 10000000 20000000 1_1_10000000_2000… loss  gt    space 3250.  88.3\n",
      "2 1         1 10000000 20000000 1_1_10000000_2000… loss  gt    time  2100.  97.1\n",
      "3 2         1 10000000 20000000 2_1_10000000_2000… gene… gt    space 3068. 100. \n",
      "4 2         1 10000000 20000000 2_1_10000000_2000… gene… gt    time  3279. 121. \n",
      "5 3         1 10000000 20000000 3_1_10000000_2000… loss  gt    space 3015.  88.4\n",
      "6 3         1 10000000 20000000 3_1_10000000_2000… loss  gt    time  3936. 111. \n"
     ]
    }
   ],
   "source": [
    "%%R\n",
    "\n",
    "all_scenarios %>%\n",
    "    head()"
   ]
  },
  {
   "cell_type": "code",
   "execution_count": 62,
   "id": "cbfa5131-b00a-4617-bedd-939c0dde94cb",
   "metadata": {},
   "outputs": [
    {
     "data": {
      "image/png": "[encoded data removed]"
     },
     "metadata": {},
     "output_type": "display_data"
    }
   ],
   "source": [
    "%%R\n",
    "\n",
    "plot_errors(all_scenarios_all = all_scenarios, \n",
    "            exp_to_plot       = c(\"1_1_10000000_20000000\",       \"2_1_10000000_20000000\",       \"3_1_10000000_20000000\"), \n",
    "            labels            = c(\"1_1_10000000_20000000\" = \"1\", \"2_1_10000000_20000000\" = \"2\", \"3_1_10000000_20000000\" = \"3\"), \n",
    "            limits            = c(\"1_1_10000000_20000000\",       \"2_1_10000000_20000000\",       \"3_1_10000000_20000000\"),  \n",
    "            title             = \"Loss function\", \n",
    "            xlab              = \"exp\", \n",
    "            ylab              = \"error\")"
   ]
  },
  {
   "cell_type": "code",
   "execution_count": 63,
   "id": "33bff723-8cd1-4751-aa2a-bf1a71a24bc1",
   "metadata": {},
   "outputs": [
    {
     "name": "stdout",
     "output_type": "stream",
     "text": [
      "NULL\n"
     ]
    }
   ],
   "source": [
    "%%R\n",
    "\n"
   ]
  },
  {
   "cell_type": "code",
   "execution_count": 64,
   "id": "2c4b02c5-0f21-4ec8-8131-e2c877d503e9",
   "metadata": {},
   "outputs": [
    {
     "name": "stderr",
     "output_type": "stream",
     "text": [
      "R[write to console]: Error in filter(., extendedexp %in% exp_to_plot, stat == \"space\") : \n",
      "  object 'all_scenarios_per_pop' not found\n",
      "\n"
     ]
    },
    {
     "name": "stdout",
     "output_type": "stream",
     "text": [
      "\n",
      "Error in filter(., extendedexp %in% exp_to_plot, stat == \"space\") : \n",
      "  object 'all_scenarios_per_pop' not found\n"
     ]
    },
    {
     "ename": "RInterpreterError",
     "evalue": "Failed to parse and evaluate line '\\nfilter_pop  = c()\\nexp_to_plot = c(1, 2, 3, 4, 5, 6, 8, 10)\\nlabels      = c(\"1\" = \"ws = 1\", \"2\" = \"ws = 1e1\", \"3\" = \"ws = 1e2\", \"4\" = \"ws = 1e3\", \"5\" = \"ws = 1e4\", \"6\" = \"ws = 1e5\", \\n                \"8\" = \"mse\", \"10\" = \"edl\")\\nlimits      = c(\"1\", \"2\", \"3\", \"4\", \"5\", \"6\", \"8\", \"10\")\\nplot_errors(all_scenarios_per_pop, all_scenarios_all, filter_pop, exp_to_plot, labels, limits, \"Loss function\", \"\", \"\") -> p1\\n    \\nfilter_pop  = c()\\nexp_to_plot = c(12, 13, 14, 5, 15, 16, 17)\\nlabels      = c(\"12\" = 15000, \"13\" = 10000, \"14\" = 5000, \"5\" = 1500, \"15\" =  1000, \"16\" =   500, \"17\" =  250)\\nlimits      = c(\"17\", \"16\", \"15\", \"5\", \"14\", \"13\", \"12\")\\nplot_errors(all_scenarios_per_pop, all_scenarios_all, filter_pop, exp_to_plot, labels, limits, \"Sample size\", \"\", \"\", c(225, 1250), c(0, 7000)) -> p2\\n\\nfilter_pop  = c()\\nexp_to_plot = c(5, 18)\\nlabels      = c(\"5\" = \"unif\", \"18\" = \"exp\")\\nlimits      = c(\"5\", \"18\")\\nplot_errors(all_scenarios_per_pop, all_scenarios_all, filter_pop, exp_to_plot, labels, limits, \"Sampl.\", \"\", \"\") -> p3\\n\\nfilter_pop  = c()\\nexp_to_plot = c(5, 19, 20, 21, 22)\\nlabels      = c(\"5\" = \"100%\", \"19\" = \"75%\", \"20\" = \"50%\", \"21\" = \"25%\", \"22\" = \"10%\")\\nlimits      = c(\"22\", \"21\", \"20\", \"19\", \"5\")\\nplot_errors(all_scenarios_per_pop, all_scenarios_all, filter_pop, exp_to_plot, labels, limits, \"SNP density\", \"\", \"\", c(225, 1250), c(0, 7000)) -> p4\\n\\nfilter_pop  = c()\\nexp_to_plot = c(5, 23, 24)\\nlabels      = c(\"5\" = \"sNNt\", \"23\" = \"space\", \"24\" = \"time\")\\nlimits      = c()\\nplot_errors(all_scenarios_per_pop, all_scenarios_all, filter_pop, exp_to_plot, labels, limits, \"Predict.\", \"\", \"\") -> p5\\n\\nfilter_pop  = c()\\nexp_to_plot = c(5, 25, 26, 27)\\nlabels      = c(\"5\" = \"64\", \"25\" = \"128\", \"26\" = \"256\", \"27\" = \"512\")\\nlimits      = c(\"5\", \"25\", \"26\", \"27\")\\nplot_errors(all_scenarios_per_pop, all_scenarios_all, filter_pop, exp_to_plot, labels, limits, \"Nº nodes\", \"\", \"\") -> p6\\n\\n#----------------------------------------------------------------------------\\n\\nfilter_pop  = c()\\nexp_to_plot = c(5, 28, 29, 30, 31)\\nlabels      = c(\"5\" = \"GT\", \"28\" = \"1x\", \"29\" = \"5x\", \"30\" = \"15x\", \"31\" = \"30x\", \"32\" = \"30x Norm1\")\\nlimits      = c(\"5\", \"28\", \"29\", \"30\", \"31\")\\nplot_errors(all_scenarios_per_pop, all_scenarios_all, filter_pop, exp_to_plot, labels, limits, \"Coverage (GL)\", \"\", \"\", c(300, 1400), c(900, 8750)) -> p7\\n\\nfilter_pop  = c()\\nexp_to_plot = c(5, 33, 34, 35, 36)\\nlabels      = c(\"5\" = \"GT\", \"33\" = \"1x\", \"34\" = \"5x\", \"35\" = \"15x\", \"36\" = \"30x\", \"37\" = \"30x Norm1\")\\nlimits      = c(\"5\", \"33\", \"34\", \"35\", \"36\")\\nplot_errors(all_scenarios_per_pop, all_scenarios_all, filter_pop, exp_to_plot, labels, limits, \"Coverage (GL mix)\", \"\", \"\") -> p8\\n\\nfilter_pop  = c()\\nexp_to_plot = c(5, 38, 39, 40, 41)\\nlabels      = c(\"5\" = \"GT\", \"38\" = \"1x\", \"39\" = \"5x\", \"40\" = \"15x\", \"41\" = \"30x\", \"42\" = \"30x Norm1\")\\nlimits      = c(\"5\", \"38\", \"39\", \"40\", \"41\")\\nplot_errors(all_scenarios_per_pop, all_scenarios_all, filter_pop, exp_to_plot, labels, limits, \"Coverage (GP)\", \"\", \"\", c(300, 1400), c(900, 8750)) -> p9\\n\\nfilter_pop  = c()\\nexp_to_plot = c(5, 43, 44, 45, 46)\\nlabels      = c(\"5\" = \"GT\", \"43\" = \"1x\", \"44\" = \"5x\", \"45\" = \"15x\", \"46\" = \"30x\", \"47\" = \"30x Norm1\")\\nlimits      = c(\"5\", \"43\", \"44\", \"45\", \"46\")\\nplot_errors(all_scenarios_per_pop, all_scenarios_all, filter_pop, exp_to_plot, labels, limits, \"Coverage (GP mix)\", \"\", \"\") -> p10\\n\\nfilter_pop  = c()\\nexp_to_plot = c(5, 48, 49, 50, 51)\\nlabels      = c(\"5\" = \"GT\", \"48\" = \"1x\", \"49\" = \"5x\", \"50\" = \"15x\", \"51\" = \"30x\", \"52\" = \"30x Norm1\")\\nlimits      = c(\"5\", \"48\", \"49\", \"50\", \"51\")\\nplot_errors(all_scenarios_per_pop, all_scenarios_all, filter_pop, exp_to_plot, labels, limits, \"Coverage (GP to GT)\", \"\", \"\", c(300, 1400), c(900, 8750)) -> p11\\n\\nfilter_pop  = c()\\nexp_to_plot = c(5, 48, 38, 52, 53, 54, 55, 56)\\nlabels      = c(\"5\" = \"GT\", \"48\" = \"1xGP>GT\", \"38\" = \"1sd\", \"52\" = \"1sdcov\", \"53\" = \"5sd\", \"54\" = \"5sdcov\", \"55\" = \"10sd\", \"56\" = \"10sdcov\")\\nlimits      = c(\"5\", \"48\", \"38\", \"52\", \"53\", \"54\", \"55\", \"56\")\\nplot_errors(all_scenarios_per_pop, all_scenarios_all, filter_pop, exp_to_plot, labels, limits, \"Coverage (GP 1xcov weight)\", \"\", \"\", c(300, 1400), c(900, 8750)) -> p12\\n\\nfilter_pop  = c()\\nexp_to_plot = c(5, 49, 39, 57, 58, 59, 60, 61)\\nlabels      = c(\"5\" = \"GT\", \"49\" = \"1xGP>GT\", \"39\" = \"1sd\", \"57\" = \"1sdcov\", \"58\" = \"5sd\", \"59\" = \"5sdcov\", \"60\" = \"10sd\", \"61\" = \"10sdcov\")\\nlimits      = c(\"5\", \"49\", \"39\", \"57\", \"58\", \"59\", \"60\", \"61\")\\nplot_errors(all_scenarios_per_pop, all_scenarios_all, filter_pop, exp_to_plot, labels, limits, \"Coverage (GP 5xcov weight)\", \"\", \"\") -> p13\\n\\n\\n\\nplot_grid(\\n    plot_grid(p1, p2, p4, p3, nrow = 1, rel_widths = c(8, 7, 5, 2)),\\n    plot_grid(p7, p9, p11, p12, p13, nrow = 1),\\n    ncol = 1\\n) -> plot\\n\\nplot\\n\\nggsave(\"error_with_pop.pdf\", width = 36, height = 26, units = \"cm\")\\n\\nplot \\n'.\nR error message: 'Error in filter(., extendedexp %in% exp_to_plot, stat == \"space\") : \\n  object \\'all_scenarios_per_pop\\' not found'",
     "output_type": "error",
     "traceback": [
      "\u001b[0;31m---------------------------------------------------------------------------\u001b[0m",
      "\u001b[0;31mRRuntimeError\u001b[0m                             Traceback (most recent call last)",
      "\u001b[0;32m~/miniconda3/envs/sNNt_slendr/lib/python3.9/site-packages/rpy2/ipython/rmagic.py\u001b[0m in \u001b[0;36meval\u001b[0;34m(self, code)\u001b[0m\n\u001b[1;32m    267\u001b[0m                 \u001b[0;31m# Need the newline in case the last line in code is a comment.\u001b[0m\u001b[0;34m\u001b[0m\u001b[0;34m\u001b[0m\u001b[0m\n\u001b[0;32m--> 268\u001b[0;31m                 \u001b[0mvalue\u001b[0m\u001b[0;34m,\u001b[0m \u001b[0mvisible\u001b[0m \u001b[0;34m=\u001b[0m \u001b[0mro\u001b[0m\u001b[0;34m.\u001b[0m\u001b[0mr\u001b[0m\u001b[0;34m(\u001b[0m\u001b[0;34m\"withVisible({%s\\n})\"\u001b[0m \u001b[0;34m%\u001b[0m \u001b[0mcode\u001b[0m\u001b[0;34m)\u001b[0m\u001b[0;34m\u001b[0m\u001b[0;34m\u001b[0m\u001b[0m\n\u001b[0m\u001b[1;32m    269\u001b[0m             \u001b[0;32mexcept\u001b[0m \u001b[0;34m(\u001b[0m\u001b[0mri\u001b[0m\u001b[0;34m.\u001b[0m\u001b[0membedded\u001b[0m\u001b[0;34m.\u001b[0m\u001b[0mRRuntimeError\u001b[0m\u001b[0;34m,\u001b[0m \u001b[0mValueError\u001b[0m\u001b[0;34m)\u001b[0m \u001b[0;32mas\u001b[0m \u001b[0mexception\u001b[0m\u001b[0;34m:\u001b[0m\u001b[0;34m\u001b[0m\u001b[0;34m\u001b[0m\u001b[0m\n",
      "\u001b[0;32m~/miniconda3/envs/sNNt_slendr/lib/python3.9/site-packages/rpy2/robjects/__init__.py\u001b[0m in \u001b[0;36m__call__\u001b[0;34m(self, string)\u001b[0m\n\u001b[1;32m    437\u001b[0m         \u001b[0mp\u001b[0m \u001b[0;34m=\u001b[0m \u001b[0mrinterface\u001b[0m\u001b[0;34m.\u001b[0m\u001b[0mparse\u001b[0m\u001b[0;34m(\u001b[0m\u001b[0mstring\u001b[0m\u001b[0;34m)\u001b[0m\u001b[0;34m\u001b[0m\u001b[0;34m\u001b[0m\u001b[0m\n\u001b[0;32m--> 438\u001b[0;31m         \u001b[0mres\u001b[0m \u001b[0;34m=\u001b[0m \u001b[0mself\u001b[0m\u001b[0;34m.\u001b[0m\u001b[0meval\u001b[0m\u001b[0;34m(\u001b[0m\u001b[0mp\u001b[0m\u001b[0;34m)\u001b[0m\u001b[0;34m\u001b[0m\u001b[0;34m\u001b[0m\u001b[0m\n\u001b[0m\u001b[1;32m    439\u001b[0m         \u001b[0;32mreturn\u001b[0m \u001b[0mconversion\u001b[0m\u001b[0;34m.\u001b[0m\u001b[0mrpy2py\u001b[0m\u001b[0;34m(\u001b[0m\u001b[0mres\u001b[0m\u001b[0;34m)\u001b[0m\u001b[0;34m\u001b[0m\u001b[0;34m\u001b[0m\u001b[0m\n",
      "\u001b[0;32m~/miniconda3/envs/sNNt_slendr/lib/python3.9/site-packages/rpy2/robjects/functions.py\u001b[0m in \u001b[0;36m__call__\u001b[0;34m(self, *args, **kwargs)\u001b[0m\n\u001b[1;32m    197\u001b[0m                 \u001b[0mkwargs\u001b[0m\u001b[0;34m[\u001b[0m\u001b[0mr_k\u001b[0m\u001b[0;34m]\u001b[0m \u001b[0;34m=\u001b[0m \u001b[0mv\u001b[0m\u001b[0;34m\u001b[0m\u001b[0;34m\u001b[0m\u001b[0m\n\u001b[0;32m--> 198\u001b[0;31m         return (super(SignatureTranslatedFunction, self)\n\u001b[0m\u001b[1;32m    199\u001b[0m                 .__call__(*args, **kwargs))\n",
      "\u001b[0;32m~/miniconda3/envs/sNNt_slendr/lib/python3.9/site-packages/rpy2/robjects/functions.py\u001b[0m in \u001b[0;36m__call__\u001b[0;34m(self, *args, **kwargs)\u001b[0m\n\u001b[1;32m    124\u001b[0m                 \u001b[0mnew_kwargs\u001b[0m\u001b[0;34m[\u001b[0m\u001b[0mk\u001b[0m\u001b[0;34m]\u001b[0m \u001b[0;34m=\u001b[0m \u001b[0mconversion\u001b[0m\u001b[0;34m.\u001b[0m\u001b[0mpy2rpy\u001b[0m\u001b[0;34m(\u001b[0m\u001b[0mv\u001b[0m\u001b[0;34m)\u001b[0m\u001b[0;34m\u001b[0m\u001b[0;34m\u001b[0m\u001b[0m\n\u001b[0;32m--> 125\u001b[0;31m         \u001b[0mres\u001b[0m \u001b[0;34m=\u001b[0m \u001b[0msuper\u001b[0m\u001b[0;34m(\u001b[0m\u001b[0mFunction\u001b[0m\u001b[0;34m,\u001b[0m \u001b[0mself\u001b[0m\u001b[0;34m)\u001b[0m\u001b[0;34m.\u001b[0m\u001b[0m__call__\u001b[0m\u001b[0;34m(\u001b[0m\u001b[0;34m*\u001b[0m\u001b[0mnew_args\u001b[0m\u001b[0;34m,\u001b[0m \u001b[0;34m**\u001b[0m\u001b[0mnew_kwargs\u001b[0m\u001b[0;34m)\u001b[0m\u001b[0;34m\u001b[0m\u001b[0;34m\u001b[0m\u001b[0m\n\u001b[0m\u001b[1;32m    126\u001b[0m         \u001b[0mres\u001b[0m \u001b[0;34m=\u001b[0m \u001b[0mconversion\u001b[0m\u001b[0;34m.\u001b[0m\u001b[0mrpy2py\u001b[0m\u001b[0;34m(\u001b[0m\u001b[0mres\u001b[0m\u001b[0;34m)\u001b[0m\u001b[0;34m\u001b[0m\u001b[0;34m\u001b[0m\u001b[0m\n",
      "\u001b[0;32m~/miniconda3/envs/sNNt_slendr/lib/python3.9/site-packages/rpy2/rinterface_lib/conversion.py\u001b[0m in \u001b[0;36m_\u001b[0;34m(*args, **kwargs)\u001b[0m\n\u001b[1;32m     44\u001b[0m     \u001b[0;32mdef\u001b[0m \u001b[0m_\u001b[0m\u001b[0;34m(\u001b[0m\u001b[0;34m*\u001b[0m\u001b[0margs\u001b[0m\u001b[0;34m,\u001b[0m \u001b[0;34m**\u001b[0m\u001b[0mkwargs\u001b[0m\u001b[0;34m)\u001b[0m\u001b[0;34m:\u001b[0m\u001b[0;34m\u001b[0m\u001b[0;34m\u001b[0m\u001b[0m\n\u001b[0;32m---> 45\u001b[0;31m         \u001b[0mcdata\u001b[0m \u001b[0;34m=\u001b[0m \u001b[0mfunction\u001b[0m\u001b[0;34m(\u001b[0m\u001b[0;34m*\u001b[0m\u001b[0margs\u001b[0m\u001b[0;34m,\u001b[0m \u001b[0;34m**\u001b[0m\u001b[0mkwargs\u001b[0m\u001b[0;34m)\u001b[0m\u001b[0;34m\u001b[0m\u001b[0;34m\u001b[0m\u001b[0m\n\u001b[0m\u001b[1;32m     46\u001b[0m         \u001b[0;31m# TODO: test cdata is of the expected CType\u001b[0m\u001b[0;34m\u001b[0m\u001b[0;34m\u001b[0m\u001b[0m\n",
      "\u001b[0;32m~/miniconda3/envs/sNNt_slendr/lib/python3.9/site-packages/rpy2/rinterface.py\u001b[0m in \u001b[0;36m__call__\u001b[0;34m(self, *args, **kwargs)\u001b[0m\n\u001b[1;32m    679\u001b[0m             \u001b[0;32mif\u001b[0m \u001b[0merror_occured\u001b[0m\u001b[0;34m[\u001b[0m\u001b[0;36m0\u001b[0m\u001b[0;34m]\u001b[0m\u001b[0;34m:\u001b[0m\u001b[0;34m\u001b[0m\u001b[0;34m\u001b[0m\u001b[0m\n\u001b[0;32m--> 680\u001b[0;31m                 \u001b[0;32mraise\u001b[0m \u001b[0membedded\u001b[0m\u001b[0;34m.\u001b[0m\u001b[0mRRuntimeError\u001b[0m\u001b[0;34m(\u001b[0m\u001b[0m_rinterface\u001b[0m\u001b[0;34m.\u001b[0m\u001b[0m_geterrmessage\u001b[0m\u001b[0;34m(\u001b[0m\u001b[0;34m)\u001b[0m\u001b[0;34m)\u001b[0m\u001b[0;34m\u001b[0m\u001b[0;34m\u001b[0m\u001b[0m\n\u001b[0m\u001b[1;32m    681\u001b[0m         \u001b[0;32mreturn\u001b[0m \u001b[0mres\u001b[0m\u001b[0;34m\u001b[0m\u001b[0;34m\u001b[0m\u001b[0m\n",
      "\u001b[0;31mRRuntimeError\u001b[0m: Error in filter(., extendedexp %in% exp_to_plot, stat == \"space\") : \n  object 'all_scenarios_per_pop' not found\n",
      "\nDuring handling of the above exception, another exception occurred:\n",
      "\u001b[0;31mRInterpreterError\u001b[0m                         Traceback (most recent call last)",
      "\u001b[0;32m/tmp/ipykernel_713232/2120903993.py\u001b[0m in \u001b[0;36m<module>\u001b[0;34m\u001b[0m\n\u001b[0;32m----> 1\u001b[0;31m \u001b[0mget_ipython\u001b[0m\u001b[0;34m(\u001b[0m\u001b[0;34m)\u001b[0m\u001b[0;34m.\u001b[0m\u001b[0mrun_cell_magic\u001b[0m\u001b[0;34m(\u001b[0m\u001b[0;34m'R'\u001b[0m\u001b[0;34m,\u001b[0m \u001b[0;34m'-w 1300 -h 1125'\u001b[0m\u001b[0;34m,\u001b[0m \u001b[0;34m'\\nfilter_pop  = c()\\nexp_to_plot = c(1, 2, 3, 4, 5, 6, 8, 10)\\nlabels      = c(\"1\" = \"ws = 1\", \"2\" = \"ws = 1e1\", \"3\" = \"ws = 1e2\", \"4\" = \"ws = 1e3\", \"5\" = \"ws = 1e4\", \"6\" = \"ws = 1e5\", \\n                \"8\" = \"mse\", \"10\" = \"edl\")\\nlimits      = c(\"1\", \"2\", \"3\", \"4\", \"5\", \"6\", \"8\", \"10\")\\nplot_errors(all_scenarios_per_pop, all_scenarios_all, filter_pop, exp_to_plot, labels, limits, \"Loss function\", \"\", \"\") -> p1\\n    \\nfilter_pop  = c()\\nexp_to_plot = c(12, 13, 14, 5, 15, 16, 17)\\nlabels      = c(\"12\" = 15000, \"13\" = 10000, \"14\" = 5000, \"5\" = 1500, \"15\" =  1000, \"16\" =   500, \"17\" =  250)\\nlimits      = c(\"17\", \"16\", \"15\", \"5\", \"14\", \"13\", \"12\")\\nplot_errors(all_scenarios_per_pop, all_scenarios_all, filter_pop, exp_to_plot, labels, limits, \"Sample size\", \"\", \"\", c(225, 1250), c(0, 7000)) -> p2\\n\\nfilter_pop  = c()\\nexp_to_plot = c(5, 18)\\nlabels      = c(\"5\" = \"unif\", \"18\" = \"exp\")\\nlimits      = c(\"5\", \"18\")\\nplot_errors(all_scenarios_per_pop, all_scenarios_all, filter_pop, exp_to_plot, labels, limits, \"Sampl.\", \"\", \"\") -> p3\\n\\nfilter_pop  = c()\\nexp_to_plot = c(5, 19, 20, 21, 22)\\nlabels      = c(\"5\" = \"100%\", \"19\" = \"75%\", \"20\" = \"50%\", \"21\" = \"25%\", \"22\" = \"10%\")\\nlimits      = c(\"22\", \"21\", \"20\", \"19\", \"5\")\\nplot_errors(all_scenarios_per_pop, all_scenarios_all, filter_pop, exp_to_plot, labels, limits, \"SNP density\", \"\", \"\", c(225, 1250), c(0, 7000)) -> p4\\n\\nfilter_pop  = c()\\nexp_to_plot = c(5, 23, 24)\\nlabels      = c(\"5\" = \"sNNt\", \"23\" = \"space\", \"24\" = \"time\")\\nlimits      = c()\\nplot_errors(all_scenarios_per_pop, all_scenarios_all, filter_pop, exp_to_plot, labels, limits, \"Predict.\", \"\", \"\") -> p5\\n\\nfilter_pop  = c()\\nexp_to_plot = c(5, 25, 26, 27)\\nlabels      = c(\"5\" = \"64\", \"25\" = \"128\", \"26\" = \"256\", \"27\" = \"512\")\\nlimits      = c(\"5\", \"25\", \"26\", \"27\")\\nplot_errors(all_scenarios_per_pop, all_scenarios_all, filter_pop, exp_to_plot, labels, limits, \"Nº nodes\", \"\", \"\") -> p6\\n\\n#----------------------------------------------------------------------------\\n\\nfilter_pop  = c()\\nexp_to_plot = c(5, 28, 29, 30, 31)\\nlabels      = c(\"5\" = \"GT\", \"28\" = \"1x\", \"29\" = \"5x\", \"30\" = \"15x\", \"31\" = \"30x\", \"32\" = \"30x Norm1\")\\nlimits      = c(\"5\", \"28\", \"29\", \"30\", \"31\")\\nplot_errors(all_scenarios_per_pop, all_scenarios_all, filter_pop, exp_to_plot, labels, limits, \"Coverage (GL)\", \"\", \"\", c(300, 1400), c(900, 8750)) -> p7\\n\\nfilter_pop  = c()\\nexp_to_plot = c(5, 33, 34, 35, 36)\\nlabels      = c(\"5\" = \"GT\", \"33\" = \"1x\", \"34\" = \"5x\", \"35\" = \"15x\", \"36\" = \"30x\", \"37\" = \"30x Norm1\")\\nlimits      = c(\"5\", \"33\", \"34\", \"35\", \"36\")\\nplot_errors(all_scenarios_per_pop, all_scenarios_all, filter_pop, exp_to_plot, labels, limits, \"Coverage (GL mix)\", \"\", \"\") -> p8\\n\\nfilter_pop  = c()\\nexp_to_plot = c(5, 38, 39, 40, 41)\\nlabels      = c(\"5\" = \"GT\", \"38\" = \"1x\", \"39\" = \"5x\", \"40\" = \"15x\", \"41\" = \"30x\", \"42\" = \"30x Norm1\")\\nlimits      = c(\"5\", \"38\", \"39\", \"40\", \"41\")\\nplot_errors(all_scenarios_per_pop, all_scenarios_all, filter_pop, exp_to_plot, labels, limits, \"Coverage (GP)\", \"\", \"\", c(300, 1400), c(900, 8750)) -> p9\\n\\nfilter_pop  = c()\\nexp_to_plot = c(5, 43, 44, 45, 46)\\nlabels      = c(\"5\" = \"GT\", \"43\" = \"1x\", \"44\" = \"5x\", \"45\" = \"15x\", \"46\" = \"30x\", \"47\" = \"30x Norm1\")\\nlimits      = c(\"5\", \"43\", \"44\", \"45\", \"46\")\\nplot_errors(all_scenarios_per_pop, all_scenarios_all, filter_pop, exp_to_plot, labels, limits, \"Coverage (GP mix)\", \"\", \"\") -> p10\\n\\nfilter_pop  = c()\\nexp_to_plot = c(5, 48, 49, 50, 51)\\nlabels      = c(\"5\" = \"GT\", \"48\" = \"1x\", \"49\" = \"5x\", \"50\" = \"15x\", \"51\" = \"30x\", \"52\" = \"30x Norm1\")\\nlimits      = c(\"5\", \"48\", \"49\", \"50\", \"51\")\\nplot_errors(all_scenarios_per_pop, all_scenarios_all, filter_pop, exp_to_plot, labels, limits, \"Coverage (GP to GT)\", \"\", \"\", c(300, 1400), c(900, 8750)) -> p11\\n\\nfilter_pop  = c()\\nexp_to_plot = c(5, 48, 38, 52, 53, 54, 55, 56)\\nlabels      = c(\"5\" = \"GT\", \"48\" = \"1xGP>GT\", \"38\" = \"1sd\", \"52\" = \"1sdcov\", \"53\" = \"5sd\", \"54\" = \"5sdcov\", \"55\" = \"10sd\", \"56\" = \"10sdcov\")\\nlimits      = c(\"5\", \"48\", \"38\", \"52\", \"53\", \"54\", \"55\", \"56\")\\nplot_errors(all_scenarios_per_pop, all_scenarios_all, filter_pop, exp_to_plot, labels, limits, \"Coverage (GP 1xcov weight)\", \"\", \"\", c(300, 1400), c(900, 8750)) -> p12\\n\\nfilter_pop  = c()\\nexp_to_plot = c(5, 49, 39, 57, 58, 59, 60, 61)\\nlabels      = c(\"5\" = \"GT\", \"49\" = \"1xGP>GT\", \"39\" = \"1sd\", \"57\" = \"1sdcov\", \"58\" = \"5sd\", \"59\" = \"5sdcov\", \"60\" = \"10sd\", \"61\" = \"10sdcov\")\\nlimits      = c(\"5\", \"49\", \"39\", \"57\", \"58\", \"59\", \"60\", \"61\")\\nplot_errors(all_scenarios_per_pop, all_scenarios_all, filter_pop, exp_to_plot, labels, limits, \"Coverage (GP 5xcov weight)\", \"\", \"\") -> p13\\n\\n\\n\\nplot_grid(\\n    plot_grid(p1, p2, p4, p3, nrow = 1, rel_widths = c(8, 7, 5, 2)),\\n    plot_grid(p7, p9, p11, p12, p13, nrow = 1),\\n    ncol = 1\\n) -> plot\\n\\nplot\\n\\nggsave(\"error_with_pop.pdf\", width = 36, height = 26, units = \"cm\")\\n\\nplot \\n'\u001b[0m\u001b[0;34m)\u001b[0m\u001b[0;34m\u001b[0m\u001b[0;34m\u001b[0m\u001b[0m\n\u001b[0m",
      "\u001b[0;32m~/miniconda3/envs/sNNt_slendr/lib/python3.9/site-packages/IPython/core/interactiveshell.py\u001b[0m in \u001b[0;36mrun_cell_magic\u001b[0;34m(self, magic_name, line, cell)\u001b[0m\n\u001b[1;32m   2417\u001b[0m             \u001b[0;32mwith\u001b[0m \u001b[0mself\u001b[0m\u001b[0;34m.\u001b[0m\u001b[0mbuiltin_trap\u001b[0m\u001b[0;34m:\u001b[0m\u001b[0;34m\u001b[0m\u001b[0;34m\u001b[0m\u001b[0m\n\u001b[1;32m   2418\u001b[0m                 \u001b[0margs\u001b[0m \u001b[0;34m=\u001b[0m \u001b[0;34m(\u001b[0m\u001b[0mmagic_arg_s\u001b[0m\u001b[0;34m,\u001b[0m \u001b[0mcell\u001b[0m\u001b[0;34m)\u001b[0m\u001b[0;34m\u001b[0m\u001b[0;34m\u001b[0m\u001b[0m\n\u001b[0;32m-> 2419\u001b[0;31m                 \u001b[0mresult\u001b[0m \u001b[0;34m=\u001b[0m \u001b[0mfn\u001b[0m\u001b[0;34m(\u001b[0m\u001b[0;34m*\u001b[0m\u001b[0margs\u001b[0m\u001b[0;34m,\u001b[0m \u001b[0;34m**\u001b[0m\u001b[0mkwargs\u001b[0m\u001b[0;34m)\u001b[0m\u001b[0;34m\u001b[0m\u001b[0;34m\u001b[0m\u001b[0m\n\u001b[0m\u001b[1;32m   2420\u001b[0m             \u001b[0;32mreturn\u001b[0m \u001b[0mresult\u001b[0m\u001b[0;34m\u001b[0m\u001b[0;34m\u001b[0m\u001b[0m\n\u001b[1;32m   2421\u001b[0m \u001b[0;34m\u001b[0m\u001b[0m\n",
      "\u001b[0;32m~/miniconda3/envs/sNNt_slendr/lib/python3.9/site-packages/decorator.py\u001b[0m in \u001b[0;36mfun\u001b[0;34m(*args, **kw)\u001b[0m\n\u001b[1;32m    230\u001b[0m             \u001b[0;32mif\u001b[0m \u001b[0;32mnot\u001b[0m \u001b[0mkwsyntax\u001b[0m\u001b[0;34m:\u001b[0m\u001b[0;34m\u001b[0m\u001b[0;34m\u001b[0m\u001b[0m\n\u001b[1;32m    231\u001b[0m                 \u001b[0margs\u001b[0m\u001b[0;34m,\u001b[0m \u001b[0mkw\u001b[0m \u001b[0;34m=\u001b[0m \u001b[0mfix\u001b[0m\u001b[0;34m(\u001b[0m\u001b[0margs\u001b[0m\u001b[0;34m,\u001b[0m \u001b[0mkw\u001b[0m\u001b[0;34m,\u001b[0m \u001b[0msig\u001b[0m\u001b[0;34m)\u001b[0m\u001b[0;34m\u001b[0m\u001b[0;34m\u001b[0m\u001b[0m\n\u001b[0;32m--> 232\u001b[0;31m             \u001b[0;32mreturn\u001b[0m \u001b[0mcaller\u001b[0m\u001b[0;34m(\u001b[0m\u001b[0mfunc\u001b[0m\u001b[0;34m,\u001b[0m \u001b[0;34m*\u001b[0m\u001b[0;34m(\u001b[0m\u001b[0mextras\u001b[0m \u001b[0;34m+\u001b[0m \u001b[0margs\u001b[0m\u001b[0;34m)\u001b[0m\u001b[0;34m,\u001b[0m \u001b[0;34m**\u001b[0m\u001b[0mkw\u001b[0m\u001b[0;34m)\u001b[0m\u001b[0;34m\u001b[0m\u001b[0;34m\u001b[0m\u001b[0m\n\u001b[0m\u001b[1;32m    233\u001b[0m     \u001b[0mfun\u001b[0m\u001b[0;34m.\u001b[0m\u001b[0m__name__\u001b[0m \u001b[0;34m=\u001b[0m \u001b[0mfunc\u001b[0m\u001b[0;34m.\u001b[0m\u001b[0m__name__\u001b[0m\u001b[0;34m\u001b[0m\u001b[0;34m\u001b[0m\u001b[0m\n\u001b[1;32m    234\u001b[0m     \u001b[0mfun\u001b[0m\u001b[0;34m.\u001b[0m\u001b[0m__doc__\u001b[0m \u001b[0;34m=\u001b[0m \u001b[0mfunc\u001b[0m\u001b[0;34m.\u001b[0m\u001b[0m__doc__\u001b[0m\u001b[0;34m\u001b[0m\u001b[0;34m\u001b[0m\u001b[0m\n",
      "\u001b[0;32m~/miniconda3/envs/sNNt_slendr/lib/python3.9/site-packages/IPython/core/magic.py\u001b[0m in \u001b[0;36m<lambda>\u001b[0;34m(f, *a, **k)\u001b[0m\n\u001b[1;32m    185\u001b[0m     \u001b[0;31m# but it's overkill for just that one bit of state.\u001b[0m\u001b[0;34m\u001b[0m\u001b[0;34m\u001b[0m\u001b[0m\n\u001b[1;32m    186\u001b[0m     \u001b[0;32mdef\u001b[0m \u001b[0mmagic_deco\u001b[0m\u001b[0;34m(\u001b[0m\u001b[0marg\u001b[0m\u001b[0;34m)\u001b[0m\u001b[0;34m:\u001b[0m\u001b[0;34m\u001b[0m\u001b[0;34m\u001b[0m\u001b[0m\n\u001b[0;32m--> 187\u001b[0;31m         \u001b[0mcall\u001b[0m \u001b[0;34m=\u001b[0m \u001b[0;32mlambda\u001b[0m \u001b[0mf\u001b[0m\u001b[0;34m,\u001b[0m \u001b[0;34m*\u001b[0m\u001b[0ma\u001b[0m\u001b[0;34m,\u001b[0m \u001b[0;34m**\u001b[0m\u001b[0mk\u001b[0m\u001b[0;34m:\u001b[0m \u001b[0mf\u001b[0m\u001b[0;34m(\u001b[0m\u001b[0;34m*\u001b[0m\u001b[0ma\u001b[0m\u001b[0;34m,\u001b[0m \u001b[0;34m**\u001b[0m\u001b[0mk\u001b[0m\u001b[0;34m)\u001b[0m\u001b[0;34m\u001b[0m\u001b[0;34m\u001b[0m\u001b[0m\n\u001b[0m\u001b[1;32m    188\u001b[0m \u001b[0;34m\u001b[0m\u001b[0m\n\u001b[1;32m    189\u001b[0m         \u001b[0;32mif\u001b[0m \u001b[0mcallable\u001b[0m\u001b[0;34m(\u001b[0m\u001b[0marg\u001b[0m\u001b[0;34m)\u001b[0m\u001b[0;34m:\u001b[0m\u001b[0;34m\u001b[0m\u001b[0;34m\u001b[0m\u001b[0m\n",
      "\u001b[0;32m~/miniconda3/envs/sNNt_slendr/lib/python3.9/site-packages/rpy2/ipython/rmagic.py\u001b[0m in \u001b[0;36mR\u001b[0;34m(self, line, cell, local_ns)\u001b[0m\n\u001b[1;32m    781\u001b[0m             \u001b[0;32mif\u001b[0m \u001b[0;32mnot\u001b[0m \u001b[0me\u001b[0m\u001b[0;34m.\u001b[0m\u001b[0mstdout\u001b[0m\u001b[0;34m.\u001b[0m\u001b[0mendswith\u001b[0m\u001b[0;34m(\u001b[0m\u001b[0me\u001b[0m\u001b[0;34m.\u001b[0m\u001b[0merr\u001b[0m\u001b[0;34m)\u001b[0m\u001b[0;34m:\u001b[0m\u001b[0;34m\u001b[0m\u001b[0;34m\u001b[0m\u001b[0m\n\u001b[1;32m    782\u001b[0m                 \u001b[0mprint\u001b[0m\u001b[0;34m(\u001b[0m\u001b[0me\u001b[0m\u001b[0;34m.\u001b[0m\u001b[0merr\u001b[0m\u001b[0;34m)\u001b[0m\u001b[0;34m\u001b[0m\u001b[0;34m\u001b[0m\u001b[0m\n\u001b[0;32m--> 783\u001b[0;31m             \u001b[0;32mraise\u001b[0m \u001b[0me\u001b[0m\u001b[0;34m\u001b[0m\u001b[0;34m\u001b[0m\u001b[0m\n\u001b[0m\u001b[1;32m    784\u001b[0m         \u001b[0;32mfinally\u001b[0m\u001b[0;34m:\u001b[0m\u001b[0;34m\u001b[0m\u001b[0;34m\u001b[0m\u001b[0m\n\u001b[1;32m    785\u001b[0m             \u001b[0;32mif\u001b[0m \u001b[0mself\u001b[0m\u001b[0;34m.\u001b[0m\u001b[0mdevice\u001b[0m \u001b[0;32min\u001b[0m \u001b[0;34m[\u001b[0m\u001b[0;34m'png'\u001b[0m\u001b[0;34m,\u001b[0m \u001b[0;34m'svg'\u001b[0m\u001b[0;34m]\u001b[0m\u001b[0;34m:\u001b[0m\u001b[0;34m\u001b[0m\u001b[0;34m\u001b[0m\u001b[0m\n",
      "\u001b[0;32m~/miniconda3/envs/sNNt_slendr/lib/python3.9/site-packages/rpy2/ipython/rmagic.py\u001b[0m in \u001b[0;36mR\u001b[0;34m(self, line, cell, local_ns)\u001b[0m\n\u001b[1;32m    761\u001b[0m                     \u001b[0mreturn_output\u001b[0m \u001b[0;34m=\u001b[0m \u001b[0;32mFalse\u001b[0m\u001b[0;34m\u001b[0m\u001b[0;34m\u001b[0m\u001b[0m\n\u001b[1;32m    762\u001b[0m             \u001b[0;32melse\u001b[0m\u001b[0;34m:\u001b[0m\u001b[0;34m\u001b[0m\u001b[0;34m\u001b[0m\u001b[0m\n\u001b[0;32m--> 763\u001b[0;31m                 \u001b[0mtext_result\u001b[0m\u001b[0;34m,\u001b[0m \u001b[0mresult\u001b[0m\u001b[0;34m,\u001b[0m \u001b[0mvisible\u001b[0m \u001b[0;34m=\u001b[0m \u001b[0mself\u001b[0m\u001b[0;34m.\u001b[0m\u001b[0meval\u001b[0m\u001b[0;34m(\u001b[0m\u001b[0mcode\u001b[0m\u001b[0;34m)\u001b[0m\u001b[0;34m\u001b[0m\u001b[0;34m\u001b[0m\u001b[0m\n\u001b[0m\u001b[1;32m    764\u001b[0m                 \u001b[0mtext_output\u001b[0m \u001b[0;34m+=\u001b[0m \u001b[0mtext_result\u001b[0m\u001b[0;34m\u001b[0m\u001b[0;34m\u001b[0m\u001b[0m\n\u001b[1;32m    765\u001b[0m                 \u001b[0;32mif\u001b[0m \u001b[0mvisible\u001b[0m\u001b[0;34m:\u001b[0m\u001b[0;34m\u001b[0m\u001b[0;34m\u001b[0m\u001b[0m\n",
      "\u001b[0;32m~/miniconda3/envs/sNNt_slendr/lib/python3.9/site-packages/rpy2/ipython/rmagic.py\u001b[0m in \u001b[0;36meval\u001b[0;34m(self, code)\u001b[0m\n\u001b[1;32m    270\u001b[0m                 \u001b[0;31m# Otherwise next return seems to have copy of error.\u001b[0m\u001b[0;34m\u001b[0m\u001b[0;34m\u001b[0m\u001b[0m\n\u001b[1;32m    271\u001b[0m                 \u001b[0mwarning_or_other_msg\u001b[0m \u001b[0;34m=\u001b[0m \u001b[0mself\u001b[0m\u001b[0;34m.\u001b[0m\u001b[0mflush\u001b[0m\u001b[0;34m(\u001b[0m\u001b[0;34m)\u001b[0m\u001b[0;34m\u001b[0m\u001b[0;34m\u001b[0m\u001b[0m\n\u001b[0;32m--> 272\u001b[0;31m                 raise RInterpreterError(code, str(exception),\n\u001b[0m\u001b[1;32m    273\u001b[0m                                         warning_or_other_msg)\n\u001b[1;32m    274\u001b[0m             \u001b[0mtext_output\u001b[0m \u001b[0;34m=\u001b[0m \u001b[0mself\u001b[0m\u001b[0;34m.\u001b[0m\u001b[0mflush\u001b[0m\u001b[0;34m(\u001b[0m\u001b[0;34m)\u001b[0m\u001b[0;34m\u001b[0m\u001b[0;34m\u001b[0m\u001b[0m\n",
      "\u001b[0;31mRInterpreterError\u001b[0m: Failed to parse and evaluate line '\\nfilter_pop  = c()\\nexp_to_plot = c(1, 2, 3, 4, 5, 6, 8, 10)\\nlabels      = c(\"1\" = \"ws = 1\", \"2\" = \"ws = 1e1\", \"3\" = \"ws = 1e2\", \"4\" = \"ws = 1e3\", \"5\" = \"ws = 1e4\", \"6\" = \"ws = 1e5\", \\n                \"8\" = \"mse\", \"10\" = \"edl\")\\nlimits      = c(\"1\", \"2\", \"3\", \"4\", \"5\", \"6\", \"8\", \"10\")\\nplot_errors(all_scenarios_per_pop, all_scenarios_all, filter_pop, exp_to_plot, labels, limits, \"Loss function\", \"\", \"\") -> p1\\n    \\nfilter_pop  = c()\\nexp_to_plot = c(12, 13, 14, 5, 15, 16, 17)\\nlabels      = c(\"12\" = 15000, \"13\" = 10000, \"14\" = 5000, \"5\" = 1500, \"15\" =  1000, \"16\" =   500, \"17\" =  250)\\nlimits      = c(\"17\", \"16\", \"15\", \"5\", \"14\", \"13\", \"12\")\\nplot_errors(all_scenarios_per_pop, all_scenarios_all, filter_pop, exp_to_plot, labels, limits, \"Sample size\", \"\", \"\", c(225, 1250), c(0, 7000)) -> p2\\n\\nfilter_pop  = c()\\nexp_to_plot = c(5, 18)\\nlabels      = c(\"5\" = \"unif\", \"18\" = \"exp\")\\nlimits      = c(\"5\", \"18\")\\nplot_errors(all_scenarios_per_pop, all_scenarios_all, filter_pop, exp_to_plot, labels, limits, \"Sampl.\", \"\", \"\") -> p3\\n\\nfilter_pop  = c()\\nexp_to_plot = c(5, 19, 20, 21, 22)\\nlabels      = c(\"5\" = \"100%\", \"19\" = \"75%\", \"20\" = \"50%\", \"21\" = \"25%\", \"22\" = \"10%\")\\nlimits      = c(\"22\", \"21\", \"20\", \"19\", \"5\")\\nplot_errors(all_scenarios_per_pop, all_scenarios_all, filter_pop, exp_to_plot, labels, limits, \"SNP density\", \"\", \"\", c(225, 1250), c(0, 7000)) -> p4\\n\\nfilter_pop  = c()\\nexp_to_plot = c(5, 23, 24)\\nlabels      = c(\"5\" = \"sNNt\", \"23\" = \"space\", \"24\" = \"time\")\\nlimits      = c()\\nplot_errors(all_scenarios_per_pop, all_scenarios_all, filter_pop, exp_to_plot, labels, limits, \"Predict.\", \"\", \"\") -> p5\\n\\nfilter_pop  = c()\\nexp_to_plot = c(5, 25, 26, 27)\\nlabels      = c(\"5\" = \"64\", \"25\" = \"128\", \"26\" = \"256\", \"27\" = \"512\")\\nlimits      = c(\"5\", \"25\", \"26\", \"27\")\\nplot_errors(all_scenarios_per_pop, all_scenarios_all, filter_pop, exp_to_plot, labels, limits, \"Nº nodes\", \"\", \"\") -> p6\\n\\n#----------------------------------------------------------------------------\\n\\nfilter_pop  = c()\\nexp_to_plot = c(5, 28, 29, 30, 31)\\nlabels      = c(\"5\" = \"GT\", \"28\" = \"1x\", \"29\" = \"5x\", \"30\" = \"15x\", \"31\" = \"30x\", \"32\" = \"30x Norm1\")\\nlimits      = c(\"5\", \"28\", \"29\", \"30\", \"31\")\\nplot_errors(all_scenarios_per_pop, all_scenarios_all, filter_pop, exp_to_plot, labels, limits, \"Coverage (GL)\", \"\", \"\", c(300, 1400), c(900, 8750)) -> p7\\n\\nfilter_pop  = c()\\nexp_to_plot = c(5, 33, 34, 35, 36)\\nlabels      = c(\"5\" = \"GT\", \"33\" = \"1x\", \"34\" = \"5x\", \"35\" = \"15x\", \"36\" = \"30x\", \"37\" = \"30x Norm1\")\\nlimits      = c(\"5\", \"33\", \"34\", \"35\", \"36\")\\nplot_errors(all_scenarios_per_pop, all_scenarios_all, filter_pop, exp_to_plot, labels, limits, \"Coverage (GL mix)\", \"\", \"\") -> p8\\n\\nfilter_pop  = c()\\nexp_to_plot = c(5, 38, 39, 40, 41)\\nlabels      = c(\"5\" = \"GT\", \"38\" = \"1x\", \"39\" = \"5x\", \"40\" = \"15x\", \"41\" = \"30x\", \"42\" = \"30x Norm1\")\\nlimits      = c(\"5\", \"38\", \"39\", \"40\", \"41\")\\nplot_errors(all_scenarios_per_pop, all_scenarios_all, filter_pop, exp_to_plot, labels, limits, \"Coverage (GP)\", \"\", \"\", c(300, 1400), c(900, 8750)) -> p9\\n\\nfilter_pop  = c()\\nexp_to_plot = c(5, 43, 44, 45, 46)\\nlabels      = c(\"5\" = \"GT\", \"43\" = \"1x\", \"44\" = \"5x\", \"45\" = \"15x\", \"46\" = \"30x\", \"47\" = \"30x Norm1\")\\nlimits      = c(\"5\", \"43\", \"44\", \"45\", \"46\")\\nplot_errors(all_scenarios_per_pop, all_scenarios_all, filter_pop, exp_to_plot, labels, limits, \"Coverage (GP mix)\", \"\", \"\") -> p10\\n\\nfilter_pop  = c()\\nexp_to_plot = c(5, 48, 49, 50, 51)\\nlabels      = c(\"5\" = \"GT\", \"48\" = \"1x\", \"49\" = \"5x\", \"50\" = \"15x\", \"51\" = \"30x\", \"52\" = \"30x Norm1\")\\nlimits      = c(\"5\", \"48\", \"49\", \"50\", \"51\")\\nplot_errors(all_scenarios_per_pop, all_scenarios_all, filter_pop, exp_to_plot, labels, limits, \"Coverage (GP to GT)\", \"\", \"\", c(300, 1400), c(900, 8750)) -> p11\\n\\nfilter_pop  = c()\\nexp_to_plot = c(5, 48, 38, 52, 53, 54, 55, 56)\\nlabels      = c(\"5\" = \"GT\", \"48\" = \"1xGP>GT\", \"38\" = \"1sd\", \"52\" = \"1sdcov\", \"53\" = \"5sd\", \"54\" = \"5sdcov\", \"55\" = \"10sd\", \"56\" = \"10sdcov\")\\nlimits      = c(\"5\", \"48\", \"38\", \"52\", \"53\", \"54\", \"55\", \"56\")\\nplot_errors(all_scenarios_per_pop, all_scenarios_all, filter_pop, exp_to_plot, labels, limits, \"Coverage (GP 1xcov weight)\", \"\", \"\", c(300, 1400), c(900, 8750)) -> p12\\n\\nfilter_pop  = c()\\nexp_to_plot = c(5, 49, 39, 57, 58, 59, 60, 61)\\nlabels      = c(\"5\" = \"GT\", \"49\" = \"1xGP>GT\", \"39\" = \"1sd\", \"57\" = \"1sdcov\", \"58\" = \"5sd\", \"59\" = \"5sdcov\", \"60\" = \"10sd\", \"61\" = \"10sdcov\")\\nlimits      = c(\"5\", \"49\", \"39\", \"57\", \"58\", \"59\", \"60\", \"61\")\\nplot_errors(all_scenarios_per_pop, all_scenarios_all, filter_pop, exp_to_plot, labels, limits, \"Coverage (GP 5xcov weight)\", \"\", \"\") -> p13\\n\\n\\n\\nplot_grid(\\n    plot_grid(p1, p2, p4, p3, nrow = 1, rel_widths = c(8, 7, 5, 2)),\\n    plot_grid(p7, p9, p11, p12, p13, nrow = 1),\\n    ncol = 1\\n) -> plot\\n\\nplot\\n\\nggsave(\"error_with_pop.pdf\", width = 36, height = 26, units = \"cm\")\\n\\nplot \\n'.\nR error message: 'Error in filter(., extendedexp %in% exp_to_plot, stat == \"space\") : \\n  object \\'all_scenarios_per_pop\\' not found'"
     ]
    }
   ],
   "source": [
    "%%R -w 1300 -h 1125\n",
    "\n",
    "filter_pop  = c()\n",
    "exp_to_plot = c(1, 2, 3, 4, 5, 6, 8, 10)\n",
    "labels      = c(\"1\" = \"ws = 1\", \"2\" = \"ws = 1e1\", \"3\" = \"ws = 1e2\", \"4\" = \"ws = 1e3\", \"5\" = \"ws = 1e4\", \"6\" = \"ws = 1e5\", \n",
    "                \"8\" = \"mse\", \"10\" = \"edl\")\n",
    "limits      = c(\"1\", \"2\", \"3\", \"4\", \"5\", \"6\", \"8\", \"10\")\n",
    "plot_errors(all_scenarios_per_pop, all_scenarios_all, filter_pop, exp_to_plot, labels, limits, \"Loss function\", \"\", \"\") -> p1\n",
    "    \n",
    "filter_pop  = c()\n",
    "exp_to_plot = c(12, 13, 14, 5, 15, 16, 17)\n",
    "labels      = c(\"12\" = 15000, \"13\" = 10000, \"14\" = 5000, \"5\" = 1500, \"15\" =  1000, \"16\" =   500, \"17\" =  250)\n",
    "limits      = c(\"17\", \"16\", \"15\", \"5\", \"14\", \"13\", \"12\")\n",
    "plot_errors(all_scenarios_per_pop, all_scenarios_all, filter_pop, exp_to_plot, labels, limits, \"Sample size\", \"\", \"\", c(225, 1250), c(0, 7000)) -> p2\n",
    "\n",
    "filter_pop  = c()\n",
    "exp_to_plot = c(5, 18)\n",
    "labels      = c(\"5\" = \"unif\", \"18\" = \"exp\")\n",
    "limits      = c(\"5\", \"18\")\n",
    "plot_errors(all_scenarios_per_pop, all_scenarios_all, filter_pop, exp_to_plot, labels, limits, \"Sampl.\", \"\", \"\") -> p3\n",
    "\n",
    "filter_pop  = c()\n",
    "exp_to_plot = c(5, 19, 20, 21, 22)\n",
    "labels      = c(\"5\" = \"100%\", \"19\" = \"75%\", \"20\" = \"50%\", \"21\" = \"25%\", \"22\" = \"10%\")\n",
    "limits      = c(\"22\", \"21\", \"20\", \"19\", \"5\")\n",
    "plot_errors(all_scenarios_per_pop, all_scenarios_all, filter_pop, exp_to_plot, labels, limits, \"SNP density\", \"\", \"\", c(225, 1250), c(0, 7000)) -> p4\n",
    "\n",
    "filter_pop  = c()\n",
    "exp_to_plot = c(5, 23, 24)\n",
    "labels      = c(\"5\" = \"sNNt\", \"23\" = \"space\", \"24\" = \"time\")\n",
    "limits      = c()\n",
    "plot_errors(all_scenarios_per_pop, all_scenarios_all, filter_pop, exp_to_plot, labels, limits, \"Predict.\", \"\", \"\") -> p5\n",
    "\n",
    "filter_pop  = c()\n",
    "exp_to_plot = c(5, 25, 26, 27)\n",
    "labels      = c(\"5\" = \"64\", \"25\" = \"128\", \"26\" = \"256\", \"27\" = \"512\")\n",
    "limits      = c(\"5\", \"25\", \"26\", \"27\")\n",
    "plot_errors(all_scenarios_per_pop, all_scenarios_all, filter_pop, exp_to_plot, labels, limits, \"Nº nodes\", \"\", \"\") -> p6\n",
    "\n",
    "#----------------------------------------------------------------------------\n",
    "\n",
    "filter_pop  = c()\n",
    "exp_to_plot = c(5, 28, 29, 30, 31)\n",
    "labels      = c(\"5\" = \"GT\", \"28\" = \"1x\", \"29\" = \"5x\", \"30\" = \"15x\", \"31\" = \"30x\", \"32\" = \"30x Norm1\")\n",
    "limits      = c(\"5\", \"28\", \"29\", \"30\", \"31\")\n",
    "plot_errors(all_scenarios_per_pop, all_scenarios_all, filter_pop, exp_to_plot, labels, limits, \"Coverage (GL)\", \"\", \"\", c(300, 1400), c(900, 8750)) -> p7\n",
    "\n",
    "filter_pop  = c()\n",
    "exp_to_plot = c(5, 33, 34, 35, 36)\n",
    "labels      = c(\"5\" = \"GT\", \"33\" = \"1x\", \"34\" = \"5x\", \"35\" = \"15x\", \"36\" = \"30x\", \"37\" = \"30x Norm1\")\n",
    "limits      = c(\"5\", \"33\", \"34\", \"35\", \"36\")\n",
    "plot_errors(all_scenarios_per_pop, all_scenarios_all, filter_pop, exp_to_plot, labels, limits, \"Coverage (GL mix)\", \"\", \"\") -> p8\n",
    "\n",
    "filter_pop  = c()\n",
    "exp_to_plot = c(5, 38, 39, 40, 41)\n",
    "labels      = c(\"5\" = \"GT\", \"38\" = \"1x\", \"39\" = \"5x\", \"40\" = \"15x\", \"41\" = \"30x\", \"42\" = \"30x Norm1\")\n",
    "limits      = c(\"5\", \"38\", \"39\", \"40\", \"41\")\n",
    "plot_errors(all_scenarios_per_pop, all_scenarios_all, filter_pop, exp_to_plot, labels, limits, \"Coverage (GP)\", \"\", \"\", c(300, 1400), c(900, 8750)) -> p9\n",
    "\n",
    "filter_pop  = c()\n",
    "exp_to_plot = c(5, 43, 44, 45, 46)\n",
    "labels      = c(\"5\" = \"GT\", \"43\" = \"1x\", \"44\" = \"5x\", \"45\" = \"15x\", \"46\" = \"30x\", \"47\" = \"30x Norm1\")\n",
    "limits      = c(\"5\", \"43\", \"44\", \"45\", \"46\")\n",
    "plot_errors(all_scenarios_per_pop, all_scenarios_all, filter_pop, exp_to_plot, labels, limits, \"Coverage (GP mix)\", \"\", \"\") -> p10\n",
    "\n",
    "filter_pop  = c()\n",
    "exp_to_plot = c(5, 48, 49, 50, 51)\n",
    "labels      = c(\"5\" = \"GT\", \"48\" = \"1x\", \"49\" = \"5x\", \"50\" = \"15x\", \"51\" = \"30x\", \"52\" = \"30x Norm1\")\n",
    "limits      = c(\"5\", \"48\", \"49\", \"50\", \"51\")\n",
    "plot_errors(all_scenarios_per_pop, all_scenarios_all, filter_pop, exp_to_plot, labels, limits, \"Coverage (GP to GT)\", \"\", \"\", c(300, 1400), c(900, 8750)) -> p11\n",
    "\n",
    "filter_pop  = c()\n",
    "exp_to_plot = c(5, 48, 38, 52, 53, 54, 55, 56)\n",
    "labels      = c(\"5\" = \"GT\", \"48\" = \"1xGP>GT\", \"38\" = \"1sd\", \"52\" = \"1sdcov\", \"53\" = \"5sd\", \"54\" = \"5sdcov\", \"55\" = \"10sd\", \"56\" = \"10sdcov\")\n",
    "limits      = c(\"5\", \"48\", \"38\", \"52\", \"53\", \"54\", \"55\", \"56\")\n",
    "plot_errors(all_scenarios_per_pop, all_scenarios_all, filter_pop, exp_to_plot, labels, limits, \"Coverage (GP 1xcov weight)\", \"\", \"\", c(300, 1400), c(900, 8750)) -> p12\n",
    "\n",
    "filter_pop  = c()\n",
    "exp_to_plot = c(5, 49, 39, 57, 58, 59, 60, 61)\n",
    "labels      = c(\"5\" = \"GT\", \"49\" = \"1xGP>GT\", \"39\" = \"1sd\", \"57\" = \"1sdcov\", \"58\" = \"5sd\", \"59\" = \"5sdcov\", \"60\" = \"10sd\", \"61\" = \"10sdcov\")\n",
    "limits      = c(\"5\", \"49\", \"39\", \"57\", \"58\", \"59\", \"60\", \"61\")\n",
    "plot_errors(all_scenarios_per_pop, all_scenarios_all, filter_pop, exp_to_plot, labels, limits, \"Coverage (GP 5xcov weight)\", \"\", \"\") -> p13\n",
    "\n",
    "\n",
    "\n",
    "plot_grid(\n",
    "    plot_grid(p1, p2, p4, p3, nrow = 1, rel_widths = c(8, 7, 5, 2)),\n",
    "    plot_grid(p7, p9, p11, p12, p13, nrow = 1),\n",
    "    ncol = 1\n",
    ") -> plot\n",
    "\n",
    "plot\n",
    "\n",
    "ggsave(\"error_with_pop.pdf\", width = 36, height = 26, units = \"cm\")\n",
    "\n",
    "plot "
   ]
  },
  {
   "cell_type": "code",
   "execution_count": null,
   "id": "70a1358a-c401-4dd9-a7db-5c3e8e1ac737",
   "metadata": {},
   "outputs": [],
   "source": [
    "%%R -w 1000 -h 500\n",
    "\n",
    "exp = \"56\"\n",
    "sim = \"europe\"\n",
    "\n",
    "set.seed(1234)\n",
    "\n",
    "plot_grid(\n",
    "read.table(paste(\"../../sandbox/\", sim, \"/\", exp, \"/pred.txt\", sep = \"\"), header = T) %>%\n",
    "    left_join(read.table(paste(\"../../data/\", sim, \"/metadata.txt\", sep = \"\"), header = T) %>% select(ind = ind_id, pop), by = c(\"ind\")) %>%\n",
    "    filter(gro < 31) %>%\n",
    "    #sample_n(100, replace = FALSE) %>%\n",
    "    ggplot() +\n",
    "    geom_sf(data = ne_countries(scale = \"medium\", returnclass = \"sf\")) +\n",
    "    geom_segment(aes(x = pred_lon, xend = true_lon, y = pred_lat, yend = true_lat)) +\n",
    "    geom_point(aes(x = true_lon, y = true_lat, color = pop, shape = \"real\"),  size = 3) +\n",
    "    geom_point(aes(x = pred_lon, y = pred_lat, color = pop, shape = \"pred\"),  size = 3) +\n",
    "    coord_sf(ylim = c(25, 65), xlim = c(-20, 80)) +\n",
    "    xlab(\"Longitude (º)\") +\n",
    "    ylab(\"Latitude (º)\") +\n",
    "    theme_bw(),\n",
    "read.table(paste(\"../../sandbox/\", sim, \"/\", exp, \"/pred.txt\", sep = \"\"), header = T) %>%\n",
    "    left_join(read.table(paste(\"../../data/\", sim, \"/metadata.txt\", sep = \"\"), header = T) %>% select(ind = ind_id, pop), by = c(\"ind\")) %>%\n",
    "    filter(gro < 31) %>%\n",
    "    select(sim, exp, nam, typ, gro, ind, pop, idx, snp, true_tim, pred_tim) %>%\n",
    "    gather(\"truepred\", \"value\", c(true_tim, pred_tim)) %>% \n",
    "    ggplot() +\n",
    "    geom_segment(data = . %>% spread(truepred, value), aes(x = \"pred_tim\", xend = \"true_tim\", y = pred_tim, yend = true_tim)) +\n",
    "    geom_point(aes(x = truepred, y = value, color = pop), size = 3) +\n",
    "    theme_bw(),\n",
    "              nrow = 1, rel_widths = c(4, 1))\n",
    "    "
   ]
  },
  {
   "cell_type": "code",
   "execution_count": null,
   "id": "e2532651-f4e5-46f3-b346-f6a6f50256f7",
   "metadata": {},
   "outputs": [],
   "source": [
    "%%R\n",
    "\n",
    "coveragevserror <- function(exp, ylim, title){\n",
    "    get_diff_data(exp) %>%\n",
    "        mutate(value = abs(value)) %>%\n",
    "        left_join(read.table(paste(\"../../sandbox/europe/\", exp, \"/coverage.txt\", sep = \"\"), header = T) %>% mutate(cov = co1+co2) %>% select(ind, cov), by = c(\"ind\")) %>%\n",
    "        ggplot() +\n",
    "        geom_point(aes(x = value, y = cov)) +\n",
    "        geom_smooth(method = \"lm\", formula = \"y ~ x\", aes(x = value, y = cov)) +\n",
    "        ylab(\"Coverage\") +\n",
    "        xlab(\"Error\") +\n",
    "        coord_cartesian(ylim = ylim)+\n",
    "        facet_wrap(.~stat, scales=\"free_x\") -> scatterplot\n",
    "    \n",
    "    read.table(paste(\"../../sandbox/europe/\", exp, \"/coverage.txt\", sep = \"\"), header = T) %>% \n",
    "        mutate(cov = co1+co2) %>% \n",
    "        select(ind, cov) %>%\n",
    "        ggplot() +\n",
    "        geom_histogram(aes(x = cov), bins = 50) + \n",
    "        theme(axis.text.y  = element_blank(),\n",
    "              axis.title.y = element_blank(),\n",
    "              axis.ticks.y = element_blank()) +\n",
    "        facet_wrap(\"Coverage\"~.) +\n",
    "        coord_flip(xlim = ylim) -> hist_cov\n",
    "    \n",
    "    get_diff_data(exp) %>%\n",
    "        mutate(value = abs(value)) %>%\n",
    "        ggplot() +\n",
    "        geom_histogram(aes(x = value), bins = 50) +\n",
    "        theme(axis.text.x  = element_blank(),\n",
    "              axis.title.x = element_blank(),\n",
    "              axis.ticks.x = element_blank()) +\n",
    "        ggtitle(title) +\n",
    "        facet_wrap(.~stat, scales=\"free_x\") -> hist_err\n",
    "    \n",
    "    plot_grid(\n",
    "        hist_err, \n",
    "        NULL,\n",
    "        scatterplot,\n",
    "        hist_cov,\n",
    "        rel_widths  = c(4, 1),\n",
    "        rel_heights = c(1, 4)\n",
    "    )\n",
    "}\n",
    "    \n"
   ]
  },
  {
   "cell_type": "code",
   "execution_count": null,
   "id": "6622b665-8279-466e-94d0-3a16def2574a",
   "metadata": {},
   "outputs": [],
   "source": [
    "%%R -w 1000 -h 500\n",
    "\n",
    "plot_grid(\n",
    "coveragevserror(\"55\", ylim = c(-1, 90), title = \"1x 10sd\"),\n",
    "coveragevserror(\"56\", ylim = c(-1, 90), title = \"1x 10sd CovNN\"))"
   ]
  },
  {
   "cell_type": "code",
   "execution_count": null,
   "id": "4bd81206-3ff5-4613-8641-ccfda3c33d4e",
   "metadata": {},
   "outputs": [],
   "source": [
    "%%R -w 1000 -h 500\n",
    "\n",
    "plot_grid(\n",
    "coveragevserror(\"60\", ylim = c(-1, 90), title = \"5x 10sd\"),\n",
    "coveragevserror(\"61\", ylim = c(-1, 90), title = \"5x 10sd CovNN\"))"
   ]
  },
  {
   "cell_type": "code",
   "execution_count": null,
   "id": "1b8da27f-1167-4194-a42a-7747255a6ab8",
   "metadata": {},
   "outputs": [],
   "source": [
    "%%R -w 1000 -h 500\n",
    "\n",
    "plot_grid(\n",
    "coveragevserror(\"58\", ylim = c(-1, 55), title = \"5x 5sd\"),\n",
    "coveragevserror(\"60\", ylim = c(-1, 55), title = \"5x 10sd\"))"
   ]
  },
  {
   "cell_type": "code",
   "execution_count": null,
   "id": "ba55b396-f13c-4bc8-8a98-a10dd0896b37",
   "metadata": {},
   "outputs": [],
   "source": []
  }
 ],
 "metadata": {
  "kernelspec": {
   "display_name": "Python 3 (ipykernel)",
   "language": "python",
   "name": "python3"
  },
  "language_info": {
   "codemirror_mode": {
    "name": "ipython",
    "version": 3
   },
   "file_extension": ".py",
   "mimetype": "text/x-python",
   "name": "python",
   "nbconvert_exporter": "python",
   "pygments_lexer": "ipython3",
   "version": "3.9.7"
  }
 },
 "nbformat": 4,
 "nbformat_minor": 5
}
