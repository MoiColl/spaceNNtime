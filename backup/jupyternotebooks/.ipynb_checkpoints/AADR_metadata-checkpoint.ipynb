{
 "cells": [
  {
   "cell_type": "markdown",
   "id": "9ee1c016-cbde-4ba1-b4e6-7a5417bdce6f",
   "metadata": {},
   "source": [
    "# AADR metadata\n",
    "\n",
    "## 0. Library and packages"
   ]
  },
  {
   "cell_type": "code",
   "execution_count": 1,
   "id": "12fa6d5a-c6d1-44f5-bb98-3f3c2f1d602e",
   "metadata": {},
   "outputs": [],
   "source": [
    "%load_ext rpy2.ipython"
   ]
  },
  {
   "cell_type": "code",
   "execution_count": 2,
   "id": "526c1310-8f2d-4492-ba39-c29009cfaffe",
   "metadata": {},
   "outputs": [
    {
     "name": "stdout",
     "output_type": "stream",
     "text": [
      "[1] \"/maps/projects/racimolab/people/qxz396/miniconda3/envs/sNNt_slendr/lib/R/library\"\n"
     ]
    }
   ],
   "source": [
    "%%R\n",
    ".libPaths()"
   ]
  },
  {
   "cell_type": "code",
   "execution_count": 3,
   "id": "6fee0646-31d9-41f9-9163-bac47e968aa8",
   "metadata": {},
   "outputs": [],
   "source": [
    "%%R\n",
    ".libPaths(c(\"/maps/projects/racimolab/people/qxz396/spaceNNtime/backup/environments/renv/library/R-4.1/x86_64-redhat-linux-gnu\"))"
   ]
  },
  {
   "cell_type": "code",
   "execution_count": 4,
   "id": "6e64439b-1865-43a3-b531-1b4aa923c1cf",
   "metadata": {},
   "outputs": [
    {
     "name": "stderr",
     "output_type": "stream",
     "text": [
      "R[write to console]: ── Attaching packages ─────────────────────────────────────── tidyverse 1.3.1 ──\n",
      "\n",
      "R[write to console]: ✔ ggplot2 3.3.5     ✔ purrr   0.3.4\n",
      "✔ tibble  3.1.6     ✔ dplyr   1.0.9\n",
      "✔ tidyr   1.2.0     ✔ stringr 1.4.0\n",
      "✔ readr   2.1.2     ✔ forcats 0.5.1\n",
      "\n",
      "R[write to console]: ── Conflicts ────────────────────────────────────────── tidyverse_conflicts() ──\n",
      "✖ dplyr::filter() masks stats::filter()\n",
      "✖ dplyr::lag()    masks stats::lag()\n",
      "\n",
      "R[write to console]: Linking to GEOS 3.7.2, GDAL 3.0.4, PROJ 6.3.2; sf_use_s2() is TRUE\n",
      "\n",
      "R[write to console]: You can setup a pre-configured environment with all of slendr's Python\n",
      "tree-sequence dependencies (Python modules tskit, pyslim, and msprime)\n",
      "by running the function setup_env().\n",
      "\n"
     ]
    }
   ],
   "source": [
    "%%R\n",
    "\n",
    "library(tidyverse)\n",
    "library(cowplot)\n",
    "library(sf)\n",
    "library(slendr)\n",
    "library(rnaturalearth)\n",
    "library(rnaturalearthdata)"
   ]
  },
  {
   "cell_type": "markdown",
   "id": "18630b80-a05e-4558-8639-b8403063c4ac",
   "metadata": {},
   "source": [
    "## 1. Metadata exploration"
   ]
  },
  {
   "cell_type": "code",
   "execution_count": 5,
   "id": "20dc5f78-fe5e-47f7-acba-bc7845131e4d",
   "metadata": {},
   "outputs": [
    {
     "name": "stdout",
     "output_type": "stream",
     "text": [
      "/maps/projects/racimolab/people/qxz396/spaceNNtime/files/v54.1_1240K_public.anno\n"
     ]
    }
   ],
   "source": [
    "%%bash\n",
    "\n",
    "ls /maps/projects/racimolab/people/qxz396/spaceNNtime/files/v54.1_1240K_public.anno"
   ]
  },
  {
   "cell_type": "markdown",
   "id": "f6c6e938-394b-4118-8581-bddd6ad9282a",
   "metadata": {},
   "source": [
    "Because of the original formating of the file makes impossible to read directly by R, I need to reformat it changing some characters."
   ]
  },
  {
   "cell_type": "code",
   "execution_count": null,
   "id": "0bef1589-b332-4a3a-80a9-77fed326e6ef",
   "metadata": {},
   "outputs": [],
   "source": [
    "%%bash\n",
    "\n",
    "sed 's/;/,,/g' /maps/projects/racimolab/people/qxz396/spaceNNtime/files/v54.1_1240K_public.anno \\\n",
    "    | sed 's/\\t/;/g' \\\n",
    "    | sed 's/ /__/g' \\\n",
    "    | sed 's/;$//' \\\n",
    "    > /maps/projects/racimolab/people/qxz396/spaceNNtime/files/v54.1_1240K_public_reformated.anno"
   ]
  },
  {
   "cell_type": "markdown",
   "id": "4c3e5e7b-a106-4af1-bfd6-09aedf52df09",
   "metadata": {},
   "source": [
    "Here are the original header"
   ]
  },
  {
   "cell_type": "code",
   "execution_count": null,
   "id": "138bde13-5f85-4fd2-ba6a-235b36b2caaa",
   "metadata": {},
   "outputs": [],
   "source": [
    "%%R\n",
    "\n",
    "read.csv(\"/maps/projects/racimolab/people/qxz396/spaceNNtime/files/v54.1_1240K_public_reformated.anno\", header = T, sep = \";\") %>%\n",
    "    head() %>%\n",
    "    names()"
   ]
  },
  {
   "cell_type": "raw",
   "id": "5d5e5446-dddf-4f36-88c6-7fa80e0a054c",
   "metadata": {},
   "source": [
    "And this is a bit what I understand is the information contained in each column:\n",
    "\n",
    " [1] \"Genetic__ID\"       : ID\n",
    " [2] \"Master__ID\"        : The unique individual identifier is given in the 'Master ID' field\n",
    " [3] \"Skeletal__code\"    : Name fosil remain\n",
    " [4] \"Skeletal__element\" : What bone is it\n",
    " [5] \"Year__data__from_  : For a present day individuals we give the data of the data reported. Here missing: GreenScience 2010 Vi33.15 Vi33.26 Olalde2018 I2657 RasmussenNature2010 Australian                            \n",
    " [6] \"Publication\"       : In which publication the data was published first but also indicating if the data in question was reprocessed\n",
    " [7] \"Method__Det..Dat   : unless otherwise specified calibrations use 95.4 intervals from OxCal v4.4.2 Bronk Ramsey 2009... r5.. Atmospheric data from Reimer et al .2020.                                                                                \n",
    " [8] \"Date__mean__in__BP__in__years__before__1950__CE : OxCal mu for a direct radiocarbon date and average of range for a contextual date.\n",
    " [9] \"Date__standard__deviation__in__BP : OxCal sigma for a direct radiocarbon date and sd of the uniform distribution between the two bounds for a contextual date\n",
    "[10] \"Full__Date         : Format 1 95.4 CI calibrated radiocarbon age  Conventional Radiocarbon Age BP Lab number. e.g. 2624.2350 calBCE 3990 40 BP Ua 35016  Format 2 Archaeological context range e.g. 2500-1700 BCE\"                         \n",
    "[11] \"Age at Death from physical anthropology\"\n",
    "[12] \"Group ID\" : Archeological Group?\n",
    "[13] \"Locality\"\n",
    "[14] \"Political__Entity\" : Country\n",
    "[15] \"Lat.\"\n",
    "[16] \"Long.\"\n",
    "[17] \"Pulldown__Strategy\"  ???????????\n",
    "[18] \"Data__source\"\n",
    "[19] \"No.__Libraries\"\n",
    "[20] \"X1240k__coverage__.taken__from__original__pulldown__where__possible.\"\n",
    "[21] \"SNPs__hit__on__autosomal__targets__.Computed__using__easystats__on__1240k__snpset.\"\n",
    "[22] \"SNPs__hit__on__autosomal__targets__.Computed__using__easystats__on__HO__snpset.\"\n",
    "[23] \"Molecular__Sex\"\n",
    "[24] \"Family__ID__and__position__within__family\"\n",
    "[25] \"Y__haplogroup__.manual__curation__in__terminal__mutation__format.\"\n",
    "[26] \"Y__haplogroup__.manual__curation__in__ISOGG__format.\"\n",
    "[27] \"mtDNA__coverage__.merged__data.\"\n",
    "[28] \"mtDNA__haplogroup__if__.2x__or__published\"\n",
    "[29] \"mtDNA__match__to__consensus__if__.2x__.merged__data.\"\n",
    "[30] \"Damage__rate__in__first__nucleotide__on__sequences__overlapping__1240k__targets__.merged__data.\"\n",
    "[31] \"Sex__ratio__.Y..Y.X.__counts.__.merged__data.\"\n",
    "[32] \"Library__type : minus.no.damage.correction. \n",
    "                      half.damage.retained.at.last.position.\n",
    "                      plus.damage.fully.corrected.\n",
    "                      ds.double.stranded.library.preparation.\n",
    "                      ss.single.stranded.library.preparation.\"                                                                                          \n",
    "[33] \"Libraries\"\n",
    "[34] \"ASSESSMENT\"\n",
    "[35] \"ASSESSMENT__WARNINGS__.Xcontam__interval__is__listed__if__lower__bound__is__.0.005.__QUESTIONABLE__if__lower__bound__is__0.01.0.02.__QUESTIONABLE_CRITICAL__or__FAIL__if__lower__bound__is__.0.02.__.mtcontam__confidence__interval__is__listed__if__coverage__.2__and__upper__bound__is__.0.\"\n",
    "[36] \"X\" "
   ]
  },
  {
   "cell_type": "markdown",
   "id": "89320a2b-a326-47b0-9a0c-3586a7b36c99",
   "metadata": {},
   "source": [
    "To make it easier to work with this dataset, I change the header"
   ]
  },
  {
   "cell_type": "code",
   "execution_count": null,
   "id": "b89f9b87-a4b5-49f4-b9a4-6cf5956f3769",
   "metadata": {},
   "outputs": [],
   "source": [
    "%%R\n",
    "\n",
    "colnames <- c(\"indivi\", \"master\", \"foscod\", \"fosele\", \"yearpu\", \"public\",\n",
    "              \"datmet\", \"datmea\", \"datstd\", \"datful\", \"agdead\", \"grouid\",\n",
    "              \"locate\", \"countr\", \"latitu\", \"longit\", \"pulldo\", \"source\",\n",
    "              \"numlib\", \"covera\", \"snps12\", \"snpsHO\", \"sexsex\", \"family\", \n",
    "              \"haply1\", \"haply2\", \"covemt\", \"haplmt\", \"matcmt\", \"damage\", \n",
    "              \"sexrat\", \"libtyp\", \"librar\", \"assess\", \"warnin\")\n",
    "\n",
    "read.csv(\"/maps/projects/racimolab/people/qxz396/spaceNNtime/files/v54.1_1240K_public_reformated.anno\", header = T, sep = \";\", col.names = colnames) -> metadata\n",
    "\n",
    "metadata %>% head()"
   ]
  },
  {
   "cell_type": "markdown",
   "id": "6970853e-16e1-4314-a00d-932e34385e90",
   "metadata": {},
   "source": [
    "I first create a new column that identifies how the sample was dated with a simplified version compared to the original one. It is important to note that there are many belonging to the context which were dated because they were found with a directed dated bone, so, in a way, they could be considered to be directly dated as well. "
   ]
  },
  {
   "cell_type": "code",
   "execution_count": null,
   "id": "71dbfd46-c5fd-4dc1-9f41-d221b4f4306c",
   "metadata": {},
   "outputs": [],
   "source": [
    "%%R\n",
    "\n",
    "metadata %>% \n",
    "    mutate(datme2 = ifelse(str_detect(datmet, \"^Direct\"), \"Direct\", \n",
    "                          ifelse(str_detect(datmet, \"^Context\"), \"Context\", \n",
    "                                 ifelse(str_detect(datmet, \"^Modern\"), \"Modern\", \n",
    "                                       ifelse(str_detect(datmet, \"^Known\"), \"Known\", \"Others\"))))) -> metadata"
   ]
  },
  {
   "cell_type": "markdown",
   "id": "57ba2d87-edfc-4fd1-a7c3-c728a9a1b41b",
   "metadata": {},
   "source": [
    "Now we can start exploring the metadata file and see what information is contained.\n",
    "\n",
    "How many samples belong to each method of dating category and from each, how many are repeated multiple times"
   ]
  },
  {
   "cell_type": "code",
   "execution_count": null,
   "id": "f4930451-f58a-48b9-bc25-c65468916541",
   "metadata": {},
   "outputs": [],
   "source": [
    "%%R\n",
    "\n",
    "#legend:\n",
    "#   - n   : number of times an individual is repeated\n",
    "#   - nn  : number of master labels are repeated n times\n",
    "#   - nnn : number of rows correspond to each number of n repeated entries\n",
    "\n",
    "metadata %>% \n",
    "    group_by(master, datme2) %>%\n",
    "    summarize(n = n()) %>%\n",
    "    ungroup() %>%\n",
    "    group_by(datme2, n) %>%\n",
    "    summarize(nn = n()) %>%\n",
    "    mutate(nnn = n*nn) %>%\n",
    "    mutate(percin = round(nnn/sum(nnn)*100, 3)) %>%\n",
    "    ungroup() %>%\n",
    "    mutate(perc = round(nnn/sum(nnn)*100, 3))"
   ]
  },
  {
   "cell_type": "markdown",
   "id": "42ce3558-9e23-4646-9341-5f775ad6e03f",
   "metadata": {},
   "source": [
    "I can see that for: \n",
    "   + Context = \\~3% (\\~1% of the total)\n",
    "   + Direct = \\~10% (\\~3% of the total)\n",
    "   + Modern = \\~83% (\\~31% of the total)\n",
    "\n",
    "of samples are repeated more than once. This amounts to 35% of the total data set is composed of individuals repeated multiple times.\n",
    "\n",
    "There is another column which should be used for filtering the data: \"assess\". This is some sort of assessment done per sample which tells us if a sample should be included in analysis or not. Because my intention is to use these samples to learn dating and localizing, it is important that they are of good quality. "
   ]
  },
  {
   "cell_type": "code",
   "execution_count": null,
   "id": "6e408c46-f2c4-47e4-a2c6-05e859b0cfcb",
   "metadata": {},
   "outputs": [],
   "source": [
    "%%R\n",
    "\n",
    "metadata %>% \n",
    "    group_by(master) %>%\n",
    "    mutate(rep = n()) %>%\n",
    "    ungroup() %>%\n",
    "    mutate(haspass = ifelse(str_detect(assess, \"PASS\"), 1, 2)) %>%\n",
    "    mutate(haspass = ifelse(assess == \"PASS\", 0, haspass)) %>%\n",
    "    group_by(rep, assess, haspass) %>%\n",
    "    summarize(n = n()) %>%\n",
    "    ungroup() %>%\n",
    "    mutate(perc = round(100*n/sum(n), 2)) %>%\n",
    "    arrange(haspass, n) %>%\n",
    "    mutate(assess = substr(assess, 0, 40)) %>%\n",
    "    group_by(haspass) %>%\n",
    "    mutate(tothaspas = sum(perc)) %>%\n",
    "    ungroup() %>%\n",
    "    as.data.frame() %>%\n",
    "    print()"
   ]
  },
  {
   "cell_type": "markdown",
   "id": "f97a6950-8b70-4fdb-bdc9-fcf3339f1019",
   "metadata": {},
   "source": [
    "A big proportion of the data is flagged with the assessment PASS (80%) which is good. A big proportion of those are composed of samples that are repeated (25%) but most of those will be recovered. \n",
    "\n",
    "16% of the data has the flag PASS with some other annotation. >90% of those have the flag \"PASS_MAYBE_REPLACE_IN_FUTURE_WITH_LESS_FILTERED_VERSION_WITH_MORE_SNPS_COVERED\". The rest look ok, and since most of them are repeated multiple times, there is a good chance that the repeated version will have a PASS flag. So, I'll include those samples as well. \n",
    "\n",
    "Only a 3% of samples have a undesirable assessment flag. These are going to be dropped. "
   ]
  },
  {
   "cell_type": "code",
   "execution_count": null,
   "id": "5d3f4210-56cb-491a-ad0a-b3950e243759",
   "metadata": {},
   "outputs": [],
   "source": [
    "%%R\n",
    "\n",
    "metadata %>% \n",
    "    mutate(asses2 = ifelse(str_detect(assess, \"PASS\"), \"semiPASS\", \"FAIL\")) %>%\n",
    "    mutate(asses2 = ifelse(assess == \"PASS\", \"PASS\", asses2)) %>%\n",
    "    group_by(datme2, asses2) %>%\n",
    "    summarize(n = n()) %>%\n",
    "    ungroup() %>%\n",
    "    group_by(datme2) %>%\n",
    "    mutate(percdatme2 = n/sum(n)*100) %>%\n",
    "    ungroup() %>%\n",
    "    group_by(asses2) %>%\n",
    "    mutate(percasses2 = n/sum(n)*100) %>%\n",
    "    ungroup() %>%\n",
    "    mutate(perc = n/sum(n)*100)"
   ]
  },
  {
   "cell_type": "markdown",
   "id": "90db0b48-e3cc-4f00-8821-f51de5511600",
   "metadata": {},
   "source": [
    "Looking at the percentage of the data that belongs to each assessment category, it seems that all the FAIL flags belong to samples dated by Context and Directly dated (50-50). Moreover, the semiPASS, which are flags with the code \"PASS\" with some other annotation, almost all belong to the modern data. For the PASS samples, they are equally divided between Context, Direct and Modern. \n",
    "\n",
    "Looking at the percentage of data that belong to each dating method category, we can see that most of the Context and Direct have passed (>93%). For the Modern is 2/3 pass and 1/3 in semi passed.\n",
    "\n",
    "Now, I'll check between the dating method the assessment and the number of times the the sample is repeated. "
   ]
  },
  {
   "cell_type": "code",
   "execution_count": null,
   "id": "8fa12a82-0280-44e9-862e-ed93bc8d25ee",
   "metadata": {},
   "outputs": [],
   "source": [
    "%%R\n",
    "\n",
    "#legend:\n",
    "#   - n   : number of times an individual is repeated\n",
    "#   - nn  : number of master labels are repeated n times\n",
    "#   - nnn : number of rows correspond to each number of n repeated entries\n",
    "\n",
    "metadata %>% \n",
    "    mutate(asses2 = ifelse(assess == \"PASS\", TRUE, FALSE)) %>%\n",
    "    group_by(master, asses2, datme2) %>%\n",
    "    summarize(n = n()) %>%\n",
    "    ungroup() %>%\n",
    "    group_by(datme2, asses2, n) %>%\n",
    "    summarize(nn = n()) %>%\n",
    "    mutate(nnn = n*nn) %>%\n",
    "    mutate(perc = round(nnn/sum(nnn)*100, 3))"
   ]
  },
  {
   "cell_type": "code",
   "execution_count": null,
   "id": "8bf0488d-cd95-439d-81ba-d919814b7db5",
   "metadata": {},
   "outputs": [],
   "source": [
    "%%R\n",
    "\n",
    "#legend:\n",
    "#   - n   : number of times an individual is repeated\n",
    "#   - nn  : number of master labels are repeated n times\n",
    "#   - nnn : number of rows correspond to each number of n repeated entries\n",
    "\n",
    "metadata %>% \n",
    "    mutate(asses2 = ifelse(str_detect(assess, \"PASS\"), \"semiPASS\", \"FAIL\")) %>%\n",
    "    mutate(asses2 = ifelse(assess == \"PASS\", \"PASS\", asses2)) %>%\n",
    "    select(master, datme2, asses2) %>%\n",
    "    group_by(master, datme2, asses2) %>%\n",
    "    summarize(n = n()) %>%\n",
    "    spread(asses2, n, fill = 0) %>%\n",
    "    mutate(TOTAL = FAIL+PASS+semiPASS) %>%\n",
    "    ungroup() %>%\n",
    "    group_by(datme2, FAIL, PASS, semiPASS, TOTAL) %>%\n",
    "    summarize(n = n()) %>%\n",
    "    arrange(datme2, TOTAL) %>%\n",
    "    as.data.frame()"
   ]
  },
  {
   "cell_type": "code",
   "execution_count": null,
   "id": "714c57fe-938b-42f9-a064-b2c046a9f528",
   "metadata": {},
   "outputs": [],
   "source": [
    "%%R\n",
    "\n",
    "metadata %>%\n",
    "    filter(master == \"CSP002\")"
   ]
  },
  {
   "cell_type": "code",
   "execution_count": null,
   "id": "a1d1a4cb-25ab-4f1e-928b-cfdca954763f",
   "metadata": {},
   "outputs": [],
   "source": [
    "%%R\n",
    "\n",
    "metadata %>% \n",
    "    mutate(asses2 = ifelse(str_detect(assess, \"PASS\"), \"semiPASS\", \"FAIL\")) %>%\n",
    "    mutate(asses2 = ifelse(assess == \"PASS\", \"PASS\", asses2)) %>%\n",
    "    mutate(asses3 = ifelse(str_detect(assess, \"PASS\"), \"semiPASS\", \"FAIL\")) %>%\n",
    "    mutate(asses3 = ifelse(assess == \"PASS\", \"PASS\", asses3)) %>%\n",
    "    group_by(master, datme2) %>%\n",
    "    mutate(n = n()) %>%\n",
    "    select(indivi, master, asses2, asses3, covera, snps12, n) %>%\n",
    "    ungroup() %>%\n",
    "    group_by(indivi, master, datme2, asses2) %>%\n",
    "    mutate(nn = n()) %>%\n",
    "    filter(n > 1) %>%\n",
    "    spread(asses2, nn, fill = 0) %>%\n",
    "    ungroup() %>%\n",
    "    group_by(master) %>%\n",
    "    mutate(FAIL = sum(FAIL), PASS = sum(PASS), semiPASS = sum(semiPASS)) %>%\n",
    "    arrange(master) %>%\n",
    "    #head(100) %>%\n",
    "    ungroup() %>%\n",
    "    select(-c(master)) %>%\n",
    "    #filter(PASS != n) %>%\n",
    "    filter(semiPASS > 1) %>%\n",
    "    #filter(datme2 != \"Modern\") %>%\n",
    "    mutate(indivi = substr(indivi, 0, 12)) %>%\n",
    "    as.data.frame()\n",
    "    #mutate(TOTAL = FAIL+PASS+semiPASS) %>%\n",
    "    #filter(PASS+semiPASS > 1) %>%\n",
    "    #filter(PASS > 0, semiPASS > 0) %>%\n",
    "    #select(indivi, master, datme2, FAIL, PASS, semiPASS, TOTAL, asses3, covera, snps12) %>%\n",
    "    #head()\n",
    "\n",
    "\n",
    "    #ungroup() %>%\n",
    "    #group_by(datme2, FAIL, PASS, semiPASS, TOTAL) %>%\n",
    "    #summarize(n = n()) %>%\n",
    "    #arrange(datme2, TOTAL) %>%\n",
    "    #as.data.frame()"
   ]
  },
  {
   "cell_type": "code",
   "execution_count": null,
   "id": "fa3d7fb5-c67f-4d38-98be-8baf5f82ce02",
   "metadata": {},
   "outputs": [],
   "source": [
    "%%R\n",
    "\n",
    "metadata %>% \n",
    "    count(master) %>%\n",
    "    filter(n > 1) %>%\n",
    "    pull(master) -> multiple\n",
    "    \n",
    "metadata %>% \n",
    "    filter(datme2 != \"Modern\") %>%\n",
    "    filter(master %in% multiple) %>%\n",
    "    head(100) %>%\n",
    "    #filter(master == \"HG02790\") %>%\n",
    "    select(indivi, master, latitu, longit, source, covera, snps12, assess, warnin, datme2) %>%\n",
    "    arrange(master)"
   ]
  },
  {
   "cell_type": "code",
   "execution_count": null,
   "id": "3df51689-cedc-4f7b-be70-d20706697bd0",
   "metadata": {},
   "outputs": [],
   "source": [
    "%%R\n",
    "\n",
    "metadata %>%\n",
    "    select(master, datme2, latitu, longit, locate) %>%\n",
    "    distinct() %>%\n",
    "    mutate(hascoo = ifelse(latitu != \"..\" & longit != \"..\", TRUE, FALSE),\n",
    "           hasloc = ifelse(locate != \"..\", TRUE, FALSE)) %>%\n",
    "    count(datme2, hascoo, hasloc) %>%\n",
    "    mutate(perc = round(n/sum(n)*100, 3))"
   ]
  },
  {
   "cell_type": "code",
   "execution_count": null,
   "id": "d488e7bd-3b1a-4ec2-b843-e5f7243c2f0d",
   "metadata": {},
   "outputs": [],
   "source": [
    "%%R\n",
    "\n",
    "metadata %>%\n",
    "    mutate(hascoo = ifelse(latitu != \"..\" & longit != \"..\", TRUE, FALSE),\n",
    "           hasloc = ifelse(locate != \"..\", TRUE, FALSE)) %>%\n",
    "    count(datme2, hascoo, hasloc) %>%\n",
    "    mutate(perc = round(n/sum(n)*100, 3))"
   ]
  },
  {
   "cell_type": "code",
   "execution_count": null,
   "id": "1bbf11aa-2c92-4f97-9488-ae5c69dc9421",
   "metadata": {},
   "outputs": [],
   "source": [
    "%%R -w 750\n",
    "\n",
    "plot_grid(\n",
    "    metadata %>% \n",
    "        filter(latitu != \"..\", longit != \"..\") %>%\n",
    "        select(master, datme2, datmea) %>%\n",
    "        distinct() %>%\n",
    "        ggplot() +\n",
    "        geom_histogram(aes(x = datmea), bins = 100) +\n",
    "        scale_y_log10(), \n",
    "    metadata %>% \n",
    "        filter(latitu != \"..\", longit != \"..\") %>%\n",
    "        select(master, datme2, datmea) %>%\n",
    "        distinct() %>%\n",
    "        ggplot() +\n",
    "        geom_histogram(aes(x = datmea, fill = datme2), bins = 100, show.legend = F) +\n",
    "        geom_vline(data = . %>% group_by(datme2) %>% summarize(mean = mean(datmea)), \n",
    "                   aes(xintercept = mean, color = datme2), show.legend = F) +\n",
    "        geom_text(data = . %>% group_by(datme2) %>% summarize(mean = mean(datmea), n = n()), \n",
    "                  aes(x = 20000, y = 1000, label = paste(round(mean, 2), \"\\n (\", n, \")\"), color = datme2), show.legend = F) +\n",
    "        coord_cartesian(xlim = c(0, 60000)) +\n",
    "        scale_y_log10() +\n",
    "        facet_wrap(.~datme2, nrow = 1), nrow = 2, align = \"v\")"
   ]
  },
  {
   "cell_type": "code",
   "execution_count": null,
   "id": "0a594802-f605-4209-81fa-b199bf3ddaa9",
   "metadata": {},
   "outputs": [],
   "source": [
    "%%R\n",
    "\n",
    "\n",
    "metadata %>% \n",
    "    filter(datme2 != \"Modern\") %>%\n",
    "    filter(latitu != \"..\", longit != \"..\") %>%\n",
    "    arrange(datmea) %>%\n",
    "    mutate(nrow = 1:n()) %>%\n",
    "    ggplot() +\n",
    "    geom_segment(aes(x = datmea-(2*datstd), xend = datmea+(2*datstd), y = nrow, yend = nrow)) +\n",
    "    geom_point(aes(y = nrow, x = datmea, color = datme2)) +\n",
    "    scale_x_log10()\n"
   ]
  },
  {
   "cell_type": "code",
   "execution_count": null,
   "id": "0a8d4c37-0379-4330-9c62-3fd45d4d1aea",
   "metadata": {},
   "outputs": [],
   "source": [
    "%%R\n",
    "\n",
    "metadata %>% \n",
    "    select(latitu, longit) %>%\n",
    "    filter(latitu != \"..\", longit != \"..\") %>%\n",
    "    head()"
   ]
  },
  {
   "cell_type": "code",
   "execution_count": null,
   "id": "4f059646-f143-449f-b82c-3b748d9bce99",
   "metadata": {},
   "outputs": [],
   "source": [
    "%%R -w 1500 -h 750\n",
    "\n",
    "\n",
    "exp = \"56\"\n",
    "sim = \"europe\"\n",
    "\n",
    "\n",
    "metadata %>% \n",
    "    filter(datme2 != \"Modern\") %>%\n",
    "    ggplot() +\n",
    "    geom_sf(data = ne_countries(scale = \"medium\", returnclass = \"sf\")) +\n",
    "    #geom_point(aes(x = longit, y = latitu)) +\n",
    "    coord_sf(ylim = c(-75, 80), xlim = c(-160, 160)) +\n",
    "    xlab(\"Longitude (º)\") +\n",
    "    ylab(\"Latitude (º)\") +\n",
    "    theme_bw()"
   ]
  },
  {
   "cell_type": "code",
   "execution_count": null,
   "id": "93464cd7-3d2f-4501-a3ab-f986b730121d",
   "metadata": {},
   "outputs": [],
   "source": []
  }
 ],
 "metadata": {
  "kernelspec": {
   "display_name": "Python 3 (ipykernel)",
   "language": "python",
   "name": "python3"
  },
  "language_info": {
   "codemirror_mode": {
    "name": "ipython",
    "version": 3
   },
   "file_extension": ".py",
   "mimetype": "text/x-python",
   "name": "python",
   "nbconvert_exporter": "python",
   "pygments_lexer": "ipython3",
   "version": "3.9.7"
  }
 },
 "nbformat": 4,
 "nbformat_minor": 5
}
