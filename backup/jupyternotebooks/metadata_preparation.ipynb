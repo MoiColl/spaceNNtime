{
 "cells": [
  {
   "cell_type": "markdown",
   "id": "1b78baa7-2d27-4835-a82b-a7b902a2fc6e",
   "metadata": {},
   "source": [
    "# Simulation Sample Preparation\n",
    "\n",
    "In this notebook I setup the different samples I'm going to use for each experiment to test the spaceNNtime neural net.\n",
    "\n",
    "<a name=\"Home3\"></a>\n",
    "\n",
    "## Contents\n",
    "\n",
    "0. [ Library and packages ](#Lib)\n",
    "1. [ Metadata Preparation ](#Met)\n",
    "    + 1. [ Downsampling and Gold ](#Dow)\n",
    "    + 2. [ Real ](#Rea)\n",
    "\n",
    "<a name=\"Lib\"></a>\n",
    "## 0. Library and packages"
   ]
  },
  {
   "cell_type": "code",
   "execution_count": 1,
   "id": "30ef4768-a859-4d61-9735-2d396a06b006",
   "metadata": {},
   "outputs": [],
   "source": [
    "import pandas as pd\n",
    "\n",
    "%load_ext rpy2.ipython"
   ]
  },
  {
   "cell_type": "code",
   "execution_count": 2,
   "id": "b0fc3460-53dc-4f32-a9ff-b292e172bbb1",
   "metadata": {},
   "outputs": [
    {
     "name": "stderr",
     "output_type": "stream",
     "text": [
      "R[write to console]: ── Attaching packages ─────────────────────────────────────── tidyverse 1.3.1 ──\n",
      "\n",
      "R[write to console]: ✔ ggplot2 3.3.6     ✔ purrr   0.3.4\n",
      "✔ tibble  3.1.7     ✔ dplyr   1.0.9\n",
      "✔ tidyr   1.2.0     ✔ stringr 1.4.0\n",
      "✔ readr   2.1.2     ✔ forcats 0.5.1\n",
      "\n",
      "R[write to console]: ── Conflicts ────────────────────────────────────────── tidyverse_conflicts() ──\n",
      "✖ dplyr::filter() masks stats::filter()\n",
      "✖ dplyr::lag()    masks stats::lag()\n",
      "\n"
     ]
    }
   ],
   "source": [
    "%%R\n",
    "\n",
    "library(tidyverse)"
   ]
  },
  {
   "cell_type": "markdown",
   "id": "b1036b26-1869-4f39-b3fc-8b64dfa85ead",
   "metadata": {},
   "source": [
    "\n",
    "[<img src=\"arrow.png\" width=\"100\" style=\"float: left;\">](#Home3) &nbsp;\n",
    "\n",
    "&nbsp;\n",
    "\n",
    "\n",
    "<a name=\"Met\"></a>\n",
    "## 1. Metadata Preparation\n",
    "\n",
    "\n",
    "<a name=\"Dow\"></a>\n",
    "### A. Downsampling and Gold\n",
    "\n",
    "\n"
   ]
  },
  {
   "cell_type": "code",
   "execution_count": 3,
   "id": "15a4446a-3891-493e-ae51-c08936388b36",
   "metadata": {},
   "outputs": [],
   "source": [
    "%%bash\n",
    "\n",
    "mkdir -p /home/moicoll/spaceNNtime/data/europe/metadata"
   ]
  },
  {
   "cell_type": "code",
   "execution_count": 4,
   "id": "4715f633-5892-47b7-aa3e-6ccf67251500",
   "metadata": {},
   "outputs": [],
   "source": [
    "metadata = pd.read_csv(\"/home/moicoll/spaceNNtime/data/europe/metadata.txt\", sep = \"\\t\")\n",
    "\n",
    "prev_metadata = metadata\n",
    "for name, n in zip([1, 2, 3, 4, 5, 6, 7], [15_000, 10_000, 5_000, 1_500, 1_000, 500, 250]):\n",
    "    prev_metadata = prev_metadata.sample(n=n, replace=False, random_state=1234, axis=None, ignore_index=False)\n",
    "    prev_metadata.to_csv(\"/home/moicoll/spaceNNtime/data/europe/metadata/{}.txt\".format(name), sep='\\t', index=False, doublequote=False)"
   ]
  },
  {
   "cell_type": "code",
   "execution_count": 5,
   "id": "dd054a42-f85a-4a55-b5f3-45ab90ceba11",
   "metadata": {},
   "outputs": [
    {
     "name": "stdout",
     "output_type": "stream",
     "text": [
      "ind_id\tpop\ttime\tsampled\tlat\tlon\tnode1\tnode2\n",
      "22333\tEUR\t24463\tTrue\t35.1290327524117\t37.6233169117395\t15824\t15825\n",
      "44487\tEUR\t2105\tTrue\t20.3047164869021\t43.5672844706891\t29118\t29119\n",
      "36478\tANA\t10553\tTrue\t32.0079192307929\t37.1394680565021\t24092\t24093\n",
      "34047\tANA\t12953\tTrue\t36.2979709518097\t39.4480158641814\t22700\t22701\n",
      "38827\tEHG\t8323\tTrue\t12.5418869819229\t51.8267153434264\t25466\t25467\n",
      "4667\tOOA\t45230\tTrue\t47.3616912041372\t29.3017423669617\t3418\t3419\n",
      "29805\tEHG\t17206\tTrue\t35.31183396654\t58.7746113287844\t20178\t20179\n",
      "23347\tEHG\t23502\tTrue\t44.2937770093032\t55.7164362659577\t16426\t16427\n",
      "7834\tOOA\t41164\tTrue\t57.7679852144354\t38.0647655269939\t5818\t5819\n"
     ]
    }
   ],
   "source": [
    "%%bash\n",
    "\n",
    "head /home/moicoll/spaceNNtime/data/europe/metadata/1.txt"
   ]
  },
  {
   "cell_type": "code",
   "execution_count": 6,
   "id": "fca6ca16-0df3-42bd-a743-35cdc75b93ef",
   "metadata": {},
   "outputs": [
    {
     "name": "stdout",
     "output_type": "stream",
     "text": [
      "15001 /home/moicoll/spaceNNtime/data/europe/metadata/1.txt\n",
      "10001 /home/moicoll/spaceNNtime/data/europe/metadata/2.txt\n",
      "5001 /home/moicoll/spaceNNtime/data/europe/metadata/3.txt\n",
      "1501 /home/moicoll/spaceNNtime/data/europe/metadata/4.txt\n",
      "1001 /home/moicoll/spaceNNtime/data/europe/metadata/5.txt\n",
      "501 /home/moicoll/spaceNNtime/data/europe/metadata/6.txt\n",
      "251 /home/moicoll/spaceNNtime/data/europe/metadata/7.txt\n"
     ]
    }
   ],
   "source": [
    "%%bash\n",
    "\n",
    "for name in `seq 1 7`;\n",
    "    do\n",
    "    wc -l /home/moicoll/spaceNNtime/data/europe/metadata/${name}.txt\n",
    "done"
   ]
  },
  {
   "cell_type": "markdown",
   "id": "53ac98f0-b5fa-4a1c-9c1a-87b5d79789c3",
   "metadata": {},
   "source": [
    "[<img src=\"arrow.png\" width=\"100\" style=\"float: left;\">](#Home3) &nbsp;\n",
    "\n",
    "&nbsp;\n",
    "\n",
    "<a name=\"Rea\"></a>\n",
    "### B. Real"
   ]
  },
  {
   "cell_type": "markdown",
   "id": "9195bbbb-f959-4520-8475-39bf943a3bf7",
   "metadata": {},
   "source": [
    "In this experiment, I'll try to match the sampling distribution in the temporal dimention of the MesoNeo data. For that, I have explored the distribution in that axis in the real data and grouped samples in windows of 1,000 years and counted how many samples do I get for each temporal bin. I obtained the data below."
   ]
  },
  {
   "cell_type": "code",
   "execution_count": 7,
   "id": "74afdf86-5759-41c7-b063-a9d6f07146b9",
   "metadata": {},
   "outputs": [
    {
     "data": {
      "image/png": "[encoded data removed]"
     },
     "metadata": {},
     "output_type": "display_data"
    }
   ],
   "source": [
    "%%R\n",
    "\n",
    "mesoneo_temp_bins_n = data.frame(time = c(1000, 2000, 3000, 4000, 5000, 6000, 7000, 8000,  9000, 10000, 11000, 12000, 13000, 14000, 24000, 25000, 31000, 32000, 33000, 34000, 37000, 45000),\n",
    "                                 n     = c( 370,  369,  161,  135,  177,  148,   86,  105,    40,    31,    24,     3,     1,     2,     1,     1,     1,     2,     1,     1,     2,     1)) \n",
    "mesoneo_temp_bins_n %>%\n",
    "    ggplot() +\n",
    "    geom_bar(stat = \"identity\", aes(x = time, y = n))"
   ]
  },
  {
   "cell_type": "code",
   "execution_count": 8,
   "id": "08858b4f-571c-409f-b7d8-2a5b9c15b722",
   "metadata": {},
   "outputs": [
    {
     "name": "stdout",
     "output_type": "stream",
     "text": [
      "     n\n",
      "1 1662\n"
     ]
    }
   ],
   "source": [
    "%%R\n",
    "\n",
    "mesoneo_temp_bins_n %>%\n",
    "    summarize(n = sum(n))"
   ]
  },
  {
   "cell_type": "code",
   "execution_count": 9,
   "id": "fc097edc-d967-4f8e-9316-65e120659743",
   "metadata": {},
   "outputs": [
    {
     "name": "stdout",
     "output_type": "stream",
     "text": [
      "  ind_id pop  time sampled      lat      lon node1 node2\n",
      "1  22333 EUR 24463    True 35.12903 37.62332 15824 15825\n",
      "2  44487 EUR  2105    True 20.30472 43.56728 29118 29119\n",
      "3  36478 ANA 10553    True 32.00792 37.13947 24092 24093\n",
      "4  34047 ANA 12953    True 36.29797 39.44802 22700 22701\n",
      "5  38827 EHG  8323    True 12.54189 51.82672 25466 25467\n",
      "6   4667 OOA 45230    True 47.36169 29.30174  3418  3419\n"
     ]
    }
   ],
   "source": [
    "%%R\n",
    "\n",
    "metadata = read.table(\"/home/moicoll/spaceNNtime/data/europe/metadata/1.txt\", header = T) \n",
    "\n",
    "metadata %>% head()"
   ]
  },
  {
   "cell_type": "code",
   "execution_count": 10,
   "id": "67c3d626-f100-4cff-932d-cdbe45e4e8c0",
   "metadata": {},
   "outputs": [],
   "source": [
    "%%R \n",
    "\n",
    "mesoneo_downsampled = data.frame()\n",
    "\n",
    "set.seed(1234)\n",
    "\n",
    "for(t in mesoneo_temp_bins_n$time){\n",
    "    n_rea = mesoneo_temp_bins_n %>% filter(time == t) %>% pull(n)\n",
    "    n_sim = metadata %>% filter(t <= time, t+1000 > time) %>% nrow()\n",
    "    if(n_sim < n_rea){\n",
    "        mesoneo_downsampled = rbind(mesoneo_downsampled, metadata %>% filter(t <= time, t+1000 > time))\n",
    "    }else{\n",
    "        mesoneo_downsampled = rbind(mesoneo_downsampled, metadata %>% filter(t <= time, t+1000 > time) %>% sample_n(n_rea, replace = FALSE))\n",
    "    }\n",
    "                                     \n",
    "}\n"
   ]
  },
  {
   "cell_type": "code",
   "execution_count": 11,
   "id": "7a526d48-947b-43f0-98a1-6417b3ffe211",
   "metadata": {},
   "outputs": [
    {
     "name": "stdout",
     "output_type": "stream",
     "text": [
      "[1] 1499    8\n"
     ]
    }
   ],
   "source": [
    "%%R\n",
    "\n",
    "mesoneo_downsampled %>%\n",
    "    dim()"
   ]
  },
  {
   "cell_type": "code",
   "execution_count": 12,
   "id": "7d1ccc24-fa2a-4694-8ed0-b6750634f311",
   "metadata": {},
   "outputs": [
    {
     "data": {
      "image/png": "[encoded data removed]"
     },
     "metadata": {},
     "output_type": "display_data"
    }
   ],
   "source": [
    "%%R\n",
    "\n",
    "mesoneo_downsampled %>% \n",
    "    ggplot() +\n",
    "    geom_histogram(aes(x = time, fill = \"sim\"), bins = 50) +\n",
    "    geom_bar(data = mesoneo_temp_bins_n, stat = \"identity\", aes(x = time, y = n, fill = \"real\"), alpha = 0.5)"
   ]
  },
  {
   "cell_type": "code",
   "execution_count": 13,
   "id": "650fdd01-2376-4dc7-8ee6-1ff6a78eda04",
   "metadata": {},
   "outputs": [],
   "source": [
    "%%R\n",
    "\n",
    "write.table(x = mesoneo_downsampled, file = \"/home/moicoll/spaceNNtime/data/europe/metadata/8.txt\", append = FALSE, sep = \"\\t\", row.names = FALSE, col.names = TRUE, quote = FALSE)"
   ]
  },
  {
   "cell_type": "code",
   "execution_count": 14,
   "id": "22a3fbec-dbe2-4e11-98b9-9e50c3d5fdae",
   "metadata": {},
   "outputs": [
    {
     "name": "stdout",
     "output_type": "stream",
     "text": [
      "ind_id\tpop\ttime\tsampled\tlat\tlon\tnode1\tnode2\n",
      "44726\tEUR\t1839\tTrue\t24.7323827775943\t47.4840536299083\t29286\t29287\n",
      "44743\tEUR\t1798\tTrue\t20.8907623356569\t45.6570197191665\t29304\t29305\n",
      "45268\tEUR\t1000\tTrue\t2.40486894275938\t48.069668329689\t29736\t29737\n",
      "44760\tEUR\t1789\tTrue\t27.3801873885939\t47.800812693993\t29314\t29315\n",
      "45189\tEUR\t1150\tTrue\t26.6507325099244\t43.4340286541643\t29646\t29647\n",
      "44816\tEUR\t1708\tTrue\t4.00431106401085\t43.7140206117043\t29376\t29377\n",
      "44795\tEUR\t1759\tTrue\t20.0578594259468\t44.3649239898658\t29346\t29347\n",
      "45085\tEUR\t1340\tTrue\t21.6612455141949\t49.4515427603467\t29558\t29559\n",
      "44693\tEUR\t1860\tTrue\t9.41977112554445\t51.420381220628\t29256\t29257\n",
      "\n",
      "ind_id\tpop\ttime\tsampled\tlat\tlon\tnode1\tnode2\n",
      "22333\tEUR\t24463\tTrue\t35.1290327524117\t37.6233169117395\t15824\t15825\n",
      "44487\tEUR\t2105\tTrue\t20.3047164869021\t43.5672844706891\t29118\t29119\n",
      "36478\tANA\t10553\tTrue\t32.0079192307929\t37.1394680565021\t24092\t24093\n",
      "34047\tANA\t12953\tTrue\t36.2979709518097\t39.4480158641814\t22700\t22701\n",
      "38827\tEHG\t8323\tTrue\t12.5418869819229\t51.8267153434264\t25466\t25467\n",
      "4667\tOOA\t45230\tTrue\t47.3616912041372\t29.3017423669617\t3418\t3419\n",
      "29805\tEHG\t17206\tTrue\t35.31183396654\t58.7746113287844\t20178\t20179\n",
      "23347\tEHG\t23502\tTrue\t44.2937770093032\t55.7164362659577\t16426\t16427\n",
      "7834\tOOA\t41164\tTrue\t57.7679852144354\t38.0647655269939\t5818\t5819\n"
     ]
    }
   ],
   "source": [
    "%%bash\n",
    "\n",
    "head /home/moicoll/spaceNNtime/data/europe/metadata/8.txt\n",
    "echo \"\"\n",
    "head /home/moicoll/spaceNNtime/data/europe/metadata/1.txt"
   ]
  },
  {
   "cell_type": "code",
   "execution_count": 15,
   "id": "12bd8536-b192-4329-8d56-aced03fbb17d",
   "metadata": {},
   "outputs": [
    {
     "name": "stdout",
     "output_type": "stream",
     "text": [
      "1500 /home/moicoll/spaceNNtime/data/europe/metadata/8.txt\n"
     ]
    }
   ],
   "source": [
    "%%bash\n",
    "\n",
    "wc -l /home/moicoll/spaceNNtime/data/europe/metadata/8.txt"
   ]
  },
  {
   "cell_type": "markdown",
   "id": "0a5dd686-5ba5-46fc-b0c7-95bbf4850708",
   "metadata": {
    "tags": []
   },
   "source": [
    "[<img src=\"arrow.png\" width=\"100\" style=\"float: left;\">](#Home3) &nbsp;\n",
    "\n",
    "&nbsp;"
   ]
  }
 ],
 "metadata": {
  "kernelspec": {
   "display_name": "Python 3 (ipykernel)",
   "language": "python",
   "name": "python3"
  },
  "language_info": {
   "codemirror_mode": {
    "name": "ipython",
    "version": 3
   },
   "file_extension": ".py",
   "mimetype": "text/x-python",
   "name": "python",
   "nbconvert_exporter": "python",
   "pygments_lexer": "ipython3",
   "version": "3.8.12"
  }
 },
 "nbformat": 4,
 "nbformat_minor": 5
}
