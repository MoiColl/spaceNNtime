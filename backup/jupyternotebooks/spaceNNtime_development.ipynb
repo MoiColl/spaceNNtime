{
 "cells": [
  {
   "cell_type": "markdown",
   "id": "83cfc7f3-f534-41a8-8dcb-63836be7ad60",
   "metadata": {},
   "source": [
    "# spaceNNtime development following TF NN example\n",
    "\n",
    "In this notebook I'll develope spaceNNtime script following first a regression neural network tutorial provided by TensorFlow (https://www.tensorflow.org/tutorials/keras/regression).\n",
    "\n",
    "## Contents\n",
    "\n",
    "0. [ Packages ](#Pack)\n",
    "1. [ TF regression NN example ](#TFNN)\n",
    "    - 1.1. [ Loading data ](#Load)\n",
    "    - 1.2. [ Cleaning data ](#Clea)\n",
    "    - 1.3. [ Divide data into training and testing sets ](#Divi)\n",
    "    - 1.4. [ Remove labels from dataset ](#Remo)\n",
    "    - 1.5. [ Normalization ](#Norm)\n",
    "    - 1.6. [ Linear Regression ](#Line)\n",
    "    - 1.7. [ Multiple Linear Regression ](#Mult)\n",
    "    - 1.8. [ DNN ](#DNN)\n",
    "2. [ spaceNNtime ](#sNNt)\n",
    "\n",
    "\n",
    "<a name=\"Pack\"></a>\n",
    "### 0. Packages"
   ]
  },
  {
   "cell_type": "code",
   "execution_count": 44,
   "id": "4b1d0afd-a5f9-486f-afa3-adab68d03fc3",
   "metadata": {},
   "outputs": [],
   "source": [
    "import matplotlib.pyplot as plt\n",
    "import numpy as np\n",
    "import pandas as pd\n",
    "import seaborn as sns\n",
    "from scipy.stats import norm"
   ]
  },
  {
   "cell_type": "code",
   "execution_count": 2,
   "id": "16e2df51-6aaa-46f0-8c01-f5eeb2dc117e",
   "metadata": {},
   "outputs": [],
   "source": [
    "%load_ext rpy2.ipython"
   ]
  },
  {
   "cell_type": "code",
   "execution_count": 3,
   "id": "199912e5-c26c-42fd-8890-609b3f1300f7",
   "metadata": {},
   "outputs": [
    {
     "name": "stdout",
     "output_type": "stream",
     "text": [
      "2.6.2\n"
     ]
    }
   ],
   "source": [
    "import tensorflow as tf\n",
    "\n",
    "from tensorflow import keras\n",
    "from tensorflow.keras import layers\n",
    "\n",
    "print(tf.__version__)"
   ]
  },
  {
   "cell_type": "code",
   "execution_count": 4,
   "id": "4f09797e-cc2b-40b7-8c51-04a23b2c9c55",
   "metadata": {},
   "outputs": [
    {
     "name": "stderr",
     "output_type": "stream",
     "text": [
      "2022-09-22 09:07:04.239477: W tensorflow/stream_executor/platform/default/dso_loader.cc:64] Could not load dynamic library 'libcuda.so.1'; dlerror: libcuda.so.1: cannot open shared object file: No such file or directory; LD_LIBRARY_PATH: /home/moicoll/libcurl/lib:/home/moicoll/libcurl/lib:\n",
      "2022-09-22 09:07:04.239547: W tensorflow/stream_executor/cuda/cuda_driver.cc:269] failed call to cuInit: UNKNOWN ERROR (303)\n",
      "2022-09-22 09:07:04.239584: I tensorflow/stream_executor/cuda/cuda_diagnostics.cc:156] kernel driver does not appear to be running on this host (s21n82): /proc/driver/nvidia/version does not exist\n"
     ]
    },
    {
     "data": {
      "text/plain": [
       "[PhysicalDevice(name='/physical_device:CPU:0', device_type='CPU')]"
      ]
     },
     "execution_count": 4,
     "metadata": {},
     "output_type": "execute_result"
    }
   ],
   "source": [
    "tf.config.list_physical_devices()"
   ]
  },
  {
   "cell_type": "code",
   "execution_count": 5,
   "id": "ab236810-fe11-4625-88f9-79092b13c7f5",
   "metadata": {},
   "outputs": [
    {
     "name": "stdout",
     "output_type": "stream",
     "text": [
      "[name: \"/device:CPU:0\"\n",
      "device_type: \"CPU\"\n",
      "memory_limit: 268435456\n",
      "locality {\n",
      "}\n",
      "incarnation: 4419352626246981492\n",
      "]\n"
     ]
    },
    {
     "name": "stderr",
     "output_type": "stream",
     "text": [
      "2022-09-22 09:07:04.545639: I tensorflow/core/platform/cpu_feature_guard.cc:142] This TensorFlow binary is optimized with oneAPI Deep Neural Network Library (oneDNN) to use the following CPU instructions in performance-critical operations:  SSE4.1 SSE4.2 AVX AVX2 FMA\n",
      "To enable them in other operations, rebuild TensorFlow with the appropriate compiler flags.\n"
     ]
    }
   ],
   "source": [
    "from tensorflow.python.client import device_lib\n",
    "\n",
    "print(device_lib.list_local_devices())"
   ]
  },
  {
   "cell_type": "code",
   "execution_count": 6,
   "id": "4ae7ad35-58d1-4646-a820-0372c12f8f84",
   "metadata": {},
   "outputs": [
    {
     "name": "stdout",
     "output_type": "stream",
     "text": [
      "── Attaching packages ─────────────────────────────────────── tidyverse 1.3.2 ──\n",
      "✔ ggplot2 3.3.6     ✔ purrr   0.3.4\n",
      "✔ tibble  3.1.8     ✔ dplyr   1.0.9\n",
      "✔ tidyr   1.2.0     ✔ stringr 1.4.1\n",
      "✔ readr   2.1.2     ✔ forcats 0.5.2\n",
      "── Conflicts ────────────────────────────────────────── tidyverse_conflicts() ──\n",
      "✖ dplyr::filter() masks stats::filter()\n",
      "✖ dplyr::lag()    masks stats::lag()\n"
     ]
    }
   ],
   "source": [
    "%%R\n",
    "\n",
    "library(tidyverse)"
   ]
  },
  {
   "cell_type": "markdown",
   "id": "00225124-4d3c-4c73-9421-7060a2ca395d",
   "metadata": {},
   "source": [
    "<a name=\"TFNN\"></a>\n",
    "### 1. TF regression NN example\n",
    "\n",
    "<a name=\"Load\"></a>\n",
    "#### 1.1. Load data"
   ]
  },
  {
   "cell_type": "raw",
   "id": "5865e376-79df-443e-ab8c-5336cdaa1f7f",
   "metadata": {},
   "source": [
    "$ wget https://archive.ics.uci.edu/ml/machine-learning-databases/auto-mpg/auto-mpg.data"
   ]
  },
  {
   "cell_type": "code",
   "execution_count": 7,
   "id": "abbb3b33-66fd-44b6-a204-b8c2bf99d1dc",
   "metadata": {},
   "outputs": [
    {
     "data": {
      "text/html": [
       "<div>\n",
       "<style scoped>\n",
       "    .dataframe tbody tr th:only-of-type {\n",
       "        vertical-align: middle;\n",
       "    }\n",
       "\n",
       "    .dataframe tbody tr th {\n",
       "        vertical-align: top;\n",
       "    }\n",
       "\n",
       "    .dataframe thead th {\n",
       "        text-align: right;\n",
       "    }\n",
       "</style>\n",
       "<table border=\"1\" class=\"dataframe\">\n",
       "  <thead>\n",
       "    <tr style=\"text-align: right;\">\n",
       "      <th></th>\n",
       "      <th>MPG</th>\n",
       "      <th>Cylinders</th>\n",
       "      <th>Displacement</th>\n",
       "      <th>Horsepower</th>\n",
       "      <th>Weight</th>\n",
       "      <th>Acceleration</th>\n",
       "      <th>Model Year</th>\n",
       "      <th>Origin</th>\n",
       "    </tr>\n",
       "  </thead>\n",
       "  <tbody>\n",
       "    <tr>\n",
       "      <th>0</th>\n",
       "      <td>18.0</td>\n",
       "      <td>8</td>\n",
       "      <td>307.0</td>\n",
       "      <td>130.0</td>\n",
       "      <td>3504.0</td>\n",
       "      <td>12.0</td>\n",
       "      <td>70</td>\n",
       "      <td>1</td>\n",
       "    </tr>\n",
       "    <tr>\n",
       "      <th>1</th>\n",
       "      <td>15.0</td>\n",
       "      <td>8</td>\n",
       "      <td>350.0</td>\n",
       "      <td>165.0</td>\n",
       "      <td>3693.0</td>\n",
       "      <td>11.5</td>\n",
       "      <td>70</td>\n",
       "      <td>1</td>\n",
       "    </tr>\n",
       "    <tr>\n",
       "      <th>2</th>\n",
       "      <td>18.0</td>\n",
       "      <td>8</td>\n",
       "      <td>318.0</td>\n",
       "      <td>150.0</td>\n",
       "      <td>3436.0</td>\n",
       "      <td>11.0</td>\n",
       "      <td>70</td>\n",
       "      <td>1</td>\n",
       "    </tr>\n",
       "    <tr>\n",
       "      <th>3</th>\n",
       "      <td>16.0</td>\n",
       "      <td>8</td>\n",
       "      <td>304.0</td>\n",
       "      <td>150.0</td>\n",
       "      <td>3433.0</td>\n",
       "      <td>12.0</td>\n",
       "      <td>70</td>\n",
       "      <td>1</td>\n",
       "    </tr>\n",
       "    <tr>\n",
       "      <th>4</th>\n",
       "      <td>17.0</td>\n",
       "      <td>8</td>\n",
       "      <td>302.0</td>\n",
       "      <td>140.0</td>\n",
       "      <td>3449.0</td>\n",
       "      <td>10.5</td>\n",
       "      <td>70</td>\n",
       "      <td>1</td>\n",
       "    </tr>\n",
       "    <tr>\n",
       "      <th>...</th>\n",
       "      <td>...</td>\n",
       "      <td>...</td>\n",
       "      <td>...</td>\n",
       "      <td>...</td>\n",
       "      <td>...</td>\n",
       "      <td>...</td>\n",
       "      <td>...</td>\n",
       "      <td>...</td>\n",
       "    </tr>\n",
       "    <tr>\n",
       "      <th>393</th>\n",
       "      <td>27.0</td>\n",
       "      <td>4</td>\n",
       "      <td>140.0</td>\n",
       "      <td>86.0</td>\n",
       "      <td>2790.0</td>\n",
       "      <td>15.6</td>\n",
       "      <td>82</td>\n",
       "      <td>1</td>\n",
       "    </tr>\n",
       "    <tr>\n",
       "      <th>394</th>\n",
       "      <td>44.0</td>\n",
       "      <td>4</td>\n",
       "      <td>97.0</td>\n",
       "      <td>52.0</td>\n",
       "      <td>2130.0</td>\n",
       "      <td>24.6</td>\n",
       "      <td>82</td>\n",
       "      <td>2</td>\n",
       "    </tr>\n",
       "    <tr>\n",
       "      <th>395</th>\n",
       "      <td>32.0</td>\n",
       "      <td>4</td>\n",
       "      <td>135.0</td>\n",
       "      <td>84.0</td>\n",
       "      <td>2295.0</td>\n",
       "      <td>11.6</td>\n",
       "      <td>82</td>\n",
       "      <td>1</td>\n",
       "    </tr>\n",
       "    <tr>\n",
       "      <th>396</th>\n",
       "      <td>28.0</td>\n",
       "      <td>4</td>\n",
       "      <td>120.0</td>\n",
       "      <td>79.0</td>\n",
       "      <td>2625.0</td>\n",
       "      <td>18.6</td>\n",
       "      <td>82</td>\n",
       "      <td>1</td>\n",
       "    </tr>\n",
       "    <tr>\n",
       "      <th>397</th>\n",
       "      <td>31.0</td>\n",
       "      <td>4</td>\n",
       "      <td>119.0</td>\n",
       "      <td>82.0</td>\n",
       "      <td>2720.0</td>\n",
       "      <td>19.4</td>\n",
       "      <td>82</td>\n",
       "      <td>1</td>\n",
       "    </tr>\n",
       "  </tbody>\n",
       "</table>\n",
       "<p>398 rows × 8 columns</p>\n",
       "</div>"
      ],
      "text/plain": [
       "      MPG  Cylinders  Displacement  Horsepower  Weight  Acceleration  \\\n",
       "0    18.0          8         307.0       130.0  3504.0          12.0   \n",
       "1    15.0          8         350.0       165.0  3693.0          11.5   \n",
       "2    18.0          8         318.0       150.0  3436.0          11.0   \n",
       "3    16.0          8         304.0       150.0  3433.0          12.0   \n",
       "4    17.0          8         302.0       140.0  3449.0          10.5   \n",
       "..    ...        ...           ...         ...     ...           ...   \n",
       "393  27.0          4         140.0        86.0  2790.0          15.6   \n",
       "394  44.0          4          97.0        52.0  2130.0          24.6   \n",
       "395  32.0          4         135.0        84.0  2295.0          11.6   \n",
       "396  28.0          4         120.0        79.0  2625.0          18.6   \n",
       "397  31.0          4         119.0        82.0  2720.0          19.4   \n",
       "\n",
       "     Model Year  Origin  \n",
       "0            70       1  \n",
       "1            70       1  \n",
       "2            70       1  \n",
       "3            70       1  \n",
       "4            70       1  \n",
       "..          ...     ...  \n",
       "393          82       1  \n",
       "394          82       2  \n",
       "395          82       1  \n",
       "396          82       1  \n",
       "397          82       1  \n",
       "\n",
       "[398 rows x 8 columns]"
      ]
     },
     "execution_count": 7,
     "metadata": {},
     "output_type": "execute_result"
    }
   ],
   "source": [
    "column_names = ['MPG', 'Cylinders', 'Displacement', 'Horsepower', 'Weight',\n",
    "                'Acceleration', 'Model Year', 'Origin']\n",
    "\n",
    "raw_dataset = pd.read_csv(\"auto-mpg.data\", names=column_names,\n",
    "                          na_values='?', comment='\\t',\n",
    "                          sep=' ', skipinitialspace=True)\n",
    "dataset = raw_dataset.copy()\n",
    "dataset"
   ]
  },
  {
   "cell_type": "markdown",
   "id": "49c1641f-d02b-4465-a696-c36b0ed1c3ed",
   "metadata": {},
   "source": [
    "<a name=\"Clea\"></a>\n",
    "#### 1.2. Clean data\n",
    "\n",
    "Remove `na`s from the dataset"
   ]
  },
  {
   "cell_type": "code",
   "execution_count": 8,
   "id": "b6b1ab5b-dfae-4b43-be43-92f2f866c10f",
   "metadata": {},
   "outputs": [
    {
     "name": "stdout",
     "output_type": "stream",
     "text": [
      "Dataset\n",
      "-------\n",
      "MPG             0\n",
      "Cylinders       0\n",
      "Displacement    0\n",
      "Horsepower      6\n",
      "Weight          0\n",
      "Acceleration    0\n",
      "Model Year      0\n",
      "Origin          0\n",
      "dtype: int64\n",
      "\n",
      "Clean dataset\n",
      "-------------\n",
      "MPG             0\n",
      "Cylinders       0\n",
      "Displacement    0\n",
      "Horsepower      0\n",
      "Weight          0\n",
      "Acceleration    0\n",
      "Model Year      0\n",
      "Origin          0\n",
      "dtype: int64\n"
     ]
    }
   ],
   "source": [
    "print(\"Dataset\")\n",
    "print(\"-------\")\n",
    "print(dataset.isna().sum())\n",
    "dataset = dataset.dropna()\n",
    "print()\n",
    "print(\"Clean dataset\")\n",
    "print(\"-------------\")\n",
    "print(dataset.isna().sum())"
   ]
  },
  {
   "cell_type": "markdown",
   "id": "e9e063ea-bfe6-4ecf-b4f6-c5888cca631b",
   "metadata": {},
   "source": [
    "Transform categorical to numerical by first each category transformed to a number and then encoded to a one-hot endoe values with `pd.get_dummies()`"
   ]
  },
  {
   "cell_type": "code",
   "execution_count": 9,
   "id": "ea8a78e6-3638-47e7-aae4-7e08a5838b48",
   "metadata": {},
   "outputs": [
    {
     "name": "stderr",
     "output_type": "stream",
     "text": [
      "/scratch/6899867/ipykernel_29593/1867514152.py:1: SettingWithCopyWarning: \n",
      "A value is trying to be set on a copy of a slice from a DataFrame.\n",
      "Try using .loc[row_indexer,col_indexer] = value instead\n",
      "\n",
      "See the caveats in the documentation: https://pandas.pydata.org/pandas-docs/stable/user_guide/indexing.html#returning-a-view-versus-a-copy\n",
      "  dataset['Origin'] = dataset['Origin'].map({1: 'USA', 2: 'Europe', 3: 'Japan'})\n"
     ]
    },
    {
     "data": {
      "text/html": [
       "<div>\n",
       "<style scoped>\n",
       "    .dataframe tbody tr th:only-of-type {\n",
       "        vertical-align: middle;\n",
       "    }\n",
       "\n",
       "    .dataframe tbody tr th {\n",
       "        vertical-align: top;\n",
       "    }\n",
       "\n",
       "    .dataframe thead th {\n",
       "        text-align: right;\n",
       "    }\n",
       "</style>\n",
       "<table border=\"1\" class=\"dataframe\">\n",
       "  <thead>\n",
       "    <tr style=\"text-align: right;\">\n",
       "      <th></th>\n",
       "      <th>MPG</th>\n",
       "      <th>Cylinders</th>\n",
       "      <th>Displacement</th>\n",
       "      <th>Horsepower</th>\n",
       "      <th>Weight</th>\n",
       "      <th>Acceleration</th>\n",
       "      <th>Model Year</th>\n",
       "      <th>Europe</th>\n",
       "      <th>Japan</th>\n",
       "      <th>USA</th>\n",
       "    </tr>\n",
       "  </thead>\n",
       "  <tbody>\n",
       "    <tr>\n",
       "      <th>0</th>\n",
       "      <td>18.0</td>\n",
       "      <td>8</td>\n",
       "      <td>307.0</td>\n",
       "      <td>130.0</td>\n",
       "      <td>3504.0</td>\n",
       "      <td>12.0</td>\n",
       "      <td>70</td>\n",
       "      <td>0</td>\n",
       "      <td>0</td>\n",
       "      <td>1</td>\n",
       "    </tr>\n",
       "    <tr>\n",
       "      <th>1</th>\n",
       "      <td>15.0</td>\n",
       "      <td>8</td>\n",
       "      <td>350.0</td>\n",
       "      <td>165.0</td>\n",
       "      <td>3693.0</td>\n",
       "      <td>11.5</td>\n",
       "      <td>70</td>\n",
       "      <td>0</td>\n",
       "      <td>0</td>\n",
       "      <td>1</td>\n",
       "    </tr>\n",
       "    <tr>\n",
       "      <th>2</th>\n",
       "      <td>18.0</td>\n",
       "      <td>8</td>\n",
       "      <td>318.0</td>\n",
       "      <td>150.0</td>\n",
       "      <td>3436.0</td>\n",
       "      <td>11.0</td>\n",
       "      <td>70</td>\n",
       "      <td>0</td>\n",
       "      <td>0</td>\n",
       "      <td>1</td>\n",
       "    </tr>\n",
       "    <tr>\n",
       "      <th>3</th>\n",
       "      <td>16.0</td>\n",
       "      <td>8</td>\n",
       "      <td>304.0</td>\n",
       "      <td>150.0</td>\n",
       "      <td>3433.0</td>\n",
       "      <td>12.0</td>\n",
       "      <td>70</td>\n",
       "      <td>0</td>\n",
       "      <td>0</td>\n",
       "      <td>1</td>\n",
       "    </tr>\n",
       "    <tr>\n",
       "      <th>4</th>\n",
       "      <td>17.0</td>\n",
       "      <td>8</td>\n",
       "      <td>302.0</td>\n",
       "      <td>140.0</td>\n",
       "      <td>3449.0</td>\n",
       "      <td>10.5</td>\n",
       "      <td>70</td>\n",
       "      <td>0</td>\n",
       "      <td>0</td>\n",
       "      <td>1</td>\n",
       "    </tr>\n",
       "    <tr>\n",
       "      <th>...</th>\n",
       "      <td>...</td>\n",
       "      <td>...</td>\n",
       "      <td>...</td>\n",
       "      <td>...</td>\n",
       "      <td>...</td>\n",
       "      <td>...</td>\n",
       "      <td>...</td>\n",
       "      <td>...</td>\n",
       "      <td>...</td>\n",
       "      <td>...</td>\n",
       "    </tr>\n",
       "    <tr>\n",
       "      <th>393</th>\n",
       "      <td>27.0</td>\n",
       "      <td>4</td>\n",
       "      <td>140.0</td>\n",
       "      <td>86.0</td>\n",
       "      <td>2790.0</td>\n",
       "      <td>15.6</td>\n",
       "      <td>82</td>\n",
       "      <td>0</td>\n",
       "      <td>0</td>\n",
       "      <td>1</td>\n",
       "    </tr>\n",
       "    <tr>\n",
       "      <th>394</th>\n",
       "      <td>44.0</td>\n",
       "      <td>4</td>\n",
       "      <td>97.0</td>\n",
       "      <td>52.0</td>\n",
       "      <td>2130.0</td>\n",
       "      <td>24.6</td>\n",
       "      <td>82</td>\n",
       "      <td>1</td>\n",
       "      <td>0</td>\n",
       "      <td>0</td>\n",
       "    </tr>\n",
       "    <tr>\n",
       "      <th>395</th>\n",
       "      <td>32.0</td>\n",
       "      <td>4</td>\n",
       "      <td>135.0</td>\n",
       "      <td>84.0</td>\n",
       "      <td>2295.0</td>\n",
       "      <td>11.6</td>\n",
       "      <td>82</td>\n",
       "      <td>0</td>\n",
       "      <td>0</td>\n",
       "      <td>1</td>\n",
       "    </tr>\n",
       "    <tr>\n",
       "      <th>396</th>\n",
       "      <td>28.0</td>\n",
       "      <td>4</td>\n",
       "      <td>120.0</td>\n",
       "      <td>79.0</td>\n",
       "      <td>2625.0</td>\n",
       "      <td>18.6</td>\n",
       "      <td>82</td>\n",
       "      <td>0</td>\n",
       "      <td>0</td>\n",
       "      <td>1</td>\n",
       "    </tr>\n",
       "    <tr>\n",
       "      <th>397</th>\n",
       "      <td>31.0</td>\n",
       "      <td>4</td>\n",
       "      <td>119.0</td>\n",
       "      <td>82.0</td>\n",
       "      <td>2720.0</td>\n",
       "      <td>19.4</td>\n",
       "      <td>82</td>\n",
       "      <td>0</td>\n",
       "      <td>0</td>\n",
       "      <td>1</td>\n",
       "    </tr>\n",
       "  </tbody>\n",
       "</table>\n",
       "<p>392 rows × 10 columns</p>\n",
       "</div>"
      ],
      "text/plain": [
       "      MPG  Cylinders  Displacement  Horsepower  Weight  Acceleration  \\\n",
       "0    18.0          8         307.0       130.0  3504.0          12.0   \n",
       "1    15.0          8         350.0       165.0  3693.0          11.5   \n",
       "2    18.0          8         318.0       150.0  3436.0          11.0   \n",
       "3    16.0          8         304.0       150.0  3433.0          12.0   \n",
       "4    17.0          8         302.0       140.0  3449.0          10.5   \n",
       "..    ...        ...           ...         ...     ...           ...   \n",
       "393  27.0          4         140.0        86.0  2790.0          15.6   \n",
       "394  44.0          4          97.0        52.0  2130.0          24.6   \n",
       "395  32.0          4         135.0        84.0  2295.0          11.6   \n",
       "396  28.0          4         120.0        79.0  2625.0          18.6   \n",
       "397  31.0          4         119.0        82.0  2720.0          19.4   \n",
       "\n",
       "     Model Year  Europe  Japan  USA  \n",
       "0            70       0      0    1  \n",
       "1            70       0      0    1  \n",
       "2            70       0      0    1  \n",
       "3            70       0      0    1  \n",
       "4            70       0      0    1  \n",
       "..          ...     ...    ...  ...  \n",
       "393          82       0      0    1  \n",
       "394          82       1      0    0  \n",
       "395          82       0      0    1  \n",
       "396          82       0      0    1  \n",
       "397          82       0      0    1  \n",
       "\n",
       "[392 rows x 10 columns]"
      ]
     },
     "execution_count": 9,
     "metadata": {},
     "output_type": "execute_result"
    }
   ],
   "source": [
    "dataset['Origin'] = dataset['Origin'].map({1: 'USA', 2: 'Europe', 3: 'Japan'})\n",
    "dataset = pd.get_dummies(dataset, columns=['Origin'], prefix='', prefix_sep='')\n",
    "dataset"
   ]
  },
  {
   "cell_type": "markdown",
   "id": "9897deeb-0fd7-40a6-9e03-c884cef06cad",
   "metadata": {},
   "source": [
    "<a name=\"Divi\"></a>\n",
    "#### 1.3. Divide data into training and testing sets\n"
   ]
  },
  {
   "cell_type": "code",
   "execution_count": 10,
   "id": "c599f3de-a2be-46a4-8f4d-8a3c4895f391",
   "metadata": {},
   "outputs": [
    {
     "name": "stdout",
     "output_type": "stream",
     "text": [
      "(392, 10) (314, 10) (78, 10)\n"
     ]
    }
   ],
   "source": [
    "train_dataset = dataset.sample(frac=0.8, random_state=0)\n",
    "test_dataset = dataset.drop(train_dataset.index)\n",
    "print(dataset.shape, train_dataset.shape, test_dataset.shape)"
   ]
  },
  {
   "cell_type": "code",
   "execution_count": 11,
   "id": "c522949a-84e9-47f9-845f-c824daca7f98",
   "metadata": {},
   "outputs": [
    {
     "data": {
      "text/plain": [
       "<seaborn.axisgrid.PairGrid at 0x2b588a0f8520>"
      ]
     },
     "execution_count": 11,
     "metadata": {},
     "output_type": "execute_result"
    },
    {
     "data": {
      "image/png": "[encoded data removed]",
      "text/plain": [
       "<Figure size 720x720 with 20 Axes>"
      ]
     },
     "metadata": {
      "needs_background": "light"
     },
     "output_type": "display_data"
    }
   ],
   "source": [
    "# I don't visualize the training dataset because the notebook dies out\n",
    "sns.pairplot(test_dataset[['MPG', 'Cylinders', 'Displacement', 'Weight']], diag_kind='kde')"
   ]
  },
  {
   "cell_type": "code",
   "execution_count": 12,
   "id": "d436f0a8-3c5b-4516-88f5-e9493f42d45b",
   "metadata": {},
   "outputs": [
    {
     "data": {
      "text/html": [
       "<div>\n",
       "<style scoped>\n",
       "    .dataframe tbody tr th:only-of-type {\n",
       "        vertical-align: middle;\n",
       "    }\n",
       "\n",
       "    .dataframe tbody tr th {\n",
       "        vertical-align: top;\n",
       "    }\n",
       "\n",
       "    .dataframe thead th {\n",
       "        text-align: right;\n",
       "    }\n",
       "</style>\n",
       "<table border=\"1\" class=\"dataframe\">\n",
       "  <thead>\n",
       "    <tr style=\"text-align: right;\">\n",
       "      <th></th>\n",
       "      <th>MPG</th>\n",
       "      <th>Cylinders</th>\n",
       "      <th>Displacement</th>\n",
       "      <th>Horsepower</th>\n",
       "      <th>Weight</th>\n",
       "      <th>Acceleration</th>\n",
       "      <th>Model Year</th>\n",
       "      <th>Europe</th>\n",
       "      <th>Japan</th>\n",
       "      <th>USA</th>\n",
       "    </tr>\n",
       "  </thead>\n",
       "  <tbody>\n",
       "    <tr>\n",
       "      <th>count</th>\n",
       "      <td>314.000000</td>\n",
       "      <td>314.000000</td>\n",
       "      <td>314.000000</td>\n",
       "      <td>314.000000</td>\n",
       "      <td>314.000000</td>\n",
       "      <td>314.000000</td>\n",
       "      <td>314.000000</td>\n",
       "      <td>314.000000</td>\n",
       "      <td>314.000000</td>\n",
       "      <td>314.000000</td>\n",
       "    </tr>\n",
       "    <tr>\n",
       "      <th>mean</th>\n",
       "      <td>23.310510</td>\n",
       "      <td>5.477707</td>\n",
       "      <td>195.318471</td>\n",
       "      <td>104.869427</td>\n",
       "      <td>2990.251592</td>\n",
       "      <td>15.559236</td>\n",
       "      <td>75.898089</td>\n",
       "      <td>0.178344</td>\n",
       "      <td>0.197452</td>\n",
       "      <td>0.624204</td>\n",
       "    </tr>\n",
       "    <tr>\n",
       "      <th>std</th>\n",
       "      <td>7.728652</td>\n",
       "      <td>1.699788</td>\n",
       "      <td>104.331589</td>\n",
       "      <td>38.096214</td>\n",
       "      <td>843.898596</td>\n",
       "      <td>2.789230</td>\n",
       "      <td>3.675642</td>\n",
       "      <td>0.383413</td>\n",
       "      <td>0.398712</td>\n",
       "      <td>0.485101</td>\n",
       "    </tr>\n",
       "    <tr>\n",
       "      <th>min</th>\n",
       "      <td>10.000000</td>\n",
       "      <td>3.000000</td>\n",
       "      <td>68.000000</td>\n",
       "      <td>46.000000</td>\n",
       "      <td>1649.000000</td>\n",
       "      <td>8.000000</td>\n",
       "      <td>70.000000</td>\n",
       "      <td>0.000000</td>\n",
       "      <td>0.000000</td>\n",
       "      <td>0.000000</td>\n",
       "    </tr>\n",
       "    <tr>\n",
       "      <th>25%</th>\n",
       "      <td>17.000000</td>\n",
       "      <td>4.000000</td>\n",
       "      <td>105.500000</td>\n",
       "      <td>76.250000</td>\n",
       "      <td>2256.500000</td>\n",
       "      <td>13.800000</td>\n",
       "      <td>73.000000</td>\n",
       "      <td>0.000000</td>\n",
       "      <td>0.000000</td>\n",
       "      <td>0.000000</td>\n",
       "    </tr>\n",
       "    <tr>\n",
       "      <th>50%</th>\n",
       "      <td>22.000000</td>\n",
       "      <td>4.000000</td>\n",
       "      <td>151.000000</td>\n",
       "      <td>94.500000</td>\n",
       "      <td>2822.500000</td>\n",
       "      <td>15.500000</td>\n",
       "      <td>76.000000</td>\n",
       "      <td>0.000000</td>\n",
       "      <td>0.000000</td>\n",
       "      <td>1.000000</td>\n",
       "    </tr>\n",
       "    <tr>\n",
       "      <th>75%</th>\n",
       "      <td>28.950000</td>\n",
       "      <td>8.000000</td>\n",
       "      <td>265.750000</td>\n",
       "      <td>128.000000</td>\n",
       "      <td>3608.000000</td>\n",
       "      <td>17.200000</td>\n",
       "      <td>79.000000</td>\n",
       "      <td>0.000000</td>\n",
       "      <td>0.000000</td>\n",
       "      <td>1.000000</td>\n",
       "    </tr>\n",
       "    <tr>\n",
       "      <th>max</th>\n",
       "      <td>46.600000</td>\n",
       "      <td>8.000000</td>\n",
       "      <td>455.000000</td>\n",
       "      <td>225.000000</td>\n",
       "      <td>5140.000000</td>\n",
       "      <td>24.800000</td>\n",
       "      <td>82.000000</td>\n",
       "      <td>1.000000</td>\n",
       "      <td>1.000000</td>\n",
       "      <td>1.000000</td>\n",
       "    </tr>\n",
       "  </tbody>\n",
       "</table>\n",
       "</div>"
      ],
      "text/plain": [
       "              MPG   Cylinders  Displacement  Horsepower       Weight  \\\n",
       "count  314.000000  314.000000    314.000000  314.000000   314.000000   \n",
       "mean    23.310510    5.477707    195.318471  104.869427  2990.251592   \n",
       "std      7.728652    1.699788    104.331589   38.096214   843.898596   \n",
       "min     10.000000    3.000000     68.000000   46.000000  1649.000000   \n",
       "25%     17.000000    4.000000    105.500000   76.250000  2256.500000   \n",
       "50%     22.000000    4.000000    151.000000   94.500000  2822.500000   \n",
       "75%     28.950000    8.000000    265.750000  128.000000  3608.000000   \n",
       "max     46.600000    8.000000    455.000000  225.000000  5140.000000   \n",
       "\n",
       "       Acceleration  Model Year      Europe       Japan         USA  \n",
       "count    314.000000  314.000000  314.000000  314.000000  314.000000  \n",
       "mean      15.559236   75.898089    0.178344    0.197452    0.624204  \n",
       "std        2.789230    3.675642    0.383413    0.398712    0.485101  \n",
       "min        8.000000   70.000000    0.000000    0.000000    0.000000  \n",
       "25%       13.800000   73.000000    0.000000    0.000000    0.000000  \n",
       "50%       15.500000   76.000000    0.000000    0.000000    1.000000  \n",
       "75%       17.200000   79.000000    0.000000    0.000000    1.000000  \n",
       "max       24.800000   82.000000    1.000000    1.000000    1.000000  "
      ]
     },
     "execution_count": 12,
     "metadata": {},
     "output_type": "execute_result"
    }
   ],
   "source": [
    "train_dataset.describe()"
   ]
  },
  {
   "cell_type": "markdown",
   "id": "99297b7e-6d14-4fdb-ac43-2c20b9bbdedc",
   "metadata": {},
   "source": [
    "<a name=\"Remo\"></a>\n",
    "#### 1.4. Remove labels from dataset"
   ]
  },
  {
   "cell_type": "code",
   "execution_count": 13,
   "id": "f39e7469-06c4-4a44-b180-ee859713aabe",
   "metadata": {},
   "outputs": [
    {
     "name": "stdout",
     "output_type": "stream",
     "text": [
      "(392, 10) (314, 10) (78, 10)\n"
     ]
    }
   ],
   "source": [
    "print(dataset.shape, train_dataset.shape, test_dataset.shape)"
   ]
  },
  {
   "cell_type": "code",
   "execution_count": 14,
   "id": "180143de-ce7a-4337-ab9f-e451630cc729",
   "metadata": {},
   "outputs": [],
   "source": [
    "train_features = train_dataset.copy()\n",
    "test_features = test_dataset.copy()\n",
    "\n",
    "train_labels = train_features.pop('MPG')\n",
    "test_labels = test_features.pop('MPG')"
   ]
  },
  {
   "cell_type": "code",
   "execution_count": 15,
   "id": "62d8ae3b-7bfb-42aa-8c30-11dbdb48b21d",
   "metadata": {},
   "outputs": [
    {
     "name": "stdout",
     "output_type": "stream",
     "text": [
      "(392, 10) (314, 10) (78, 10) (314, 9) (78, 9) (314,) (78,)\n"
     ]
    }
   ],
   "source": [
    "print(dataset.shape, train_dataset.shape, test_dataset.shape, train_features.shape, test_features.shape, train_labels.shape, test_labels.shape)"
   ]
  },
  {
   "cell_type": "markdown",
   "id": "e1640bab-bf98-43dc-b13b-311927134473",
   "metadata": {},
   "source": [
    "<a name=\"Norm\"></a>\n",
    "#### 1.5. Normalization"
   ]
  },
  {
   "cell_type": "code",
   "execution_count": 16,
   "id": "57a5fd6d-0c33-467b-a2dd-d6b9fc528717",
   "metadata": {},
   "outputs": [
    {
     "data": {
      "text/html": [
       "<div>\n",
       "<style scoped>\n",
       "    .dataframe tbody tr th:only-of-type {\n",
       "        vertical-align: middle;\n",
       "    }\n",
       "\n",
       "    .dataframe tbody tr th {\n",
       "        vertical-align: top;\n",
       "    }\n",
       "\n",
       "    .dataframe thead th {\n",
       "        text-align: right;\n",
       "    }\n",
       "</style>\n",
       "<table border=\"1\" class=\"dataframe\">\n",
       "  <thead>\n",
       "    <tr style=\"text-align: right;\">\n",
       "      <th></th>\n",
       "      <th>mean</th>\n",
       "      <th>std</th>\n",
       "    </tr>\n",
       "  </thead>\n",
       "  <tbody>\n",
       "    <tr>\n",
       "      <th>MPG</th>\n",
       "      <td>23.310510</td>\n",
       "      <td>7.728652</td>\n",
       "    </tr>\n",
       "    <tr>\n",
       "      <th>Cylinders</th>\n",
       "      <td>5.477707</td>\n",
       "      <td>1.699788</td>\n",
       "    </tr>\n",
       "    <tr>\n",
       "      <th>Displacement</th>\n",
       "      <td>195.318471</td>\n",
       "      <td>104.331589</td>\n",
       "    </tr>\n",
       "    <tr>\n",
       "      <th>Horsepower</th>\n",
       "      <td>104.869427</td>\n",
       "      <td>38.096214</td>\n",
       "    </tr>\n",
       "    <tr>\n",
       "      <th>Weight</th>\n",
       "      <td>2990.251592</td>\n",
       "      <td>843.898596</td>\n",
       "    </tr>\n",
       "    <tr>\n",
       "      <th>Acceleration</th>\n",
       "      <td>15.559236</td>\n",
       "      <td>2.789230</td>\n",
       "    </tr>\n",
       "    <tr>\n",
       "      <th>Model Year</th>\n",
       "      <td>75.898089</td>\n",
       "      <td>3.675642</td>\n",
       "    </tr>\n",
       "    <tr>\n",
       "      <th>Europe</th>\n",
       "      <td>0.178344</td>\n",
       "      <td>0.383413</td>\n",
       "    </tr>\n",
       "    <tr>\n",
       "      <th>Japan</th>\n",
       "      <td>0.197452</td>\n",
       "      <td>0.398712</td>\n",
       "    </tr>\n",
       "    <tr>\n",
       "      <th>USA</th>\n",
       "      <td>0.624204</td>\n",
       "      <td>0.485101</td>\n",
       "    </tr>\n",
       "  </tbody>\n",
       "</table>\n",
       "</div>"
      ],
      "text/plain": [
       "                     mean         std\n",
       "MPG             23.310510    7.728652\n",
       "Cylinders        5.477707    1.699788\n",
       "Displacement   195.318471  104.331589\n",
       "Horsepower     104.869427   38.096214\n",
       "Weight        2990.251592  843.898596\n",
       "Acceleration    15.559236    2.789230\n",
       "Model Year      75.898089    3.675642\n",
       "Europe           0.178344    0.383413\n",
       "Japan            0.197452    0.398712\n",
       "USA              0.624204    0.485101"
      ]
     },
     "execution_count": 16,
     "metadata": {},
     "output_type": "execute_result"
    }
   ],
   "source": [
    "train_dataset.describe().transpose()[['mean', 'std']]"
   ]
  },
  {
   "cell_type": "code",
   "execution_count": 17,
   "id": "c4c0caae-c154-45bb-ae69-b7848e41fa5a",
   "metadata": {},
   "outputs": [
    {
     "name": "stderr",
     "output_type": "stream",
     "text": [
      "2022-09-22 09:07:18.650021: I tensorflow/compiler/mlir/mlir_graph_optimization_pass.cc:185] None of the MLIR Optimization Passes are enabled (registered 2)\n"
     ]
    },
    {
     "data": {
      "text/html": [
       "<div>\n",
       "<style scoped>\n",
       "    .dataframe tbody tr th:only-of-type {\n",
       "        vertical-align: middle;\n",
       "    }\n",
       "\n",
       "    .dataframe tbody tr th {\n",
       "        vertical-align: top;\n",
       "    }\n",
       "\n",
       "    .dataframe thead th {\n",
       "        text-align: right;\n",
       "    }\n",
       "</style>\n",
       "<table border=\"1\" class=\"dataframe\">\n",
       "  <thead>\n",
       "    <tr style=\"text-align: right;\">\n",
       "      <th></th>\n",
       "      <th>mean</th>\n",
       "      <th>std</th>\n",
       "    </tr>\n",
       "  </thead>\n",
       "  <tbody>\n",
       "    <tr>\n",
       "      <th>0</th>\n",
       "      <td>5.477707</td>\n",
       "      <td>1.697079</td>\n",
       "    </tr>\n",
       "    <tr>\n",
       "      <th>1</th>\n",
       "      <td>195.318497</td>\n",
       "      <td>104.165314</td>\n",
       "    </tr>\n",
       "    <tr>\n",
       "      <th>2</th>\n",
       "      <td>104.869446</td>\n",
       "      <td>38.035500</td>\n",
       "    </tr>\n",
       "    <tr>\n",
       "      <th>3</th>\n",
       "      <td>2990.251709</td>\n",
       "      <td>842.553711</td>\n",
       "    </tr>\n",
       "    <tr>\n",
       "      <th>4</th>\n",
       "      <td>15.559236</td>\n",
       "      <td>2.784785</td>\n",
       "    </tr>\n",
       "    <tr>\n",
       "      <th>5</th>\n",
       "      <td>75.898094</td>\n",
       "      <td>3.669785</td>\n",
       "    </tr>\n",
       "    <tr>\n",
       "      <th>6</th>\n",
       "      <td>0.178344</td>\n",
       "      <td>0.382802</td>\n",
       "    </tr>\n",
       "    <tr>\n",
       "      <th>7</th>\n",
       "      <td>0.197452</td>\n",
       "      <td>0.398076</td>\n",
       "    </tr>\n",
       "    <tr>\n",
       "      <th>8</th>\n",
       "      <td>0.624204</td>\n",
       "      <td>0.484328</td>\n",
       "    </tr>\n",
       "  </tbody>\n",
       "</table>\n",
       "</div>"
      ],
      "text/plain": [
       "          mean         std\n",
       "0     5.477707    1.697079\n",
       "1   195.318497  104.165314\n",
       "2   104.869446   38.035500\n",
       "3  2990.251709  842.553711\n",
       "4    15.559236    2.784785\n",
       "5    75.898094    3.669785\n",
       "6     0.178344    0.382802\n",
       "7     0.197452    0.398076\n",
       "8     0.624204    0.484328"
      ]
     },
     "execution_count": 17,
     "metadata": {},
     "output_type": "execute_result"
    }
   ],
   "source": [
    "normalizer = tf.keras.layers.Normalization(axis=-1)\n",
    "normalizer.adapt(train_features)\n",
    "pd.DataFrame({\"mean\" : normalizer.mean.numpy().reshape(-1),\n",
    "              \"std\"  : np.sqrt(normalizer.variance).reshape(-1)})"
   ]
  },
  {
   "cell_type": "code",
   "execution_count": 18,
   "id": "5e44b8f4-d2fc-4774-910a-2c74b735bffb",
   "metadata": {},
   "outputs": [
    {
     "data": {
      "text/html": [
       "<div>\n",
       "<style scoped>\n",
       "    .dataframe tbody tr th:only-of-type {\n",
       "        vertical-align: middle;\n",
       "    }\n",
       "\n",
       "    .dataframe tbody tr th {\n",
       "        vertical-align: top;\n",
       "    }\n",
       "\n",
       "    .dataframe thead th {\n",
       "        text-align: right;\n",
       "    }\n",
       "</style>\n",
       "<table border=\"1\" class=\"dataframe\">\n",
       "  <thead>\n",
       "    <tr style=\"text-align: right;\">\n",
       "      <th></th>\n",
       "      <th>0</th>\n",
       "      <th>1</th>\n",
       "      <th>2</th>\n",
       "      <th>3</th>\n",
       "      <th>4</th>\n",
       "      <th>5</th>\n",
       "      <th>6</th>\n",
       "      <th>7</th>\n",
       "      <th>8</th>\n",
       "    </tr>\n",
       "  </thead>\n",
       "  <tbody>\n",
       "    <tr>\n",
       "      <th>0</th>\n",
       "      <td>-0.870736</td>\n",
       "      <td>-1.011071</td>\n",
       "      <td>-0.785304</td>\n",
       "      <td>-1.026940</td>\n",
       "      <td>-0.380365</td>\n",
       "      <td>-0.517222</td>\n",
       "      <td>-0.465891</td>\n",
       "      <td>-0.496016</td>\n",
       "      <td>0.775913</td>\n",
       "    </tr>\n",
       "    <tr>\n",
       "      <th>1</th>\n",
       "      <td>-0.870736</td>\n",
       "      <td>-0.531064</td>\n",
       "      <td>-0.443518</td>\n",
       "      <td>-0.118986</td>\n",
       "      <td>0.625098</td>\n",
       "      <td>0.845255</td>\n",
       "      <td>-0.465891</td>\n",
       "      <td>-0.496016</td>\n",
       "      <td>0.775913</td>\n",
       "    </tr>\n",
       "    <tr>\n",
       "      <th>2</th>\n",
       "      <td>1.486256</td>\n",
       "      <td>1.484962</td>\n",
       "      <td>1.449450</td>\n",
       "      <td>1.739650</td>\n",
       "      <td>-0.739460</td>\n",
       "      <td>-1.062213</td>\n",
       "      <td>-0.465891</td>\n",
       "      <td>-0.496016</td>\n",
       "      <td>0.775913</td>\n",
       "    </tr>\n",
       "    <tr>\n",
       "      <th>3</th>\n",
       "      <td>-0.870736</td>\n",
       "      <td>-0.867069</td>\n",
       "      <td>-1.100799</td>\n",
       "      <td>-1.026940</td>\n",
       "      <td>-0.308547</td>\n",
       "      <td>1.662742</td>\n",
       "      <td>-0.465891</td>\n",
       "      <td>-0.496016</td>\n",
       "      <td>0.775913</td>\n",
       "    </tr>\n",
       "    <tr>\n",
       "      <th>4</th>\n",
       "      <td>-0.870736</td>\n",
       "      <td>-0.943870</td>\n",
       "      <td>-0.995634</td>\n",
       "      <td>-1.003202</td>\n",
       "      <td>0.876464</td>\n",
       "      <td>1.117751</td>\n",
       "      <td>-0.465891</td>\n",
       "      <td>2.016065</td>\n",
       "      <td>-1.288805</td>\n",
       "    </tr>\n",
       "    <tr>\n",
       "      <th>...</th>\n",
       "      <td>...</td>\n",
       "      <td>...</td>\n",
       "      <td>...</td>\n",
       "      <td>...</td>\n",
       "      <td>...</td>\n",
       "      <td>...</td>\n",
       "      <td>...</td>\n",
       "      <td>...</td>\n",
       "      <td>...</td>\n",
       "    </tr>\n",
       "    <tr>\n",
       "      <th>309</th>\n",
       "      <td>0.307760</td>\n",
       "      <td>0.044943</td>\n",
       "      <td>-0.522392</td>\n",
       "      <td>-0.000299</td>\n",
       "      <td>0.948283</td>\n",
       "      <td>0.845255</td>\n",
       "      <td>-0.465891</td>\n",
       "      <td>-0.496016</td>\n",
       "      <td>0.775913</td>\n",
       "    </tr>\n",
       "    <tr>\n",
       "      <th>310</th>\n",
       "      <td>1.486256</td>\n",
       "      <td>1.964968</td>\n",
       "      <td>1.975275</td>\n",
       "      <td>1.459549</td>\n",
       "      <td>-1.601285</td>\n",
       "      <td>0.300264</td>\n",
       "      <td>-0.465891</td>\n",
       "      <td>-0.496016</td>\n",
       "      <td>0.775913</td>\n",
       "    </tr>\n",
       "    <tr>\n",
       "      <th>311</th>\n",
       "      <td>-0.870736</td>\n",
       "      <td>-0.838268</td>\n",
       "      <td>-0.312062</td>\n",
       "      <td>-0.711233</td>\n",
       "      <td>-0.021271</td>\n",
       "      <td>-0.517222</td>\n",
       "      <td>-0.465891</td>\n",
       "      <td>2.016065</td>\n",
       "      <td>-1.288805</td>\n",
       "    </tr>\n",
       "    <tr>\n",
       "      <th>312</th>\n",
       "      <td>-0.870736</td>\n",
       "      <td>-1.078272</td>\n",
       "      <td>-1.153382</td>\n",
       "      <td>-1.171737</td>\n",
       "      <td>1.235559</td>\n",
       "      <td>-0.517222</td>\n",
       "      <td>-0.465891</td>\n",
       "      <td>2.016065</td>\n",
       "      <td>-1.288805</td>\n",
       "    </tr>\n",
       "    <tr>\n",
       "      <th>313</th>\n",
       "      <td>-0.870736</td>\n",
       "      <td>-0.847869</td>\n",
       "      <td>-0.496101</td>\n",
       "      <td>-0.624591</td>\n",
       "      <td>-0.021271</td>\n",
       "      <td>0.027769</td>\n",
       "      <td>2.146426</td>\n",
       "      <td>-0.496016</td>\n",
       "      <td>-1.288805</td>\n",
       "    </tr>\n",
       "  </tbody>\n",
       "</table>\n",
       "<p>314 rows × 9 columns</p>\n",
       "</div>"
      ],
      "text/plain": [
       "            0         1         2         3         4         5         6  \\\n",
       "0   -0.870736 -1.011071 -0.785304 -1.026940 -0.380365 -0.517222 -0.465891   \n",
       "1   -0.870736 -0.531064 -0.443518 -0.118986  0.625098  0.845255 -0.465891   \n",
       "2    1.486256  1.484962  1.449450  1.739650 -0.739460 -1.062213 -0.465891   \n",
       "3   -0.870736 -0.867069 -1.100799 -1.026940 -0.308547  1.662742 -0.465891   \n",
       "4   -0.870736 -0.943870 -0.995634 -1.003202  0.876464  1.117751 -0.465891   \n",
       "..        ...       ...       ...       ...       ...       ...       ...   \n",
       "309  0.307760  0.044943 -0.522392 -0.000299  0.948283  0.845255 -0.465891   \n",
       "310  1.486256  1.964968  1.975275  1.459549 -1.601285  0.300264 -0.465891   \n",
       "311 -0.870736 -0.838268 -0.312062 -0.711233 -0.021271 -0.517222 -0.465891   \n",
       "312 -0.870736 -1.078272 -1.153382 -1.171737  1.235559 -0.517222 -0.465891   \n",
       "313 -0.870736 -0.847869 -0.496101 -0.624591 -0.021271  0.027769  2.146426   \n",
       "\n",
       "            7         8  \n",
       "0   -0.496016  0.775913  \n",
       "1   -0.496016  0.775913  \n",
       "2   -0.496016  0.775913  \n",
       "3   -0.496016  0.775913  \n",
       "4    2.016065 -1.288805  \n",
       "..        ...       ...  \n",
       "309 -0.496016  0.775913  \n",
       "310 -0.496016  0.775913  \n",
       "311  2.016065 -1.288805  \n",
       "312  2.016065 -1.288805  \n",
       "313 -0.496016 -1.288805  \n",
       "\n",
       "[314 rows x 9 columns]"
      ]
     },
     "execution_count": 18,
     "metadata": {},
     "output_type": "execute_result"
    }
   ],
   "source": [
    "pd.DataFrame(normalizer(train_features).numpy())"
   ]
  },
  {
   "cell_type": "code",
   "execution_count": 19,
   "id": "8049fb8b-1b70-4299-8a01-4428368735f1",
   "metadata": {},
   "outputs": [
    {
     "data": {
      "text/html": [
       "<div>\n",
       "<style scoped>\n",
       "    .dataframe tbody tr th:only-of-type {\n",
       "        vertical-align: middle;\n",
       "    }\n",
       "\n",
       "    .dataframe tbody tr th {\n",
       "        vertical-align: top;\n",
       "    }\n",
       "\n",
       "    .dataframe thead th {\n",
       "        text-align: right;\n",
       "    }\n",
       "</style>\n",
       "<table border=\"1\" class=\"dataframe\">\n",
       "  <thead>\n",
       "    <tr style=\"text-align: right;\">\n",
       "      <th></th>\n",
       "      <th>Cylinders</th>\n",
       "      <th>Displacement</th>\n",
       "      <th>Horsepower</th>\n",
       "      <th>Weight</th>\n",
       "      <th>Acceleration</th>\n",
       "      <th>Model Year</th>\n",
       "      <th>Europe</th>\n",
       "      <th>Japan</th>\n",
       "      <th>USA</th>\n",
       "    </tr>\n",
       "  </thead>\n",
       "  <tbody>\n",
       "    <tr>\n",
       "      <th>146</th>\n",
       "      <td>4</td>\n",
       "      <td>90.0</td>\n",
       "      <td>75.0</td>\n",
       "      <td>2125.0</td>\n",
       "      <td>14.5</td>\n",
       "      <td>74</td>\n",
       "      <td>0</td>\n",
       "      <td>0</td>\n",
       "      <td>1</td>\n",
       "    </tr>\n",
       "    <tr>\n",
       "      <th>282</th>\n",
       "      <td>4</td>\n",
       "      <td>140.0</td>\n",
       "      <td>88.0</td>\n",
       "      <td>2890.0</td>\n",
       "      <td>17.3</td>\n",
       "      <td>79</td>\n",
       "      <td>0</td>\n",
       "      <td>0</td>\n",
       "      <td>1</td>\n",
       "    </tr>\n",
       "    <tr>\n",
       "      <th>69</th>\n",
       "      <td>8</td>\n",
       "      <td>350.0</td>\n",
       "      <td>160.0</td>\n",
       "      <td>4456.0</td>\n",
       "      <td>13.5</td>\n",
       "      <td>72</td>\n",
       "      <td>0</td>\n",
       "      <td>0</td>\n",
       "      <td>1</td>\n",
       "    </tr>\n",
       "    <tr>\n",
       "      <th>378</th>\n",
       "      <td>4</td>\n",
       "      <td>105.0</td>\n",
       "      <td>63.0</td>\n",
       "      <td>2125.0</td>\n",
       "      <td>14.7</td>\n",
       "      <td>82</td>\n",
       "      <td>0</td>\n",
       "      <td>0</td>\n",
       "      <td>1</td>\n",
       "    </tr>\n",
       "    <tr>\n",
       "      <th>331</th>\n",
       "      <td>4</td>\n",
       "      <td>97.0</td>\n",
       "      <td>67.0</td>\n",
       "      <td>2145.0</td>\n",
       "      <td>18.0</td>\n",
       "      <td>80</td>\n",
       "      <td>0</td>\n",
       "      <td>1</td>\n",
       "      <td>0</td>\n",
       "    </tr>\n",
       "    <tr>\n",
       "      <th>...</th>\n",
       "      <td>...</td>\n",
       "      <td>...</td>\n",
       "      <td>...</td>\n",
       "      <td>...</td>\n",
       "      <td>...</td>\n",
       "      <td>...</td>\n",
       "      <td>...</td>\n",
       "      <td>...</td>\n",
       "      <td>...</td>\n",
       "    </tr>\n",
       "    <tr>\n",
       "      <th>281</th>\n",
       "      <td>6</td>\n",
       "      <td>200.0</td>\n",
       "      <td>85.0</td>\n",
       "      <td>2990.0</td>\n",
       "      <td>18.2</td>\n",
       "      <td>79</td>\n",
       "      <td>0</td>\n",
       "      <td>0</td>\n",
       "      <td>1</td>\n",
       "    </tr>\n",
       "    <tr>\n",
       "      <th>229</th>\n",
       "      <td>8</td>\n",
       "      <td>400.0</td>\n",
       "      <td>180.0</td>\n",
       "      <td>4220.0</td>\n",
       "      <td>11.1</td>\n",
       "      <td>77</td>\n",
       "      <td>0</td>\n",
       "      <td>0</td>\n",
       "      <td>1</td>\n",
       "    </tr>\n",
       "    <tr>\n",
       "      <th>150</th>\n",
       "      <td>4</td>\n",
       "      <td>108.0</td>\n",
       "      <td>93.0</td>\n",
       "      <td>2391.0</td>\n",
       "      <td>15.5</td>\n",
       "      <td>74</td>\n",
       "      <td>0</td>\n",
       "      <td>1</td>\n",
       "      <td>0</td>\n",
       "    </tr>\n",
       "    <tr>\n",
       "      <th>145</th>\n",
       "      <td>4</td>\n",
       "      <td>83.0</td>\n",
       "      <td>61.0</td>\n",
       "      <td>2003.0</td>\n",
       "      <td>19.0</td>\n",
       "      <td>74</td>\n",
       "      <td>0</td>\n",
       "      <td>1</td>\n",
       "      <td>0</td>\n",
       "    </tr>\n",
       "    <tr>\n",
       "      <th>182</th>\n",
       "      <td>4</td>\n",
       "      <td>107.0</td>\n",
       "      <td>86.0</td>\n",
       "      <td>2464.0</td>\n",
       "      <td>15.5</td>\n",
       "      <td>76</td>\n",
       "      <td>1</td>\n",
       "      <td>0</td>\n",
       "      <td>0</td>\n",
       "    </tr>\n",
       "  </tbody>\n",
       "</table>\n",
       "<p>314 rows × 9 columns</p>\n",
       "</div>"
      ],
      "text/plain": [
       "     Cylinders  Displacement  Horsepower  Weight  Acceleration  Model Year  \\\n",
       "146          4          90.0        75.0  2125.0          14.5          74   \n",
       "282          4         140.0        88.0  2890.0          17.3          79   \n",
       "69           8         350.0       160.0  4456.0          13.5          72   \n",
       "378          4         105.0        63.0  2125.0          14.7          82   \n",
       "331          4          97.0        67.0  2145.0          18.0          80   \n",
       "..         ...           ...         ...     ...           ...         ...   \n",
       "281          6         200.0        85.0  2990.0          18.2          79   \n",
       "229          8         400.0       180.0  4220.0          11.1          77   \n",
       "150          4         108.0        93.0  2391.0          15.5          74   \n",
       "145          4          83.0        61.0  2003.0          19.0          74   \n",
       "182          4         107.0        86.0  2464.0          15.5          76   \n",
       "\n",
       "     Europe  Japan  USA  \n",
       "146       0      0    1  \n",
       "282       0      0    1  \n",
       "69        0      0    1  \n",
       "378       0      0    1  \n",
       "331       0      1    0  \n",
       "..      ...    ...  ...  \n",
       "281       0      0    1  \n",
       "229       0      0    1  \n",
       "150       0      1    0  \n",
       "145       0      1    0  \n",
       "182       1      0    0  \n",
       "\n",
       "[314 rows x 9 columns]"
      ]
     },
     "execution_count": 19,
     "metadata": {},
     "output_type": "execute_result"
    }
   ],
   "source": [
    "train_features"
   ]
  },
  {
   "cell_type": "code",
   "execution_count": 20,
   "id": "399b50a0-408f-465c-a931-38f0cb5fd9ae",
   "metadata": {},
   "outputs": [
    {
     "data": {
      "text/plain": [
       "<AxesSubplot:ylabel='Frequency'>"
      ]
     },
     "execution_count": 20,
     "metadata": {},
     "output_type": "execute_result"
    },
    {
     "data": {
      "image/png": "[encoded data removed]",
      "text/plain": [
       "<Figure size 640x480 with 1 Axes>"
      ]
     },
     "metadata": {},
     "output_type": "display_data"
    }
   ],
   "source": [
    "train_features.plot.hist(alpha=0.5)"
   ]
  },
  {
   "cell_type": "code",
   "execution_count": 21,
   "id": "cdb7d445-b609-4088-9312-7448eb50df5a",
   "metadata": {},
   "outputs": [
    {
     "data": {
      "text/plain": [
       "<AxesSubplot:ylabel='Frequency'>"
      ]
     },
     "execution_count": 21,
     "metadata": {},
     "output_type": "execute_result"
    },
    {
     "data": {
      "image/png": "[encoded data removed]",
      "text/plain": [
       "<Figure size 640x480 with 1 Axes>"
      ]
     },
     "metadata": {},
     "output_type": "display_data"
    }
   ],
   "source": [
    "train_features.drop(\"Weight\", axis = 1).plot.hist(alpha=0.5)"
   ]
  },
  {
   "cell_type": "code",
   "execution_count": 22,
   "id": "0d106573-4eb9-41f9-a7a6-1b9d09a0a7d3",
   "metadata": {},
   "outputs": [
    {
     "data": {
      "text/plain": [
       "<AxesSubplot:ylabel='Frequency'>"
      ]
     },
     "execution_count": 22,
     "metadata": {},
     "output_type": "execute_result"
    },
    {
     "data": {
      "image/png": "[encoded data removed]",
      "text/plain": [
       "<Figure size 640x480 with 1 Axes>"
      ]
     },
     "metadata": {},
     "output_type": "display_data"
    }
   ],
   "source": [
    "pd.DataFrame(normalizer(train_features).numpy()).plot.hist(alpha=0.5)"
   ]
  },
  {
   "cell_type": "markdown",
   "id": "08960c69-3684-470a-8c88-a4bf10428604",
   "metadata": {},
   "source": [
    "<a name=\"Line\"></a>\n",
    "#### 1.6. Linear Regression"
   ]
  },
  {
   "cell_type": "code",
   "execution_count": 23,
   "id": "ab9dd171-7a62-4dc9-9719-4ff6c1ff0d64",
   "metadata": {},
   "outputs": [
    {
     "name": "stdout",
     "output_type": "stream",
     "text": [
      "(314,)\n",
      "104.869446 38.0355\n"
     ]
    }
   ],
   "source": [
    "horsepower = np.array(train_features['Horsepower'])\n",
    "print(horsepower.shape)\n",
    "horsepower_normalizer = tf.keras.layers.Normalization(input_shape=[1, ], axis=None)\n",
    "horsepower_normalizer.adapt(horsepower)\n",
    "print(horsepower_normalizer.mean.numpy()[0], np.sqrt(horsepower_normalizer.variance)[0])"
   ]
  },
  {
   "cell_type": "code",
   "execution_count": 24,
   "id": "15d550a6-f9a6-4924-8c8b-27b0c3dffff7",
   "metadata": {},
   "outputs": [
    {
     "name": "stdout",
     "output_type": "stream",
     "text": [
      "Model: \"sequential\"\n",
      "_________________________________________________________________\n",
      "Layer (type)                 Output Shape              Param #   \n",
      "=================================================================\n",
      "normalization_1 (Normalizati (None, 1)                 3         \n",
      "_________________________________________________________________\n",
      "dense (Dense)                (None, 1)                 2         \n",
      "=================================================================\n",
      "Total params: 5\n",
      "Trainable params: 2\n",
      "Non-trainable params: 3\n",
      "_________________________________________________________________\n"
     ]
    }
   ],
   "source": [
    "horsepower_model = tf.keras.Sequential([\n",
    "    horsepower_normalizer,\n",
    "    layers.Dense(units=1)\n",
    "])\n",
    "horsepower_model.summary()"
   ]
  },
  {
   "cell_type": "code",
   "execution_count": 25,
   "id": "11d1842a-71cf-42d1-a512-f744e0eaf5da",
   "metadata": {},
   "outputs": [],
   "source": [
    "horsepower_model.compile(\n",
    "    optimizer=tf.keras.optimizers.Adam(learning_rate=0.1),\n",
    "    loss='mean_absolute_error')"
   ]
  },
  {
   "cell_type": "code",
   "execution_count": 26,
   "id": "1edf0065-b52e-4ae4-8f46-a09b5c59e404",
   "metadata": {},
   "outputs": [],
   "source": [
    "history = horsepower_model.fit(train_features['Horsepower'],\n",
    "                     train_labels, \n",
    "                     epochs=100,\n",
    "                     verbose = 0,\n",
    "                     validation_split = 0.2)"
   ]
  },
  {
   "cell_type": "code",
   "execution_count": 27,
   "id": "747dbc55-ff70-425a-88f5-1a2c53cd068c",
   "metadata": {},
   "outputs": [
    {
     "data": {
      "image/png": "[encoded data removed]",
      "text/plain": [
       "<Figure size 640x480 with 1 Axes>"
      ]
     },
     "metadata": {},
     "output_type": "display_data"
    }
   ],
   "source": [
    "hist = pd.DataFrame(history.history)\n",
    "hist['epoch'] = history.epoch\n",
    "def plot_loss(history):\n",
    "  plt.plot(history.history['loss'], label='loss')\n",
    "  plt.plot(history.history['val_loss'], label='val_loss')\n",
    "  #plt.ylim([0, 10])\n",
    "  plt.xlabel('Epoch')\n",
    "  plt.ylabel('Error [MPG]')\n",
    "  plt.legend()\n",
    "  plt.grid(True)\n",
    "plot_loss(history)"
   ]
  },
  {
   "cell_type": "code",
   "execution_count": 28,
   "id": "c450301b-fbc0-4842-b865-c50afd8b1ac3",
   "metadata": {},
   "outputs": [],
   "source": [
    "test_results= {}\n",
    "\n",
    "test_results['horsepower_model'] = horsepower_model.evaluate(\n",
    "    test_features['Horsepower'],\n",
    "    test_labels, verbose=0)\n"
   ]
  },
  {
   "cell_type": "code",
   "execution_count": 29,
   "id": "3e3bc47c-b4b0-4100-8a50-c02f4d2c99ee",
   "metadata": {},
   "outputs": [
    {
     "data": {
      "text/plain": [
       "9      15.0\n",
       "25     10.0\n",
       "28      9.0\n",
       "31     25.0\n",
       "33     19.0\n",
       "       ... \n",
       "369    34.0\n",
       "375    36.0\n",
       "382    34.0\n",
       "384    32.0\n",
       "396    28.0\n",
       "Name: MPG, Length: 78, dtype: float64"
      ]
     },
     "execution_count": 29,
     "metadata": {},
     "output_type": "execute_result"
    }
   ],
   "source": [
    "test_labels"
   ]
  },
  {
   "cell_type": "code",
   "execution_count": 30,
   "id": "1050fd69-768a-4200-add2-4f9e9470a5f4",
   "metadata": {},
   "outputs": [],
   "source": [
    "x = tf.linspace(0.0, 250, 10)\n",
    "y = horsepower_model.predict(x)"
   ]
  },
  {
   "cell_type": "code",
   "execution_count": 31,
   "id": "6c55e604-21d0-4910-b92f-d32d1ca005fb",
   "metadata": {},
   "outputs": [
    {
     "data": {
      "image/png": "[encoded data removed]",
      "text/plain": [
       "<Figure size 640x480 with 1 Axes>"
      ]
     },
     "metadata": {},
     "output_type": "display_data"
    }
   ],
   "source": [
    "def plot_horsepower(x, y):\n",
    "  plt.scatter(train_features['Horsepower'], train_labels, label='Data')\n",
    "  plt.plot(x, y, color='k', label='Predictions')\n",
    "  plt.xlabel('Horsepower')\n",
    "  plt.ylabel('MPG')\n",
    "  plt.legend()\n",
    "plot_horsepower(x, y)"
   ]
  },
  {
   "cell_type": "code",
   "execution_count": 32,
   "id": "382b0b4e-a377-446b-904c-b2b67c089400",
   "metadata": {},
   "outputs": [
    {
     "name": "stdout",
     "output_type": "stream",
     "text": [
      "Model: \"sequential\"\n",
      "_________________________________________________________________\n",
      "Layer (type)                 Output Shape              Param #   \n",
      "=================================================================\n",
      "normalization_1 (Normalizati (None, 1)                 3         \n",
      "_________________________________________________________________\n",
      "dense (Dense)                (None, 1)                 2         \n",
      "=================================================================\n",
      "Total params: 5\n",
      "Trainable params: 2\n",
      "Non-trainable params: 3\n",
      "_________________________________________________________________\n"
     ]
    }
   ],
   "source": [
    "horsepower_model.summary()"
   ]
  },
  {
   "cell_type": "markdown",
   "id": "bd805619-cacc-4ab8-95a9-06d78e6b139f",
   "metadata": {},
   "source": [
    "<a name=\"Mult\"></a>\n",
    "#### 1.7. Multiple Linear Regression"
   ]
  },
  {
   "cell_type": "code",
   "execution_count": 33,
   "id": "7d549a28-2eb8-43cb-bcab-462d24949354",
   "metadata": {},
   "outputs": [
    {
     "name": "stdout",
     "output_type": "stream",
     "text": [
      "(314, 9)\n",
      "Model: \"sequential_1\"\n",
      "_________________________________________________________________\n",
      "Layer (type)                 Output Shape              Param #   \n",
      "=================================================================\n",
      "normalization_2 (Normalizati (None, 9)                 19        \n",
      "_________________________________________________________________\n",
      "dense_1 (Dense)              (None, 1)                 10        \n",
      "=================================================================\n",
      "Total params: 29\n",
      "Trainable params: 10\n",
      "Non-trainable params: 19\n",
      "_________________________________________________________________\n",
      "None\n",
      "{'horsepower_model': 3.644362688064575, 'MLR_model': 2.458172559738159}\n"
     ]
    },
    {
     "data": {
      "image/png": "[encoded data removed]",
      "text/plain": [
       "<Figure size 640x480 with 1 Axes>"
      ]
     },
     "metadata": {},
     "output_type": "display_data"
    }
   ],
   "source": [
    "print(train_features.shape)\n",
    "MLR_normalizer = tf.keras.layers.Normalization(input_shape=[train_features.shape[1], ], axis= -1)\n",
    "MLR_normalizer.adapt(train_features)\n",
    "\n",
    "MLR_model = tf.keras.Sequential([\n",
    "    MLR_normalizer,\n",
    "    layers.Dense(units=1)\n",
    "])\n",
    "\n",
    "print(MLR_model.summary())\n",
    "\n",
    "MLR_model.compile(\n",
    "    optimizer=tf.keras.optimizers.Adam(learning_rate=0.1),\n",
    "    loss='mean_absolute_error')\n",
    "\n",
    "history = MLR_model.fit(train_features,\n",
    "                        train_labels, \n",
    "                        epochs=100,\n",
    "                        verbose = 0,\n",
    "                        validation_split = 0.2)\n",
    "\n",
    "test_results['MLR_model'] = MLR_model.evaluate(test_features,\n",
    "                                               test_labels, \n",
    "                                               verbose=0)\n",
    "\n",
    "print(test_results)\n",
    "\n",
    "hist = pd.DataFrame(history.history)\n",
    "hist['epoch'] = history.epoch\n",
    "plot_loss(history)"
   ]
  },
  {
   "cell_type": "code",
   "execution_count": 34,
   "id": "78681d5e-c477-42ac-8702-db94a39a11af",
   "metadata": {},
   "outputs": [
    {
     "data": {
      "text/plain": [
       "array([[13.586946],\n",
       "       [ 7.810258],\n",
       "       [ 6.700815],\n",
       "       [26.716194],\n",
       "       [21.431393],\n",
       "       [11.327893],\n",
       "       [12.743339],\n",
       "       [10.229613],\n",
       "       [19.354826],\n",
       "       [28.80186 ]], dtype=float32)"
      ]
     },
     "execution_count": 34,
     "metadata": {},
     "output_type": "execute_result"
    }
   ],
   "source": [
    "MLR_model.predict(test_features[:10])"
   ]
  },
  {
   "cell_type": "code",
   "execution_count": 35,
   "id": "801ea028-c83e-488a-ab00-4c7235a05108",
   "metadata": {},
   "outputs": [
    {
     "data": {
      "text/plain": [
       "9     15.0\n",
       "25    10.0\n",
       "28     9.0\n",
       "31    25.0\n",
       "33    19.0\n",
       "39    14.0\n",
       "40    14.0\n",
       "43    13.0\n",
       "48    18.0\n",
       "54    35.0\n",
       "Name: MPG, dtype: float64"
      ]
     },
     "execution_count": 35,
     "metadata": {},
     "output_type": "execute_result"
    }
   ],
   "source": [
    "test_labels[:10]"
   ]
  },
  {
   "cell_type": "markdown",
   "id": "5c3e066e-4576-45cd-928c-d4952d642c48",
   "metadata": {},
   "source": [
    "<a name=\"DNN\"></a>\n",
    "#### 1.8. DNN"
   ]
  },
  {
   "cell_type": "code",
   "execution_count": 36,
   "id": "b97391cd-41f7-4aba-9872-0e2d7f83ec65",
   "metadata": {},
   "outputs": [
    {
     "name": "stdout",
     "output_type": "stream",
     "text": [
      "Model: \"sequential_2\"\n",
      "_________________________________________________________________\n",
      "Layer (type)                 Output Shape              Param #   \n",
      "=================================================================\n",
      "normalization_3 (Normalizati (None, 9)                 19        \n",
      "_________________________________________________________________\n",
      "dense_2 (Dense)              (None, 64)                640       \n",
      "_________________________________________________________________\n",
      "dense_3 (Dense)              (None, 64)                4160      \n",
      "_________________________________________________________________\n",
      "dense_4 (Dense)              (None, 1)                 65        \n",
      "=================================================================\n",
      "Total params: 4,884\n",
      "Trainable params: 4,865\n",
      "Non-trainable params: 19\n",
      "_________________________________________________________________\n",
      "None\n",
      "{'horsepower_model': 3.644362688064575, 'MLR_model': 2.458172559738159, 'DNN_model': 1.6650604009628296}\n"
     ]
    },
    {
     "data": {
      "image/png": "[encoded data removed]",
      "text/plain": [
       "<Figure size 640x480 with 1 Axes>"
      ]
     },
     "metadata": {},
     "output_type": "display_data"
    }
   ],
   "source": [
    "def build_and_compile_model(norm):\n",
    "  model = keras.Sequential([\n",
    "      norm,\n",
    "      layers.Dense(64, activation='relu'),\n",
    "      layers.Dense(64, activation='relu'),\n",
    "      layers.Dense(1)\n",
    "  ])\n",
    "\n",
    "  model.compile(loss='mean_absolute_error',\n",
    "                optimizer=tf.keras.optimizers.Adam(0.001))\n",
    "  return model\n",
    "\n",
    "DNN_normalizer = tf.keras.layers.Normalization(input_shape=[train_features.shape[1], ], axis= -1)\n",
    "DNN_normalizer.adapt(train_features)\n",
    "DNN_model = build_and_compile_model(DNN_normalizer)\n",
    "\n",
    "print(DNN_model.summary())\n",
    "\n",
    "history = DNN_model.fit(train_features,\n",
    "                        train_labels, \n",
    "                        epochs           = 100,\n",
    "                        verbose          = 0,\n",
    "                        validation_split = 0.2)\n",
    "\n",
    "test_results['DNN_model'] = DNN_model.evaluate(test_features,\n",
    "                                               test_labels, \n",
    "                                               verbose=0)\n",
    "\n",
    "print(test_results)\n",
    "\n",
    "hist = pd.DataFrame(history.history)\n",
    "hist['epoch'] = history.epoch\n",
    "plot_loss(history)\n",
    "#dnn_model.save('DNN_model')"
   ]
  },
  {
   "cell_type": "markdown",
   "id": "f604d1b7-8afc-411e-af58-12c72e51c8a4",
   "metadata": {},
   "source": [
    "<a name=\"DNN\"></a>\n",
    "##### 1.8.1. DNN prediction intervals\n",
    "\n",
    "Here I try to investigate different methods to create prediction intervals for the predictions that the NN made.\n",
    "\n",
    "Bibliography:\n",
    "\n",
    "- How to generate neural network confidence intervals with Keras\n",
    "\n",
    "https://medium.com/hal24k-techblog/how-to-generate-neural-network-confidence-intervals-with-keras-e4c0b78ebbdf\n",
    "\n",
    "Blog that shows how by making several predictions with dropout, we can achieve a distribution of predictions with training the model only once. I'm not 100% convinced about the technique because uncertanty can be divided into three main factors : i) Variance of the method which corresponds to the fact that the medhod trained is not necessary the maximum optima but just a local optima thus there might be other models that perform similarly well in the likelihood function defined. ii) Sampling variance since the sample we train the model on is not infinite and there might be some uncertainty asociated to it. iii) Error of the prediction. This is basically the concept that even though we found the optimum, there might be unexplained variation by our model which contributes to the uncertainty. \n",
    "\n",
    "In my opinion this method might be good at capturing ii and iii, but not i. \n",
    "\n",
    "The very good point about this blog is the fact that they explain how to make a sanity check to see if you method works: qq plot with quantile distribution vs predictions within the quintile. \n",
    "\n",
    "I could not use the code provided in which they force the prediction step in Keras to use dropout. Instead, I implemented my own way to just take the train weights and with a probability p, shut down rows of weights (w = 0) and with that model, do a prediction. \n",
    "\n",
    "- Estimating Uncertainty in Machine Learning Models - Part 2\n",
    "\n",
    "https://medium.com/comet-ml/estimating-uncertainty-in-machine-learning-models-part-2-8711c832cc15\n",
    "\n",
    "Blog that gave me the idea that I can correlate CI with error between prediction and real values. He also takes a shot to the bootstrap prediction interval approach.\n",
    "\n",
    "This has another way to perform dropout on predictions, however, it is different from what I do in my code, so I went along with my custome made code. \n",
    "\n",
    "- Estimating Uncertainty in Machine Learning Models — Part 3\n",
    "\n",
    "https://medium.com/cometheartbeat/estimating-uncertainty-in-machine-learning-models-part-3-1b92c344e9c4\n",
    "\n",
    "This blog is the same guy as before, but explains the method of constructing another NN in order to estimate prediction intervals based on the assumption that uncertanty is normally distributed.\n",
    "\n",
    "- Prediction Intervals for Deep Learning Neural Networks\n",
    "\n",
    "https://machinelearningmastery.com/prediction-intervals-for-deep-learning-neural-networks/\n",
    "\n",
    "blog that assumes that since NN start with random Networks, they will end up in different points of the likelihood space making every prediction independent.\n",
    "\n",
    "\n",
    "- Comprehensive Review of Neural Network-Based Prediction Intervals and New Advances\n",
    "\n",
    "https://ieeexplore.ieee.org/stamp/stamp.jsp?tp=&arnumber=5966350\n",
    "\n",
    "Review\n",
    "\n",
    "- Estimation of Prediction Intervals in Neural Network-based Regression Models\n",
    "\n",
    "https://ieeexplore.ieee.org/stamp/stamp.jsp?tp=&arnumber=8750774&tag=1\n",
    "\n",
    "Review\n",
    "\n",
    "- Estimating Neural Network’s Performance with Bootstrap: a Tutorial\n",
    "\n",
    "file:///Users/au552345/Desktop/preprints202101.0431.v1.pdf\n",
    "\n",
    "Paper showing that you can do bootstrap on the validation set such that you get an estimate on the loss function, but not on the prediction of the samples\n",
    "\n",
    "- Uncertainty Quantification in CNN Through the Bootstrap of Convex Neural Networks\n",
    "\n",
    "file:///Users/au552345/Desktop/17434-Article%20Text-20928-1-2-20210518.pdf\n",
    "\n",
    "Similar than the one before\n"
   ]
  },
  {
   "cell_type": "code",
   "execution_count": 38,
   "id": "34f3ae90-46ba-4c17-a1ca-1d90f37804e3",
   "metadata": {},
   "outputs": [
    {
     "name": "stdout",
     "output_type": "stream",
     "text": [
      "Dropout 0.06\n",
      "100.00 %\n",
      "Dropout 0.0625\n",
      "100.00 %\n",
      "Dropout 0.065\n",
      "100.00 %\n",
      "Dropout 0.0675\n",
      "100.00 %\n",
      "Dropout 0.07\n",
      "100.00 %\n",
      "CPU times: user 13.4 s, sys: 167 ms, total: 13.5 s\n",
      "Wall time: 13.8 s\n"
     ]
    }
   ],
   "source": [
    "%%time\n",
    "#0.1, 0.2, 0.3, 0.4,\n",
    "quantiles    = np.arange(0, 1, 0.01)\n",
    "dropoutspred = np.array([0, 0.025, 0.05, 0.055, 0.06, 0.065, 0.07, 0.075, 0.1, 0.15, 0.2, 0.3, 0.4, 0.5])\n",
    "dropoutspred = np.arange(0.06, 0.07, 0.0025)\n",
    "#dropoutspred = np.array([0.01, 0.02, 0.0225, 0.025, 0.05, 0.075])\n",
    "sampling_size = 100\n",
    "within_list    = []\n",
    "dropout_list   = []\n",
    "quantiles_list = []\n",
    "\n",
    "model_copy= keras.models.clone_model(DNN_model)\n",
    "model_copy.set_weights(DNN_model.get_weights())\n",
    "for dropoutpred in dropoutspred:\n",
    "    print(\"Dropout {}\".format(dropoutpred))\n",
    "    prediction_intervals = []\n",
    "    for j in range(sampling_size):\n",
    "        print(\"{:3.2f} %\".format((j/sampling_size)*100), end = \"\\r\")\n",
    "        for i, l in enumerate(DNN_model.layers):\n",
    "            if i < 3 and i > 0 and \"dense\" in l.name:\n",
    "                #print(i, l.name, l.get_weights()[0].shape)\n",
    "                w = l.get_weights()[0]\n",
    "                dropoutnodes = np.random.binomial(1, dropoutpred, size = w.shape[0]).astype(bool)\n",
    "                w[dropoutnodes, :] = np.zeros((w.shape[1],))\n",
    "                model_copy.layers[i].set_weights([w, DNN_model.layers[i].get_weights()[1]])\n",
    "\n",
    "        prediction_intervals.append(model_copy.predict(test_features))\n",
    "\n",
    "    print(\"{:3.2f} %\".format(((j+1)/sampling_size)*100))\n",
    "    prediction_intervals = np.array(prediction_intervals)\n",
    "    #print(((np.quantile(prediction_intervals, q = 0.5-quantiles/2, axis = 0) < test_labels.to_numpy().reshape(-1, 1)) * (test_labels.to_numpy().reshape(-1, 1) < np.quantile(prediction_intervals, q = 0.5+quantiles/2, axis = 0))).sum(axis = 1)/test_features.shape[0])\n",
    "    within_list.append((((np.quantile(prediction_intervals, q = 0.5-quantiles/2, axis = 0) < test_labels.to_numpy().reshape(-1, 1)) * (test_labels.to_numpy().reshape(-1, 1) < np.quantile(prediction_intervals, q = 0.5+quantiles/2, axis = 0))).sum(axis = 1)/test_features.shape[0]).reshape(-1))\n",
    "    #quantiles_corrected = \n",
    "    #within_list.append(((norm.ppf((0.5-quantiles/2)*1.1, loc=prediction_intervals.mean(axis = 0), scale=prediction_intervals.std(axis = 0)).T < test_labels.to_numpy()) * \n",
    "    #                    (norm.ppf((0.5+quantiles/2)*1.1, loc=prediction_intervals.mean(axis = 0), scale=prediction_intervals.std(axis = 0)).T > test_labels.to_numpy())).sum(axis = 1)/test_features.shape[0])\n",
    "    quantiles_list.append(quantiles)\n",
    "    dropout_list.append([dropoutpred]*quantiles.shape[0])\n",
    "       "
   ]
  },
  {
   "cell_type": "code",
   "execution_count": 39,
   "id": "37ad1368-c128-4b0f-bc55-0104bf9da293",
   "metadata": {},
   "outputs": [],
   "source": [
    "df = pd.DataFrame({\"dro\" : np.array(dropout_list).reshape(-1),\n",
    "                   \"qua\" : np.array(quantiles_list).reshape(-1),\n",
    "                   \"wit\" : np.array(within_list).reshape(-1)})"
   ]
  },
  {
   "cell_type": "code",
   "execution_count": 40,
   "id": "27f31817-692b-4c0a-b897-381feae05ec0",
   "metadata": {},
   "outputs": [
    {
     "data": {
      "image/png": "[encoded data removed]"
     },
     "metadata": {},
     "output_type": "display_data"
    }
   ],
   "source": [
    "%%R -i df -w 750 -h 650\n",
    "\n",
    "df %>%\n",
    "    ggplot() +\n",
    "    geom_line(aes(x = qua, y = wit, color = factor(dro))) +\n",
    "    geom_text(data = . %>% filter(qua == 0.65), aes(x = qua, y = wit, label = dro)) +\n",
    "    geom_abline(intercept = 0, slope = 1, linetype = \"dashed\") +\n",
    "    theme_light()\n"
   ]
  },
  {
   "cell_type": "code",
   "execution_count": 45,
   "id": "d4ac68ca-181f-40c0-ae64-80b97bf1849f",
   "metadata": {},
   "outputs": [
    {
     "name": "stdout",
     "output_type": "stream",
     "text": [
      "Dropout 0.06\n",
      "100.00 %\n",
      "Dropout 0.0625\n",
      "100.00 %\n",
      "Dropout 0.065\n",
      "100.00 %\n",
      "Dropout 0.0675\n",
      "100.00 %\n",
      "Dropout 0.07\n",
      "100.00 %\n",
      "CPU times: user 13.3 s, sys: 142 ms, total: 13.4 s\n",
      "Wall time: 13.7 s\n"
     ]
    }
   ],
   "source": [
    "%%time\n",
    "#0.1, 0.2, 0.3, 0.4,\n",
    "quantiles    = np.arange(0, 1, 0.01)\n",
    "dropoutspred = np.array([0, 0.025, 0.05, 0.055, 0.06, 0.065, 0.07, 0.075, 0.1, 0.15, 0.2, 0.3, 0.4, 0.5])\n",
    "dropoutspred = np.arange(0.06, 0.07, 0.0025)\n",
    "#dropoutspred = np.array([0.01, 0.02, 0.0225, 0.025, 0.05, 0.075])\n",
    "sampling_size = 100\n",
    "within_list    = []\n",
    "dropout_list   = []\n",
    "quantiles_list = []\n",
    "\n",
    "model_copy= keras.models.clone_model(DNN_model)\n",
    "model_copy.set_weights(DNN_model.get_weights())\n",
    "for dropoutpred in dropoutspred:\n",
    "    print(\"Dropout {}\".format(dropoutpred))\n",
    "    prediction_intervals = []\n",
    "    for j in range(sampling_size):\n",
    "        print(\"{:3.2f} %\".format((j/sampling_size)*100), end = \"\\r\")\n",
    "        for i, l in enumerate(DNN_model.layers):\n",
    "            if i < 3 and i > 0 and \"dense\" in l.name:\n",
    "                #print(i, l.name, l.get_weights()[0].shape)\n",
    "                w = l.get_weights()[0]\n",
    "                dropoutnodes = np.random.binomial(1, dropoutpred, size = w.shape[0]).astype(bool)\n",
    "                w[dropoutnodes, :] = np.zeros((w.shape[1],))\n",
    "                model_copy.layers[i].set_weights([w, DNN_model.layers[i].get_weights()[1]])\n",
    "\n",
    "        prediction_intervals.append(model_copy.predict(test_features))\n",
    "\n",
    "    print(\"{:3.2f} %\".format(((j+1)/sampling_size)*100))\n",
    "    prediction_intervals = np.array(prediction_intervals)\n",
    "    #print(((np.quantile(prediction_intervals, q = 0.5-quantiles/2, axis = 0) < test_labels.to_numpy().reshape(-1, 1)) * (test_labels.to_numpy().reshape(-1, 1) < np.quantile(prediction_intervals, q = 0.5+quantiles/2, axis = 0))).sum(axis = 1)/test_features.shape[0])\n",
    "    #within_list.append((((np.quantile(prediction_intervals, q = 0.5-quantiles/2, axis = 0) < test_labels.to_numpy().reshape(-1, 1)) * (test_labels.to_numpy().reshape(-1, 1) < np.quantile(prediction_intervals, q = 0.5+quantiles/2, axis = 0))).sum(axis = 1)/test_features.shape[0]).reshape(-1))\n",
    "    within_list.append(((norm.ppf((0.5-quantiles/2)*1.1, loc=prediction_intervals.mean(axis = 0), scale=prediction_intervals.std(axis = 0)).T < test_labels.to_numpy()) * \n",
    "                        (norm.ppf((0.5+quantiles/2)*1.1, loc=prediction_intervals.mean(axis = 0), scale=prediction_intervals.std(axis = 0)).T > test_labels.to_numpy())).sum(axis = 1)/test_features.shape[0])\n",
    "    quantiles_list.append(quantiles)\n",
    "    dropout_list.append([dropoutpred]*quantiles.shape[0])\n",
    "       \n",
    "    "
   ]
  },
  {
   "cell_type": "code",
   "execution_count": 46,
   "id": "c211a597-fb5d-4835-94d6-b729f3666ab3",
   "metadata": {},
   "outputs": [],
   "source": [
    "df = pd.DataFrame({\"dro\" : np.array(dropout_list).reshape(-1),\n",
    "                   \"qua\" : np.array(quantiles_list).reshape(-1),\n",
    "                   \"wit\" : np.array(within_list).reshape(-1)})"
   ]
  },
  {
   "cell_type": "code",
   "execution_count": 47,
   "id": "1dad63a9-c040-4e61-95f4-16cfeca32e0d",
   "metadata": {},
   "outputs": [
    {
     "data": {
      "image/png": "[encoded data removed]"
     },
     "metadata": {},
     "output_type": "display_data"
    }
   ],
   "source": [
    "%%R -i df -w 750 -h 650\n",
    "\n",
    "df %>%\n",
    "    ggplot() +\n",
    "    geom_line(aes(x = qua, y = wit, color = factor(dro))) +\n",
    "    geom_text(data = . %>% filter(qua == 0.55), aes(x = qua, y = wit, label = dro)) +\n",
    "    geom_abline(intercept = 0, slope = 1, linetype = \"dashed\") +\n",
    "    theme_light()\n"
   ]
  },
  {
   "cell_type": "markdown",
   "id": "c05be2bf-7c53-4788-8d2f-acc392455cd3",
   "metadata": {},
   "source": [
    "<a name=\"sNNt\"></a>\n",
    "### 2. spaceNNtime"
   ]
  },
  {
   "cell_type": "code",
   "execution_count": 102,
   "id": "ddac6c02-a14e-4f9a-b5cf-88c227574eb1",
   "metadata": {},
   "outputs": [],
   "source": [
    "import simGL\n",
    "import sklearn\n",
    "#import msprime\n",
    "import tskit\n",
    "import sys\n",
    "sys.path.insert(1, '../../scripts')\n",
    "import spaceNNtime_templates\n",
    "from sklearn.model_selection import KFold\n",
    "from tensorflow.keras import backend as K"
   ]
  },
  {
   "cell_type": "code",
   "execution_count": 103,
   "id": "7ea5b8e8-63c2-49d2-b80c-003033d0a9da",
   "metadata": {},
   "outputs": [],
   "source": [
    "sim, exp, nam, met, snp, pre, typ, cov, err, nod = [\"europe\", \"5\", \"gold\", \"5\", 1.0, \"sNNt\", \"gt\", 0, 0, 64]\n",
    "ts            = tskit.load(\"/home/moicoll/spaceNNtime/data/{sim}/tree.trees\".format(sim = sim))\n",
    "metadata      = pd.read_csv(\"/home/moicoll/spaceNNtime/data/{sim}/metadata/{met}.txt\".format(sim = sim, met = met), delimiter = \"\\t\")\n",
    "input         = spaceNNtime_templates.get_input(ts, metadata, snp, typ, cov, err)\n",
    "output        = spaceNNtime_templates.get_output(pre, metadata)\n",
    "tra_val_tes   = spaceNNtime_templates.get_tra_val_tes(metadata[\"ind_id\"].to_numpy(), file = \"/home/moicoll/spaceNNtime/sandbox/{sim}/{met}/tra_val_tes_{met}.json\".format(sim = sim, met = met))"
   ]
  },
  {
   "cell_type": "code",
   "execution_count": 104,
   "id": "f750f1cc-235b-4e03-b3ce-ca72893bacbb",
   "metadata": {},
   "outputs": [
    {
     "name": "stdout",
     "output_type": "stream",
     "text": [
      "0 TRAIN: [   0    1    2 ... 1497 1498 1499] TEST: [ 78 351 366 564 755]\n",
      "1 TRAIN: [   0    1    2 ... 1497 1498 1499] TEST: [ 141  362  842  903 1169]\n",
      "2 TRAIN: [   0    1    2 ... 1497 1498 1499] TEST: [ 875  892  915 1041 1173]\n",
      "3 TRAIN: [   0    1    2 ... 1497 1498 1499] TEST: [ 622  851 1040 1354 1424]\n",
      "4 TRAIN: [   0    1    2 ... 1497 1498 1499] TEST: [  34  235  681 1151 1270]\n",
      "5 TRAIN: [   0    1    2 ... 1497 1498 1499] TEST: [ 866 1054 1194 1305 1347]\n"
     ]
    }
   ],
   "source": [
    "n = metadata.shape[0]\n",
    "g = 5\n",
    "\n",
    "kf = KFold(n_splits=int(np.ceil(n/g)), shuffle = True, random_state = 1234)\n",
    "for i, train_test_index in enumerate(kf.split(np.arange(n))):\n",
    "    train_index, test_index = train_test_index\n",
    "    print(i, \"TRAIN:\", train_index, \"TEST:\", test_index)\n",
    "    if i > 4:\n",
    "        break"
   ]
  },
  {
   "cell_type": "code",
   "execution_count": 105,
   "id": "db8ffff4-c182-4917-9387-007ccfdac5c3",
   "metadata": {},
   "outputs": [],
   "source": [
    "train_features = input.T[tra_val_tes[\"0\"][\"tra\"], :]\n",
    "train_labels   = output[tra_val_tes[\"0\"][\"tra\"], :]\n",
    "test_features  = input.T[tra_val_tes[\"0\"][\"tes\"], :]\n",
    "test_labels    = output[tra_val_tes[\"0\"][\"tes\"], :]\n",
    "val_features   = input.T[tra_val_tes[\"0\"][\"val\"], :]\n",
    "val_labels     = output[tra_val_tes[\"0\"][\"val\"], :]"
   ]
  },
  {
   "cell_type": "code",
   "execution_count": 106,
   "id": "91efd17c-21dd-41dd-9128-81eb7e581ce7",
   "metadata": {},
   "outputs": [
    {
     "data": {
      "text/plain": [
       "array([[0, 0, 0, ..., 0, 0, 0],\n",
       "       [0, 0, 0, ..., 0, 0, 0],\n",
       "       [0, 0, 0, ..., 0, 0, 0],\n",
       "       ...,\n",
       "       [0, 0, 0, ..., 0, 0, 0],\n",
       "       [0, 0, 0, ..., 0, 0, 0],\n",
       "       [0, 0, 0, ..., 0, 0, 0]])"
      ]
     },
     "execution_count": 106,
     "metadata": {},
     "output_type": "execute_result"
    }
   ],
   "source": [
    "train_features"
   ]
  },
  {
   "cell_type": "code",
   "execution_count": 107,
   "id": "5f789c6d-7fed-4fe0-92cd-2e9e6056a8af",
   "metadata": {},
   "outputs": [],
   "source": [
    "def tf_atan2(y, x):\n",
    "\n",
    "    angle = tf.where(tf.greater(x,0.0), tf.atan(y/x), tf.zeros_like(x))\n",
    "    angle = tf.where(tf.logical_and(tf.less(x,0.0),  tf.greater_equal(y,0.0)), tf.atan(y/x) + np.pi, angle)\n",
    "    angle = tf.where(tf.logical_and(tf.less(x,0.0),  tf.less(y,0.0)), tf.atan(y/x) - np.pi, angle)\n",
    "    angle = tf.where(tf.logical_and(tf.equal(x,0.0), tf.greater(y,0.0)), 0.5*np.pi * tf.ones_like(x), angle)\n",
    "    angle = tf.where(tf.logical_and(tf.equal(x,0.0), tf.less(y,0.0)), -0.5*np.pi * tf.ones_like(x), angle)\n",
    "    angle = tf.where(tf.logical_and(tf.equal(x,0.0), tf.equal(y,0.0)), np.nan * tf.zeros_like(x), angle)\n",
    "    return angle\n",
    "\n",
    "def tf_haversine(latlon1, latlon2):\n",
    "\n",
    "    lat1 = latlon1[:, 0]\n",
    "    lon1 = latlon1[:, 1]\n",
    "    lat2 = latlon2[:, 0]\n",
    "    lon2 = latlon2[:, 1]\n",
    "\n",
    "    REarth = 6371\n",
    "    lat = tf.abs(lat1 - lat2) * np.pi / 180\n",
    "    lon = tf.abs(lon1 - lon2) * np.pi / 180\n",
    "    lat1 = lat1 * np.pi / 180\n",
    "    lat2 = lat2 * np.pi / 180\n",
    "    a = tf.sin(lat / 2) * tf.sin(lat / 2) + tf.cos(lat1) * tf.cos(lat2) * tf.sin(lon / 2) * tf.sin(lon / 2)\n",
    "    d = 2 * tf_atan2(tf.sqrt(a), tf.sqrt(1 - a))\n",
    "    return REarth * d"
   ]
  },
  {
   "cell_type": "code",
   "execution_count": 108,
   "id": "3a43ac2b-e6c8-46dd-8f04-5c249761a120",
   "metadata": {},
   "outputs": [],
   "source": [
    "def haversine_distance_time_difference(w_space = 1, w_time = 1, w_sample = np.array(1)):\n",
    "    '''\n",
    "    https://medium.com/@Bloomore/how-to-write-a-custom-loss-function-with-additional-arguments-in-keras-5f193929f7a0\n",
    "    '''\n",
    "    def loss(y_true, y_pred):\n",
    "        err_space = tf_haversine(y_true[:, 0:2], y_pred[:, 0:2])*w_space\n",
    "        err_time  = mean_squared_error(tf.reshape(y_true[:, 2], (-1, 1)), tf.reshape(y_pred[:, 2], (-1, 1)))*w_time\n",
    "        return K.mean(tf.transpose(tf.reshape(K.concatenate((err_space, err_time)), (2, -1)))*w_sample.reshape(-1, 1), axis=-1)\n",
    "    return loss\n",
    "\n",
    "def euclidean_distance_loss(y_true, y_pred):\n",
    "    return K.sqrt(K.sum(K.square(y_pred - y_true), axis = -1))\n",
    "\n",
    "def mean_squared_error(y_true, y_pred):\n",
    "    return K.mean(K.square(y_pred - y_true), axis = -1)"
   ]
  },
  {
   "cell_type": "code",
   "execution_count": 109,
   "id": "1f9af608-da6e-4d8d-ab52-56ff002b6e8c",
   "metadata": {},
   "outputs": [],
   "source": [
    "def dense_batchnorm_activation(model, l, n, dropout_prop, input_shape = None):\n",
    "    for _ in range(l):\n",
    "        if input_shape == None:\n",
    "            model.add(tf.keras.layers.Dense(n))\n",
    "        else:\n",
    "            model.add(tf.keras.layers.Dense(n, input_shape = input_shape))\n",
    "        model.add(tf.keras.layers.BatchNormalization())\n",
    "        model.add(tf.keras.layers.Activation('elu'))\n",
    "        model.add(tf.keras.layers.Dropout(dropout_prop))\n",
    "        \n",
    "def spaceNNtime(input_shape, output_shape, norm = None, dropout_prop = 0.25, l = 10, n = 256, loss_function = \"edl\", w_time = 1, w_space = 1, w_sample = np.array(1)):\n",
    "    model = tf.keras.Sequential()                                             #Start a fully connected neural network\n",
    "    model.add(tf.keras.Input(shape=input_shape))\n",
    "\n",
    "#    if isinstance(norm, tf.keras.layers.Normalization):                       #If the input is normalized, \n",
    "#        model.add(norm)                                                              #add a normalization layer\n",
    "#        dense_batchnorm_activation(model, l = 1, n = n, dropout_prop = dropout_prop) #and start the first fully connected layer\n",
    "#    else:                                                                     #Otherwise\n",
    "#        dense_batchnorm_activation(model, l = 1, n = n, dropout_prop = dropout_prop, input_shape = input_shape) #Start manually the first layer indicating the input shape\n",
    "    dense_batchnorm_activation(model, l = int(np.floor(l/2)), n = n, dropout_prop = dropout_prop) # Add half of the desired layers\n",
    "    #model.add(tf.keras.layers.Dropout(dropout_prop))                           # Add a drop out layer\n",
    "    dense_batchnorm_activation(model, l = int(np.ceil(l/2)), n = n,  dropout_prop = dropout_prop)    # Add the rest of the desired layers\n",
    "    [model.add(tf.keras.layers.Dense(output_shape)) for _ in range(2)]         # Add two extra layers for the output\n",
    "    \n",
    "    if loss_function == \"edl\":                                                 # Compile the model deciding on the loss function and the optimizer\n",
    "        model.compile(optimizer=\"Adam\", loss=euclidean_distance_loss)\n",
    "    elif loss_function == \"hdtd\":\n",
    "        model.compile(optimizer=\"Adam\", loss=haversine_distance_time_difference(w_time = w_time, w_space = w_space, w_sample = w_sample))\n",
    "    elif loss_function == \"hd\":\n",
    "        model.compile(optimizer=\"Adam\", loss=tf_haversine)\n",
    "    elif loss_function == \"mse\":\n",
    "        model.compile(optimizer=\"Adam\", loss=mean_squared_error)\n",
    "    return model\n",
    "\n",
    "def train_spaceNNtime(model, tra_fea, tra_lab, val_fea, val_lab, callbacks):\n",
    "    history = model.fit(x               = tra_fea, \n",
    "                        y               = tra_lab,\n",
    "                        epochs          = 5000,\n",
    "                        batch_size      =   32,\n",
    "                        shuffle         = True,\n",
    "                        verbose         = False,\n",
    "                        validation_data = (val_fea, val_lab),\n",
    "                        callbacks       = callbacks)\n",
    "    return history\n",
    "\n",
    "def plot_loss(history, fig_path = None):\n",
    "    hist = pd.DataFrame(history.history)\n",
    "    hist['epoch'] = history.epoch\n",
    "    if fig_path:\n",
    "        fig  = plt.figure()\n",
    "    plt.axvline(x = int(hist[np.min(hist[\"val_loss\"]) == hist[\"val_loss\"]][\"epoch\"]), c = \"red\", alpha = 0.5, linestyle = \"dashed\", label='Early Stop')\n",
    "    plt.plot(history.history['loss'], label='Train')\n",
    "    plt.plot(history.history['val_loss'], label='Validation')\n",
    "    plt.xlabel('Epoch')\n",
    "    plt.ylabel('Loss')\n",
    "    plt.ylim((0, 1e7))\n",
    "    plt.legend()\n",
    "    plt.grid(True)\n",
    "    if fig_path:\n",
    "        fig.savefig(fig_path)\n",
    "        plt.close()"
   ]
  },
  {
   "cell_type": "code",
   "execution_count": 110,
   "id": "07bfce59-0eb5-4b00-a768-dbaddf0163ed",
   "metadata": {},
   "outputs": [
    {
     "name": "stdout",
     "output_type": "stream",
     "text": [
      "Model: \"sequential_3\"\n",
      "_________________________________________________________________\n",
      "Layer (type)                 Output Shape              Param #   \n",
      "=================================================================\n",
      "dense_5 (Dense)              (None, 64)                86080     \n",
      "_________________________________________________________________\n",
      "batch_normalization (BatchNo (None, 64)                256       \n",
      "_________________________________________________________________\n",
      "activation (Activation)      (None, 64)                0         \n",
      "_________________________________________________________________\n",
      "dropout (Dropout)            (None, 64)                0         \n",
      "_________________________________________________________________\n",
      "dense_6 (Dense)              (None, 64)                4160      \n",
      "_________________________________________________________________\n",
      "batch_normalization_1 (Batch (None, 64)                256       \n",
      "_________________________________________________________________\n",
      "activation_1 (Activation)    (None, 64)                0         \n",
      "_________________________________________________________________\n",
      "dropout_1 (Dropout)          (None, 64)                0         \n",
      "_________________________________________________________________\n",
      "dense_7 (Dense)              (None, 64)                4160      \n",
      "_________________________________________________________________\n",
      "batch_normalization_2 (Batch (None, 64)                256       \n",
      "_________________________________________________________________\n",
      "activation_2 (Activation)    (None, 64)                0         \n",
      "_________________________________________________________________\n",
      "dropout_2 (Dropout)          (None, 64)                0         \n",
      "_________________________________________________________________\n",
      "dense_8 (Dense)              (None, 64)                4160      \n",
      "_________________________________________________________________\n",
      "batch_normalization_3 (Batch (None, 64)                256       \n",
      "_________________________________________________________________\n",
      "activation_3 (Activation)    (None, 64)                0         \n",
      "_________________________________________________________________\n",
      "dropout_3 (Dropout)          (None, 64)                0         \n",
      "_________________________________________________________________\n",
      "dense_9 (Dense)              (None, 64)                4160      \n",
      "_________________________________________________________________\n",
      "batch_normalization_4 (Batch (None, 64)                256       \n",
      "_________________________________________________________________\n",
      "activation_4 (Activation)    (None, 64)                0         \n",
      "_________________________________________________________________\n",
      "dropout_4 (Dropout)          (None, 64)                0         \n",
      "_________________________________________________________________\n",
      "dense_10 (Dense)             (None, 64)                4160      \n",
      "_________________________________________________________________\n",
      "batch_normalization_5 (Batch (None, 64)                256       \n",
      "_________________________________________________________________\n",
      "activation_5 (Activation)    (None, 64)                0         \n",
      "_________________________________________________________________\n",
      "dropout_5 (Dropout)          (None, 64)                0         \n",
      "_________________________________________________________________\n",
      "dense_11 (Dense)             (None, 64)                4160      \n",
      "_________________________________________________________________\n",
      "batch_normalization_6 (Batch (None, 64)                256       \n",
      "_________________________________________________________________\n",
      "activation_6 (Activation)    (None, 64)                0         \n",
      "_________________________________________________________________\n",
      "dropout_6 (Dropout)          (None, 64)                0         \n",
      "_________________________________________________________________\n",
      "dense_12 (Dense)             (None, 64)                4160      \n",
      "_________________________________________________________________\n",
      "batch_normalization_7 (Batch (None, 64)                256       \n",
      "_________________________________________________________________\n",
      "activation_7 (Activation)    (None, 64)                0         \n",
      "_________________________________________________________________\n",
      "dropout_7 (Dropout)          (None, 64)                0         \n",
      "_________________________________________________________________\n",
      "dense_13 (Dense)             (None, 64)                4160      \n",
      "_________________________________________________________________\n",
      "batch_normalization_8 (Batch (None, 64)                256       \n",
      "_________________________________________________________________\n",
      "activation_8 (Activation)    (None, 64)                0         \n",
      "_________________________________________________________________\n",
      "dropout_8 (Dropout)          (None, 64)                0         \n",
      "_________________________________________________________________\n",
      "dense_14 (Dense)             (None, 64)                4160      \n",
      "_________________________________________________________________\n",
      "batch_normalization_9 (Batch (None, 64)                256       \n",
      "_________________________________________________________________\n",
      "activation_9 (Activation)    (None, 64)                0         \n",
      "_________________________________________________________________\n",
      "dropout_9 (Dropout)          (None, 64)                0         \n",
      "_________________________________________________________________\n",
      "dense_15 (Dense)             (None, 3)                 195       \n",
      "_________________________________________________________________\n",
      "dense_16 (Dense)             (None, 3)                 12        \n",
      "=================================================================\n",
      "Total params: 126,287\n",
      "Trainable params: 125,007\n",
      "Non-trainable params: 1,280\n",
      "_________________________________________________________________\n",
      "Epoch 00319: early stopping\n",
      "CPU times: user 51.1 s, sys: 555 ms, total: 51.7 s\n",
      "Wall time: 52.2 s\n"
     ]
    }
   ],
   "source": [
    "%%time\n",
    "\n",
    "tf.random.set_seed(1234)\n",
    "\n",
    "earlystop = tf.keras.callbacks.EarlyStopping(monitor=\"val_loss\",\n",
    "                                           min_delta=0,\n",
    "                                           patience=100,\n",
    "                                           verbose=1)\n",
    "    \n",
    "reducelr = tf.keras.callbacks.ReduceLROnPlateau(monitor='val_loss',\n",
    "                                              factor=0.5,\n",
    "                                              patience=20)\n",
    "\n",
    "\n",
    "model = spaceNNtime(input_shape   = [train_features.shape[1], ], \n",
    "                    output_shape  = train_labels.shape[1], \n",
    "                    norm          = None, \n",
    "                    dropout_prop  = 0.5, \n",
    "                    l             = 10, \n",
    "                    n             = 64, \n",
    "                    loss_function = \"hdtd\", \n",
    "                    w_time        = 1, \n",
    "                    w_space       = 1000, \n",
    "                    w_sample      = np.array(1))\n",
    "\n",
    "model.summary()\n",
    "\n",
    "#model.load_weights(\"/home/moicoll/spaceNNtime/sandbox/europe/7/models/group0_weights.hdf5\")\n",
    "\n",
    "history = train_spaceNNtime(model     = model, \n",
    "                            tra_fea   = train_features, \n",
    "                            tra_lab   = train_labels, \n",
    "                            val_fea   = val_features, \n",
    "                            val_lab   = val_labels, \n",
    "                            callbacks = [earlystop, reducelr])\n"
   ]
  },
  {
   "cell_type": "code",
   "execution_count": 111,
   "id": "2fa9ffe0-a72b-4e42-a68e-a8586e8ea010",
   "metadata": {},
   "outputs": [
    {
     "data": {
      "image/png": "[encoded data removed]",
      "text/plain": [
       "<Figure size 640x480 with 1 Axes>"
      ]
     },
     "metadata": {},
     "output_type": "display_data"
    }
   ],
   "source": [
    "plot_loss(history)"
   ]
  },
  {
   "cell_type": "code",
   "execution_count": 112,
   "id": "f60089b2-7333-49ed-a772-9d6b646f3ec0",
   "metadata": {},
   "outputs": [],
   "source": [
    "model_copy= keras.models.clone_model(model)\n",
    "model_copy.set_weights(model.get_weights())"
   ]
  },
  {
   "cell_type": "code",
   "execution_count": 113,
   "id": "c65b0e16-7e23-49ec-8d31-3dc753aa3463",
   "metadata": {},
   "outputs": [
    {
     "data": {
      "text/plain": [
       "array([[4.1997372e+01, 2.0703993e+01, 3.3126768e+03],\n",
       "       [4.1024090e+01, 2.2615696e+01, 5.7192773e+03],\n",
       "       [3.9254417e+01, 5.6936050e+01, 4.2285461e+04]], dtype=float32)"
      ]
     },
     "execution_count": 113,
     "metadata": {},
     "output_type": "execute_result"
    }
   ],
   "source": [
    "model.predict(test_features)"
   ]
  },
  {
   "cell_type": "code",
   "execution_count": 114,
   "id": "a347a6b5-4b5a-464b-946e-a2d25e461f7f",
   "metadata": {},
   "outputs": [
    {
     "data": {
      "text/plain": [
       "array([[4.1997372e+01, 2.0703993e+01, 3.3126768e+03],\n",
       "       [4.1024090e+01, 2.2615696e+01, 5.7192773e+03],\n",
       "       [3.9254417e+01, 5.6936050e+01, 4.2285461e+04]], dtype=float32)"
      ]
     },
     "execution_count": 114,
     "metadata": {},
     "output_type": "execute_result"
    }
   ],
   "source": [
    "model_copy.predict(test_features)"
   ]
  },
  {
   "cell_type": "code",
   "execution_count": 115,
   "id": "ea6d7e95-5740-403f-95a2-985aee9f27eb",
   "metadata": {},
   "outputs": [
    {
     "data": {
      "text/plain": [
       "array([[5.75975769e+01, 3.58414075e+01, 5.46800000e+03],\n",
       "       [4.76666245e+01, 3.39797249e+00, 9.25000000e+03],\n",
       "       [2.99269557e+01, 5.12378384e+01, 4.38070000e+04]])"
      ]
     },
     "execution_count": 115,
     "metadata": {},
     "output_type": "execute_result"
    }
   ],
   "source": [
    "test_labels"
   ]
  },
  {
   "cell_type": "code",
   "execution_count": null,
   "id": "79b45e0a-70d6-452d-8583-1dd84dc4b323",
   "metadata": {},
   "outputs": [],
   "source": [
    "%%time\n",
    "#0.1, 0.2, 0.3, 0.4,\n",
    "quantiles    = np.arange(0, 1, 0.05)\n",
    "dropoutspred = np.array([0, 0.025, 0.05, 0.055, 0.06, 0.065, 0.07, 0.075, 0.1, 0.15, 0.2, 0.3, 0.4, 0.5])\n",
    "dropoutspred = np.arange(0.05, 0.07, 0.0025)\n",
    "#dropoutspred = np.array([0.01, 0.02, 0.0225, 0.025, 0.05, 0.075])\n",
    "sampling_size = 50\n",
    "within_list    = []\n",
    "dropout_list   = []\n",
    "quantiles_list = []\n",
    "\n",
    "model_copy= keras.models.clone_model(DNN_model)\n",
    "model_copy.set_weights(DNN_model.get_weights())\n",
    "for dropoutpred in dropoutspred:\n",
    "    print(\"Dropout {}\".format(dropoutpred))\n",
    "    prediction_intervals = []\n",
    "    for j in range(sampling_size):\n",
    "        print(\"{:3.2f} %\".format((j/sampling_size)*100), end = \"\\r\")\n",
    "        for i, l in enumerate(DNN_model.layers):\n",
    "            if i < 3 and i > 0 and \"dense\" in l.name:\n",
    "                #print(i, l.name, l.get_weights()[0].shape)\n",
    "                w = l.get_weights()[0]\n",
    "                dropoutnodes = np.random.binomial(1, dropoutpred, size = w.shape[0]).astype(bool)\n",
    "                w[dropoutnodes, :] = np.zeros((w.shape[1],))\n",
    "                model_copy.layers[i].set_weights([w, DNN_model.layers[i].get_weights()[1]])\n",
    "\n",
    "        prediction_intervals.append(model_copy.predict(test_features))\n",
    "\n",
    "    print(\"{:3.2f} %\".format(((j+1)/sampling_size)*100))\n",
    "    prediction_intervals = np.array(prediction_intervals)\n",
    "    #print(((np.quantile(prediction_intervals, q = 0.5-quantiles/2, axis = 0) < test_labels.to_numpy().reshape(-1, 1)) * (test_labels.to_numpy().reshape(-1, 1) < np.quantile(prediction_intervals, q = 0.5+quantiles/2, axis = 0))).sum(axis = 1)/test_features.shape[0])\n",
    "    within_list.append((((np.quantile(prediction_intervals, q = (0.5-quantiles/2)*1.5, axis = 0) < test_labels.to_numpy().reshape(-1, 1)) * (test_labels.to_numpy().reshape(-1, 1) < np.quantile(prediction_intervals, q = (0.5+quantiles/2)*1.5, axis = 0))).sum(axis = 1)/test_features.shape[0]).reshape(-1))\n",
    "    quantiles_list.append(quantiles)\n",
    "    dropout_list.append([dropoutpred]*quantiles.shape[0])\n",
    "       "
   ]
  },
  {
   "cell_type": "code",
   "execution_count": 127,
   "id": "55d5ef71-f859-4ddc-b5ac-89a9b23afd05",
   "metadata": {},
   "outputs": [
    {
     "name": "stdout",
     "output_type": "stream",
     "text": [
      "Dropout 0.075\n",
      "100.00 %\n",
      "Dropout 0.0775\n",
      "100.00 %\n",
      "Dropout 0.08\n",
      "100.00 %\n",
      "Dropout 0.0825\n",
      "100.00 %\n",
      "Dropout 0.085\n",
      "100.00 %\n",
      "Dropout 0.08750000000000001\n",
      "100.00 %\n",
      "Dropout 0.09000000000000001\n",
      "100.00 %\n",
      "Dropout 0.09250000000000001\n",
      "100.00 %\n",
      "Dropout 0.09500000000000001\n",
      "100.00 %\n",
      "Dropout 0.09750000000000002\n",
      "100.00 %\n",
      "Dropout 0.10000000000000002\n",
      "100.00 %\n",
      "Dropout 0.10250000000000002\n",
      "100.00 %\n",
      "Dropout 0.10500000000000002\n",
      "100.00 %\n",
      "Dropout 0.10750000000000003\n",
      "100.00 %\n",
      "Dropout 0.11000000000000003\n",
      "100.00 %\n",
      "Dropout 0.11250000000000003\n",
      "100.00 %\n",
      "Dropout 0.11500000000000003\n",
      "100.00 %\n",
      "Dropout 0.11750000000000003\n",
      "100.00 %\n",
      "Dropout 0.12000000000000004\n",
      "100.00 %\n",
      "Dropout 0.12250000000000004\n",
      "100.00 %\n",
      "CPU times: user 31.6 s, sys: 340 ms, total: 31.9 s\n",
      "Wall time: 32.7 s\n"
     ]
    }
   ],
   "source": [
    "%%time\n",
    "\n",
    "quantiles      = np.arange(0, 1, 0.05)\n",
    "dropoutspred   = np.arange(0.075, 0.125, 0.0025)\n",
    "#dropoutspred   = np.array([0.1, 0.125, 0.15, 0.175, 0.2, 0.225, 0.25, 0.375,  0.5, 0.625, 0.75])\n",
    "sampling_size  = 50\n",
    "within_list    = []\n",
    "dropout_list   = []\n",
    "quantiles_list = []\n",
    "\n",
    "model_copy= keras.models.clone_model(model)\n",
    "model_copy.set_weights(model.get_weights())\n",
    "for dropoutpred in dropoutspred:\n",
    "    print(\"Dropout {}\".format(dropoutpred))\n",
    "    prediction_intervals = []\n",
    "    for j in range(sampling_size):\n",
    "        print(\"{:3.2f} %\".format((j/sampling_size)*100), end = \"\\r\")\n",
    "        for i, l in enumerate(model.layers):\n",
    "            if i < 40 and i > 1 and \"dense\" in l.name:\n",
    "                #print(i, l.name, l.get_weights()[0].shape)\n",
    "                w = l.get_weights()[0]\n",
    "                dropoutnodes = np.random.binomial(1, dropoutpred, size = w.shape[0]).astype(bool)\n",
    "                w[dropoutnodes, :] = np.zeros((w.shape[1],))\n",
    "                model_copy.layers[i].set_weights([w, model.layers[i].get_weights()[1]])\n",
    "\n",
    "        prediction_intervals.append(model_copy.predict(val_features))\n",
    "\n",
    "    print(\"{:3.2f} %\".format(((j+1)/sampling_size)*100))\n",
    "    prediction_intervals = np.array(prediction_intervals)\n",
    "    #print(((np.quantile(prediction_intervals, q = 0.5-quantiles/2, axis = 0) < val_labels) * (val_labels < np.quantile(prediction_intervals, q = 0.5+quantiles/2, axis = 0))).sum(axis = 1)/val_labels.shape[0])\n",
    "    within_list.append((((np.quantile(prediction_intervals, q = 0.5-quantiles/2, axis = 0) < val_labels) * (val_labels < np.quantile(prediction_intervals, q = 0.5+quantiles/2, axis = 0))).sum(axis = 1)/val_labels.shape[0]))\n",
    "    quantiles_list.append(quantiles)\n",
    "    dropout_list.append([dropoutpred]*quantiles.shape[0])"
   ]
  },
  {
   "cell_type": "code",
   "execution_count": 128,
   "id": "7475b614-1cb8-45f9-964f-9b0d94370f72",
   "metadata": {},
   "outputs": [
    {
     "data": {
      "text/plain": [
       "(20, 20, 3)"
      ]
     },
     "execution_count": 128,
     "metadata": {},
     "output_type": "execute_result"
    }
   ],
   "source": [
    "np.array(within_list).shape"
   ]
  },
  {
   "cell_type": "code",
   "execution_count": 129,
   "id": "dfe34689-8082-4088-abd0-f653ffb26d76",
   "metadata": {},
   "outputs": [],
   "source": [
    "df = pd.DataFrame({\"dro\" : np.array(dropout_list).reshape(-1),\n",
    "                   \"qua\" : np.array(quantiles_list).reshape(-1),\n",
    "                   \"lat\" : np.array(within_list)[:, :, 0].reshape(-1),\n",
    "                   \"lon\" : np.array(within_list)[:, :, 1].reshape(-1),\n",
    "                   \"tim\" : np.array(within_list)[:, :, 2].reshape(-1)})"
   ]
  },
  {
   "cell_type": "code",
   "execution_count": 130,
   "id": "ffae8cbf-38b3-4f47-ab4a-1355671a7dd8",
   "metadata": {},
   "outputs": [
    {
     "data": {
      "image/png": "[encoded data removed]"
     },
     "metadata": {},
     "output_type": "display_data"
    }
   ],
   "source": [
    "%%R -i df -w 1500 -h 500\n",
    "\n",
    "df %>%\n",
    "    gather(\"stat\", \"value\", c(lat, lon, tim)) %>%\n",
    "    ggplot() +\n",
    "    geom_line(aes(x = qua, y = value, color = factor(dro))) +\n",
    "    geom_text(data = . %>% filter(qua == 0.55), aes(x = qua, y = value, label = dro)) +\n",
    "    geom_abline(intercept = 0, slope = 1, linetype = \"dashed\") +\n",
    "    theme_light() +\n",
    "    facet_grid(.~stat)\n"
   ]
  },
  {
   "cell_type": "code",
   "execution_count": 132,
   "id": "932dd481-3d3f-49ab-be9f-878fa6f74070",
   "metadata": {},
   "outputs": [
    {
     "name": "stdout",
     "output_type": "stream",
     "text": [
      "Dropout 0.075\n",
      "100.00 %\n"
     ]
    },
    {
     "ename": "ValueError",
     "evalue": "operands could not be broadcast together with shapes (150,3) (20,) ",
     "output_type": "error",
     "traceback": [
      "\u001b[0;31m---------------------------------------------------------------------------\u001b[0m",
      "\u001b[0;31mValueError\u001b[0m                                Traceback (most recent call last)",
      "File \u001b[0;32m<timed exec>:30\u001b[0m, in \u001b[0;36m<module>\u001b[0;34m\u001b[0m\n",
      "File \u001b[0;32m~/miniconda3/envs/sNNt_au/lib/python3.8/site-packages/scipy/stats/_distn_infrastructure.py:2157\u001b[0m, in \u001b[0;36mrv_continuous.ppf\u001b[0;34m(self, q, *args, **kwds)\u001b[0m\n\u001b[1;32m   2155\u001b[0m cond0 \u001b[38;5;241m=\u001b[39m \u001b[38;5;28mself\u001b[39m\u001b[38;5;241m.\u001b[39m_argcheck(\u001b[38;5;241m*\u001b[39margs) \u001b[38;5;241m&\u001b[39m (scale \u001b[38;5;241m>\u001b[39m \u001b[38;5;241m0\u001b[39m) \u001b[38;5;241m&\u001b[39m (loc \u001b[38;5;241m==\u001b[39m loc)\n\u001b[1;32m   2156\u001b[0m cond1 \u001b[38;5;241m=\u001b[39m (\u001b[38;5;241m0\u001b[39m \u001b[38;5;241m<\u001b[39m q) \u001b[38;5;241m&\u001b[39m (q \u001b[38;5;241m<\u001b[39m \u001b[38;5;241m1\u001b[39m)\n\u001b[0;32m-> 2157\u001b[0m cond2 \u001b[38;5;241m=\u001b[39m \u001b[43mcond0\u001b[49m\u001b[43m \u001b[49m\u001b[38;5;241;43m&\u001b[39;49m\u001b[43m \u001b[49m\u001b[43m(\u001b[49m\u001b[43mq\u001b[49m\u001b[43m \u001b[49m\u001b[38;5;241;43m==\u001b[39;49m\u001b[43m \u001b[49m\u001b[38;5;241;43m0\u001b[39;49m\u001b[43m)\u001b[49m\n\u001b[1;32m   2158\u001b[0m cond3 \u001b[38;5;241m=\u001b[39m cond0 \u001b[38;5;241m&\u001b[39m (q \u001b[38;5;241m==\u001b[39m \u001b[38;5;241m1\u001b[39m)\n\u001b[1;32m   2159\u001b[0m cond \u001b[38;5;241m=\u001b[39m cond0 \u001b[38;5;241m&\u001b[39m cond1\n",
      "\u001b[0;31mValueError\u001b[0m: operands could not be broadcast together with shapes (150,3) (20,) "
     ]
    }
   ],
   "source": [
    "%%time\n",
    "\n",
    "quantiles      = np.arange(0, 1, 0.05)\n",
    "dropoutspred   = np.arange(0.075, 0.125, 0.0025)\n",
    "#dropoutspred   = np.array([0.1, 0.125, 0.15, 0.175, 0.2, 0.225, 0.25, 0.375,  0.5, 0.625, 0.75])\n",
    "sampling_size  = 50\n",
    "within_list    = []\n",
    "dropout_list   = []\n",
    "quantiles_list = []\n",
    "\n",
    "model_copy= keras.models.clone_model(model)\n",
    "model_copy.set_weights(model.get_weights())\n",
    "for dropoutpred in dropoutspred:\n",
    "    print(\"Dropout {}\".format(dropoutpred))\n",
    "    prediction_intervals = []\n",
    "    for j in range(sampling_size):\n",
    "        print(\"{:3.2f} %\".format((j/sampling_size)*100), end = \"\\r\")\n",
    "        for i, l in enumerate(model.layers):\n",
    "            if i < 40 and i > 1 and \"dense\" in l.name:\n",
    "                #print(i, l.name, l.get_weights()[0].shape)\n",
    "                w = l.get_weights()[0]\n",
    "                dropoutnodes = np.random.binomial(1, dropoutpred, size = w.shape[0]).astype(bool)\n",
    "                w[dropoutnodes, :] = np.zeros((w.shape[1],))\n",
    "                model_copy.layers[i].set_weights([w, model.layers[i].get_weights()[1]])\n",
    "\n",
    "        prediction_intervals.append(model_copy.predict(val_features))\n",
    "\n",
    "    print(\"{:3.2f} %\".format(((j+1)/sampling_size)*100))\n",
    "    prediction_intervals = np.array(prediction_intervals)\n",
    "    #print(((np.quantile(prediction_intervals, q = 0.5-quantiles/2, axis = 0) < val_labels) * (val_labels < np.quantile(prediction_intervals, q = 0.5+quantiles/2, axis = 0))).sum(axis = 1)/val_labels.shape[0])\n",
    "    within_list.append((((np.quantile(prediction_intervals, q = 0.5-quantiles/2, axis = 0) < val_labels) * (val_labels < np.quantile(prediction_intervals, q = 0.5+quantiles/2, axis = 0))).sum(axis = 1)/val_labels.shape[0]))\n",
    "    within_list.append(((norm.ppf((0.5-quantiles/2)*1.1, loc=prediction_intervals.mean(axis = 0), scale=prediction_intervals.std(axis = 0)).T < val_labels.to_numpy()) * \n",
    "                        (norm.ppf((0.5+quantiles/2)*1.1, loc=prediction_intervals.mean(axis = 0), scale=prediction_intervals.std(axis = 0)).T > val_labels.to_numpy())).sum(axis = 1)/val_features.shape[0])\n",
    "    quantiles_list.append(quantiles)\n",
    "    dropout_list.append([dropoutpred]*quantiles.shape[0])\n",
    "    \n"
   ]
  },
  {
   "cell_type": "code",
   "execution_count": 134,
   "id": "3444aa15-2942-4394-ac75-e3f0ffd58d23",
   "metadata": {},
   "outputs": [
    {
     "data": {
      "text/plain": [
       "(50, 150, 3)"
      ]
     },
     "execution_count": 134,
     "metadata": {},
     "output_type": "execute_result"
    }
   ],
   "source": [
    "prediction_intervals.shape"
   ]
  },
  {
   "cell_type": "code",
   "execution_count": 136,
   "id": "e7185f17-74df-4faa-b8ee-3dec68f1dc2c",
   "metadata": {},
   "outputs": [
    {
     "data": {
      "text/plain": [
       "(150, 3)"
      ]
     },
     "execution_count": 136,
     "metadata": {},
     "output_type": "execute_result"
    }
   ],
   "source": [
    "prediction_intervals.mean(axis = 0).shape"
   ]
  },
  {
   "cell_type": "code",
   "execution_count": 138,
   "id": "25e2899f-e71e-4545-a7c5-3475eca5c82c",
   "metadata": {},
   "outputs": [
    {
     "data": {
      "text/plain": [
       "(20,)"
      ]
     },
     "execution_count": 138,
     "metadata": {},
     "output_type": "execute_result"
    }
   ],
   "source": [
    "((0.5-quantiles/2)*1.1)."
   ]
  },
  {
   "cell_type": "code",
   "execution_count": 133,
   "id": "9a332e3a-84fd-4b3d-9b49-fdd8d614d4b3",
   "metadata": {},
   "outputs": [
    {
     "ename": "ValueError",
     "evalue": "operands could not be broadcast together with shapes (150,3) (20,) ",
     "output_type": "error",
     "traceback": [
      "\u001b[0;31m---------------------------------------------------------------------------\u001b[0m",
      "\u001b[0;31mValueError\u001b[0m                                Traceback (most recent call last)",
      "Input \u001b[0;32mIn [133]\u001b[0m, in \u001b[0;36m<cell line: 1>\u001b[0;34m()\u001b[0m\n\u001b[0;32m----> 1\u001b[0m \u001b[43mnorm\u001b[49m\u001b[38;5;241;43m.\u001b[39;49m\u001b[43mppf\u001b[49m\u001b[43m(\u001b[49m\u001b[43m(\u001b[49m\u001b[38;5;241;43m0.5\u001b[39;49m\u001b[38;5;241;43m-\u001b[39;49m\u001b[43mquantiles\u001b[49m\u001b[38;5;241;43m/\u001b[39;49m\u001b[38;5;241;43m2\u001b[39;49m\u001b[43m)\u001b[49m\u001b[38;5;241;43m*\u001b[39;49m\u001b[38;5;241;43m1.1\u001b[39;49m\u001b[43m,\u001b[49m\u001b[43m \u001b[49m\u001b[43mloc\u001b[49m\u001b[38;5;241;43m=\u001b[39;49m\u001b[43mprediction_intervals\u001b[49m\u001b[38;5;241;43m.\u001b[39;49m\u001b[43mmean\u001b[49m\u001b[43m(\u001b[49m\u001b[43maxis\u001b[49m\u001b[43m \u001b[49m\u001b[38;5;241;43m=\u001b[39;49m\u001b[43m \u001b[49m\u001b[38;5;241;43m0\u001b[39;49m\u001b[43m)\u001b[49m\u001b[43m,\u001b[49m\u001b[43m \u001b[49m\u001b[43mscale\u001b[49m\u001b[38;5;241;43m=\u001b[39;49m\u001b[43mprediction_intervals\u001b[49m\u001b[38;5;241;43m.\u001b[39;49m\u001b[43mstd\u001b[49m\u001b[43m(\u001b[49m\u001b[43maxis\u001b[49m\u001b[43m \u001b[49m\u001b[38;5;241;43m=\u001b[39;49m\u001b[43m \u001b[49m\u001b[38;5;241;43m0\u001b[39;49m\u001b[43m)\u001b[49m\u001b[43m)\u001b[49m\n",
      "File \u001b[0;32m~/miniconda3/envs/sNNt_au/lib/python3.8/site-packages/scipy/stats/_distn_infrastructure.py:2157\u001b[0m, in \u001b[0;36mrv_continuous.ppf\u001b[0;34m(self, q, *args, **kwds)\u001b[0m\n\u001b[1;32m   2155\u001b[0m cond0 \u001b[38;5;241m=\u001b[39m \u001b[38;5;28mself\u001b[39m\u001b[38;5;241m.\u001b[39m_argcheck(\u001b[38;5;241m*\u001b[39margs) \u001b[38;5;241m&\u001b[39m (scale \u001b[38;5;241m>\u001b[39m \u001b[38;5;241m0\u001b[39m) \u001b[38;5;241m&\u001b[39m (loc \u001b[38;5;241m==\u001b[39m loc)\n\u001b[1;32m   2156\u001b[0m cond1 \u001b[38;5;241m=\u001b[39m (\u001b[38;5;241m0\u001b[39m \u001b[38;5;241m<\u001b[39m q) \u001b[38;5;241m&\u001b[39m (q \u001b[38;5;241m<\u001b[39m \u001b[38;5;241m1\u001b[39m)\n\u001b[0;32m-> 2157\u001b[0m cond2 \u001b[38;5;241m=\u001b[39m \u001b[43mcond0\u001b[49m\u001b[43m \u001b[49m\u001b[38;5;241;43m&\u001b[39;49m\u001b[43m \u001b[49m\u001b[43m(\u001b[49m\u001b[43mq\u001b[49m\u001b[43m \u001b[49m\u001b[38;5;241;43m==\u001b[39;49m\u001b[43m \u001b[49m\u001b[38;5;241;43m0\u001b[39;49m\u001b[43m)\u001b[49m\n\u001b[1;32m   2158\u001b[0m cond3 \u001b[38;5;241m=\u001b[39m cond0 \u001b[38;5;241m&\u001b[39m (q \u001b[38;5;241m==\u001b[39m \u001b[38;5;241m1\u001b[39m)\n\u001b[1;32m   2159\u001b[0m cond \u001b[38;5;241m=\u001b[39m cond0 \u001b[38;5;241m&\u001b[39m cond1\n",
      "\u001b[0;31mValueError\u001b[0m: operands could not be broadcast together with shapes (150,3) (20,) "
     ]
    }
   ],
   "source": [
    "norm.ppf((0.5-quantiles/2)*1.1, loc=prediction_intervals.mean(axis = 0), scale=prediction_intervals.std(axis = 0))"
   ]
  },
  {
   "cell_type": "code",
   "execution_count": null,
   "id": "e4658108-5820-46f8-a35f-e83a00372031",
   "metadata": {},
   "outputs": [],
   "source": [
    "df = pd.DataFrame({\"dro\" : np.array(dropout_list).reshape(-1),\n",
    "                   \"qua\" : np.array(quantiles_list).reshape(-1),\n",
    "                   \"lat\" : np.array(within_list)[:, :, 0].reshape(-1),\n",
    "                   \"lon\" : np.array(within_list)[:, :, 1].reshape(-1),\n",
    "                   \"tim\" : np.array(within_list)[:, :, 2].reshape(-1)})"
   ]
  },
  {
   "cell_type": "code",
   "execution_count": null,
   "id": "123a045d-2f9a-4a62-91c6-e8cc536a9843",
   "metadata": {},
   "outputs": [],
   "source": [
    "%%R -i df -w 1500 -h 500\n",
    "\n",
    "df %>%\n",
    "    gather(\"stat\", \"value\", c(lat, lon, tim)) %>%\n",
    "    ggplot() +\n",
    "    geom_line(aes(x = qua, y = value, color = factor(dro))) +\n",
    "    geom_text(data = . %>% filter(qua == 0.55), aes(x = qua, y = value, label = dro)) +\n",
    "    geom_abline(intercept = 0, slope = 1, linetype = \"dashed\") +\n",
    "    theme_light() +\n",
    "    facet_grid(.~stat)"
   ]
  },
  {
   "cell_type": "markdown",
   "id": "0266a8af-7eec-46b1-99ce-d86c419b13a1",
   "metadata": {},
   "source": [
    "### 0"
   ]
  },
  {
   "cell_type": "code",
   "execution_count": 306,
   "id": "c7487d7f-98ab-4e5f-8788-f75b37d19d00",
   "metadata": {},
   "outputs": [
    {
     "data": {
      "text/plain": [
       "array([[0., 0., 0.],\n",
       "       [0., 0., 0.],\n",
       "       [0., 0., 0.],\n",
       "       [0., 0., 0.],\n",
       "       [0., 0., 0.]])"
      ]
     },
     "execution_count": 306,
     "metadata": {},
     "output_type": "execute_result"
    }
   ],
   "source": [
    "quantiles = np.array([0, 0.25, 0.5, 0.75, 1])\n",
    "((np.quantile(prediction_intervals, q = 0.5-quantiles/2, axis = 0) < val_labels) * (val_labels < np.quantile(prediction_intervals, q = 0.5+quantiles/2, axis = 0))).sum(axis = 1)/val_labels.shape[0]"
   ]
  },
  {
   "cell_type": "markdown",
   "id": "0d9ca239-0bcc-42d9-b236-03b4f590fd32",
   "metadata": {},
   "source": [
    "### 0.1"
   ]
  },
  {
   "cell_type": "code",
   "execution_count": 286,
   "id": "dc592641-ab93-427a-a93f-bfb0574a8482",
   "metadata": {},
   "outputs": [
    {
     "data": {
      "text/plain": [
       "array([[0.        , 0.        , 0.        ],\n",
       "       [0.01333333, 0.01333333, 0.00666667],\n",
       "       [0.02666667, 0.03333333, 0.02      ],\n",
       "       [0.03333333, 0.07333333, 0.04      ],\n",
       "       [0.06      , 0.10666667, 0.14      ]])"
      ]
     },
     "execution_count": 286,
     "metadata": {},
     "output_type": "execute_result"
    }
   ],
   "source": [
    "\n",
    "((np.quantile(prediction_intervals, q = 0.5-quantiles/2, axis = 0) < val_labels) * (val_labels < np.quantile(prediction_intervals, q = 0.5+quantiles/2, axis = 0))).sum(axis = 1)/val_labels.shape[0]"
   ]
  },
  {
   "cell_type": "markdown",
   "id": "e868007e-c754-47c3-8a30-df4eb58ebc7c",
   "metadata": {},
   "source": [
    "### 0.2"
   ]
  },
  {
   "cell_type": "code",
   "execution_count": 288,
   "id": "5fefb47b-8f69-4b14-9655-ef94133cc47c",
   "metadata": {},
   "outputs": [
    {
     "data": {
      "text/plain": [
       "array([[0.        , 0.        , 0.        ],\n",
       "       [0.        , 0.00666667, 0.00666667],\n",
       "       [0.01333333, 0.02666667, 0.02      ],\n",
       "       [0.03333333, 0.02666667, 0.02      ],\n",
       "       [0.05333333, 0.04666667, 0.06      ]])"
      ]
     },
     "execution_count": 288,
     "metadata": {},
     "output_type": "execute_result"
    }
   ],
   "source": [
    "quantiles = np.array([0, 0.25, 0.5, 0.75, 1])\n",
    "((np.quantile(prediction_intervals, q = 0.5-quantiles/2, axis = 0) < val_labels) * (val_labels < np.quantile(prediction_intervals, q = 0.5+quantiles/2, axis = 0))).sum(axis = 1)/val_labels.shape[0]"
   ]
  },
  {
   "cell_type": "markdown",
   "id": "c65cad82-91f5-4f3d-b8c6-69e67591f2c8",
   "metadata": {},
   "source": [
    "### 0.3"
   ]
  },
  {
   "cell_type": "code",
   "execution_count": 290,
   "id": "2de80543-d4a1-4635-b465-8c40618366a4",
   "metadata": {},
   "outputs": [
    {
     "data": {
      "text/plain": [
       "array([[0.        , 0.        , 0.        ],\n",
       "       [0.01333333, 0.        , 0.01333333],\n",
       "       [0.02      , 0.        , 0.02      ],\n",
       "       [0.02666667, 0.        , 0.02      ],\n",
       "       [0.05333333, 0.00666667, 0.03333333]])"
      ]
     },
     "execution_count": 290,
     "metadata": {},
     "output_type": "execute_result"
    }
   ],
   "source": [
    "quantiles = np.array([0, 0.25, 0.5, 0.75, 1])\n",
    "((np.quantile(prediction_intervals, q = 0.5-quantiles/2, axis = 0) < val_labels) * (val_labels < np.quantile(prediction_intervals, q = 0.5+quantiles/2, axis = 0))).sum(axis = 1)/val_labels.shape[0]"
   ]
  },
  {
   "cell_type": "markdown",
   "id": "2327de66-19c0-43ed-b9f7-39e0823514a2",
   "metadata": {},
   "source": [
    "### 0.4"
   ]
  },
  {
   "cell_type": "code",
   "execution_count": 292,
   "id": "d541ddab-e890-4f7a-a870-33085eb35495",
   "metadata": {},
   "outputs": [
    {
     "data": {
      "text/plain": [
       "array([[0.        , 0.        , 0.        ],\n",
       "       [0.        , 0.        , 0.        ],\n",
       "       [0.01333333, 0.        , 0.01333333],\n",
       "       [0.02666667, 0.        , 0.02      ],\n",
       "       [0.06      , 0.        , 0.03333333]])"
      ]
     },
     "execution_count": 292,
     "metadata": {},
     "output_type": "execute_result"
    }
   ],
   "source": [
    "quantiles = np.array([0, 0.25, 0.5, 0.75, 1])\n",
    "((np.quantile(prediction_intervals, q = 0.5-quantiles/2, axis = 0) < val_labels) * (val_labels < np.quantile(prediction_intervals, q = 0.5+quantiles/2, axis = 0))).sum(axis = 1)/val_labels.shape[0]"
   ]
  },
  {
   "cell_type": "markdown",
   "id": "598e2c00-7fbc-4fe2-b2e5-2ee3c9d95c2a",
   "metadata": {},
   "source": [
    "### 0.5"
   ]
  },
  {
   "cell_type": "code",
   "execution_count": 294,
   "id": "c8762f76-d71b-4020-8c02-3f210c0fe688",
   "metadata": {},
   "outputs": [
    {
     "data": {
      "text/plain": [
       "array([[0.        , 0.        , 0.        ],\n",
       "       [0.01333333, 0.        , 0.        ],\n",
       "       [0.01333333, 0.        , 0.00666667],\n",
       "       [0.02666667, 0.00666667, 0.00666667],\n",
       "       [0.03333333, 0.00666667, 0.01333333]])"
      ]
     },
     "execution_count": 294,
     "metadata": {},
     "output_type": "execute_result"
    }
   ],
   "source": [
    "quantiles = np.array([0, 0.25, 0.5, 0.75, 1])\n",
    "((np.quantile(prediction_intervals, q = 0.5-quantiles/2, axis = 0) < val_labels) * (val_labels < np.quantile(prediction_intervals, q = 0.5+quantiles/2, axis = 0))).sum(axis = 1)/val_labels.shape[0]"
   ]
  },
  {
   "cell_type": "markdown",
   "id": "f47d9cc9-d2b8-434d-98e7-762e8f7785a2",
   "metadata": {},
   "source": [
    "### 0.6"
   ]
  },
  {
   "cell_type": "code",
   "execution_count": 296,
   "id": "1d549b96-2540-48ef-a031-f5c94a15b459",
   "metadata": {},
   "outputs": [
    {
     "data": {
      "text/plain": [
       "array([[0.        , 0.        , 0.        ],\n",
       "       [0.00666667, 0.        , 0.00666667],\n",
       "       [0.02      , 0.        , 0.00666667],\n",
       "       [0.02666667, 0.        , 0.01333333],\n",
       "       [0.06666667, 0.        , 0.01333333]])"
      ]
     },
     "execution_count": 296,
     "metadata": {},
     "output_type": "execute_result"
    }
   ],
   "source": [
    "quantiles = np.array([0, 0.25, 0.5, 0.75, 1])\n",
    "((np.quantile(prediction_intervals, q = 0.5-quantiles/2, axis = 0) < val_labels) * (val_labels < np.quantile(prediction_intervals, q = 0.5+quantiles/2, axis = 0))).sum(axis = 1)/val_labels.shape[0]"
   ]
  },
  {
   "cell_type": "markdown",
   "id": "14201c7d-ccec-42e2-89e3-8208f866ab18",
   "metadata": {},
   "source": [
    "### 0.7"
   ]
  },
  {
   "cell_type": "code",
   "execution_count": 298,
   "id": "465cf383-a1fc-4a9f-848b-e409204b8a7a",
   "metadata": {},
   "outputs": [
    {
     "data": {
      "text/plain": [
       "array([[0.        , 0.        , 0.        ],\n",
       "       [0.01333333, 0.        , 0.        ],\n",
       "       [0.02      , 0.        , 0.        ],\n",
       "       [0.02666667, 0.        , 0.00666667],\n",
       "       [0.06      , 0.        , 0.02      ]])"
      ]
     },
     "execution_count": 298,
     "metadata": {},
     "output_type": "execute_result"
    }
   ],
   "source": [
    "quantiles = np.array([0, 0.25, 0.5, 0.75, 1])\n",
    "((np.quantile(prediction_intervals, q = 0.5-quantiles/2, axis = 0) < val_labels) * (val_labels < np.quantile(prediction_intervals, q = 0.5+quantiles/2, axis = 0))).sum(axis = 1)/val_labels.shape[0]"
   ]
  },
  {
   "cell_type": "markdown",
   "id": "c490e499-fb0f-40ee-b67f-358eaa0ff2d7",
   "metadata": {},
   "source": [
    "### 0.8"
   ]
  },
  {
   "cell_type": "code",
   "execution_count": 300,
   "id": "3083cc16-6545-46b2-a4a8-1851823f07ca",
   "metadata": {},
   "outputs": [
    {
     "data": {
      "text/plain": [
       "array([[0.        , 0.        , 0.        ],\n",
       "       [0.00666667, 0.        , 0.        ],\n",
       "       [0.02666667, 0.        , 0.00666667],\n",
       "       [0.02666667, 0.        , 0.01333333],\n",
       "       [0.06      , 0.        , 0.01333333]])"
      ]
     },
     "execution_count": 300,
     "metadata": {},
     "output_type": "execute_result"
    }
   ],
   "source": [
    "quantiles = np.array([0, 0.25, 0.5, 0.75, 1])\n",
    "((np.quantile(prediction_intervals, q = 0.5-quantiles/2, axis = 0) < val_labels) * (val_labels < np.quantile(prediction_intervals, q = 0.5+quantiles/2, axis = 0))).sum(axis = 1)/val_labels.shape[0]"
   ]
  },
  {
   "cell_type": "code",
   "execution_count": 302,
   "id": "38203edd-b592-495e-9121-48f6d27527e0",
   "metadata": {},
   "outputs": [
    {
     "data": {
      "text/plain": [
       "array([[0.        , 0.        , 0.        ],\n",
       "       [0.00666667, 0.        , 0.        ],\n",
       "       [0.01333333, 0.        , 0.        ],\n",
       "       [0.02      , 0.        , 0.        ],\n",
       "       [0.04      , 0.        , 0.00666667]])"
      ]
     },
     "execution_count": 302,
     "metadata": {},
     "output_type": "execute_result"
    }
   ],
   "source": [
    "quantiles = np.array([0, 0.25, 0.5, 0.75, 1])\n",
    "((np.quantile(prediction_intervals, q = 0.5-quantiles/2, axis = 0) < val_labels) * (val_labels < np.quantile(prediction_intervals, q = 0.5+quantiles/2, axis = 0))).sum(axis = 1)/val_labels.shape[0]"
   ]
  },
  {
   "cell_type": "code",
   "execution_count": 304,
   "id": "e317c05f-5d11-4baf-a2dd-f2de38542267",
   "metadata": {},
   "outputs": [
    {
     "data": {
      "text/plain": [
       "array([[0., 0., 0.],\n",
       "       [0., 0., 0.],\n",
       "       [0., 0., 0.],\n",
       "       [0., 0., 0.],\n",
       "       [0., 0., 0.]])"
      ]
     },
     "execution_count": 304,
     "metadata": {},
     "output_type": "execute_result"
    }
   ],
   "source": [
    "quantiles = np.array([0, 0.25, 0.5, 0.75, 1])\n",
    "((np.quantile(prediction_intervals, q = 0.5-quantiles/2, axis = 0) < val_labels) * (val_labels < np.quantile(prediction_intervals, q = 0.5+quantiles/2, axis = 0))).sum(axis = 1)/val_labels.shape[0]"
   ]
  },
  {
   "cell_type": "code",
   "execution_count": 257,
   "id": "89ea047a-04fa-4450-943f-06cdc13e10b2",
   "metadata": {},
   "outputs": [
    {
     "data": {
      "text/plain": [
       "53.605454360429"
      ]
     },
     "execution_count": 257,
     "metadata": {},
     "output_type": "execute_result"
    }
   ],
   "source": [
    "val_labels[0, 0]"
   ]
  },
  {
   "cell_type": "code",
   "execution_count": 256,
   "id": "575e1f08-c346-43dc-a095-6a1eab554f09",
   "metadata": {},
   "outputs": [
    {
     "data": {
      "text/plain": [
       "38.628403"
      ]
     },
     "execution_count": 256,
     "metadata": {},
     "output_type": "execute_result"
    }
   ],
   "source": [
    "np.median(prediction_intervals[:, 0, 0])"
   ]
  },
  {
   "cell_type": "code",
   "execution_count": 253,
   "id": "ca325b03-1f4b-494b-9002-556fba1817b9",
   "metadata": {},
   "outputs": [
    {
     "data": {
      "text/plain": [
       "39.200043"
      ]
     },
     "execution_count": 253,
     "metadata": {},
     "output_type": "execute_result"
    }
   ],
   "source": [
    "max(prediction_intervals[:, 0, 0])"
   ]
  },
  {
   "cell_type": "code",
   "execution_count": 254,
   "id": "576d8a56-f51c-43fb-9c3a-2a8c9b82e4e7",
   "metadata": {},
   "outputs": [
    {
     "data": {
      "text/plain": [
       "38.043102"
      ]
     },
     "execution_count": 254,
     "metadata": {},
     "output_type": "execute_result"
    }
   ],
   "source": [
    "min(prediction_intervals[:, 0, 0])"
   ]
  },
  {
   "cell_type": "code",
   "execution_count": 252,
   "id": "e2663d2c-fbbd-41ea-822b-3b698744c384",
   "metadata": {},
   "outputs": [
    {
     "data": {
      "text/plain": [
       "39.200043"
      ]
     },
     "execution_count": 252,
     "metadata": {},
     "output_type": "execute_result"
    }
   ],
   "source": [
    "np.quantile(prediction_intervals[:, 0, 0], q = 1)"
   ]
  },
  {
   "cell_type": "code",
   "execution_count": 278,
   "id": "35cdb7c6-0c8e-4277-a5d5-dcb5caf1a96d",
   "metadata": {},
   "outputs": [
    {
     "data": {
      "text/plain": [
       "(50, 150, 3)"
      ]
     },
     "execution_count": 278,
     "metadata": {},
     "output_type": "execute_result"
    }
   ],
   "source": [
    "prediction_intervals.shape"
   ]
  },
  {
   "cell_type": "code",
   "execution_count": 280,
   "id": "4815c609-9928-4886-8928-ce12713af6b0",
   "metadata": {},
   "outputs": [
    {
     "data": {
      "text/plain": [
       "array([[[   38.53031349,    43.11710548, 27869.80664062],\n",
       "        [   38.53031349,    43.11710548, 27869.80761719],\n",
       "        [   38.53031349,    43.11710548, 27869.80664062],\n",
       "        ...,\n",
       "        [   38.53031349,    43.11710548, 27869.80664062],\n",
       "        [   38.53031349,    43.11710548, 27869.80664062],\n",
       "        [   38.53031349,    43.11710548, 27869.80761719]],\n",
       "\n",
       "       [[   38.51084709,    43.06803274, 27813.67089844],\n",
       "        [   38.51084709,    43.0680542 , 27813.67089844],\n",
       "        [   38.51079369,    43.06803513, 27813.67089844],\n",
       "        ...,\n",
       "        [   38.51081276,    43.0680542 , 27813.67089844],\n",
       "        [   38.51081276,    43.06803513, 27813.67089844],\n",
       "        [   38.51084709,    43.06805658, 27813.67089844]],\n",
       "\n",
       "       [[   38.45788097,    43.00084782, 27774.68945312],\n",
       "        [   38.45786572,    43.0008707 , 27774.68945312],\n",
       "        [   38.45786572,    43.0008707 , 27774.68945312],\n",
       "        ...,\n",
       "        [   38.45786572,    43.0008707 , 27774.68945312],\n",
       "        [   38.45786572,    43.0008707 , 27774.68945312],\n",
       "        [   38.45784283,    43.0008707 , 27774.68945312]],\n",
       "\n",
       "       [[   38.40464115,    42.91434765, 27693.99902344],\n",
       "        [   38.40466785,    42.91434765, 27693.99731445],\n",
       "        [   38.40466404,    42.91437435, 27693.99902344],\n",
       "        ...,\n",
       "        [   38.40466785,    42.91434765, 27693.99902344],\n",
       "        [   38.40466785,    42.91442776, 27693.99731445],\n",
       "        [   38.40466785,    42.91437435, 27693.99731445]],\n",
       "\n",
       "       [[   38.30675888,    42.73348999, 27454.1015625 ],\n",
       "        [   38.30675888,    42.73340225, 27454.1015625 ],\n",
       "        [   38.30675888,    42.73336792, 27454.1015625 ],\n",
       "        ...,\n",
       "        [   38.30675888,    42.73336792, 27454.1015625 ],\n",
       "        [   38.30675888,    42.73340225, 27454.1015625 ],\n",
       "        [   38.30675888,    42.73340225, 27454.1015625 ]]])"
      ]
     },
     "execution_count": 280,
     "metadata": {},
     "output_type": "execute_result"
    }
   ],
   "source": [
    "np.quantile(prediction_intervals, q = 0.5-quantiles/2, axis = 0)"
   ]
  },
  {
   "cell_type": "code",
   "execution_count": 282,
   "id": "20bf5718-2d60-4771-96e0-5883ffc0ea0b",
   "metadata": {},
   "outputs": [
    {
     "data": {
      "text/plain": [
       "array([[0.        , 0.        , 0.        ],\n",
       "       [0.01333333, 0.        , 0.00666667],\n",
       "       [0.02666667, 0.02      , 0.00666667],\n",
       "       [0.03333333, 0.03333333, 0.02666667],\n",
       "       [0.06      , 0.03333333, 0.06      ]])"
      ]
     },
     "execution_count": 282,
     "metadata": {},
     "output_type": "execute_result"
    }
   ],
   "source": [
    "quantiles = np.array([0, 0.25, 0.5, 0.75, 1])\n",
    "((np.quantile(prediction_intervals, q = 0.5-quantiles/2, axis = 0) < val_labels) * (val_labels < np.quantile(prediction_intervals, q = 0.5+quantiles/2, axis = 0))).sum(axis = 1)/val_labels.shape[0]"
   ]
  },
  {
   "cell_type": "code",
   "execution_count": 228,
   "id": "000f8d95-6c81-4e93-bc43-2833325f37be",
   "metadata": {},
   "outputs": [
    {
     "data": {
      "text/plain": [
       "(150, 3)"
      ]
     },
     "execution_count": 228,
     "metadata": {},
     "output_type": "execute_result"
    }
   ],
   "source": [
    "val_labels.shape"
   ]
  },
  {
   "cell_type": "code",
   "execution_count": 239,
   "id": "4a33fa50-5958-46ed-b76d-a530221acc0d",
   "metadata": {},
   "outputs": [
    {
     "data": {
      "text/plain": [
       "(50, 150, 3)"
      ]
     },
     "execution_count": 239,
     "metadata": {},
     "output_type": "execute_result"
    }
   ],
   "source": [
    "prediction_intervals.shape"
   ]
  },
  {
   "cell_type": "code",
   "execution_count": 220,
   "id": "f6338ab6-1969-4520-ac9f-595575266ad9",
   "metadata": {},
   "outputs": [
    {
     "data": {
      "text/plain": [
       "array([   43.11784744,    41.96700668, 26692.72851562])"
      ]
     },
     "execution_count": 220,
     "metadata": {},
     "output_type": "execute_result"
    }
   ],
   "source": [
    "np.quantile(prediction_intervals, q = 0.5+quantiles/2, axis = 0)[-1, 0, :]"
   ]
  },
  {
   "cell_type": "code",
   "execution_count": 152,
   "id": "692095e2-fbef-4d3d-80c4-f7ef64a2d829",
   "metadata": {},
   "outputs": [
    {
     "data": {
      "text/plain": [
       "0.025000000000000022"
      ]
     },
     "execution_count": 152,
     "metadata": {},
     "output_type": "execute_result"
    }
   ],
   "source": [
    "0.5-0.95/2"
   ]
  },
  {
   "cell_type": "code",
   "execution_count": 155,
   "id": "9faec163-e7fa-4b01-b192-c9f536b166e4",
   "metadata": {},
   "outputs": [
    {
     "data": {
      "text/plain": [
       "39.703816986083986"
      ]
     },
     "execution_count": 155,
     "metadata": {},
     "output_type": "execute_result"
    }
   ],
   "source": [
    "np.quantile(np.array(a)[:, 0, 0], q = 0.5-0.95/2)"
   ]
  },
  {
   "cell_type": "code",
   "execution_count": 159,
   "id": "6ff4966e-37be-47f1-8ec1-fa2ab562ff80",
   "metadata": {},
   "outputs": [
    {
     "data": {
      "text/plain": [
       "40.67484817504883"
      ]
     },
     "execution_count": 159,
     "metadata": {},
     "output_type": "execute_result"
    }
   ],
   "source": [
    "np.quantile(np.array(a)[:, 0, 0], q = 0.5+0.95/2)"
   ]
  },
  {
   "cell_type": "code",
   "execution_count": 162,
   "id": "e1922a52-3842-4c31-a559-76ca72c11006",
   "metadata": {},
   "outputs": [
    {
     "data": {
      "text/plain": [
       "9"
      ]
     },
     "execution_count": 162,
     "metadata": {},
     "output_type": "execute_result"
    }
   ],
   "source": [
    "np.quantile(np.arange(10), q = 0.5+0.95/2, method = \"closest_observation\")"
   ]
  },
  {
   "cell_type": "code",
   "execution_count": 156,
   "id": "9dc0d883-fe63-4c5a-9b1d-9c8cc8fb4250",
   "metadata": {},
   "outputs": [
    {
     "data": {
      "text/plain": [
       "array([40.70907 , 39.671333, 40.366867, 40.237488, 39.99617 ],\n",
       "      dtype=float32)"
      ]
     },
     "execution_count": 156,
     "metadata": {},
     "output_type": "execute_result"
    }
   ],
   "source": [
    "np.array(a)[:, 0, 0]"
   ]
  },
  {
   "cell_type": "code",
   "execution_count": 151,
   "id": "273cfb40-740a-480b-a6f0-bf97f8e792ee",
   "metadata": {},
   "outputs": [
    {
     "ename": "AxisError",
     "evalue": "axis 1 is out of bounds for array of dimension 1",
     "output_type": "error",
     "traceback": [
      "\u001b[0;31m---------------------------------------------------------------------------\u001b[0m",
      "\u001b[0;31mAxisError\u001b[0m                                 Traceback (most recent call last)",
      "Input \u001b[0;32mIn [151]\u001b[0m, in \u001b[0;36m<cell line: 1>\u001b[0;34m()\u001b[0m\n\u001b[0;32m----> 1\u001b[0m \u001b[43mnp\u001b[49m\u001b[38;5;241;43m.\u001b[39;49m\u001b[43mquantile\u001b[49m\u001b[43m(\u001b[49m\u001b[43mnp\u001b[49m\u001b[38;5;241;43m.\u001b[39;49m\u001b[43marray\u001b[49m\u001b[43m(\u001b[49m\u001b[43ma\u001b[49m\u001b[43m)\u001b[49m\u001b[43m[\u001b[49m\u001b[43m:\u001b[49m\u001b[43m,\u001b[49m\u001b[43m \u001b[49m\u001b[38;5;241;43m0\u001b[39;49m\u001b[43m,\u001b[49m\u001b[43m \u001b[49m\u001b[38;5;241;43m0\u001b[39;49m\u001b[43m]\u001b[49m\u001b[43m,\u001b[49m\u001b[43m \u001b[49m\u001b[38;5;241;43m0.5\u001b[39;49m\u001b[38;5;241;43m-\u001b[39;49m\u001b[38;5;241;43m0.95\u001b[39;49m\u001b[38;5;241;43m/\u001b[39;49m\u001b[38;5;241;43m2\u001b[39;49m\u001b[43m,\u001b[49m\u001b[43m \u001b[49m\u001b[43maxis\u001b[49m\u001b[38;5;241;43m=\u001b[39;49m\u001b[38;5;241;43m1\u001b[39;49m\u001b[43m)\u001b[49m\n",
      "File \u001b[0;32m<__array_function__ internals>:180\u001b[0m, in \u001b[0;36mquantile\u001b[0;34m(*args, **kwargs)\u001b[0m\n",
      "File \u001b[0;32m~/miniconda3/envs/sNNt_au/lib/python3.8/site-packages/numpy/lib/function_base.py:4412\u001b[0m, in \u001b[0;36mquantile\u001b[0;34m(a, q, axis, out, overwrite_input, method, keepdims, interpolation)\u001b[0m\n\u001b[1;32m   4410\u001b[0m \u001b[38;5;28;01mif\u001b[39;00m \u001b[38;5;129;01mnot\u001b[39;00m _quantile_is_valid(q):\n\u001b[1;32m   4411\u001b[0m     \u001b[38;5;28;01mraise\u001b[39;00m \u001b[38;5;167;01mValueError\u001b[39;00m(\u001b[38;5;124m\"\u001b[39m\u001b[38;5;124mQuantiles must be in the range [0, 1]\u001b[39m\u001b[38;5;124m\"\u001b[39m)\n\u001b[0;32m-> 4412\u001b[0m \u001b[38;5;28;01mreturn\u001b[39;00m \u001b[43m_quantile_unchecked\u001b[49m\u001b[43m(\u001b[49m\n\u001b[1;32m   4413\u001b[0m \u001b[43m    \u001b[49m\u001b[43ma\u001b[49m\u001b[43m,\u001b[49m\u001b[43m \u001b[49m\u001b[43mq\u001b[49m\u001b[43m,\u001b[49m\u001b[43m \u001b[49m\u001b[43maxis\u001b[49m\u001b[43m,\u001b[49m\u001b[43m \u001b[49m\u001b[43mout\u001b[49m\u001b[43m,\u001b[49m\u001b[43m \u001b[49m\u001b[43moverwrite_input\u001b[49m\u001b[43m,\u001b[49m\u001b[43m \u001b[49m\u001b[43mmethod\u001b[49m\u001b[43m,\u001b[49m\u001b[43m \u001b[49m\u001b[43mkeepdims\u001b[49m\u001b[43m)\u001b[49m\n",
      "File \u001b[0;32m~/miniconda3/envs/sNNt_au/lib/python3.8/site-packages/numpy/lib/function_base.py:4424\u001b[0m, in \u001b[0;36m_quantile_unchecked\u001b[0;34m(a, q, axis, out, overwrite_input, method, keepdims)\u001b[0m\n\u001b[1;32m   4416\u001b[0m \u001b[38;5;28;01mdef\u001b[39;00m \u001b[38;5;21m_quantile_unchecked\u001b[39m(a,\n\u001b[1;32m   4417\u001b[0m                         q,\n\u001b[1;32m   4418\u001b[0m                         axis\u001b[38;5;241m=\u001b[39m\u001b[38;5;28;01mNone\u001b[39;00m,\n\u001b[0;32m   (...)\u001b[0m\n\u001b[1;32m   4421\u001b[0m                         method\u001b[38;5;241m=\u001b[39m\u001b[38;5;124m\"\u001b[39m\u001b[38;5;124mlinear\u001b[39m\u001b[38;5;124m\"\u001b[39m,\n\u001b[1;32m   4422\u001b[0m                         keepdims\u001b[38;5;241m=\u001b[39m\u001b[38;5;28;01mFalse\u001b[39;00m):\n\u001b[1;32m   4423\u001b[0m     \u001b[38;5;124;03m\"\"\"Assumes that q is in [0, 1], and is an ndarray\"\"\"\u001b[39;00m\n\u001b[0;32m-> 4424\u001b[0m     r, k \u001b[38;5;241m=\u001b[39m \u001b[43m_ureduce\u001b[49m\u001b[43m(\u001b[49m\u001b[43ma\u001b[49m\u001b[43m,\u001b[49m\n\u001b[1;32m   4425\u001b[0m \u001b[43m                    \u001b[49m\u001b[43mfunc\u001b[49m\u001b[38;5;241;43m=\u001b[39;49m\u001b[43m_quantile_ureduce_func\u001b[49m\u001b[43m,\u001b[49m\n\u001b[1;32m   4426\u001b[0m \u001b[43m                    \u001b[49m\u001b[43mq\u001b[49m\u001b[38;5;241;43m=\u001b[39;49m\u001b[43mq\u001b[49m\u001b[43m,\u001b[49m\n\u001b[1;32m   4427\u001b[0m \u001b[43m                    \u001b[49m\u001b[43maxis\u001b[49m\u001b[38;5;241;43m=\u001b[39;49m\u001b[43maxis\u001b[49m\u001b[43m,\u001b[49m\n\u001b[1;32m   4428\u001b[0m \u001b[43m                    \u001b[49m\u001b[43mout\u001b[49m\u001b[38;5;241;43m=\u001b[39;49m\u001b[43mout\u001b[49m\u001b[43m,\u001b[49m\n\u001b[1;32m   4429\u001b[0m \u001b[43m                    \u001b[49m\u001b[43moverwrite_input\u001b[49m\u001b[38;5;241;43m=\u001b[39;49m\u001b[43moverwrite_input\u001b[49m\u001b[43m,\u001b[49m\n\u001b[1;32m   4430\u001b[0m \u001b[43m                    \u001b[49m\u001b[43mmethod\u001b[49m\u001b[38;5;241;43m=\u001b[39;49m\u001b[43mmethod\u001b[49m\u001b[43m)\u001b[49m\n\u001b[1;32m   4431\u001b[0m     \u001b[38;5;28;01mif\u001b[39;00m keepdims:\n\u001b[1;32m   4432\u001b[0m         \u001b[38;5;28;01mreturn\u001b[39;00m r\u001b[38;5;241m.\u001b[39mreshape(q\u001b[38;5;241m.\u001b[39mshape \u001b[38;5;241m+\u001b[39m k)\n",
      "File \u001b[0;32m~/miniconda3/envs/sNNt_au/lib/python3.8/site-packages/numpy/lib/function_base.py:3705\u001b[0m, in \u001b[0;36m_ureduce\u001b[0;34m(a, func, **kwargs)\u001b[0m\n\u001b[1;32m   3703\u001b[0m keepdim \u001b[38;5;241m=\u001b[39m \u001b[38;5;28mlist\u001b[39m(a\u001b[38;5;241m.\u001b[39mshape)\n\u001b[1;32m   3704\u001b[0m nd \u001b[38;5;241m=\u001b[39m a\u001b[38;5;241m.\u001b[39mndim\n\u001b[0;32m-> 3705\u001b[0m axis \u001b[38;5;241m=\u001b[39m \u001b[43m_nx\u001b[49m\u001b[38;5;241;43m.\u001b[39;49m\u001b[43mnormalize_axis_tuple\u001b[49m\u001b[43m(\u001b[49m\u001b[43maxis\u001b[49m\u001b[43m,\u001b[49m\u001b[43m \u001b[49m\u001b[43mnd\u001b[49m\u001b[43m)\u001b[49m\n\u001b[1;32m   3707\u001b[0m \u001b[38;5;28;01mfor\u001b[39;00m ax \u001b[38;5;129;01min\u001b[39;00m axis:\n\u001b[1;32m   3708\u001b[0m     keepdim[ax] \u001b[38;5;241m=\u001b[39m \u001b[38;5;241m1\u001b[39m\n",
      "File \u001b[0;32m~/miniconda3/envs/sNNt_au/lib/python3.8/site-packages/numpy/core/numeric.py:1397\u001b[0m, in \u001b[0;36mnormalize_axis_tuple\u001b[0;34m(axis, ndim, argname, allow_duplicate)\u001b[0m\n\u001b[1;32m   1395\u001b[0m         \u001b[38;5;28;01mpass\u001b[39;00m\n\u001b[1;32m   1396\u001b[0m \u001b[38;5;66;03m# Going via an iterator directly is slower than via list comprehension.\u001b[39;00m\n\u001b[0;32m-> 1397\u001b[0m axis \u001b[38;5;241m=\u001b[39m \u001b[38;5;28mtuple\u001b[39m([normalize_axis_index(ax, ndim, argname) \u001b[38;5;28;01mfor\u001b[39;00m ax \u001b[38;5;129;01min\u001b[39;00m axis])\n\u001b[1;32m   1398\u001b[0m \u001b[38;5;28;01mif\u001b[39;00m \u001b[38;5;129;01mnot\u001b[39;00m allow_duplicate \u001b[38;5;129;01mand\u001b[39;00m \u001b[38;5;28mlen\u001b[39m(\u001b[38;5;28mset\u001b[39m(axis)) \u001b[38;5;241m!=\u001b[39m \u001b[38;5;28mlen\u001b[39m(axis):\n\u001b[1;32m   1399\u001b[0m     \u001b[38;5;28;01mif\u001b[39;00m argname:\n",
      "File \u001b[0;32m~/miniconda3/envs/sNNt_au/lib/python3.8/site-packages/numpy/core/numeric.py:1397\u001b[0m, in \u001b[0;36m<listcomp>\u001b[0;34m(.0)\u001b[0m\n\u001b[1;32m   1395\u001b[0m         \u001b[38;5;28;01mpass\u001b[39;00m\n\u001b[1;32m   1396\u001b[0m \u001b[38;5;66;03m# Going via an iterator directly is slower than via list comprehension.\u001b[39;00m\n\u001b[0;32m-> 1397\u001b[0m axis \u001b[38;5;241m=\u001b[39m \u001b[38;5;28mtuple\u001b[39m([\u001b[43mnormalize_axis_index\u001b[49m\u001b[43m(\u001b[49m\u001b[43max\u001b[49m\u001b[43m,\u001b[49m\u001b[43m \u001b[49m\u001b[43mndim\u001b[49m\u001b[43m,\u001b[49m\u001b[43m \u001b[49m\u001b[43margname\u001b[49m\u001b[43m)\u001b[49m \u001b[38;5;28;01mfor\u001b[39;00m ax \u001b[38;5;129;01min\u001b[39;00m axis])\n\u001b[1;32m   1398\u001b[0m \u001b[38;5;28;01mif\u001b[39;00m \u001b[38;5;129;01mnot\u001b[39;00m allow_duplicate \u001b[38;5;129;01mand\u001b[39;00m \u001b[38;5;28mlen\u001b[39m(\u001b[38;5;28mset\u001b[39m(axis)) \u001b[38;5;241m!=\u001b[39m \u001b[38;5;28mlen\u001b[39m(axis):\n\u001b[1;32m   1399\u001b[0m     \u001b[38;5;28;01mif\u001b[39;00m argname:\n",
      "\u001b[0;31mAxisError\u001b[0m: axis 1 is out of bounds for array of dimension 1"
     ]
    }
   ],
   "source": [
    "np.quantile(np.array(a)[:, 0, 0], 0.5-0.95/2, axis=1)"
   ]
  },
  {
   "cell_type": "code",
   "execution_count": 147,
   "id": "289ad135-c00e-4b46-a262-df7c0a6d811b",
   "metadata": {},
   "outputs": [
    {
     "data": {
      "text/plain": [
       "53.605454360429"
      ]
     },
     "execution_count": 147,
     "metadata": {},
     "output_type": "execute_result"
    }
   ],
   "source": [
    "val_labels[0, 0]"
   ]
  },
  {
   "cell_type": "code",
   "execution_count": 126,
   "id": "c26f2cd5-ee38-4c71-9979-ed01703f3090",
   "metadata": {},
   "outputs": [
    {
     "data": {
      "text/plain": [
       "array([[4.1997372e+01, 2.0703993e+01, 3.3126768e+03],\n",
       "       [4.1024090e+01, 2.2615696e+01, 5.7192773e+03],\n",
       "       [3.9254417e+01, 5.6936050e+01, 4.2285461e+04]], dtype=float32)"
      ]
     },
     "execution_count": 126,
     "metadata": {},
     "output_type": "execute_result"
    }
   ],
   "source": [
    "model.predict(test_features)"
   ]
  },
  {
   "cell_type": "raw",
   "id": "4b8788c0-97a0-4153-ada1-df50cfcb9bf9",
   "metadata": {},
   "source": [
    "array([[4.7524193e+01, 3.0605331e+01, 4.7128862e+03],\n",
    "       [5.0762917e+01, 3.4486595e+01, 7.1121157e+03],\n",
    "       [3.4813271e+01, 5.2685806e+01, 4.4427621e+04]], dtype=float32)"
   ]
  },
  {
   "cell_type": "code",
   "execution_count": 97,
   "id": "56a38ed2-2cd1-4266-9556-28fad807f224",
   "metadata": {},
   "outputs": [
    {
     "name": "stdout",
     "output_type": "stream",
     "text": [
      "{'name': 'dense_120', 'trainable': True, 'dtype': 'float32', 'units': 3, 'activation': 'linear', 'use_bias': True, 'kernel_initializer': {'class_name': 'GlorotUniform', 'config': {'seed': None}}, 'bias_initializer': {'class_name': 'Zeros', 'config': {}}, 'kernel_regularizer': None, 'bias_regularizer': None, 'activity_regularizer': None, 'kernel_constraint': None, 'bias_constraint': None}\n",
      "{'name': 'dense_120', 'trainable': True, 'dtype': 'float32', 'units': 3, 'activation': 'linear', 'use_bias': True, 'kernel_initializer': {'class_name': 'GlorotUniform', 'config': {'seed': None}}, 'bias_initializer': {'class_name': 'Zeros', 'config': {}}, 'kernel_regularizer': None, 'bias_regularizer': None, 'activity_regularizer': None, 'kernel_constraint': None, 'bias_constraint': None}\n"
     ]
    }
   ],
   "source": [
    "for x in layer:\n",
    "    print(layer[\"config\"])"
   ]
  },
  {
   "cell_type": "code",
   "execution_count": 101,
   "id": "54cb7d22-e875-45e4-a85a-5c71adf2357b",
   "metadata": {},
   "outputs": [
    {
     "data": {
      "text/plain": [
       "40"
      ]
     },
     "execution_count": 101,
     "metadata": {},
     "output_type": "execute_result"
    }
   ],
   "source": [
    "(4*10)+"
   ]
  },
  {
   "cell_type": "code",
   "execution_count": 116,
   "id": "bbe7d60e-7065-48e3-8534-ecef4abae25e",
   "metadata": {},
   "outputs": [
    {
     "data": {
      "text/plain": [
       "'dense_132/bias:0'"
      ]
     },
     "execution_count": 116,
     "metadata": {},
     "output_type": "execute_result"
    }
   ],
   "source": [
    "m.name"
   ]
  },
  {
   "cell_type": "code",
   "execution_count": 118,
   "id": "96d57e97-e8ab-4dd8-86b6-ae0ab238b69c",
   "metadata": {},
   "outputs": [
    {
     "data": {
      "text/plain": [
       "'dense_121/kernel:0'"
      ]
     },
     "execution_count": 118,
     "metadata": {},
     "output_type": "execute_result"
    }
   ],
   "source": [
    "model.weights[0].name"
   ]
  },
  {
   "cell_type": "code",
   "execution_count": 120,
   "id": "9cbf1c45-d1a3-42df-837b-70751eab760c",
   "metadata": {},
   "outputs": [
    {
     "name": "stdout",
     "output_type": "stream",
     "text": [
      "INFO:tensorflow:Assets written to: model/assets\n"
     ]
    }
   ],
   "source": [
    "model.clo"
   ]
  },
  {
   "cell_type": "code",
   "execution_count": null,
   "id": "14bbfd90-a72c-42a5-abd5-f5d8e0a5a1ca",
   "metadata": {},
   "outputs": [],
   "source": [
    "tf"
   ]
  },
  {
   "cell_type": "code",
   "execution_count": 107,
   "id": "0c190d28-f0d6-4564-9f05-de08096b06bb",
   "metadata": {},
   "outputs": [
    {
     "name": "stdout",
     "output_type": "stream",
     "text": [
      "0 InputLayer\n",
      "{'class_name': 'InputLayer', 'config': {'batch_input_shape': (None, 1344), 'dtype': 'float32', 'sparse': False, 'ragged': False, 'name': 'input_4'}}\n",
      "1 Dense\n",
      "{'class_name': 'Dense', 'config': {'name': 'dense_121', 'trainable': True, 'dtype': 'float32', 'units': 64, 'activation': 'linear', 'use_bias': True, 'kernel_initializer': {'class_name': 'GlorotUniform', 'config': {'seed': None}}, 'bias_initializer': {'class_name': 'Zeros', 'config': {}}, 'kernel_regularizer': None, 'bias_regularizer': None, 'activity_regularizer': None, 'kernel_constraint': None, 'bias_constraint': None}}\n",
      "2 BatchNormalization\n",
      "{'class_name': 'BatchNormalization', 'config': {'name': 'batch_normalization_101', 'trainable': True, 'dtype': 'float32', 'axis': ListWrapper([1]), 'momentum': 0.99, 'epsilon': 0.001, 'center': True, 'scale': True, 'beta_initializer': {'class_name': 'Zeros', 'config': {}}, 'gamma_initializer': {'class_name': 'Ones', 'config': {}}, 'moving_mean_initializer': {'class_name': 'Zeros', 'config': {}}, 'moving_variance_initializer': {'class_name': 'Ones', 'config': {}}, 'beta_regularizer': None, 'gamma_regularizer': None, 'beta_constraint': None, 'gamma_constraint': None}}\n",
      "3 Activation\n",
      "{'class_name': 'Activation', 'config': {'name': 'activation_101', 'trainable': True, 'dtype': 'float32', 'activation': 'elu'}}\n",
      "4 Dropout\n",
      "{'class_name': 'Dropout', 'config': {'name': 'dropout_101', 'trainable': True, 'dtype': 'float32', 'rate': 0.25, 'noise_shape': None, 'seed': None}}\n",
      "5 Dense\n",
      "{'class_name': 'Dense', 'config': {'name': 'dense_122', 'trainable': True, 'dtype': 'float32', 'units': 64, 'activation': 'linear', 'use_bias': True, 'kernel_initializer': {'class_name': 'GlorotUniform', 'config': {'seed': None}}, 'bias_initializer': {'class_name': 'Zeros', 'config': {}}, 'kernel_regularizer': None, 'bias_regularizer': None, 'activity_regularizer': None, 'kernel_constraint': None, 'bias_constraint': None}}\n",
      "6 BatchNormalization\n",
      "{'class_name': 'BatchNormalization', 'config': {'name': 'batch_normalization_102', 'trainable': True, 'dtype': 'float32', 'axis': ListWrapper([1]), 'momentum': 0.99, 'epsilon': 0.001, 'center': True, 'scale': True, 'beta_initializer': {'class_name': 'Zeros', 'config': {}}, 'gamma_initializer': {'class_name': 'Ones', 'config': {}}, 'moving_mean_initializer': {'class_name': 'Zeros', 'config': {}}, 'moving_variance_initializer': {'class_name': 'Ones', 'config': {}}, 'beta_regularizer': None, 'gamma_regularizer': None, 'beta_constraint': None, 'gamma_constraint': None}}\n",
      "7 Activation\n",
      "{'class_name': 'Activation', 'config': {'name': 'activation_102', 'trainable': True, 'dtype': 'float32', 'activation': 'elu'}}\n",
      "8 Dropout\n",
      "{'class_name': 'Dropout', 'config': {'name': 'dropout_102', 'trainable': True, 'dtype': 'float32', 'rate': 0.25, 'noise_shape': None, 'seed': None}}\n",
      "9 Dense\n",
      "{'class_name': 'Dense', 'config': {'name': 'dense_123', 'trainable': True, 'dtype': 'float32', 'units': 64, 'activation': 'linear', 'use_bias': True, 'kernel_initializer': {'class_name': 'GlorotUniform', 'config': {'seed': None}}, 'bias_initializer': {'class_name': 'Zeros', 'config': {}}, 'kernel_regularizer': None, 'bias_regularizer': None, 'activity_regularizer': None, 'kernel_constraint': None, 'bias_constraint': None}}\n",
      "10 BatchNormalization\n",
      "{'class_name': 'BatchNormalization', 'config': {'name': 'batch_normalization_103', 'trainable': True, 'dtype': 'float32', 'axis': ListWrapper([1]), 'momentum': 0.99, 'epsilon': 0.001, 'center': True, 'scale': True, 'beta_initializer': {'class_name': 'Zeros', 'config': {}}, 'gamma_initializer': {'class_name': 'Ones', 'config': {}}, 'moving_mean_initializer': {'class_name': 'Zeros', 'config': {}}, 'moving_variance_initializer': {'class_name': 'Ones', 'config': {}}, 'beta_regularizer': None, 'gamma_regularizer': None, 'beta_constraint': None, 'gamma_constraint': None}}\n",
      "11 Activation\n",
      "{'class_name': 'Activation', 'config': {'name': 'activation_103', 'trainable': True, 'dtype': 'float32', 'activation': 'elu'}}\n",
      "12 Dropout\n",
      "{'class_name': 'Dropout', 'config': {'name': 'dropout_103', 'trainable': True, 'dtype': 'float32', 'rate': 0.25, 'noise_shape': None, 'seed': None}}\n",
      "13 Dense\n",
      "{'class_name': 'Dense', 'config': {'name': 'dense_124', 'trainable': True, 'dtype': 'float32', 'units': 64, 'activation': 'linear', 'use_bias': True, 'kernel_initializer': {'class_name': 'GlorotUniform', 'config': {'seed': None}}, 'bias_initializer': {'class_name': 'Zeros', 'config': {}}, 'kernel_regularizer': None, 'bias_regularizer': None, 'activity_regularizer': None, 'kernel_constraint': None, 'bias_constraint': None}}\n",
      "14 BatchNormalization\n",
      "{'class_name': 'BatchNormalization', 'config': {'name': 'batch_normalization_104', 'trainable': True, 'dtype': 'float32', 'axis': ListWrapper([1]), 'momentum': 0.99, 'epsilon': 0.001, 'center': True, 'scale': True, 'beta_initializer': {'class_name': 'Zeros', 'config': {}}, 'gamma_initializer': {'class_name': 'Ones', 'config': {}}, 'moving_mean_initializer': {'class_name': 'Zeros', 'config': {}}, 'moving_variance_initializer': {'class_name': 'Ones', 'config': {}}, 'beta_regularizer': None, 'gamma_regularizer': None, 'beta_constraint': None, 'gamma_constraint': None}}\n",
      "15 Activation\n",
      "{'class_name': 'Activation', 'config': {'name': 'activation_104', 'trainable': True, 'dtype': 'float32', 'activation': 'elu'}}\n",
      "16 Dropout\n",
      "{'class_name': 'Dropout', 'config': {'name': 'dropout_104', 'trainable': True, 'dtype': 'float32', 'rate': 0.25, 'noise_shape': None, 'seed': None}}\n",
      "17 Dense\n",
      "{'class_name': 'Dense', 'config': {'name': 'dense_125', 'trainable': True, 'dtype': 'float32', 'units': 64, 'activation': 'linear', 'use_bias': True, 'kernel_initializer': {'class_name': 'GlorotUniform', 'config': {'seed': None}}, 'bias_initializer': {'class_name': 'Zeros', 'config': {}}, 'kernel_regularizer': None, 'bias_regularizer': None, 'activity_regularizer': None, 'kernel_constraint': None, 'bias_constraint': None}}\n",
      "18 BatchNormalization\n",
      "{'class_name': 'BatchNormalization', 'config': {'name': 'batch_normalization_105', 'trainable': True, 'dtype': 'float32', 'axis': ListWrapper([1]), 'momentum': 0.99, 'epsilon': 0.001, 'center': True, 'scale': True, 'beta_initializer': {'class_name': 'Zeros', 'config': {}}, 'gamma_initializer': {'class_name': 'Ones', 'config': {}}, 'moving_mean_initializer': {'class_name': 'Zeros', 'config': {}}, 'moving_variance_initializer': {'class_name': 'Ones', 'config': {}}, 'beta_regularizer': None, 'gamma_regularizer': None, 'beta_constraint': None, 'gamma_constraint': None}}\n",
      "19 Activation\n",
      "{'class_name': 'Activation', 'config': {'name': 'activation_105', 'trainable': True, 'dtype': 'float32', 'activation': 'elu'}}\n",
      "20 Dropout\n",
      "{'class_name': 'Dropout', 'config': {'name': 'dropout_105', 'trainable': True, 'dtype': 'float32', 'rate': 0.25, 'noise_shape': None, 'seed': None}}\n",
      "21 Dense\n",
      "{'class_name': 'Dense', 'config': {'name': 'dense_126', 'trainable': True, 'dtype': 'float32', 'units': 64, 'activation': 'linear', 'use_bias': True, 'kernel_initializer': {'class_name': 'GlorotUniform', 'config': {'seed': None}}, 'bias_initializer': {'class_name': 'Zeros', 'config': {}}, 'kernel_regularizer': None, 'bias_regularizer': None, 'activity_regularizer': None, 'kernel_constraint': None, 'bias_constraint': None}}\n",
      "22 BatchNormalization\n",
      "{'class_name': 'BatchNormalization', 'config': {'name': 'batch_normalization_106', 'trainable': True, 'dtype': 'float32', 'axis': ListWrapper([1]), 'momentum': 0.99, 'epsilon': 0.001, 'center': True, 'scale': True, 'beta_initializer': {'class_name': 'Zeros', 'config': {}}, 'gamma_initializer': {'class_name': 'Ones', 'config': {}}, 'moving_mean_initializer': {'class_name': 'Zeros', 'config': {}}, 'moving_variance_initializer': {'class_name': 'Ones', 'config': {}}, 'beta_regularizer': None, 'gamma_regularizer': None, 'beta_constraint': None, 'gamma_constraint': None}}\n",
      "23 Activation\n",
      "{'class_name': 'Activation', 'config': {'name': 'activation_106', 'trainable': True, 'dtype': 'float32', 'activation': 'elu'}}\n",
      "24 Dropout\n",
      "{'class_name': 'Dropout', 'config': {'name': 'dropout_106', 'trainable': True, 'dtype': 'float32', 'rate': 0.25, 'noise_shape': None, 'seed': None}}\n",
      "25 Dense\n",
      "{'class_name': 'Dense', 'config': {'name': 'dense_127', 'trainable': True, 'dtype': 'float32', 'units': 64, 'activation': 'linear', 'use_bias': True, 'kernel_initializer': {'class_name': 'GlorotUniform', 'config': {'seed': None}}, 'bias_initializer': {'class_name': 'Zeros', 'config': {}}, 'kernel_regularizer': None, 'bias_regularizer': None, 'activity_regularizer': None, 'kernel_constraint': None, 'bias_constraint': None}}\n",
      "26 BatchNormalization\n",
      "{'class_name': 'BatchNormalization', 'config': {'name': 'batch_normalization_107', 'trainable': True, 'dtype': 'float32', 'axis': ListWrapper([1]), 'momentum': 0.99, 'epsilon': 0.001, 'center': True, 'scale': True, 'beta_initializer': {'class_name': 'Zeros', 'config': {}}, 'gamma_initializer': {'class_name': 'Ones', 'config': {}}, 'moving_mean_initializer': {'class_name': 'Zeros', 'config': {}}, 'moving_variance_initializer': {'class_name': 'Ones', 'config': {}}, 'beta_regularizer': None, 'gamma_regularizer': None, 'beta_constraint': None, 'gamma_constraint': None}}\n",
      "27 Activation\n",
      "{'class_name': 'Activation', 'config': {'name': 'activation_107', 'trainable': True, 'dtype': 'float32', 'activation': 'elu'}}\n",
      "28 Dropout\n",
      "{'class_name': 'Dropout', 'config': {'name': 'dropout_107', 'trainable': True, 'dtype': 'float32', 'rate': 0.25, 'noise_shape': None, 'seed': None}}\n",
      "29 Dense\n",
      "{'class_name': 'Dense', 'config': {'name': 'dense_128', 'trainable': True, 'dtype': 'float32', 'units': 64, 'activation': 'linear', 'use_bias': True, 'kernel_initializer': {'class_name': 'GlorotUniform', 'config': {'seed': None}}, 'bias_initializer': {'class_name': 'Zeros', 'config': {}}, 'kernel_regularizer': None, 'bias_regularizer': None, 'activity_regularizer': None, 'kernel_constraint': None, 'bias_constraint': None}}\n",
      "30 BatchNormalization\n",
      "{'class_name': 'BatchNormalization', 'config': {'name': 'batch_normalization_108', 'trainable': True, 'dtype': 'float32', 'axis': ListWrapper([1]), 'momentum': 0.99, 'epsilon': 0.001, 'center': True, 'scale': True, 'beta_initializer': {'class_name': 'Zeros', 'config': {}}, 'gamma_initializer': {'class_name': 'Ones', 'config': {}}, 'moving_mean_initializer': {'class_name': 'Zeros', 'config': {}}, 'moving_variance_initializer': {'class_name': 'Ones', 'config': {}}, 'beta_regularizer': None, 'gamma_regularizer': None, 'beta_constraint': None, 'gamma_constraint': None}}\n",
      "31 Activation\n",
      "{'class_name': 'Activation', 'config': {'name': 'activation_108', 'trainable': True, 'dtype': 'float32', 'activation': 'elu'}}\n",
      "32 Dropout\n",
      "{'class_name': 'Dropout', 'config': {'name': 'dropout_108', 'trainable': True, 'dtype': 'float32', 'rate': 0.25, 'noise_shape': None, 'seed': None}}\n",
      "33 Dense\n",
      "{'class_name': 'Dense', 'config': {'name': 'dense_129', 'trainable': True, 'dtype': 'float32', 'units': 64, 'activation': 'linear', 'use_bias': True, 'kernel_initializer': {'class_name': 'GlorotUniform', 'config': {'seed': None}}, 'bias_initializer': {'class_name': 'Zeros', 'config': {}}, 'kernel_regularizer': None, 'bias_regularizer': None, 'activity_regularizer': None, 'kernel_constraint': None, 'bias_constraint': None}}\n",
      "34 BatchNormalization\n",
      "{'class_name': 'BatchNormalization', 'config': {'name': 'batch_normalization_109', 'trainable': True, 'dtype': 'float32', 'axis': ListWrapper([1]), 'momentum': 0.99, 'epsilon': 0.001, 'center': True, 'scale': True, 'beta_initializer': {'class_name': 'Zeros', 'config': {}}, 'gamma_initializer': {'class_name': 'Ones', 'config': {}}, 'moving_mean_initializer': {'class_name': 'Zeros', 'config': {}}, 'moving_variance_initializer': {'class_name': 'Ones', 'config': {}}, 'beta_regularizer': None, 'gamma_regularizer': None, 'beta_constraint': None, 'gamma_constraint': None}}\n",
      "35 Activation\n",
      "{'class_name': 'Activation', 'config': {'name': 'activation_109', 'trainable': True, 'dtype': 'float32', 'activation': 'elu'}}\n",
      "36 Dropout\n",
      "{'class_name': 'Dropout', 'config': {'name': 'dropout_109', 'trainable': True, 'dtype': 'float32', 'rate': 0.25, 'noise_shape': None, 'seed': None}}\n",
      "37 Dense\n",
      "{'class_name': 'Dense', 'config': {'name': 'dense_130', 'trainable': True, 'dtype': 'float32', 'units': 64, 'activation': 'linear', 'use_bias': True, 'kernel_initializer': {'class_name': 'GlorotUniform', 'config': {'seed': None}}, 'bias_initializer': {'class_name': 'Zeros', 'config': {}}, 'kernel_regularizer': None, 'bias_regularizer': None, 'activity_regularizer': None, 'kernel_constraint': None, 'bias_constraint': None}}\n",
      "38 BatchNormalization\n",
      "{'class_name': 'BatchNormalization', 'config': {'name': 'batch_normalization_110', 'trainable': True, 'dtype': 'float32', 'axis': ListWrapper([1]), 'momentum': 0.99, 'epsilon': 0.001, 'center': True, 'scale': True, 'beta_initializer': {'class_name': 'Zeros', 'config': {}}, 'gamma_initializer': {'class_name': 'Ones', 'config': {}}, 'moving_mean_initializer': {'class_name': 'Zeros', 'config': {}}, 'moving_variance_initializer': {'class_name': 'Ones', 'config': {}}, 'beta_regularizer': None, 'gamma_regularizer': None, 'beta_constraint': None, 'gamma_constraint': None}}\n",
      "39 Activation\n",
      "{'class_name': 'Activation', 'config': {'name': 'activation_110', 'trainable': True, 'dtype': 'float32', 'activation': 'elu'}}\n",
      "40 Dropout\n",
      "{'class_name': 'Dropout', 'config': {'name': 'dropout_110', 'trainable': True, 'dtype': 'float32', 'rate': 0.25, 'noise_shape': None, 'seed': None}}\n",
      "41 Dense\n",
      "{'class_name': 'Dense', 'config': {'name': 'dense_131', 'trainable': True, 'dtype': 'float32', 'units': 3, 'activation': 'linear', 'use_bias': True, 'kernel_initializer': {'class_name': 'GlorotUniform', 'config': {'seed': None}}, 'bias_initializer': {'class_name': 'Zeros', 'config': {}}, 'kernel_regularizer': None, 'bias_regularizer': None, 'activity_regularizer': None, 'kernel_constraint': None, 'bias_constraint': None}}\n",
      "42 Dense\n",
      "{'class_name': 'Dense', 'config': {'name': 'dense_132', 'trainable': True, 'dtype': 'float32', 'units': 3, 'activation': 'linear', 'use_bias': True, 'kernel_initializer': {'class_name': 'GlorotUniform', 'config': {'seed': None}}, 'bias_initializer': {'class_name': 'Zeros', 'config': {}}, 'kernel_regularizer': None, 'bias_regularizer': None, 'activity_regularizer': None, 'kernel_constraint': None, 'bias_constraint': None}}\n"
     ]
    }
   ],
   "source": [
    "conf = model.get_config()\n",
    "i = -1\n",
    "for layer in conf['layers']:\n",
    "    i += 1\n",
    "    print(i, layer[\"class_name\"])\n",
    "    print(layer)"
   ]
  },
  {
   "cell_type": "code",
   "execution_count": 89,
   "id": "6434c8b9-2aa4-4660-907c-3ae9bc74f978",
   "metadata": {},
   "outputs": [
    {
     "data": {
      "text/plain": [
       "{'class_name': 'Dense',\n",
       " 'config': {'name': 'dense_120',\n",
       "  'trainable': True,\n",
       "  'dtype': 'float32',\n",
       "  'units': 3,\n",
       "  'activation': 'linear',\n",
       "  'use_bias': True,\n",
       "  'kernel_initializer': {'class_name': 'GlorotUniform',\n",
       "   'config': {'seed': None}},\n",
       "  'bias_initializer': {'class_name': 'Zeros', 'config': {}},\n",
       "  'kernel_regularizer': None,\n",
       "  'bias_regularizer': None,\n",
       "  'activity_regularizer': None,\n",
       "  'kernel_constraint': None,\n",
       "  'bias_constraint': None}}"
      ]
     },
     "execution_count": 89,
     "metadata": {},
     "output_type": "execute_result"
    }
   ],
   "source": [
    "layer"
   ]
  },
  {
   "cell_type": "code",
   "execution_count": 86,
   "id": "ffcfef3c-28b3-4aca-814f-ce87e124dc96",
   "metadata": {},
   "outputs": [
    {
     "ename": "ValueError",
     "evalue": "Input tensors to a Functional must come from `tf.keras.Input`. Received: 0 (missing previous layer metadata).",
     "output_type": "error",
     "traceback": [
      "\u001b[0;31m---------------------------------------------------------------------------\u001b[0m",
      "\u001b[0;31mValueError\u001b[0m                                Traceback (most recent call last)",
      "Input \u001b[0;32mIn [86]\u001b[0m, in \u001b[0;36m<cell line: 39>\u001b[0;34m()\u001b[0m\n\u001b[1;32m     35\u001b[0m     predict_with_dropout \u001b[38;5;241m=\u001b[39m K\u001b[38;5;241m.\u001b[39mfunction(model_dropout\u001b[38;5;241m.\u001b[39minputs\u001b[38;5;241m+\u001b[39m[K\u001b[38;5;241m.\u001b[39mlearning_phase()], model_dropout\u001b[38;5;241m.\u001b[39moutputs)\n\u001b[1;32m     37\u001b[0m     \u001b[38;5;28;01mreturn\u001b[39;00m predict_with_dropout\n\u001b[0;32m---> 39\u001b[0m \u001b[43mcreate_dropout_predict_function\u001b[49m\u001b[43m(\u001b[49m\u001b[43mmodel\u001b[49m\u001b[43m,\u001b[49m\u001b[43m \u001b[49m\u001b[38;5;241;43m0.5\u001b[39;49m\u001b[43m)\u001b[49m\n",
      "Input \u001b[0;32mIn [86]\u001b[0m, in \u001b[0;36mcreate_dropout_predict_function\u001b[0;34m(model, dropout)\u001b[0m\n\u001b[1;32m     32\u001b[0m model_dropout\u001b[38;5;241m.\u001b[39mset_weights(model\u001b[38;5;241m.\u001b[39mget_weights()) \n\u001b[1;32m     34\u001b[0m \u001b[38;5;66;03m# Create a function to predict with the dropout on\u001b[39;00m\n\u001b[0;32m---> 35\u001b[0m predict_with_dropout \u001b[38;5;241m=\u001b[39m \u001b[43mK\u001b[49m\u001b[38;5;241;43m.\u001b[39;49m\u001b[43mfunction\u001b[49m\u001b[43m(\u001b[49m\u001b[43mmodel_dropout\u001b[49m\u001b[38;5;241;43m.\u001b[39;49m\u001b[43minputs\u001b[49m\u001b[38;5;241;43m+\u001b[39;49m\u001b[43m[\u001b[49m\u001b[43mK\u001b[49m\u001b[38;5;241;43m.\u001b[39;49m\u001b[43mlearning_phase\u001b[49m\u001b[43m(\u001b[49m\u001b[43m)\u001b[49m\u001b[43m]\u001b[49m\u001b[43m,\u001b[49m\u001b[43m \u001b[49m\u001b[43mmodel_dropout\u001b[49m\u001b[38;5;241;43m.\u001b[39;49m\u001b[43moutputs\u001b[49m\u001b[43m)\u001b[49m\n\u001b[1;32m     37\u001b[0m \u001b[38;5;28;01mreturn\u001b[39;00m predict_with_dropout\n",
      "File \u001b[0;32m~/miniconda3/envs/sNNt_au/lib/python3.8/site-packages/keras/backend.py:4074\u001b[0m, in \u001b[0;36mfunction\u001b[0;34m(inputs, outputs, updates, name, **kwargs)\u001b[0m\n\u001b[1;32m   4072\u001b[0m \u001b[38;5;28;01mfrom\u001b[39;00m \u001b[38;5;21;01mkeras\u001b[39;00m \u001b[38;5;28;01mimport\u001b[39;00m models  \u001b[38;5;66;03m# pylint: disable=g-import-not-at-top\u001b[39;00m\n\u001b[1;32m   4073\u001b[0m \u001b[38;5;28;01mfrom\u001b[39;00m \u001b[38;5;21;01mkeras\u001b[39;00m\u001b[38;5;21;01m.\u001b[39;00m\u001b[38;5;21;01mutils\u001b[39;00m \u001b[38;5;28;01mimport\u001b[39;00m tf_utils  \u001b[38;5;66;03m# pylint: disable=g-import-not-at-top\u001b[39;00m\n\u001b[0;32m-> 4074\u001b[0m model \u001b[38;5;241m=\u001b[39m \u001b[43mmodels\u001b[49m\u001b[38;5;241;43m.\u001b[39;49m\u001b[43mModel\u001b[49m\u001b[43m(\u001b[49m\u001b[43minputs\u001b[49m\u001b[38;5;241;43m=\u001b[39;49m\u001b[43minputs\u001b[49m\u001b[43m,\u001b[49m\u001b[43m \u001b[49m\u001b[43moutputs\u001b[49m\u001b[38;5;241;43m=\u001b[39;49m\u001b[43moutputs\u001b[49m\u001b[43m)\u001b[49m\n\u001b[1;32m   4076\u001b[0m wrap_outputs \u001b[38;5;241m=\u001b[39m \u001b[38;5;28misinstance\u001b[39m(outputs, \u001b[38;5;28mlist\u001b[39m) \u001b[38;5;129;01mand\u001b[39;00m \u001b[38;5;28mlen\u001b[39m(outputs) \u001b[38;5;241m==\u001b[39m \u001b[38;5;241m1\u001b[39m\n\u001b[1;32m   4077\u001b[0m \u001b[38;5;28;01mdef\u001b[39;00m \u001b[38;5;21mfunc\u001b[39m(model_inputs):\n",
      "File \u001b[0;32m~/miniconda3/envs/sNNt_au/lib/python3.8/site-packages/tensorflow/python/training/tracking/base.py:530\u001b[0m, in \u001b[0;36mno_automatic_dependency_tracking.<locals>._method_wrapper\u001b[0;34m(self, *args, **kwargs)\u001b[0m\n\u001b[1;32m    528\u001b[0m \u001b[38;5;28mself\u001b[39m\u001b[38;5;241m.\u001b[39m_self_setattr_tracking \u001b[38;5;241m=\u001b[39m \u001b[38;5;28;01mFalse\u001b[39;00m  \u001b[38;5;66;03m# pylint: disable=protected-access\u001b[39;00m\n\u001b[1;32m    529\u001b[0m \u001b[38;5;28;01mtry\u001b[39;00m:\n\u001b[0;32m--> 530\u001b[0m   result \u001b[38;5;241m=\u001b[39m \u001b[43mmethod\u001b[49m\u001b[43m(\u001b[49m\u001b[38;5;28;43mself\u001b[39;49m\u001b[43m,\u001b[49m\u001b[43m \u001b[49m\u001b[38;5;241;43m*\u001b[39;49m\u001b[43margs\u001b[49m\u001b[43m,\u001b[49m\u001b[43m \u001b[49m\u001b[38;5;241;43m*\u001b[39;49m\u001b[38;5;241;43m*\u001b[39;49m\u001b[43mkwargs\u001b[49m\u001b[43m)\u001b[49m\n\u001b[1;32m    531\u001b[0m \u001b[38;5;28;01mfinally\u001b[39;00m:\n\u001b[1;32m    532\u001b[0m   \u001b[38;5;28mself\u001b[39m\u001b[38;5;241m.\u001b[39m_self_setattr_tracking \u001b[38;5;241m=\u001b[39m previous_value  \u001b[38;5;66;03m# pylint: disable=protected-access\u001b[39;00m\n",
      "File \u001b[0;32m~/miniconda3/envs/sNNt_au/lib/python3.8/site-packages/keras/engine/functional.py:109\u001b[0m, in \u001b[0;36mFunctional.__init__\u001b[0;34m(self, inputs, outputs, name, trainable, **kwargs)\u001b[0m\n\u001b[1;32m    107\u001b[0m generic_utils\u001b[38;5;241m.\u001b[39mvalidate_kwargs(kwargs, {})\n\u001b[1;32m    108\u001b[0m \u001b[38;5;28msuper\u001b[39m(Functional, \u001b[38;5;28mself\u001b[39m)\u001b[38;5;241m.\u001b[39m\u001b[38;5;21m__init__\u001b[39m(name\u001b[38;5;241m=\u001b[39mname, trainable\u001b[38;5;241m=\u001b[39mtrainable)\n\u001b[0;32m--> 109\u001b[0m \u001b[38;5;28;43mself\u001b[39;49m\u001b[38;5;241;43m.\u001b[39;49m\u001b[43m_init_graph_network\u001b[49m\u001b[43m(\u001b[49m\u001b[43minputs\u001b[49m\u001b[43m,\u001b[49m\u001b[43m \u001b[49m\u001b[43moutputs\u001b[49m\u001b[43m)\u001b[49m\n",
      "File \u001b[0;32m~/miniconda3/envs/sNNt_au/lib/python3.8/site-packages/tensorflow/python/training/tracking/base.py:530\u001b[0m, in \u001b[0;36mno_automatic_dependency_tracking.<locals>._method_wrapper\u001b[0;34m(self, *args, **kwargs)\u001b[0m\n\u001b[1;32m    528\u001b[0m \u001b[38;5;28mself\u001b[39m\u001b[38;5;241m.\u001b[39m_self_setattr_tracking \u001b[38;5;241m=\u001b[39m \u001b[38;5;28;01mFalse\u001b[39;00m  \u001b[38;5;66;03m# pylint: disable=protected-access\u001b[39;00m\n\u001b[1;32m    529\u001b[0m \u001b[38;5;28;01mtry\u001b[39;00m:\n\u001b[0;32m--> 530\u001b[0m   result \u001b[38;5;241m=\u001b[39m \u001b[43mmethod\u001b[49m\u001b[43m(\u001b[49m\u001b[38;5;28;43mself\u001b[39;49m\u001b[43m,\u001b[49m\u001b[43m \u001b[49m\u001b[38;5;241;43m*\u001b[39;49m\u001b[43margs\u001b[49m\u001b[43m,\u001b[49m\u001b[43m \u001b[49m\u001b[38;5;241;43m*\u001b[39;49m\u001b[38;5;241;43m*\u001b[39;49m\u001b[43mkwargs\u001b[49m\u001b[43m)\u001b[49m\n\u001b[1;32m    531\u001b[0m \u001b[38;5;28;01mfinally\u001b[39;00m:\n\u001b[1;32m    532\u001b[0m   \u001b[38;5;28mself\u001b[39m\u001b[38;5;241m.\u001b[39m_self_setattr_tracking \u001b[38;5;241m=\u001b[39m previous_value  \u001b[38;5;66;03m# pylint: disable=protected-access\u001b[39;00m\n",
      "File \u001b[0;32m~/miniconda3/envs/sNNt_au/lib/python3.8/site-packages/keras/engine/functional.py:146\u001b[0m, in \u001b[0;36mFunctional._init_graph_network\u001b[0;34m(self, inputs, outputs)\u001b[0m\n\u001b[1;32m    143\u001b[0m   \u001b[38;5;28;01mif\u001b[39;00m \u001b[38;5;28many\u001b[39m(\u001b[38;5;129;01mnot\u001b[39;00m \u001b[38;5;28mhasattr\u001b[39m(tensor, \u001b[38;5;124m'\u001b[39m\u001b[38;5;124m_keras_history\u001b[39m\u001b[38;5;124m'\u001b[39m) \u001b[38;5;28;01mfor\u001b[39;00m tensor \u001b[38;5;129;01min\u001b[39;00m \u001b[38;5;28mself\u001b[39m\u001b[38;5;241m.\u001b[39moutputs):\n\u001b[1;32m    144\u001b[0m     base_layer_utils\u001b[38;5;241m.\u001b[39mcreate_keras_history(\u001b[38;5;28mself\u001b[39m\u001b[38;5;241m.\u001b[39m_nested_outputs)\n\u001b[0;32m--> 146\u001b[0m \u001b[38;5;28;43mself\u001b[39;49m\u001b[38;5;241;43m.\u001b[39;49m\u001b[43m_validate_graph_inputs_and_outputs\u001b[49m\u001b[43m(\u001b[49m\u001b[43m)\u001b[49m\n\u001b[1;32m    148\u001b[0m \u001b[38;5;66;03m# A Network does not create weights of its own, thus it is already\u001b[39;00m\n\u001b[1;32m    149\u001b[0m \u001b[38;5;66;03m# built.\u001b[39;00m\n\u001b[1;32m    150\u001b[0m \u001b[38;5;28mself\u001b[39m\u001b[38;5;241m.\u001b[39mbuilt \u001b[38;5;241m=\u001b[39m \u001b[38;5;28;01mTrue\u001b[39;00m\n",
      "File \u001b[0;32m~/miniconda3/envs/sNNt_au/lib/python3.8/site-packages/keras/engine/functional.py:682\u001b[0m, in \u001b[0;36mFunctional._validate_graph_inputs_and_outputs\u001b[0;34m(self)\u001b[0m\n\u001b[1;32m    680\u001b[0m \u001b[38;5;28;01mif\u001b[39;00m \u001b[38;5;129;01mnot\u001b[39;00m \u001b[38;5;28mhasattr\u001b[39m(x, \u001b[38;5;124m'\u001b[39m\u001b[38;5;124m_keras_history\u001b[39m\u001b[38;5;124m'\u001b[39m):\n\u001b[1;32m    681\u001b[0m   cls_name \u001b[38;5;241m=\u001b[39m \u001b[38;5;28mself\u001b[39m\u001b[38;5;241m.\u001b[39m\u001b[38;5;18m__class__\u001b[39m\u001b[38;5;241m.\u001b[39m\u001b[38;5;18m__name__\u001b[39m\n\u001b[0;32m--> 682\u001b[0m   \u001b[38;5;28;01mraise\u001b[39;00m \u001b[38;5;167;01mValueError\u001b[39;00m(\u001b[38;5;124m'\u001b[39m\u001b[38;5;124mInput tensors to a \u001b[39m\u001b[38;5;124m'\u001b[39m \u001b[38;5;241m+\u001b[39m cls_name \u001b[38;5;241m+\u001b[39m \u001b[38;5;124m'\u001b[39m\u001b[38;5;124m \u001b[39m\u001b[38;5;124m'\u001b[39m \u001b[38;5;241m+\u001b[39m\n\u001b[1;32m    683\u001b[0m                    \u001b[38;5;124m'\u001b[39m\u001b[38;5;124mmust come from `tf.keras.Input`. \u001b[39m\u001b[38;5;124m'\u001b[39m\n\u001b[1;32m    684\u001b[0m                    \u001b[38;5;124m'\u001b[39m\u001b[38;5;124mReceived: \u001b[39m\u001b[38;5;124m'\u001b[39m \u001b[38;5;241m+\u001b[39m \u001b[38;5;28mstr\u001b[39m(x) \u001b[38;5;241m+\u001b[39m\n\u001b[1;32m    685\u001b[0m                    \u001b[38;5;124m'\u001b[39m\u001b[38;5;124m (missing previous layer metadata).\u001b[39m\u001b[38;5;124m'\u001b[39m)\n\u001b[1;32m    686\u001b[0m \u001b[38;5;66;03m# Check that x is an input tensor.\u001b[39;00m\n\u001b[1;32m    687\u001b[0m \u001b[38;5;66;03m# pylint: disable=protected-access\u001b[39;00m\n\u001b[1;32m    688\u001b[0m layer \u001b[38;5;241m=\u001b[39m x\u001b[38;5;241m.\u001b[39m_keras_history\u001b[38;5;241m.\u001b[39mlayer\n",
      "\u001b[0;31mValueError\u001b[0m: Input tensors to a Functional must come from `tf.keras.Input`. Received: 0 (missing previous layer metadata)."
     ]
    }
   ],
   "source": [
    "from keras.models import Model, Sequential\n",
    "from keras import backend as K\n",
    "\n",
    "def create_dropout_predict_function(model, dropout):\n",
    "    \"\"\"\n",
    "    Create a keras function to predict with dropout\n",
    "    model : keras model\n",
    "    dropout : fraction dropout to apply to all layers\n",
    "    \n",
    "    Returns\n",
    "    predict_with_dropout : keras function for predicting with dropout\n",
    "    \"\"\"\n",
    "    \n",
    "    # Load the config of the original model\n",
    "    conf = model.get_config()\n",
    "    # Add the specified dropout to all layers\n",
    "    for layer in conf['layers']:\n",
    "        # Dropout layers\n",
    "        if layer[\"class_name\"]==\"Dropout\":\n",
    "            layer[\"config\"][\"rate\"] = dropout\n",
    "        # Recurrent layers with dropout\n",
    "        elif \"dropout\" in layer[\"config\"].keys():\n",
    "            layer[\"config\"][\"dropout\"] = dropout\n",
    "\n",
    "    # Create a new model with specified dropout\n",
    "    if type(model)==Sequential:\n",
    "        # Sequential\n",
    "        model_dropout = Sequential.from_config(conf)\n",
    "    else:\n",
    "        # Functional\n",
    "        model_dropout = Model.from_config(conf)\n",
    "    model_dropout.set_weights(model.get_weights()) \n",
    "    \n",
    "    # Create a function to predict with the dropout on\n",
    "    predict_with_dropout = K.function(model_dropout.inputs+[K.learning_phase()], model_dropout.outputs)\n",
    "    \n",
    "    return predict_with_dropout\n",
    "\n",
    "create_dropout_predict_function(model, 0.5)"
   ]
  },
  {
   "cell_type": "code",
   "execution_count": 75,
   "id": "25919857-1476-4832-a4a4-9dce5fcc4fc0",
   "metadata": {},
   "outputs": [
    {
     "data": {
      "text/plain": [
       "0"
      ]
     },
     "execution_count": 75,
     "metadata": {},
     "output_type": "execute_result"
    }
   ],
   "source": [
    "K.learning_phase()"
   ]
  },
  {
   "cell_type": "code",
   "execution_count": 70,
   "id": "3f1eef2c-4aea-40f4-8e81-7482f97dec78",
   "metadata": {},
   "outputs": [
    {
     "ename": "ValueError",
     "evalue": "Input tensors to a Functional must come from `tf.keras.Input`. Received: 0 (missing previous layer metadata).",
     "output_type": "error",
     "traceback": [
      "\u001b[0;31m---------------------------------------------------------------------------\u001b[0m",
      "\u001b[0;31mValueError\u001b[0m                                Traceback (most recent call last)",
      "Input \u001b[0;32mIn [70]\u001b[0m, in \u001b[0;36m<cell line: 3>\u001b[0;34m()\u001b[0m\n\u001b[1;32m      1\u001b[0m \u001b[38;5;28;01mimport\u001b[39;00m \u001b[38;5;21;01mkeras\u001b[39;00m\u001b[38;5;21;01m.\u001b[39;00m\u001b[38;5;21;01mbackend\u001b[39;00m \u001b[38;5;28;01mas\u001b[39;00m \u001b[38;5;21;01mK\u001b[39;00m\n\u001b[1;32m      2\u001b[0m \u001b[38;5;66;03m# for some model with dropout ...\u001b[39;00m\n\u001b[0;32m----> 3\u001b[0m f \u001b[38;5;241m=\u001b[39m \u001b[43mK\u001b[49m\u001b[38;5;241;43m.\u001b[39;49m\u001b[43mfunction\u001b[49m\u001b[43m(\u001b[49m\u001b[43m[\u001b[49m\u001b[43mmodel\u001b[49m\u001b[38;5;241;43m.\u001b[39;49m\u001b[43mlayers\u001b[49m\u001b[43m[\u001b[49m\u001b[38;5;241;43m0\u001b[39;49m\u001b[43m]\u001b[49m\u001b[38;5;241;43m.\u001b[39;49m\u001b[43minput\u001b[49m\u001b[43m,\u001b[49m\u001b[43m \u001b[49m\u001b[43mK\u001b[49m\u001b[38;5;241;43m.\u001b[39;49m\u001b[43mlearning_phase\u001b[49m\u001b[43m(\u001b[49m\u001b[43m)\u001b[49m\u001b[43m]\u001b[49m\u001b[43m,\u001b[49m\u001b[43m \u001b[49m\u001b[43m[\u001b[49m\u001b[43mmodel\u001b[49m\u001b[38;5;241;43m.\u001b[39;49m\u001b[43mlayers\u001b[49m\u001b[43m[\u001b[49m\u001b[38;5;241;43m-\u001b[39;49m\u001b[38;5;241;43m1\u001b[39;49m\u001b[43m]\u001b[49m\u001b[38;5;241;43m.\u001b[39;49m\u001b[43moutput\u001b[49m\u001b[43m]\u001b[49m\u001b[43m)\u001b[49m\n",
      "File \u001b[0;32m~/miniconda3/envs/sNNt_au/lib/python3.8/site-packages/keras/backend.py:4074\u001b[0m, in \u001b[0;36mfunction\u001b[0;34m(inputs, outputs, updates, name, **kwargs)\u001b[0m\n\u001b[1;32m   4072\u001b[0m \u001b[38;5;28;01mfrom\u001b[39;00m \u001b[38;5;21;01mkeras\u001b[39;00m \u001b[38;5;28;01mimport\u001b[39;00m models  \u001b[38;5;66;03m# pylint: disable=g-import-not-at-top\u001b[39;00m\n\u001b[1;32m   4073\u001b[0m \u001b[38;5;28;01mfrom\u001b[39;00m \u001b[38;5;21;01mkeras\u001b[39;00m\u001b[38;5;21;01m.\u001b[39;00m\u001b[38;5;21;01mutils\u001b[39;00m \u001b[38;5;28;01mimport\u001b[39;00m tf_utils  \u001b[38;5;66;03m# pylint: disable=g-import-not-at-top\u001b[39;00m\n\u001b[0;32m-> 4074\u001b[0m model \u001b[38;5;241m=\u001b[39m \u001b[43mmodels\u001b[49m\u001b[38;5;241;43m.\u001b[39;49m\u001b[43mModel\u001b[49m\u001b[43m(\u001b[49m\u001b[43minputs\u001b[49m\u001b[38;5;241;43m=\u001b[39;49m\u001b[43minputs\u001b[49m\u001b[43m,\u001b[49m\u001b[43m \u001b[49m\u001b[43moutputs\u001b[49m\u001b[38;5;241;43m=\u001b[39;49m\u001b[43moutputs\u001b[49m\u001b[43m)\u001b[49m\n\u001b[1;32m   4076\u001b[0m wrap_outputs \u001b[38;5;241m=\u001b[39m \u001b[38;5;28misinstance\u001b[39m(outputs, \u001b[38;5;28mlist\u001b[39m) \u001b[38;5;129;01mand\u001b[39;00m \u001b[38;5;28mlen\u001b[39m(outputs) \u001b[38;5;241m==\u001b[39m \u001b[38;5;241m1\u001b[39m\n\u001b[1;32m   4077\u001b[0m \u001b[38;5;28;01mdef\u001b[39;00m \u001b[38;5;21mfunc\u001b[39m(model_inputs):\n",
      "File \u001b[0;32m~/miniconda3/envs/sNNt_au/lib/python3.8/site-packages/tensorflow/python/training/tracking/base.py:530\u001b[0m, in \u001b[0;36mno_automatic_dependency_tracking.<locals>._method_wrapper\u001b[0;34m(self, *args, **kwargs)\u001b[0m\n\u001b[1;32m    528\u001b[0m \u001b[38;5;28mself\u001b[39m\u001b[38;5;241m.\u001b[39m_self_setattr_tracking \u001b[38;5;241m=\u001b[39m \u001b[38;5;28;01mFalse\u001b[39;00m  \u001b[38;5;66;03m# pylint: disable=protected-access\u001b[39;00m\n\u001b[1;32m    529\u001b[0m \u001b[38;5;28;01mtry\u001b[39;00m:\n\u001b[0;32m--> 530\u001b[0m   result \u001b[38;5;241m=\u001b[39m \u001b[43mmethod\u001b[49m\u001b[43m(\u001b[49m\u001b[38;5;28;43mself\u001b[39;49m\u001b[43m,\u001b[49m\u001b[43m \u001b[49m\u001b[38;5;241;43m*\u001b[39;49m\u001b[43margs\u001b[49m\u001b[43m,\u001b[49m\u001b[43m \u001b[49m\u001b[38;5;241;43m*\u001b[39;49m\u001b[38;5;241;43m*\u001b[39;49m\u001b[43mkwargs\u001b[49m\u001b[43m)\u001b[49m\n\u001b[1;32m    531\u001b[0m \u001b[38;5;28;01mfinally\u001b[39;00m:\n\u001b[1;32m    532\u001b[0m   \u001b[38;5;28mself\u001b[39m\u001b[38;5;241m.\u001b[39m_self_setattr_tracking \u001b[38;5;241m=\u001b[39m previous_value  \u001b[38;5;66;03m# pylint: disable=protected-access\u001b[39;00m\n",
      "File \u001b[0;32m~/miniconda3/envs/sNNt_au/lib/python3.8/site-packages/keras/engine/functional.py:109\u001b[0m, in \u001b[0;36mFunctional.__init__\u001b[0;34m(self, inputs, outputs, name, trainable, **kwargs)\u001b[0m\n\u001b[1;32m    107\u001b[0m generic_utils\u001b[38;5;241m.\u001b[39mvalidate_kwargs(kwargs, {})\n\u001b[1;32m    108\u001b[0m \u001b[38;5;28msuper\u001b[39m(Functional, \u001b[38;5;28mself\u001b[39m)\u001b[38;5;241m.\u001b[39m\u001b[38;5;21m__init__\u001b[39m(name\u001b[38;5;241m=\u001b[39mname, trainable\u001b[38;5;241m=\u001b[39mtrainable)\n\u001b[0;32m--> 109\u001b[0m \u001b[38;5;28;43mself\u001b[39;49m\u001b[38;5;241;43m.\u001b[39;49m\u001b[43m_init_graph_network\u001b[49m\u001b[43m(\u001b[49m\u001b[43minputs\u001b[49m\u001b[43m,\u001b[49m\u001b[43m \u001b[49m\u001b[43moutputs\u001b[49m\u001b[43m)\u001b[49m\n",
      "File \u001b[0;32m~/miniconda3/envs/sNNt_au/lib/python3.8/site-packages/tensorflow/python/training/tracking/base.py:530\u001b[0m, in \u001b[0;36mno_automatic_dependency_tracking.<locals>._method_wrapper\u001b[0;34m(self, *args, **kwargs)\u001b[0m\n\u001b[1;32m    528\u001b[0m \u001b[38;5;28mself\u001b[39m\u001b[38;5;241m.\u001b[39m_self_setattr_tracking \u001b[38;5;241m=\u001b[39m \u001b[38;5;28;01mFalse\u001b[39;00m  \u001b[38;5;66;03m# pylint: disable=protected-access\u001b[39;00m\n\u001b[1;32m    529\u001b[0m \u001b[38;5;28;01mtry\u001b[39;00m:\n\u001b[0;32m--> 530\u001b[0m   result \u001b[38;5;241m=\u001b[39m \u001b[43mmethod\u001b[49m\u001b[43m(\u001b[49m\u001b[38;5;28;43mself\u001b[39;49m\u001b[43m,\u001b[49m\u001b[43m \u001b[49m\u001b[38;5;241;43m*\u001b[39;49m\u001b[43margs\u001b[49m\u001b[43m,\u001b[49m\u001b[43m \u001b[49m\u001b[38;5;241;43m*\u001b[39;49m\u001b[38;5;241;43m*\u001b[39;49m\u001b[43mkwargs\u001b[49m\u001b[43m)\u001b[49m\n\u001b[1;32m    531\u001b[0m \u001b[38;5;28;01mfinally\u001b[39;00m:\n\u001b[1;32m    532\u001b[0m   \u001b[38;5;28mself\u001b[39m\u001b[38;5;241m.\u001b[39m_self_setattr_tracking \u001b[38;5;241m=\u001b[39m previous_value  \u001b[38;5;66;03m# pylint: disable=protected-access\u001b[39;00m\n",
      "File \u001b[0;32m~/miniconda3/envs/sNNt_au/lib/python3.8/site-packages/keras/engine/functional.py:146\u001b[0m, in \u001b[0;36mFunctional._init_graph_network\u001b[0;34m(self, inputs, outputs)\u001b[0m\n\u001b[1;32m    143\u001b[0m   \u001b[38;5;28;01mif\u001b[39;00m \u001b[38;5;28many\u001b[39m(\u001b[38;5;129;01mnot\u001b[39;00m \u001b[38;5;28mhasattr\u001b[39m(tensor, \u001b[38;5;124m'\u001b[39m\u001b[38;5;124m_keras_history\u001b[39m\u001b[38;5;124m'\u001b[39m) \u001b[38;5;28;01mfor\u001b[39;00m tensor \u001b[38;5;129;01min\u001b[39;00m \u001b[38;5;28mself\u001b[39m\u001b[38;5;241m.\u001b[39moutputs):\n\u001b[1;32m    144\u001b[0m     base_layer_utils\u001b[38;5;241m.\u001b[39mcreate_keras_history(\u001b[38;5;28mself\u001b[39m\u001b[38;5;241m.\u001b[39m_nested_outputs)\n\u001b[0;32m--> 146\u001b[0m \u001b[38;5;28;43mself\u001b[39;49m\u001b[38;5;241;43m.\u001b[39;49m\u001b[43m_validate_graph_inputs_and_outputs\u001b[49m\u001b[43m(\u001b[49m\u001b[43m)\u001b[49m\n\u001b[1;32m    148\u001b[0m \u001b[38;5;66;03m# A Network does not create weights of its own, thus it is already\u001b[39;00m\n\u001b[1;32m    149\u001b[0m \u001b[38;5;66;03m# built.\u001b[39;00m\n\u001b[1;32m    150\u001b[0m \u001b[38;5;28mself\u001b[39m\u001b[38;5;241m.\u001b[39mbuilt \u001b[38;5;241m=\u001b[39m \u001b[38;5;28;01mTrue\u001b[39;00m\n",
      "File \u001b[0;32m~/miniconda3/envs/sNNt_au/lib/python3.8/site-packages/keras/engine/functional.py:682\u001b[0m, in \u001b[0;36mFunctional._validate_graph_inputs_and_outputs\u001b[0;34m(self)\u001b[0m\n\u001b[1;32m    680\u001b[0m \u001b[38;5;28;01mif\u001b[39;00m \u001b[38;5;129;01mnot\u001b[39;00m \u001b[38;5;28mhasattr\u001b[39m(x, \u001b[38;5;124m'\u001b[39m\u001b[38;5;124m_keras_history\u001b[39m\u001b[38;5;124m'\u001b[39m):\n\u001b[1;32m    681\u001b[0m   cls_name \u001b[38;5;241m=\u001b[39m \u001b[38;5;28mself\u001b[39m\u001b[38;5;241m.\u001b[39m\u001b[38;5;18m__class__\u001b[39m\u001b[38;5;241m.\u001b[39m\u001b[38;5;18m__name__\u001b[39m\n\u001b[0;32m--> 682\u001b[0m   \u001b[38;5;28;01mraise\u001b[39;00m \u001b[38;5;167;01mValueError\u001b[39;00m(\u001b[38;5;124m'\u001b[39m\u001b[38;5;124mInput tensors to a \u001b[39m\u001b[38;5;124m'\u001b[39m \u001b[38;5;241m+\u001b[39m cls_name \u001b[38;5;241m+\u001b[39m \u001b[38;5;124m'\u001b[39m\u001b[38;5;124m \u001b[39m\u001b[38;5;124m'\u001b[39m \u001b[38;5;241m+\u001b[39m\n\u001b[1;32m    683\u001b[0m                    \u001b[38;5;124m'\u001b[39m\u001b[38;5;124mmust come from `tf.keras.Input`. \u001b[39m\u001b[38;5;124m'\u001b[39m\n\u001b[1;32m    684\u001b[0m                    \u001b[38;5;124m'\u001b[39m\u001b[38;5;124mReceived: \u001b[39m\u001b[38;5;124m'\u001b[39m \u001b[38;5;241m+\u001b[39m \u001b[38;5;28mstr\u001b[39m(x) \u001b[38;5;241m+\u001b[39m\n\u001b[1;32m    685\u001b[0m                    \u001b[38;5;124m'\u001b[39m\u001b[38;5;124m (missing previous layer metadata).\u001b[39m\u001b[38;5;124m'\u001b[39m)\n\u001b[1;32m    686\u001b[0m \u001b[38;5;66;03m# Check that x is an input tensor.\u001b[39;00m\n\u001b[1;32m    687\u001b[0m \u001b[38;5;66;03m# pylint: disable=protected-access\u001b[39;00m\n\u001b[1;32m    688\u001b[0m layer \u001b[38;5;241m=\u001b[39m x\u001b[38;5;241m.\u001b[39m_keras_history\u001b[38;5;241m.\u001b[39mlayer\n",
      "\u001b[0;31mValueError\u001b[0m: Input tensors to a Functional must come from `tf.keras.Input`. Received: 0 (missing previous layer metadata)."
     ]
    }
   ],
   "source": [
    "import keras.backend as K\n",
    "# for some model with dropout ...\n",
    "f = K.function([model.layers[0].input, K.learning_phase()], [model.layers[-1].output])"
   ]
  },
  {
   "cell_type": "code",
   "execution_count": null,
   "id": "1f70b641-6fce-48d4-8bae-ef19772c81a7",
   "metadata": {},
   "outputs": [],
   "source": [
    "def predict_with_uncertainty(f, x, no_classes, n_iter=100):\n",
    "    result = np.zeros((n_iter,) + (x.shape[0], no_classes) )\n",
    "\n",
    "    for i in range(n_iter):\n",
    "        result[i,:, :] = f((x, 1))[0]\n",
    "\n",
    "    prediction = result.mean(axis=0)\n",
    "    uncertainty = result.std(axis=0)\n",
    "    return prediction, uncertainty    "
   ]
  },
  {
   "cell_type": "code",
   "execution_count": 68,
   "id": "5a024f9c-6c10-4d63-903b-19b0223afeee",
   "metadata": {},
   "outputs": [
    {
     "data": {
      "image/png": "[encoded data removed]",
      "text/plain": [
       "<Figure size 432x288 with 1 Axes>"
      ]
     },
     "metadata": {
      "needs_background": "light"
     },
     "output_type": "display_data"
    }
   ],
   "source": [
    "plot_loss(history)"
   ]
  },
  {
   "cell_type": "code",
   "execution_count": null,
   "id": "40cef908-162a-4a2e-a166-17b764195d0c",
   "metadata": {},
   "outputs": [],
   "source": [
    "35.4420214621576  38.5987428412494  26.236052   -22.70123    5849.609    8681.0    7110.9146   1570.08544921875"
   ]
  },
  {
   "cell_type": "code",
   "execution_count": 16,
   "id": "265a9f95-d84b-4761-b629-c95fc3cc55b5",
   "metadata": {},
   "outputs": [
    {
     "data": {
      "text/plain": [
       "array([[3.54420215e+01, 3.85987428e+01, 8.68100000e+03],\n",
       "       [2.38355169e+01, 5.26173648e+01, 1.56090000e+04],\n",
       "       [3.90856075e+01, 3.72834854e+01, 2.41230000e+04]])"
      ]
     },
     "execution_count": 16,
     "metadata": {},
     "output_type": "execute_result"
    }
   ],
   "source": [
    "test_labels"
   ]
  },
  {
   "cell_type": "code",
   "execution_count": 15,
   "id": "c46e2531-ff88-4239-95fe-6e1415acf4a5",
   "metadata": {},
   "outputs": [
    {
     "data": {
      "text/plain": [
       "array([[   26.236052,   -22.70123 ,  7110.9146  ],\n",
       "       [   58.843014,   -55.443256, 17105.238   ],\n",
       "       [   68.426834,   -65.065765, 20041.902   ]], dtype=float32)"
      ]
     },
     "execution_count": 15,
     "metadata": {},
     "output_type": "execute_result"
    }
   ],
   "source": [
    "prediction"
   ]
  },
  {
   "cell_type": "code",
   "execution_count": 14,
   "id": "e4b5eaab-cbff-44aa-9c2f-a681b0fb4858",
   "metadata": {},
   "outputs": [
    {
     "name": "stdout",
     "output_type": "stream",
     "text": [
      "[5849.609  8730.545  6484.1304]\n",
      "[-1570.08544922  1496.23828125 -4081.09765625]\n"
     ]
    },
    {
     "name": "stderr",
     "output_type": "stream",
     "text": [
      "2022-08-17 00:29:32.583866: I tensorflow/compiler/mlir/mlir_graph_optimization_pass.cc:185] None of the MLIR Optimization Passes are enabled (registered 2)\n"
     ]
    }
   ],
   "source": [
    "prediction = model.predict(test_features)\n",
    "print(np.array(tf_haversine(prediction[:, 0:2], test_labels[:, 0:2].astype('float32'))))\n",
    "print(prediction[:, 2]-test_labels[:, 2])"
   ]
  },
  {
   "cell_type": "code",
   "execution_count": null,
   "id": "d8eb17ff-a860-4e4f-8cb3-8ef508d308c0",
   "metadata": {},
   "outputs": [],
   "source": []
  },
  {
   "cell_type": "code",
   "execution_count": null,
   "id": "eccec073-8661-4c9b-a0c6-e5a60d802584",
   "metadata": {},
   "outputs": [],
   "source": [
    "[ 181.47209  709.8934  1702.7517 ]\n",
    "[ 176.71484375 1108.6875     1522.79882812]"
   ]
  },
  {
   "cell_type": "code",
   "execution_count": null,
   "id": "370dd3d2-9461-4597-93e0-b0b452da4d24",
   "metadata": {},
   "outputs": [],
   "source": [
    "[ 993.2587 1608.6003 6772.9297]\n",
    "[  54.50390625 1286.7890625  1260.31640625]"
   ]
  },
  {
   "cell_type": "code",
   "execution_count": null,
   "id": "a2dd2d35-bb38-47c6-ad90-e62c378ea024",
   "metadata": {},
   "outputs": [],
   "source": [
    "[ 409.86987 1344.4915  3200.2073 ]\n",
    "[ 318.95703125 1197.90234375 1753.21484375]"
   ]
  },
  {
   "cell_type": "code",
   "execution_count": 83,
   "id": "be727122-f5b0-4ced-b119-40885aa51733",
   "metadata": {},
   "outputs": [
    {
     "data": {
      "text/plain": [
       "<tf.Tensor: shape=(4, 8), dtype=float32, numpy=\n",
       "array([[ 0.,  1.,  2.,  3.,  4.,  5.,  6.,  7.],\n",
       "       [ 8.,  9., 10., 11., 12., 13., 14., 15.],\n",
       "       [16., 17., 18., 19., 20., 21., 22., 23.],\n",
       "       [24., 25., 26., 27., 28., 29., 30., 31.]], dtype=float32)>"
      ]
     },
     "execution_count": 83,
     "metadata": {},
     "output_type": "execute_result"
    }
   ],
   "source": [
    "a = np.arange(4*8).reshape(4, 8)\n",
    "n = tf.keras.layers.Normalization(input_shape=[a[1], ], axis = None, mean=0, variance=1)\n",
    "n(a)"
   ]
  },
  {
   "cell_type": "code",
   "execution_count": 84,
   "id": "77cfe5d6-16ee-42c5-843f-ee945e342aff",
   "metadata": {},
   "outputs": [
    {
     "data": {
      "text/plain": [
       "<tf.Tensor: shape=(4, 8), dtype=float32, numpy=\n",
       "array([[  0.,  20.,  40.,  60.,  80., 100., 120., 140.],\n",
       "       [160., 180., 200., 220., 240., 260., 280., 300.],\n",
       "       [320., 340., 360., 380., 400., 420., 440., 460.],\n",
       "       [480., 500., 520., 540., 560., 580., 600., 620.]], dtype=float32)>"
      ]
     },
     "execution_count": 84,
     "metadata": {},
     "output_type": "execute_result"
    }
   ],
   "source": [
    "n(np.arange(4*8).reshape(4, 8)*20)"
   ]
  },
  {
   "cell_type": "code",
   "execution_count": 194,
   "id": "8885f491-9da3-4dfe-9320-0398e26b9f06",
   "metadata": {},
   "outputs": [
    {
     "name": "stdout",
     "output_type": "stream",
     "text": [
      "Not normalizing\n",
      "Model: \"sequential_14\"\n",
      "_________________________________________________________________\n",
      "Layer (type)                 Output Shape              Param #   \n",
      "=================================================================\n",
      "dense_182 (Dense)            (None, 256)               344320    \n",
      "_________________________________________________________________\n",
      "batch_normalization_143 (Bat (None, 256)               1024      \n",
      "_________________________________________________________________\n",
      "activation_154 (Activation)  (None, 256)               0         \n",
      "_________________________________________________________________\n",
      "dense_183 (Dense)            (None, 256)               65792     \n",
      "_________________________________________________________________\n",
      "batch_normalization_144 (Bat (None, 256)               1024      \n",
      "_________________________________________________________________\n",
      "activation_155 (Activation)  (None, 256)               0         \n",
      "_________________________________________________________________\n",
      "dense_184 (Dense)            (None, 256)               65792     \n",
      "_________________________________________________________________\n",
      "batch_normalization_145 (Bat (None, 256)               1024      \n",
      "_________________________________________________________________\n",
      "activation_156 (Activation)  (None, 256)               0         \n",
      "_________________________________________________________________\n",
      "dense_185 (Dense)            (None, 256)               65792     \n",
      "_________________________________________________________________\n",
      "batch_normalization_146 (Bat (None, 256)               1024      \n",
      "_________________________________________________________________\n",
      "activation_157 (Activation)  (None, 256)               0         \n",
      "_________________________________________________________________\n",
      "dense_186 (Dense)            (None, 256)               65792     \n",
      "_________________________________________________________________\n",
      "batch_normalization_147 (Bat (None, 256)               1024      \n",
      "_________________________________________________________________\n",
      "activation_158 (Activation)  (None, 256)               0         \n",
      "_________________________________________________________________\n",
      "dense_187 (Dense)            (None, 256)               65792     \n",
      "_________________________________________________________________\n",
      "batch_normalization_148 (Bat (None, 256)               1024      \n",
      "_________________________________________________________________\n",
      "activation_159 (Activation)  (None, 256)               0         \n",
      "_________________________________________________________________\n",
      "dropout_14 (Dropout)         (None, 256)               0         \n",
      "_________________________________________________________________\n",
      "dense_188 (Dense)            (None, 256)               65792     \n",
      "_________________________________________________________________\n",
      "batch_normalization_149 (Bat (None, 256)               1024      \n",
      "_________________________________________________________________\n",
      "activation_160 (Activation)  (None, 256)               0         \n",
      "_________________________________________________________________\n",
      "dense_189 (Dense)            (None, 256)               65792     \n",
      "_________________________________________________________________\n",
      "batch_normalization_150 (Bat (None, 256)               1024      \n",
      "_________________________________________________________________\n",
      "activation_161 (Activation)  (None, 256)               0         \n",
      "_________________________________________________________________\n",
      "dense_190 (Dense)            (None, 256)               65792     \n",
      "_________________________________________________________________\n",
      "batch_normalization_151 (Bat (None, 256)               1024      \n",
      "_________________________________________________________________\n",
      "activation_162 (Activation)  (None, 256)               0         \n",
      "_________________________________________________________________\n",
      "dense_191 (Dense)            (None, 256)               65792     \n",
      "_________________________________________________________________\n",
      "batch_normalization_152 (Bat (None, 256)               1024      \n",
      "_________________________________________________________________\n",
      "activation_163 (Activation)  (None, 256)               0         \n",
      "_________________________________________________________________\n",
      "dense_192 (Dense)            (None, 256)               65792     \n",
      "_________________________________________________________________\n",
      "batch_normalization_153 (Bat (None, 256)               1024      \n",
      "_________________________________________________________________\n",
      "activation_164 (Activation)  (None, 256)               0         \n",
      "_________________________________________________________________\n",
      "dense_193 (Dense)            (None, 3)                 771       \n",
      "_________________________________________________________________\n",
      "dense_194 (Dense)            (None, 3)                 12        \n",
      "=================================================================\n",
      "Total params: 1,014,287\n",
      "Trainable params: 1,008,655\n",
      "Non-trainable params: 5,632\n",
      "_________________________________________________________________\n",
      "None\n",
      "Epoch 00232: early stopping\n"
     ]
    }
   ],
   "source": [
    "earlystop=tf.keras.callbacks.EarlyStopping(monitor=\"val_loss\",\n",
    "                                           min_delta=0,\n",
    "                                           patience=100,\n",
    "                                           verbose=1)\n",
    "    \n",
    "reducelr=tf.keras.callbacks.ReduceLROnPlateau(monitor='val_loss',\n",
    "                                              factor=0.5,\n",
    "                                              patience=20)\n",
    "\n",
    "\n",
    "def build_and_compile_model(norm = None, input_shape = None):\n",
    "    \n",
    "    \n",
    "    model = keras.Sequential()\n",
    "    if isinstance(norm, keras.layers.Normalization):\n",
    "        print(\"Normalizing\")\n",
    "        model.add(norm)\n",
    "        for _ in range(5):\n",
    "            model.add(layers.Dense(256))\n",
    "            model.add(layers.BatchNormalization())\n",
    "            model.add(layers.Activation('elu'))\n",
    "    else:\n",
    "        print(\"Not normalizing\")\n",
    "        model.add(layers.Dense(256, input_shape = input_shape))\n",
    "        model.add(layers.BatchNormalization())\n",
    "        model.add(layers.Activation('elu'))\n",
    "        for _ in range(5):\n",
    "            model.add(layers.Dense(256))\n",
    "            model.add(layers.BatchNormalization())\n",
    "            model.add(layers.Activation('elu'))\n",
    "\n",
    "    model.add(layers.Dropout(0.25))\n",
    "    for _ in range(5):\n",
    "        model.add(layers.Dense(256))\n",
    "        model.add(layers.BatchNormalization())\n",
    "        model.add(layers.Activation('elu'))\n",
    "    model.add(layers.Dense(3))\n",
    "    model.add(layers.Dense(3))\n",
    "\n",
    "    model.compile(loss=euclidean_distance_loss,\n",
    "    #model.compile(loss=haversine_distance_time_difference(w_time = 1, w_space = 1000),\n",
    "    #model.compile(loss=\"mean_squared_error\",\n",
    "                  optimizer=\"Adam\")\n",
    "    return model\n",
    "\n",
    "spaceNNtime_features_normalizer = tf.keras.layers.Normalization(input_shape=[train_features.shape[1], ], axis= -1)\n",
    "spaceNNtime_features_normalizer.adapt(train_features)\n",
    "#spaceNNtime_model = build_and_compile_model(norm = spaceNNtime_features_normalizer)\n",
    "spaceNNtime_model = build_and_compile_model(input_shape = [train_features.shape[1], ])\n",
    "\n",
    "spaceNNtime_labels_normalizer = tf.keras.layers.Normalization(input_shape=[train_labels.shape[1], ], axis= -1)\n",
    "spaceNNtime_labels_normalizer.adapt(train_labels)\n",
    "\n",
    "print(spaceNNtime_model.summary())\n",
    "\n",
    "history = spaceNNtime_model.fit(train_features,\n",
    "                                train_labels, \n",
    "                                #spaceNNtime_labels_normalizer(train_labels), \n",
    "                                epochs=5000,\n",
    "                                batch_size=32,\n",
    "                                shuffle=True,\n",
    "                                verbose = 0,\n",
    "                                validation_data=(val_features, \n",
    "                                                 val_labels),\n",
    "                                                 #spaceNNtime_labels_normalizer(val_labels)),\n",
    "                                callbacks=[earlystop,reducelr])"
   ]
  },
  {
   "cell_type": "code",
   "execution_count": 54,
   "id": "889543ba-0ba1-4197-bf77-2ad379962ea1",
   "metadata": {},
   "outputs": [
    {
     "data": {
      "image/png": "[encoded data removed]",
      "text/plain": [
       "<Figure size 432x288 with 1 Axes>"
      ]
     },
     "metadata": {
      "needs_background": "light"
     },
     "output_type": "display_data"
    }
   ],
   "source": [
    "def plot_history(history, fig_path = None):\n",
    "    hist = pd.DataFrame(history.history)\n",
    "    hist['epoch'] = history.epoch\n",
    "    if fig_path:\n",
    "        fig  = plt.figure()\n",
    "    plt.axvline(x = int(hist[np.min(hist[\"val_loss\"]) == hist[\"val_loss\"]][\"epoch\"]), c = \"red\", alpha = 0.5, linestyle = \"dashed\", label='Early Stop')\n",
    "    plt.plot(history.history['loss'], label='Train')\n",
    "    plt.plot(history.history['val_loss'], label='Validation')\n",
    "    plt.xlabel('Epoch')\n",
    "    plt.ylabel('Loss')\n",
    "    plt.legend()\n",
    "    plt.grid(True)\n",
    "    if fig_path:\n",
    "        fig.savefig(fig_path)\n",
    "        plt.close()\n",
    "        \n",
    "plot_history(history)"
   ]
  },
  {
   "cell_type": "code",
   "execution_count": 196,
   "id": "d037d1fe-b1a1-4b47-b510-abc37bac2ae7",
   "metadata": {},
   "outputs": [
    {
     "data": {
      "text/html": [
       "<div>\n",
       "<style scoped>\n",
       "    .dataframe tbody tr th:only-of-type {\n",
       "        vertical-align: middle;\n",
       "    }\n",
       "\n",
       "    .dataframe tbody tr th {\n",
       "        vertical-align: top;\n",
       "    }\n",
       "\n",
       "    .dataframe thead th {\n",
       "        text-align: right;\n",
       "    }\n",
       "</style>\n",
       "<table border=\"1\" class=\"dataframe\">\n",
       "  <thead>\n",
       "    <tr style=\"text-align: right;\">\n",
       "      <th></th>\n",
       "      <th>loss</th>\n",
       "      <th>val_loss</th>\n",
       "      <th>lr</th>\n",
       "      <th>epoch</th>\n",
       "    </tr>\n",
       "  </thead>\n",
       "  <tbody>\n",
       "    <tr>\n",
       "      <th>0</th>\n",
       "      <td>25407.601562</td>\n",
       "      <td>24750.490234</td>\n",
       "      <td>0.001000</td>\n",
       "      <td>0</td>\n",
       "    </tr>\n",
       "    <tr>\n",
       "      <th>1</th>\n",
       "      <td>25400.187500</td>\n",
       "      <td>24731.677734</td>\n",
       "      <td>0.001000</td>\n",
       "      <td>1</td>\n",
       "    </tr>\n",
       "    <tr>\n",
       "      <th>2</th>\n",
       "      <td>25387.496094</td>\n",
       "      <td>24696.222656</td>\n",
       "      <td>0.001000</td>\n",
       "      <td>2</td>\n",
       "    </tr>\n",
       "    <tr>\n",
       "      <th>3</th>\n",
       "      <td>25365.390625</td>\n",
       "      <td>24651.701172</td>\n",
       "      <td>0.001000</td>\n",
       "      <td>3</td>\n",
       "    </tr>\n",
       "    <tr>\n",
       "      <th>4</th>\n",
       "      <td>25329.380859</td>\n",
       "      <td>24640.062500</td>\n",
       "      <td>0.001000</td>\n",
       "      <td>4</td>\n",
       "    </tr>\n",
       "    <tr>\n",
       "      <th>...</th>\n",
       "      <td>...</td>\n",
       "      <td>...</td>\n",
       "      <td>...</td>\n",
       "      <td>...</td>\n",
       "    </tr>\n",
       "    <tr>\n",
       "      <th>227</th>\n",
       "      <td>1436.837280</td>\n",
       "      <td>1521.820679</td>\n",
       "      <td>0.000031</td>\n",
       "      <td>227</td>\n",
       "    </tr>\n",
       "    <tr>\n",
       "      <th>228</th>\n",
       "      <td>1588.319458</td>\n",
       "      <td>1533.477783</td>\n",
       "      <td>0.000031</td>\n",
       "      <td>228</td>\n",
       "    </tr>\n",
       "    <tr>\n",
       "      <th>229</th>\n",
       "      <td>1321.667603</td>\n",
       "      <td>1526.908325</td>\n",
       "      <td>0.000031</td>\n",
       "      <td>229</td>\n",
       "    </tr>\n",
       "    <tr>\n",
       "      <th>230</th>\n",
       "      <td>1307.883301</td>\n",
       "      <td>1533.743530</td>\n",
       "      <td>0.000031</td>\n",
       "      <td>230</td>\n",
       "    </tr>\n",
       "    <tr>\n",
       "      <th>231</th>\n",
       "      <td>1378.390503</td>\n",
       "      <td>1546.987183</td>\n",
       "      <td>0.000031</td>\n",
       "      <td>231</td>\n",
       "    </tr>\n",
       "  </tbody>\n",
       "</table>\n",
       "<p>232 rows × 4 columns</p>\n",
       "</div>"
      ],
      "text/plain": [
       "             loss      val_loss        lr  epoch\n",
       "0    25407.601562  24750.490234  0.001000      0\n",
       "1    25400.187500  24731.677734  0.001000      1\n",
       "2    25387.496094  24696.222656  0.001000      2\n",
       "3    25365.390625  24651.701172  0.001000      3\n",
       "4    25329.380859  24640.062500  0.001000      4\n",
       "..            ...           ...       ...    ...\n",
       "227   1436.837280   1521.820679  0.000031    227\n",
       "228   1588.319458   1533.477783  0.000031    228\n",
       "229   1321.667603   1526.908325  0.000031    229\n",
       "230   1307.883301   1533.743530  0.000031    230\n",
       "231   1378.390503   1546.987183  0.000031    231\n",
       "\n",
       "[232 rows x 4 columns]"
      ]
     },
     "execution_count": 196,
     "metadata": {},
     "output_type": "execute_result"
    }
   ],
   "source": [
    "hist"
   ]
  },
  {
   "cell_type": "code",
   "execution_count": 55,
   "id": "6a4ea996-43e4-4c8b-872e-50ba8615b699",
   "metadata": {},
   "outputs": [
    {
     "ename": "NameError",
     "evalue": "name 'spaceNNtime_model' is not defined",
     "output_type": "error",
     "traceback": [
      "\u001b[0;31m---------------------------------------------------------------------------\u001b[0m",
      "\u001b[0;31mNameError\u001b[0m                                 Traceback (most recent call last)",
      "Input \u001b[0;32mIn [55]\u001b[0m, in \u001b[0;36m<cell line: 1>\u001b[0;34m()\u001b[0m\n\u001b[0;32m----> 1\u001b[0m prediction \u001b[38;5;241m=\u001b[39m \u001b[43mspaceNNtime_model\u001b[49m\u001b[38;5;241m.\u001b[39mpredict(test_features)\n\u001b[1;32m      2\u001b[0m \u001b[38;5;28mprint\u001b[39m(np\u001b[38;5;241m.\u001b[39marray(tf_haversine(prediction[:, \u001b[38;5;241m0\u001b[39m:\u001b[38;5;241m2\u001b[39m], test_labels[:, \u001b[38;5;241m0\u001b[39m:\u001b[38;5;241m2\u001b[39m]\u001b[38;5;241m.\u001b[39mastype(\u001b[38;5;124m'\u001b[39m\u001b[38;5;124mfloat32\u001b[39m\u001b[38;5;124m'\u001b[39m))))\n\u001b[1;32m      3\u001b[0m \u001b[38;5;28mprint\u001b[39m(prediction[:, \u001b[38;5;241m2\u001b[39m]\u001b[38;5;241m-\u001b[39mtest_labels[:, \u001b[38;5;241m2\u001b[39m])\n",
      "\u001b[0;31mNameError\u001b[0m: name 'spaceNNtime_model' is not defined"
     ]
    }
   ],
   "source": [
    "prediction = spaceNNtime_model.predict(test_features)\n",
    "print(np.array(tf_haversine(prediction[:, 0:2], test_labels[:, 0:2].astype('float32'))))\n",
    "print(prediction[:, 2]-test_labels[:, 2])"
   ]
  },
  {
   "cell_type": "code",
   "execution_count": null,
   "id": "8217cc4d-3f3e-4775-8904-1d530dadb3f4",
   "metadata": {},
   "outputs": [],
   "source": [
    "GT euclidian distance\n",
    "\n",
    "GT\n",
    "new 1, 1000 =\n",
    "[ 814.9021 2528.839  1750.46  ]\n",
    "[  85.2734375  1182.8125     2249.20703125]\n",
    "\n",
    "new 1000, 1 =\n",
    "[ 163.09805  217.54398 1790.7006 ]\n",
    "[ 222.9609375   328.93359375 1334.796875  ]\n",
    "\n",
    "new 1000, 1 =\n",
    "[  51.779472 1491.3511    972.02246 ]\n",
    "[ 693.53515625  539.7109375  1265.32226562]\n",
    "new 10, 1 =\n",
    "[ 907.4219 1826.0155 1854.3685]\n",
    "[ 1520.70703125 -2898.69140625   676.70117188]\n",
    "\n",
    "mse no norm output\n",
    "[ 703.4174 1463.9999 1967.8995]\n",
    "[ 187.28125    1682.71484375 1173.8203125 ]\n",
    "\n",
    "mse norm output\n",
    "[7247.1284 6550.786  6999.171 ]\n",
    "[-38131.0378055  -43541.83270764 -22740.13557646]\n",
    "\n",
    "GP\n",
    "\n",
    "new 1000, 1 =\n",
    "[ 264.7253   385.80154 1055.6896 ]\n",
    "[  845.42578125 -2143.0703125    -32.51757812]\n",
    "new 10, 1 =\n",
    "[ 907.4219 1826.0155 1854.3685]\n",
    "[ 1520.70703125 -2898.69140625   676.70117188]\n",
    "new2 1, 1 =\n",
    "[ 774.4237 1557.5063 2035.4567]\n",
    "[ 1136.1953125  -4329.2421875   -931.08007812]\n",
    "new 1, 1 =\n",
    "[1074.4224 1675.3339 1879.1251]\n",
    "[ 2667.69921875 -4243.4453125   1560.72070312]\n",
    "old = \n",
    "[ 397.28763  473.0714  1203.0016 ]\n",
    "[  147.5546875  -2406.36328125   211.90429688]"
   ]
  },
  {
   "cell_type": "code",
   "execution_count": 247,
   "id": "27f3d9be-7bd4-406f-b90f-5bad268022b1",
   "metadata": {},
   "outputs": [
    {
     "name": "stdout",
     "output_type": "stream",
     "text": [
      "Model: \"sequential_41\"\n",
      "_________________________________________________________________\n",
      "Layer (type)                 Output Shape              Param #   \n",
      "=================================================================\n",
      "normalization_72 (Normalizat (None, 4032)              8065      \n",
      "_________________________________________________________________\n",
      "dense_508 (Dense)            (None, 256)               1032448   \n",
      "_________________________________________________________________\n",
      "dense_509 (Dense)            (None, 256)               65792     \n",
      "_________________________________________________________________\n",
      "dense_510 (Dense)            (None, 256)               65792     \n",
      "_________________________________________________________________\n",
      "dense_511 (Dense)            (None, 256)               65792     \n",
      "_________________________________________________________________\n",
      "dense_512 (Dense)            (None, 256)               65792     \n",
      "_________________________________________________________________\n",
      "dropout_35 (Dropout)         (None, 256)               0         \n",
      "_________________________________________________________________\n",
      "dense_513 (Dense)            (None, 256)               65792     \n",
      "_________________________________________________________________\n",
      "dense_514 (Dense)            (None, 256)               65792     \n",
      "_________________________________________________________________\n",
      "dense_515 (Dense)            (None, 256)               65792     \n",
      "_________________________________________________________________\n",
      "dense_516 (Dense)            (None, 256)               65792     \n",
      "_________________________________________________________________\n",
      "dense_517 (Dense)            (None, 256)               65792     \n",
      "_________________________________________________________________\n",
      "dense_518 (Dense)            (None, 3)                 771       \n",
      "_________________________________________________________________\n",
      "dense_519 (Dense)            (None, 3)                 12        \n",
      "=================================================================\n",
      "Total params: 1,633,424\n",
      "Trainable params: 1,625,359\n",
      "Non-trainable params: 8,065\n",
      "_________________________________________________________________\n",
      "None\n",
      "Epoch 00122: early stopping\n"
     ]
    }
   ],
   "source": [
    "earlystop=tf.keras.callbacks.EarlyStopping(monitor=\"val_loss\",\n",
    "                                           min_delta=0,\n",
    "                                           patience=100,\n",
    "                                           verbose=1)\n",
    "    \n",
    "reducelr=tf.keras.callbacks.ReduceLROnPlateau(monitor='val_loss',\n",
    "                                              factor=0.5,\n",
    "                                              patience=20)\n",
    "\n",
    "\n",
    "\n",
    "def build_and_compile_model(norm, ):\n",
    "    from tensorflow.keras import backend as K\n",
    "    \n",
    "\n",
    "    \n",
    "    model = keras.Sequential()\n",
    "    model.add(norm)\n",
    "    [model.add(layers.Dense(256, activation='elu')) for _ in range(5)]\n",
    "    model.add(layers.Dropout(0.25))\n",
    "    [model.add(layers.Dense(256, activation='elu')) for _ in range(5)]\n",
    "    model.add(layers.Dense(3))\n",
    "    model.add(layers.Dense(3))\n",
    "\n",
    "    model.compile(loss=euclidean_distance_loss,#'mean_squared_error',\n",
    "                  optimizer=\"Adam\")\n",
    "    return model\n",
    "\n",
    "spaceNNtime_features_normalizer = tf.keras.layers.Normalization(input_shape=[train_features.shape[1], ], axis= -1)\n",
    "spaceNNtime_features_normalizer.adapt(train_features)\n",
    "spaceNNtime_model = build_and_compile_model(spaceNNtime_features_normalizer)\n",
    "\n",
    "spaceNNtime_labels_normalizer = tf.keras.layers.Normalization(input_shape=[train_labels.shape[1], ], axis= -1)\n",
    "spaceNNtime_labels_normalizer.adapt(train_labels)\n",
    "\n",
    "print(spaceNNtime_model.summary())\n",
    "\n",
    "history = spaceNNtime_model.fit(train_features,\n",
    "                                spaceNNtime_labels_normalizer(train_labels), \n",
    "                                epochs=5000,\n",
    "                                batch_size=32,\n",
    "                                shuffle=True,\n",
    "                                verbose = 0,\n",
    "                                validation_data=(val_features, spaceNNtime_labels_normalizer(val_labels)),\n",
    "                                callbacks=[earlystop,reducelr])"
   ]
  },
  {
   "cell_type": "code",
   "execution_count": null,
   "id": "5b17f8fa-28e8-43c1-8cba-83bbbce9e623",
   "metadata": {},
   "outputs": [],
   "source": [
    "build_and_compile_model(\"None\", )\n",
    "model.load_weights(checkpoint_path)"
   ]
  },
  {
   "cell_type": "code",
   "execution_count": 248,
   "id": "b8c91b87-7ca6-4527-a688-361ab42af5cd",
   "metadata": {},
   "outputs": [
    {
     "name": "stdout",
     "output_type": "stream",
     "text": [
      "5\n"
     ]
    },
    {
     "data": {
      "image/png": "[encoded data removed]",
      "text/plain": [
       "<Figure size 640x480 with 1 Axes>"
      ]
     },
     "metadata": {},
     "output_type": "display_data"
    }
   ],
   "source": [
    "print(\"5\")\n",
    "hist = pd.DataFrame(history.history)\n",
    "hist['epoch'] = history.epoch\n",
    "def plot_loss(history):\n",
    "  plt.plot(history.history['loss'], label='loss')\n",
    "  plt.plot(history.history['val_loss'], label='val_loss')\n",
    "  plt.ylim([0, 1])\n",
    "  plt.xlabel('Epoch')\n",
    "  plt.ylabel('Error [MPG]')\n",
    "  plt.legend()\n",
    "  plt.grid(True)\n",
    "plot_loss(history)"
   ]
  },
  {
   "cell_type": "code",
   "execution_count": 249,
   "id": "9cc05392-4369-43b6-b560-dd4791a9cd6b",
   "metadata": {},
   "outputs": [
    {
     "data": {
      "text/html": [
       "<div>\n",
       "<style scoped>\n",
       "    .dataframe tbody tr th:only-of-type {\n",
       "        vertical-align: middle;\n",
       "    }\n",
       "\n",
       "    .dataframe tbody tr th {\n",
       "        vertical-align: top;\n",
       "    }\n",
       "\n",
       "    .dataframe thead th {\n",
       "        text-align: right;\n",
       "    }\n",
       "</style>\n",
       "<table border=\"1\" class=\"dataframe\">\n",
       "  <thead>\n",
       "    <tr style=\"text-align: right;\">\n",
       "      <th></th>\n",
       "      <th>loss</th>\n",
       "      <th>val_loss</th>\n",
       "      <th>lr</th>\n",
       "      <th>epoch</th>\n",
       "    </tr>\n",
       "  </thead>\n",
       "  <tbody>\n",
       "    <tr>\n",
       "      <th>0</th>\n",
       "      <td>0.618621</td>\n",
       "      <td>0.925896</td>\n",
       "      <td>0.001000</td>\n",
       "      <td>0</td>\n",
       "    </tr>\n",
       "    <tr>\n",
       "      <th>1</th>\n",
       "      <td>0.234329</td>\n",
       "      <td>0.796276</td>\n",
       "      <td>0.001000</td>\n",
       "      <td>1</td>\n",
       "    </tr>\n",
       "    <tr>\n",
       "      <th>2</th>\n",
       "      <td>0.141905</td>\n",
       "      <td>0.518569</td>\n",
       "      <td>0.001000</td>\n",
       "      <td>2</td>\n",
       "    </tr>\n",
       "    <tr>\n",
       "      <th>3</th>\n",
       "      <td>0.093176</td>\n",
       "      <td>0.580015</td>\n",
       "      <td>0.001000</td>\n",
       "      <td>3</td>\n",
       "    </tr>\n",
       "    <tr>\n",
       "      <th>4</th>\n",
       "      <td>0.081268</td>\n",
       "      <td>0.526278</td>\n",
       "      <td>0.001000</td>\n",
       "      <td>4</td>\n",
       "    </tr>\n",
       "    <tr>\n",
       "      <th>...</th>\n",
       "      <td>...</td>\n",
       "      <td>...</td>\n",
       "      <td>...</td>\n",
       "      <td>...</td>\n",
       "    </tr>\n",
       "    <tr>\n",
       "      <th>117</th>\n",
       "      <td>0.001334</td>\n",
       "      <td>0.494965</td>\n",
       "      <td>0.000063</td>\n",
       "      <td>117</td>\n",
       "    </tr>\n",
       "    <tr>\n",
       "      <th>118</th>\n",
       "      <td>0.001298</td>\n",
       "      <td>0.497714</td>\n",
       "      <td>0.000063</td>\n",
       "      <td>118</td>\n",
       "    </tr>\n",
       "    <tr>\n",
       "      <th>119</th>\n",
       "      <td>0.001305</td>\n",
       "      <td>0.493981</td>\n",
       "      <td>0.000063</td>\n",
       "      <td>119</td>\n",
       "    </tr>\n",
       "    <tr>\n",
       "      <th>120</th>\n",
       "      <td>0.001245</td>\n",
       "      <td>0.495980</td>\n",
       "      <td>0.000063</td>\n",
       "      <td>120</td>\n",
       "    </tr>\n",
       "    <tr>\n",
       "      <th>121</th>\n",
       "      <td>0.001313</td>\n",
       "      <td>0.494691</td>\n",
       "      <td>0.000063</td>\n",
       "      <td>121</td>\n",
       "    </tr>\n",
       "  </tbody>\n",
       "</table>\n",
       "<p>122 rows × 4 columns</p>\n",
       "</div>"
      ],
      "text/plain": [
       "         loss  val_loss        lr  epoch\n",
       "0    0.618621  0.925896  0.001000      0\n",
       "1    0.234329  0.796276  0.001000      1\n",
       "2    0.141905  0.518569  0.001000      2\n",
       "3    0.093176  0.580015  0.001000      3\n",
       "4    0.081268  0.526278  0.001000      4\n",
       "..        ...       ...       ...    ...\n",
       "117  0.001334  0.494965  0.000063    117\n",
       "118  0.001298  0.497714  0.000063    118\n",
       "119  0.001305  0.493981  0.000063    119\n",
       "120  0.001245  0.495980  0.000063    120\n",
       "121  0.001313  0.494691  0.000063    121\n",
       "\n",
       "[122 rows x 4 columns]"
      ]
     },
     "execution_count": 249,
     "metadata": {},
     "output_type": "execute_result"
    }
   ],
   "source": [
    "hist"
   ]
  },
  {
   "cell_type": "code",
   "execution_count": 250,
   "id": "6b625dd4-4ed4-4c26-9024-e58ba07add83",
   "metadata": {},
   "outputs": [
    {
     "name": "stdout",
     "output_type": "stream",
     "text": [
      "[7243.6772 6476.514  6945.7876]\n",
      "[-38131.02693456 -43541.82767963 -22740.94043195]\n"
     ]
    }
   ],
   "source": [
    "prediction = spaceNNtime_model.predict(test_features)\n",
    "print(np.array(tf_haversine(prediction[:, 0:2], test_labels[:, 0:2].astype('float32'))))\n",
    "print(prediction[:, 2]-test_labels[:, 2])"
   ]
  },
  {
   "cell_type": "code",
   "execution_count": null,
   "id": "5ff1ad54-f165-4b4c-b654-53d5e411efae",
   "metadata": {},
   "outputs": [],
   "source": [
    "[ 277.2485   720.42334 1349.5867 ]\n",
    "[ 2274.34375    -2021.2109375  -7282.44238281]"
   ]
  },
  {
   "cell_type": "code",
   "execution_count": null,
   "id": "a557c996-8480-44dd-81ed-876a9bafd229",
   "metadata": {},
   "outputs": [],
   "source": [
    "[ 801.95746  914.8377  1101.7787 ]\n",
    "[  7577.1953125   -9297.6640625  -22339.01763916]"
   ]
  },
  {
   "cell_type": "code",
   "execution_count": null,
   "id": "047d15b1-a8b0-41fa-95e2-91a7e8fa201c",
   "metadata": {},
   "outputs": [],
   "source": [
    "complicated - 0\n",
    "[ 217.07812 1403.1825   578.2858 ]\n",
    "[ 6724.0234375   1281.31054688 -1572.0078125 ]"
   ]
  },
  {
   "cell_type": "code",
   "execution_count": null,
   "id": "7eee8b6a-1621-4bca-95ea-85aa52218c55",
   "metadata": {},
   "outputs": [],
   "source": [
    "RuntimeError: Cannot enter into task Mean squared distance - 0\n",
    "[7016.37   5275.3525 6382.9854]\n",
    "[ -5469.25219095  -9251.22639191 -43805.61639833]"
   ]
  }
 ],
 "metadata": {
  "kernelspec": {
   "display_name": "Python 3 (ipykernel)",
   "language": "python",
   "name": "python3"
  },
  "language_info": {
   "codemirror_mode": {
    "name": "ipython",
    "version": 3
   },
   "file_extension": ".py",
   "mimetype": "text/x-python",
   "name": "python",
   "nbconvert_exporter": "python",
   "pygments_lexer": "ipython3",
   "version": "3.7.12"
  }
 },
 "nbformat": 4,
 "nbformat_minor": 5
}
