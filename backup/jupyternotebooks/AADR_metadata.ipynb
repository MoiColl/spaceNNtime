{
 "cells": [
  {
   "cell_type": "markdown",
   "id": "9ee1c016-cbde-4ba1-b4e6-7a5417bdce6f",
   "metadata": {},
   "source": [
    "# AADR metadata\n",
    "\n",
    "## 0. Library and packages"
   ]
  },
  {
   "cell_type": "code",
   "execution_count": 1,
   "id": "12fa6d5a-c6d1-44f5-bb98-3f3c2f1d602e",
   "metadata": {},
   "outputs": [],
   "source": [
    "%load_ext rpy2.ipython"
   ]
  },
  {
   "cell_type": "code",
   "execution_count": 2,
   "id": "526c1310-8f2d-4492-ba39-c29009cfaffe",
   "metadata": {},
   "outputs": [
    {
     "name": "stdout",
     "output_type": "stream",
     "text": [
      "[1] \"/maps/projects/racimolab/people/qxz396/miniconda3/envs/sNNt_slendr/lib/R/library\"\n"
     ]
    }
   ],
   "source": [
    "%%R\n",
    ".libPaths()"
   ]
  },
  {
   "cell_type": "code",
   "execution_count": 3,
   "id": "6fee0646-31d9-41f9-9163-bac47e968aa8",
   "metadata": {},
   "outputs": [],
   "source": [
    "%%R\n",
    ".libPaths(c(\"/maps/projects/racimolab/people/qxz396/spaceNNtime/backup/environments/renv/library/R-4.1/x86_64-redhat-linux-gnu\"))"
   ]
  },
  {
   "cell_type": "code",
   "execution_count": 4,
   "id": "6e64439b-1865-43a3-b531-1b4aa923c1cf",
   "metadata": {},
   "outputs": [
    {
     "name": "stderr",
     "output_type": "stream",
     "text": [
      "R[write to console]: ── Attaching packages ─────────────────────────────────────── tidyverse 1.3.1 ──\n",
      "\n",
      "R[write to console]: ✔ ggplot2 3.3.5     ✔ purrr   0.3.4\n",
      "✔ tibble  3.1.6     ✔ dplyr   1.0.9\n",
      "✔ tidyr   1.2.0     ✔ stringr 1.4.0\n",
      "✔ readr   2.1.2     ✔ forcats 0.5.1\n",
      "\n",
      "R[write to console]: ── Conflicts ────────────────────────────────────────── tidyverse_conflicts() ──\n",
      "✖ dplyr::filter() masks stats::filter()\n",
      "✖ dplyr::lag()    masks stats::lag()\n",
      "\n",
      "R[write to console]: Linking to GEOS 3.7.2, GDAL 3.0.4, PROJ 6.3.2; sf_use_s2() is TRUE\n",
      "\n",
      "R[write to console]: You can setup a pre-configured environment with all of slendr's Python\n",
      "tree-sequence dependencies (Python modules tskit, pyslim, and msprime)\n",
      "by running the function setup_env().\n",
      "\n"
     ]
    }
   ],
   "source": [
    "%%R\n",
    "\n",
    "library(tidyverse)\n",
    "library(cowplot)\n",
    "library(sf)\n",
    "library(slendr)\n",
    "library(rnaturalearth)\n",
    "library(rnaturalearthdata)"
   ]
  },
  {
   "cell_type": "markdown",
   "id": "18630b80-a05e-4558-8639-b8403063c4ac",
   "metadata": {},
   "source": [
    "## 1. Metadata import"
   ]
  },
  {
   "cell_type": "code",
   "execution_count": 5,
   "id": "20dc5f78-fe5e-47f7-acba-bc7845131e4d",
   "metadata": {},
   "outputs": [
    {
     "name": "stdout",
     "output_type": "stream",
     "text": [
      "/maps/projects/racimolab/people/qxz396/spaceNNtime/files/v54.1_1240K_public.anno\n"
     ]
    }
   ],
   "source": [
    "%%bash\n",
    "\n",
    "ls /maps/projects/racimolab/people/qxz396/spaceNNtime/files/v54.1_1240K_public.anno"
   ]
  },
  {
   "cell_type": "markdown",
   "id": "f6c6e938-394b-4118-8581-bddd6ad9282a",
   "metadata": {},
   "source": [
    "Because of the original formating of the file makes impossible to read directly by R, I need to reformat it changing some characters."
   ]
  },
  {
   "cell_type": "code",
   "execution_count": 6,
   "id": "0bef1589-b332-4a3a-80a9-77fed326e6ef",
   "metadata": {},
   "outputs": [],
   "source": [
    "%%bash\n",
    "\n",
    "sed 's/;/,,/g' /maps/projects/racimolab/people/qxz396/spaceNNtime/files/v54.1_1240K_public.anno \\\n",
    "    | sed 's/\\t/;/g' \\\n",
    "    | sed 's/ /__/g' \\\n",
    "    | sed 's/;$//' \\\n",
    "    > /maps/projects/racimolab/people/qxz396/spaceNNtime/files/v54.1_1240K_public_reformated.anno"
   ]
  },
  {
   "cell_type": "markdown",
   "id": "4c3e5e7b-a106-4af1-bfd6-09aedf52df09",
   "metadata": {},
   "source": [
    "Here are the original header"
   ]
  },
  {
   "cell_type": "code",
   "execution_count": 7,
   "id": "138bde13-5f85-4fd2-ba6a-235b36b2caaa",
   "metadata": {},
   "outputs": [
    {
     "name": "stdout",
     "output_type": "stream",
     "text": [
      " [1] \"Genetic__ID\"                                                                                                                                                                                                                                                                                  \n",
      " [2] \"Master__ID\"                                                                                                                                                                                                                                                                                   \n",
      " [3] \"Skeletal__code\"                                                                                                                                                                                                                                                                               \n",
      " [4] \"Skeletal__element\"                                                                                                                                                                                                                                                                            \n",
      " [5] \"Year__data__from__this__individual__was__first__published__.for__a__present.day__individuals__we__give__the__data__of__the__data__reported__here..__missing__GreenScience__2010__.Vi33.15.__Vi33.26..__Olalde2018__.I2657..__RasmussenNature2010__.Australian..\"                              \n",
      " [6] \"Publication\"                                                                                                                                                                                                                                                                                  \n",
      " [7] \"Method__for__Determining__Date..__unless__otherwise__specified.__calibrations__use__95.4.__intervals__from__OxCal__v4.4.2__Bronk__Ramsey__.2009...__r5..__Atmospheric__data__from__Reimer__et__al__.2020.\"                                                                                    \n",
      " [8] \"Date__mean__in__BP__in__years__before__1950__CE__.OxCal__mu__for__a__direct__radiocarbon__date.__and__average__of__range__for__a__contextual__date.\"                                                                                                                                          \n",
      " [9] \"Date__standard__deviation__in__BP__.OxCal__sigma__for__a__direct__radiocarbon__date.__and__standard__deviation__of__the__uniform__distribution__between__the__two__bounds__for__a__contextual__date.\"                                                                                         \n",
      "[10] \"Full__Date__One__of__two__formats.__.Format__1.__95.4.__CI__calibrated__radiocarbon__age__.Conventional__Radiocarbon__Age__BP.__Lab__number.__e.g.__2624.2350__calBCE__.3990.40__BP.__Ua.35016..__.Format__2.__Archaeological__context__range.__e.g.__2500.1700__BCE\"                         \n",
      "[11] \"Age__at__Death__from__physical__anthropology\"                                                                                                                                                                                                                                                 \n",
      "[12] \"Group__ID\"                                                                                                                                                                                                                                                                                    \n",
      "[13] \"Locality\"                                                                                                                                                                                                                                                                                     \n",
      "[14] \"Political__Entity\"                                                                                                                                                                                                                                                                            \n",
      "[15] \"Lat.\"                                                                                                                                                                                                                                                                                         \n",
      "[16] \"Long.\"                                                                                                                                                                                                                                                                                        \n",
      "[17] \"Pulldown__Strategy\"                                                                                                                                                                                                                                                                           \n",
      "[18] \"Data__source\"                                                                                                                                                                                                                                                                                 \n",
      "[19] \"No.__Libraries\"                                                                                                                                                                                                                                                                               \n",
      "[20] \"X1240k__coverage__.taken__from__original__pulldown__where__possible.\"                                                                                                                                                                                                                         \n",
      "[21] \"SNPs__hit__on__autosomal__targets__.Computed__using__easystats__on__1240k__snpset.\"                                                                                                                                                                                                           \n",
      "[22] \"SNPs__hit__on__autosomal__targets__.Computed__using__easystats__on__HO__snpset.\"                                                                                                                                                                                                              \n",
      "[23] \"Molecular__Sex\"                                                                                                                                                                                                                                                                               \n",
      "[24] \"Family__ID__and__position__within__family\"                                                                                                                                                                                                                                                    \n",
      "[25] \"Y__haplogroup__.manual__curation__in__terminal__mutation__format.\"                                                                                                                                                                                                                            \n",
      "[26] \"Y__haplogroup__.manual__curation__in__ISOGG__format.\"                                                                                                                                                                                                                                         \n",
      "[27] \"mtDNA__coverage__.merged__data.\"                                                                                                                                                                                                                                                              \n",
      "[28] \"mtDNA__haplogroup__if__.2x__or__published\"                                                                                                                                                                                                                                                    \n",
      "[29] \"mtDNA__match__to__consensus__if__.2x__.merged__data.\"                                                                                                                                                                                                                                         \n",
      "[30] \"Damage__rate__in__first__nucleotide__on__sequences__overlapping__1240k__targets__.merged__data.\"                                                                                                                                                                                              \n",
      "[31] \"Sex__ratio__.Y..Y.X.__counts.__.merged__data.\"                                                                                                                                                                                                                                                \n",
      "[32] \"Library__type__.minus.no.damage.correction.__half.damage.retained.at.last.position.__plus.damage.fully.corrected.__ds.double.stranded.library.preparation.__ss.single.stranded.library.preparation.\"                                                                                          \n",
      "[33] \"Libraries\"                                                                                                                                                                                                                                                                                    \n",
      "[34] \"ASSESSMENT\"                                                                                                                                                                                                                                                                                   \n",
      "[35] \"ASSESSMENT__WARNINGS__.Xcontam__interval__is__listed__if__lower__bound__is__.0.005.__QUESTIONABLE__if__lower__bound__is__0.01.0.02.__QUESTIONABLE_CRITICAL__or__FAIL__if__lower__bound__is__.0.02.__.mtcontam__confidence__interval__is__listed__if__coverage__.2__and__upper__bound__is__.0.\"\n"
     ]
    }
   ],
   "source": [
    "%%R\n",
    "\n",
    "read.csv(\"/maps/projects/racimolab/people/qxz396/spaceNNtime/files/v54.1_1240K_public_reformated.anno\", header = T, sep = \";\") %>%\n",
    "    head() %>%\n",
    "    names()"
   ]
  },
  {
   "cell_type": "raw",
   "id": "5d5e5446-dddf-4f36-88c6-7fa80e0a054c",
   "metadata": {},
   "source": [
    "And this is a bit what I understand is the information contained in each column:\n",
    "\n",
    " [1] \"Genetic__ID\"       : ID\n",
    " [2] \"Master__ID\"        : The unique individual identifier is given in the 'Master ID' field\n",
    " [3] \"Skeletal__code\"    : Name fosil remain\n",
    " [4] \"Skeletal__element\" : What bone is it\n",
    " [5] \"Year__data__from_  : For a present day individuals we give the data of the data reported. Here missing: GreenScience 2010 Vi33.15 Vi33.26 Olalde2018 I2657 RasmussenNature2010 Australian                            \n",
    " [6] \"Publication\"       : In which publication the data was published first but also indicating if the data in question was reprocessed\n",
    " [7] \"Method__Det..Dat   : unless otherwise specified calibrations use 95.4 intervals from OxCal v4.4.2 Bronk Ramsey 2009... r5.. Atmospheric data from Reimer et al .2020.                                                                                \n",
    " [8] \"Date__mean__in__BP__in__years__before__1950__CE : OxCal mu for a direct radiocarbon date and average of range for a contextual date.\n",
    " [9] \"Date__standard__deviation__in__BP : OxCal sigma for a direct radiocarbon date and sd of the uniform distribution between the two bounds for a contextual date\n",
    "[10] \"Full__Date         : Format 1 95.4 CI calibrated radiocarbon age  Conventional Radiocarbon Age BP Lab number. e.g. 2624.2350 calBCE 3990 40 BP Ua 35016  Format 2 Archaeological context range e.g. 2500-1700 BCE\"                         \n",
    "[11] \"Age at Death from physical anthropology\"\n",
    "[12] \"Group ID\" : Archeological Group?\n",
    "[13] \"Locality\"\n",
    "[14] \"Political__Entity\" : Country\n",
    "[15] \"Lat.\"\n",
    "[16] \"Long.\"\n",
    "[17] \"Pulldown__Strategy\"  ???????????\n",
    "[18] \"Data__source\"\n",
    "[19] \"No.__Libraries\"\n",
    "[20] \"X1240k__coverage__.taken__from__original__pulldown__where__possible.\"\n",
    "[21] \"SNPs__hit__on__autosomal__targets__.Computed__using__easystats__on__1240k__snpset.\"\n",
    "[22] \"SNPs__hit__on__autosomal__targets__.Computed__using__easystats__on__HO__snpset.\"\n",
    "[23] \"Molecular__Sex\"\n",
    "[24] \"Family__ID__and__position__within__family\"\n",
    "[25] \"Y__haplogroup__.manual__curation__in__terminal__mutation__format.\"\n",
    "[26] \"Y__haplogroup__.manual__curation__in__ISOGG__format.\"\n",
    "[27] \"mtDNA__coverage__.merged__data.\"\n",
    "[28] \"mtDNA__haplogroup__if__.2x__or__published\"\n",
    "[29] \"mtDNA__match__to__consensus__if__.2x__.merged__data.\"\n",
    "[30] \"Damage__rate__in__first__nucleotide__on__sequences__overlapping__1240k__targets__.merged__data.\"\n",
    "[31] \"Sex__ratio__.Y..Y.X.__counts.__.merged__data.\"\n",
    "[32] \"Library__type : minus.no.damage.correction. \n",
    "                      half.damage.retained.at.last.position.\n",
    "                      plus.damage.fully.corrected.\n",
    "                      ds.double.stranded.library.preparation.\n",
    "                      ss.single.stranded.library.preparation.\"                                                                                          \n",
    "[33] \"Libraries\"\n",
    "[34] \"ASSESSMENT\"\n",
    "[35] \"ASSESSMENT__WARNINGS__.Xcontam__interval__is__listed__if__lower__bound__is__.0.005.__QUESTIONABLE__if__lower__bound__is__0.01.0.02.__QUESTIONABLE_CRITICAL__or__FAIL__if__lower__bound__is__.0.02.__.mtcontam__confidence__interval__is__listed__if__coverage__.2__and__upper__bound__is__.0.\"\n",
    "[36] \"X\" "
   ]
  },
  {
   "cell_type": "markdown",
   "id": "89320a2b-a326-47b0-9a0c-3586a7b36c99",
   "metadata": {},
   "source": [
    "To make it easier to work with this dataset, I change the header"
   ]
  },
  {
   "cell_type": "code",
   "execution_count": 8,
   "id": "b89f9b87-a4b5-49f4-b9a4-6cf5956f3769",
   "metadata": {},
   "outputs": [
    {
     "name": "stdout",
     "output_type": "stream",
     "text": [
      "                 indivi master\n",
      "1 Ne30_genotyping_noUDG   NE30\n",
      "2 Ne61_genotyping_noUDG   NE61\n",
      "3 Ne35_genotyping_noUDG   NE35\n",
      "4                I17622 I17622\n",
      "5                I13833 I13833\n",
      "6                 I3931  I3931\n",
      "                                                  foscod             fosele\n",
      "1                             AR9.9K_2d.rel.NE-4_deleted                 ..\n",
      "2                                          AR3.4K_LowCov                 ..\n",
      "3                                                 AR8.9K                 ..\n",
      "4                     2637,,__Tumulus__1,__grave__?,__10     tooth__(molar)\n",
      "5            1234,,__Tumulus__2,__grave__3,__ind.__1,__2            petrous\n",
      "6 Aknashen__2014,__Trench__6,__UF__11,__F15,__L__humerus bone__(long__bone)\n",
      "  yearpu                                 public\n",
      "1   2021                          MaoFuCell2021\n",
      "2   2021                          MaoFuCell2021\n",
      "3   2021                          MaoFuCell2021\n",
      "4   2022 LazaridisAlpaslanRoodenbergScience2022\n",
      "5   2022 LazaridisAlpaslanRoodenbergScience2022\n",
      "6   2022 LazaridisAlpaslanRoodenbergScience2022\n",
      "                                                                                                                                                                                                                                                              datmet\n",
      "1                                                                                                                                                                                                                                                   Direct__IntCal20\n",
      "2                                                                                                                                                                                                                                                  Direct:__IntCal20\n",
      "3                                                                                                                                                                                                                                                  Direct:__IntCal20\n",
      "4                                                                                                                                                                                                                           Context:__Main__period__of__tumulus__use\n",
      "5 Context:__Date(s)__on__individuals__with__>20cM__IBD__stretches__(I13835,__I13836,__I13837),,__ignore__a__date__that__must__be__wrong__also__due__to__the__very__unexpected__ancestry__of__1121-936__calBCE__(2870±20__BP,__PSUAMS-5941)__calibrated__as__IntCal20\n",
      "6                                                                                                                                                                                                                                                  Direct:__IntCal20\n",
      "  datmea datstd                                         datful\n",
      "1   9896    121   8175-7750__calBCE__(8825±30__BP,__BA-152174)\n",
      "2   3421     23   1510-1425__calBCE__(3210±25__BP,__BA-152205)\n",
      "3   8990     72   7172-6831__calBCE__(8075±30__BP,__BA-152179)\n",
      "4   3050    173                                  1400-800__BCE\n",
      "5    325    101                                  1450-1800__CE\n",
      "6   7858     45 5985-5836__calBCE__(7015±25__BP,__PSUAMS-3058)\n",
      "                       agdead                        grouid\n",
      "1                          ..        China_AmurRiver_EarlyN\n",
      "2                          ..            China_AmurRiver_BA\n",
      "3                          ..        China_AmurRiver_EarlyN\n",
      "4                     adult__              Albania_BA_IA_lc\n",
      "5 Young__adult,,__17-19__yrs. Albania_EarlyModern_oCaucasus\n",
      "6                     Newborn            Armenia_Aknashen_N\n",
      "                            locate  countr      latitu      longit\n",
      "1                Nepal,__Kathmandu   China       45.96      126.23\n",
      "2                Nepal,__Kathmandu   China       45.88      126.22\n",
      "3                Nepal,__Kathmandu   China       45.91      125.95\n",
      "4                Southwest,__Dukat Albania      40.295 19.49027778\n",
      "5 Barç__(Southeast,__Korça__Basin) Albania   40.625278   20.801111\n",
      "6                         Aknashen Armenia 40.10093333 44.29051667\n",
      "                        pulldo source numlib   covera  snps12 snpsHO sexsex\n",
      "1 Repulldown__on__3.2M__snpset  1240K      1 0.431935  590693 590693      M\n",
      "2 Repulldown__on__3.2M__snpset  1240K      1  0.02445  590361 590361      U\n",
      "3 Repulldown__on__3.2M__snpset  1240K      1  5.07525  590571 590571      F\n",
      "4 Repulldown__on__3.2M__snpset  1240K      1 0.003229    3096   1641      M\n",
      "5 Repulldown__on__3.2M__snpset  1240K      3   13.211 1000701 538257      M\n",
      "6 Repulldown__on__3.2M__snpset  1240K      1    0.259  253587 137210      M\n",
      "                                                                             family\n",
      "1 Amur__River__Basin__Family__A__(2__Members)__\\\\E4-NE30__have__a__2d__relationship\n",
      "2                                                    n/a__(no__relatives__detected)\n",
      "3                                                    n/a__(no__relatives__detected)\n",
      "4                                                    n/a__(no__relatives__detected)\n",
      "5                                                    n/a__(no__relatives__detected)\n",
      "6                                                    n/a__(no__relatives__detected)\n",
      "         haply1              haply2      covemt     haplmt        matcmt damage\n",
      "1            ..                   C          99        D4m            ..     12\n",
      "2            .. n/a__(Sex__Unknown)         574    D4b1a2a            ..      5\n",
      "3 n/a__(female)       n/a__(female)         602        R11            ..     22\n",
      "4            ..                  ..      0.5948 n/a__(<2x)    n/a__(<2x)  0.096\n",
      "5            ..                  .. 1150.387048       X2e1 [0.985,0.997]  0.122\n",
      "6            ..                  ..         646         I1 [0.998,1.000]  0.105\n",
      "       sexrat                  libtyp\n",
      "1          ..                ss.minus\n",
      "2          ..                ss.minus\n",
      "3          ..                ss.minus\n",
      "4       0.375                 ss.half\n",
      "5 0.435054726 ds.half,ss.half,ss.half\n",
      "6       0.433                 ds.half\n",
      "                                           librar assess\n",
      "1                                       HRR163270   PASS\n",
      "2                                       HRR163284   PASS\n",
      "3                                       HRR163273   PASS\n",
      "4                                    S17622.E1.L1   PASS\n",
      "5 S13833.Y1.E1.L1,S20786.Y1.E1.L1,S20790.Y1.E1.L1   PASS\n",
      "6                                     S3931.E1.L1   PASS\n",
      "                                    warnin\n",
      "1                                       ..\n",
      "2                                       ..\n",
      "3                                       ..\n",
      "4 2500.to.5000.SNPs,__damage.ss.half=0.096\n",
      "5                                       ..\n",
      "6                                       ..\n"
     ]
    }
   ],
   "source": [
    "%%R\n",
    "\n",
    "colnames <- c(\"indivi\", \"master\", \"foscod\", \"fosele\", \"yearpu\", \"public\",\n",
    "              \"datmet\", \"datmea\", \"datstd\", \"datful\", \"agdead\", \"grouid\",\n",
    "              \"locate\", \"countr\", \"latitu\", \"longit\", \"pulldo\", \"source\",\n",
    "              \"numlib\", \"covera\", \"snps12\", \"snpsHO\", \"sexsex\", \"family\", \n",
    "              \"haply1\", \"haply2\", \"covemt\", \"haplmt\", \"matcmt\", \"damage\", \n",
    "              \"sexrat\", \"libtyp\", \"librar\", \"assess\", \"warnin\")\n",
    "\n",
    "read.csv(\"/maps/projects/racimolab/people/qxz396/spaceNNtime/files/v54.1_1240K_public_reformated.anno\", header = T, sep = \";\", col.names = colnames) -> metadata\n",
    "\n",
    "metadata %>% head()"
   ]
  },
  {
   "cell_type": "markdown",
   "id": "6970853e-16e1-4314-a00d-932e34385e90",
   "metadata": {},
   "source": [
    "I first create a new column that identifies how the sample was dated with a simplified version compared to the original one. It is important to note that there are many belonging to the context which were dated because they were found with a directed dated bone, so, in a way, they could be considered to be directly dated as well. "
   ]
  },
  {
   "cell_type": "code",
   "execution_count": 9,
   "id": "71dbfd46-c5fd-4dc1-9f41-d221b4f4306c",
   "metadata": {},
   "outputs": [],
   "source": [
    "%%R\n",
    "\n",
    "metadata %>% \n",
    "    mutate(datme2 = ifelse(str_detect(datmet, \"^Direct\"), \"Direct\", \n",
    "                          ifelse(str_detect(datmet, \"^Context\"), \"Context\", \n",
    "                                 ifelse(str_detect(datmet, \"^context\"), \"Context\",\n",
    "                                        ifelse(str_detect(datmet, \"^Layer__date__from__cattle__tooth\"), \"Context\",\n",
    "                                               ifelse(str_detect(datmet, \"^Histroical\"), \"Context\",\n",
    "                                                      ifelse(str_detect(datmet, \"^Modern\"), \"Modern\", \n",
    "                                                             ifelse(str_detect(datmet, \"^Known\"), \"Known\", \"Others\")))))))) -> metadata"
   ]
  },
  {
   "cell_type": "markdown",
   "id": "d20fc9e9-a67e-4b0f-a25f-e26d97ca6e2e",
   "metadata": {},
   "source": [
    "Now we can start exploring the metadata file and see what information is contained."
   ]
  },
  {
   "cell_type": "markdown",
   "id": "7487a420-63d6-4785-ad60-9630bb092b2e",
   "metadata": {},
   "source": [
    "## 2. Coordinates information\n",
    "\n",
    "I observed that there are 1778 samples with missing information about their location:"
   ]
  },
  {
   "cell_type": "code",
   "execution_count": 10,
   "id": "c8943ac0-9b7a-46ea-b8e1-fc0a3c410fdd",
   "metadata": {},
   "outputs": [
    {
     "name": "stdout",
     "output_type": "stream",
     "text": [
      "        indivi   master   foscod fosele yearpu              public datmet\n",
      "1   Altais1.SG  Altais1       ..     ..     .. DamgaardScience2018 Modern\n",
      "2   Altais2.SG  Altais2       ..     ..     .. DamgaardScience2018 Modern\n",
      "3 Ancestor.REF Ancestor Ancestor    n/a     ..     ReferenceGenome Modern\n",
      "  datmea datstd  datful agdead       grouid locate countr latitu longit\n",
      "1      0      0 present     .. Altaian_o.SG     .. Russia     ..     ..\n",
      "2      0      0 present     ..   Altaian.SG     .. Russia     ..     ..\n",
      "3      0      0 present     .. Ancestor.REF     ..     ..     ..     ..\n",
      "                                     pulldo           source numlib    covera\n",
      "1              Repulldown__on__3.2M__snpset          Shotgun     .. 20.254589\n",
      "2              Repulldown__on__3.2M__snpset          Shotgun     .. 16.568944\n",
      "3 1240K__pulldown__padded__to__3.2M__snpset Reference.Genome     ..        ..\n",
      "   snps12 snpsHO sexsex                         family                haply1\n",
      "1 1149196 592787      U n/a__(no__relatives__detected) n/a____(sex__unknown)\n",
      "2 1149048 592740      U n/a__(no__relatives__detected) n/a____(sex__unknown)\n",
      "3 1135001 588583      M n/a__(no__relatives__detected)                    ..\n",
      "                 haply2 covemt haplmt matcmt damage sexrat libtyp librar assess\n",
      "1 n/a____(sex__unknown)     ..     ..     ..     ..     ..     ..     ..   PASS\n",
      "2 n/a____(sex__unknown)     ..     ..     ..     ..     ..     ..     ..   PASS\n",
      "3                    ..     ..     ..     ..     ..     ..     ..     ..   PASS\n",
      "  warnin datme2\n",
      "1     .. Modern\n",
      "2     .. Modern\n",
      "3     .. Modern\n"
     ]
    }
   ],
   "source": [
    "%%R\n",
    "\n",
    "metadata %>%\n",
    "    filter(longit == \"..\") %>%\n",
    "    head(3)"
   ]
  },
  {
   "cell_type": "code",
   "execution_count": 11,
   "id": "74586922-e609-4da5-a560-0865d5c48b6a",
   "metadata": {},
   "outputs": [
    {
     "name": "stdout",
     "output_type": "stream",
     "text": [
      "[1] 1787\n"
     ]
    }
   ],
   "source": [
    "%%R\n",
    "\n",
    "metadata %>%\n",
    "    filter(longit == \"..\") %>%\n",
    "    nrow()"
   ]
  },
  {
   "cell_type": "markdown",
   "id": "f585c6d9-b0ed-4f36-82ca-80b2efd774f7",
   "metadata": {},
   "source": [
    "And there is none with only information about latitude but not longitude and viceversa."
   ]
  },
  {
   "cell_type": "code",
   "execution_count": 12,
   "id": "eed698ef-6d46-4da1-ab14-0e3e08f462dd",
   "metadata": {},
   "outputs": [
    {
     "name": "stdout",
     "output_type": "stream",
     "text": [
      "[1] 0\n"
     ]
    }
   ],
   "source": [
    "%%R\n",
    "\n",
    "metadata %>%\n",
    "    filter((longit == \"..\" & latitu != \"..\") | (longit != \"..\" & latitu == \"..\")) %>%\n",
    "    nrow() "
   ]
  },
  {
   "cell_type": "markdown",
   "id": "89ade2c1-e822-481d-8575-5edc16690e24",
   "metadata": {},
   "source": [
    "There are a few master individuals (7) that have multiple samples in the dataset that at least one has info about location and the rest don't. All those samples are from \"Modern\". We can rescue those samples with the location information from the other samples."
   ]
  },
  {
   "cell_type": "code",
   "execution_count": 13,
   "id": "1a3a09e6-eb6c-43df-9b80-6b032f2407d7",
   "metadata": {},
   "outputs": [
    {
     "name": "stdout",
     "output_type": "stream",
     "text": [
      "             indivi    master               public datmet datmea  datful locate\n",
      "1        HG00174.SG   HG00174            1KGPhase3 Modern      0 present     ..\n",
      "2    S_Finnish-1.DG   HG00174    MallickNature2016 Modern      0 present     ..\n",
      "3        HG00174.DG   HG00174            1KGPhase3 Modern      0 present     ..\n",
      "4        HG00190.SG   HG00190            1KGPhase3 Modern      0 present     ..\n",
      "5    S_Finnish-2.DG   HG00190    MallickNature2016 Modern      0 present     ..\n",
      "6        HG00190.DG   HG00190            1KGPhase3 Modern      0 present     ..\n",
      "7       S_Esan-2.DG   HG02943    MallickNature2016 Modern      0 present     ..\n",
      "8        HG02943.SG   HG02943            1KGPhase3 Modern      0 present     ..\n",
      "9        HG02943.DG   HG02943            1KGPhase3 Modern      0 present     ..\n",
      "10      S_Esan-1.DG   HG03100    MallickNature2016 Modern      0 present     ..\n",
      "11       HG03100.SG   HG03100            1KGPhase3 Modern      0 present     ..\n",
      "12       HG03100.DG   HG03100            1KGPhase3 Modern      0 present     ..\n",
      "13 A_Sardinian-4.DG HGDP00665     MeyerScience2012 Modern      0 present     ..\n",
      "14     HGDP00665.DG HGDP00665 BergstromScience2020 Modern      0 present     ..\n",
      "15     HGDP00877.DG HGDP00877 BergstromScience2020 Modern      0 present     ..\n",
      "16     HGDP00877.SG HGDP00877  RasmussenNature2014 Modern      0 present     ..\n",
      "17    A_Yoruba-4.DG HGDP00927     MeyerScience2012 Modern      0 present     ..\n",
      "18     HGDP00927.DG HGDP00927 BergstromScience2020 Modern      0 present     ..\n",
      "    countr latitu longit numlib covera  snps12 snpsHO sexsex      librar warnin\n",
      "1  Finland     ..     ..     ..     .. 1075340 555742      F          ..     ..\n",
      "2  Finland   60.2   24.9      1  38.85 1116699 582987      F S_Finnish-1     ..\n",
      "3  Finland     ..     ..     ..     ..  858563 430611      F          ..     ..\n",
      "4  Finland     ..     ..     ..     .. 1045044 539866      M          ..     ..\n",
      "5  Finland   60.2   24.9      1  35.22 1119067 584142      M S_Finnish-2     ..\n",
      "6  Finland     ..     ..     ..     ..  858549 430608      M          ..     ..\n",
      "7  Nigeria    6.5      6      1  41.38 1117892 583655      F    S_Esan-2     ..\n",
      "8  Nigeria     ..     ..     ..     .. 1146952 591664      F          ..     ..\n",
      "9  Nigeria     ..     ..     ..     ..  858302 430528      F          ..     ..\n",
      "10 Nigeria    6.5      6      1  35.59 1118600 583935      M    S_Esan-1     ..\n",
      "11 Nigeria     ..     ..     ..     .. 1146770 591597      M          ..     ..\n",
      "12 Nigeria     ..     ..     ..     ..  858349 430535      M          ..     ..\n",
      "13   Italy     ..     ..      4  24.68 1150298 593109      M          ..     ..\n",
      "14   Italy     40      9     ..     .. 1127717 582677      M          ..     ..\n",
      "15  Mexico     19    -91     ..     .. 1137814 587602      M          ..     ..\n",
      "16  Mexico     ..     ..     .. 12.022 1147174 592288      M          ..     ..\n",
      "17 Nigeria     ..     ..      4  32.12 1150143 593097      M          ..     ..\n",
      "18 Nigeria    7.4    3.9     ..     .. 1136584 587235      M          ..     ..\n",
      "   datme2 locloc nonloc n\n",
      "1  Modern      1      2 3\n",
      "2  Modern      1      2 3\n",
      "3  Modern      1      2 3\n",
      "4  Modern      1      2 3\n",
      "5  Modern      1      2 3\n",
      "6  Modern      1      2 3\n",
      "7  Modern      1      2 3\n",
      "8  Modern      1      2 3\n",
      "9  Modern      1      2 3\n",
      "10 Modern      1      2 3\n",
      "11 Modern      1      2 3\n",
      "12 Modern      1      2 3\n",
      "13 Modern      1      1 2\n",
      "14 Modern      1      1 2\n",
      "15 Modern      1      1 2\n",
      "16 Modern      1      1 2\n",
      "17 Modern      1      1 2\n",
      "18 Modern      1      1 2\n"
     ]
    }
   ],
   "source": [
    "%%R\n",
    "\n",
    "metadata %>%\n",
    "    mutate(locloc = ifelse(longit == \"..\", \"nonloc\", \"locloc\")) %>% \n",
    "    mutate(nn = 1) %>%\n",
    "    spread(locloc, nn, fill = 0) %>%\n",
    "    group_by(master) %>%\n",
    "    mutate(n = n()) %>%\n",
    "    mutate(nonloc = sum(nonloc), locloc = sum(locloc)) %>%\n",
    "    ungroup() %>%\n",
    "    filter(nonloc > 0 & locloc > 0) %>%\n",
    "    as.data.frame() %>%\n",
    "    arrange(master) %>%\n",
    "    select(-c(fosele, yearpu, foscod, datstd, agdead, grouid, pulldo, family, haply1, haply2, covemt, haplmt, matcmt, damage, sexrat, libtyp, assess, source)) "
   ]
  },
  {
   "cell_type": "code",
   "execution_count": 14,
   "id": "db0bbc5c-43f3-4dfb-b1e9-c21431af6c33",
   "metadata": {},
   "outputs": [
    {
     "name": "stdout",
     "output_type": "stream",
     "text": [
      "             indivi    master               public datmet datmea  datful locate\n",
      "1        HG00174.SG   HG00174            1KGPhase3 Modern      0 present     ..\n",
      "2    S_Finnish-1.DG   HG00174    MallickNature2016 Modern      0 present     ..\n",
      "3        HG00174.DG   HG00174            1KGPhase3 Modern      0 present     ..\n",
      "4        HG00190.SG   HG00190            1KGPhase3 Modern      0 present     ..\n",
      "5    S_Finnish-2.DG   HG00190    MallickNature2016 Modern      0 present     ..\n",
      "6        HG00190.DG   HG00190            1KGPhase3 Modern      0 present     ..\n",
      "7       S_Esan-2.DG   HG02943    MallickNature2016 Modern      0 present     ..\n",
      "8        HG02943.SG   HG02943            1KGPhase3 Modern      0 present     ..\n",
      "9        HG02943.DG   HG02943            1KGPhase3 Modern      0 present     ..\n",
      "10      S_Esan-1.DG   HG03100    MallickNature2016 Modern      0 present     ..\n",
      "11       HG03100.SG   HG03100            1KGPhase3 Modern      0 present     ..\n",
      "12       HG03100.DG   HG03100            1KGPhase3 Modern      0 present     ..\n",
      "13 A_Sardinian-4.DG HGDP00665     MeyerScience2012 Modern      0 present     ..\n",
      "14     HGDP00665.DG HGDP00665 BergstromScience2020 Modern      0 present     ..\n",
      "15     HGDP00877.DG HGDP00877 BergstromScience2020 Modern      0 present     ..\n",
      "16     HGDP00877.SG HGDP00877  RasmussenNature2014 Modern      0 present     ..\n",
      "17    A_Yoruba-4.DG HGDP00927     MeyerScience2012 Modern      0 present     ..\n",
      "18     HGDP00927.DG HGDP00927 BergstromScience2020 Modern      0 present     ..\n",
      "    countr latitu longit numlib covera  snps12 snpsHO sexsex      librar warnin\n",
      "1  Finland   60.2   24.9     ..     .. 1075340 555742      F          ..     ..\n",
      "2  Finland   60.2   24.9      1  38.85 1116699 582987      F S_Finnish-1     ..\n",
      "3  Finland   60.2   24.9     ..     ..  858563 430611      F          ..     ..\n",
      "4  Finland   60.2   24.9     ..     .. 1045044 539866      M          ..     ..\n",
      "5  Finland   60.2   24.9      1  35.22 1119067 584142      M S_Finnish-2     ..\n",
      "6  Finland   60.2   24.9     ..     ..  858549 430608      M          ..     ..\n",
      "7  Nigeria    6.5      6      1  41.38 1117892 583655      F    S_Esan-2     ..\n",
      "8  Nigeria    6.5      6     ..     .. 1146952 591664      F          ..     ..\n",
      "9  Nigeria    6.5      6     ..     ..  858302 430528      F          ..     ..\n",
      "10 Nigeria    6.5      6      1  35.59 1118600 583935      M    S_Esan-1     ..\n",
      "11 Nigeria    6.5      6     ..     .. 1146770 591597      M          ..     ..\n",
      "12 Nigeria    6.5      6     ..     ..  858349 430535      M          ..     ..\n",
      "13   Italy     40      9      4  24.68 1150298 593109      M          ..     ..\n",
      "14   Italy     40      9     ..     .. 1127717 582677      M          ..     ..\n",
      "15  Mexico     19    -91     ..     .. 1137814 587602      M          ..     ..\n",
      "16  Mexico     19    -91     .. 12.022 1147174 592288      M          ..     ..\n",
      "17 Nigeria    7.4    3.9      4  32.12 1150143 593097      M          ..     ..\n",
      "18 Nigeria    7.4    3.9     ..     .. 1136584 587235      M          ..     ..\n",
      "   datme2 locloc nonloc\n",
      "1  Modern      1      2\n",
      "2  Modern      1      2\n",
      "3  Modern      1      2\n",
      "4  Modern      1      2\n",
      "5  Modern      1      2\n",
      "6  Modern      1      2\n",
      "7  Modern      1      2\n",
      "8  Modern      1      2\n",
      "9  Modern      1      2\n",
      "10 Modern      1      2\n",
      "11 Modern      1      2\n",
      "12 Modern      1      2\n",
      "13 Modern      1      1\n",
      "14 Modern      1      1\n",
      "15 Modern      1      1\n",
      "16 Modern      1      1\n",
      "17 Modern      1      1\n",
      "18 Modern      1      1\n"
     ]
    }
   ],
   "source": [
    "%%R\n",
    "\n",
    "metadata %>%\n",
    "    mutate(locloc = ifelse(longit == \"..\", \"nonloc\", \"locloc\")) %>% \n",
    "    mutate(nn = 1) %>%\n",
    "    spread(locloc, nn, fill = 0) %>%\n",
    "    mutate(longit = ifelse(longit == \"..\", -1000, longit),\n",
    "           latitu = ifelse(latitu == \"..\", -1000, latitu)) %>%\n",
    "    group_by(master) %>%\n",
    "    mutate(nonloc = sum(nonloc), locloc = sum(locloc)) %>%\n",
    "    mutate(longit = ifelse(nonloc > 0 & locloc > 0, max(longit), longit),\n",
    "           latitu = ifelse(nonloc > 0 & locloc > 0, max(latitu), latitu)) %>%\n",
    "    ungroup() %>%\n",
    "    mutate(longit = ifelse(longit == -1000, \"..\", longit),\n",
    "           latitu = ifelse(latitu == -1000, \"..\", latitu)) -> metadata\n",
    "\n",
    "metadata %>%\n",
    "    filter(nonloc > 0 & locloc > 0) %>%\n",
    "    arrange(master) %>%\n",
    "    as.data.frame() %>%\n",
    "    select(-c(fosele, yearpu, foscod, datstd, agdead, grouid, pulldo, family, haply1, haply2, covemt, haplmt, matcmt, damage, sexrat, libtyp, assess, source)) "
   ]
  },
  {
   "cell_type": "code",
   "execution_count": 15,
   "id": "22237446-7db9-49ac-9aad-fa9d257f992f",
   "metadata": {},
   "outputs": [],
   "source": [
    "%%R\n",
    "\n",
    "metadata %>%\n",
    "    select(-c(locloc, nonloc)) -> metadata"
   ]
  },
  {
   "cell_type": "markdown",
   "id": "f3f1f183-43a5-405b-888a-49eded3635d4",
   "metadata": {},
   "source": [
    "With the remaining samples, I check from which publication do they come from"
   ]
  },
  {
   "cell_type": "code",
   "execution_count": 16,
   "id": "0ad7fef7-9d97-4626-ac8f-0e983121ddfe",
   "metadata": {},
   "outputs": [
    {
     "name": "stdout",
     "output_type": "stream",
     "text": [
      "                                               public    n   nn  perc\n",
      "1                   GnecchiRusconeScienceAdvances2021    1 1776  0.06\n",
      "2                                 HajdinjakNature2018    1 1776  0.06\n",
      "3                                  KumarFuScience2022    1 1776  0.06\n",
      "4                    LamnidisNatureCommunications2018    1 1776  0.06\n",
      "5                                   MafessoniPNAS2020    1 1776  0.06\n",
      "6                                   MallickNature2016    1 1776  0.06\n",
      "7                                      Not__published    1 1776  0.06\n",
      "8                                 PattersonNature2021    1 1776  0.06\n",
      "9                                     ReferenceGenome    1 1776  0.06\n",
      "10                               BergstromScience2020    2 1776  0.11\n",
      "11                           FernandesSirakNature2020    2 1776  0.11\n",
      "12 FregelPNAS2018__(merge.of.two.published.samplesfro    2 1776  0.11\n",
      "13                                             Genome    3 1776  0.17\n",
      "14                     NarasimhanPattersonScience2019    3 1776  0.17\n",
      "15                                 RaghavanNature2014    4 1776  0.23\n",
      "16                             NagelePosthScience2020    5 1776  0.28\n",
      "17                                    BongersPNAS2020    6 1776  0.34\n",
      "18                                      JeongPNAS2016    8 1776  0.45\n",
      "19                                RaghavanScience2015    8 1776  0.45\n",
      "20                                     FregelPNAS2018   10 1776  0.56\n",
      "21                               GretzingerNature2022   10 1776  0.56\n",
      "22                               AgranatTamirCell2020   21 1776  1.18\n",
      "23                                DamgaardScience2018   41 1776  2.31\n",
      "24                           MondalNatureGenetics2016   70 1776  3.94\n",
      "25                                          1KGPhase3 1572 1776 88.51\n"
     ]
    }
   ],
   "source": [
    "%%R\n",
    "\n",
    "metadata %>%\n",
    "    filter(latitu == \"..\") %>%\n",
    "    count(public) %>%\n",
    "    arrange(n) %>%\n",
    "    mutate(nn = sum(n),\n",
    "           perc = round(n*100/nn, 2),\n",
    "           public = substr(public, 0, 50)) %>%\n",
    "    as.data.frame()"
   ]
  },
  {
   "cell_type": "code",
   "execution_count": 17,
   "id": "b875a12c-1525-452c-b503-bdee743444e1",
   "metadata": {},
   "outputs": [
    {
     "name": "stdout",
     "output_type": "stream",
     "text": [
      "      indivi  master foscod fosele yearpu    public datmet datmea datstd\n",
      "1 NA20278.SG NA20278     ..     ..     .. 1KGPhase3 Modern      0      0\n",
      "2 NA19625.SG NA19625     ..     ..     .. 1KGPhase3 Modern      0      0\n",
      "3 NA19921.SG NA19921     ..     ..     .. 1KGPhase3 Modern      0      0\n",
      "4 NA20274.SG NA20274     ..     ..     .. 1KGPhase3 Modern      0      0\n",
      "5 NA20299.SG NA20299     ..     ..     .. 1KGPhase3 Modern      0      0\n",
      "6 NA20314.SG NA20314     ..     ..     .. 1KGPhase3 Modern      0      0\n",
      "   datful agdead                 grouid            locate countr latitu longit\n",
      "1 present     ..       ASW_oEuropean.SG African-Americans    USA     ..     ..\n",
      "2 present     .. ASW_oNativeAmerican.SG African-Americans    USA     ..     ..\n",
      "3 present     .. ASW_oNativeAmerican.SG African-Americans    USA     ..     ..\n",
      "4 present     .. ASW_oNativeAmerican.SG African-Americans    USA     ..     ..\n",
      "5 present     .. ASW_oNativeAmerican.SG African-Americans    USA     ..     ..\n",
      "6 present     .. ASW_oNativeAmerican.SG African-Americans    USA     ..     ..\n",
      "                                     pulldo  source numlib covera  snps12\n",
      "1 1240K__pulldown__padded__to__3.2M__snpset Shotgun     ..     .. 1100064\n",
      "2 1240K__pulldown__padded__to__3.2M__snpset Shotgun     ..     .. 1118643\n",
      "3 1240K__pulldown__padded__to__3.2M__snpset Shotgun     ..     .. 1140386\n",
      "4 1240K__pulldown__padded__to__3.2M__snpset Shotgun     ..     .. 1143050\n",
      "5 1240K__pulldown__padded__to__3.2M__snpset Shotgun     ..     .. 1122189\n",
      "6 1240K__pulldown__padded__to__3.2M__snpset Shotgun     ..     .. 1118982\n",
      "  snpsHO sexsex                         family        haply1        haply2\n",
      "1 568435      M n/a__(no__relatives__detected)            ..            ..\n",
      "2 579293      F n/a__(no__relatives__detected) n/a__(female) n/a__(female)\n",
      "3 589318      F n/a__(no__relatives__detected) n/a__(female) n/a__(female)\n",
      "4 590187      F n/a__(no__relatives__detected) n/a__(female) n/a__(female)\n",
      "5 579455      F n/a__(no__relatives__detected) n/a__(female) n/a__(female)\n",
      "6 577915      F n/a__(no__relatives__detected) n/a__(female) n/a__(female)\n",
      "  covemt haplmt matcmt damage sexrat libtyp librar assess warnin datme2\n",
      "1     ..     ..     ..     ..     ..     ..     ..   PASS     .. Modern\n",
      "2     ..     ..     ..     ..     ..     ..     ..   PASS     .. Modern\n",
      "3     ..     ..     ..     ..     ..     ..     ..   PASS     .. Modern\n",
      "4     ..     ..     ..     ..     ..     ..     ..   PASS     .. Modern\n",
      "5     ..     ..     ..     ..     ..     ..     ..   PASS     .. Modern\n",
      "6     ..     ..     ..     ..     ..     ..     ..   PASS     .. Modern\n"
     ]
    }
   ],
   "source": [
    "%%R\n",
    "\n",
    "metadata %>%\n",
    "    filter(latitu == \"..\",\n",
    "           public == \"1KGPhase3\") %>%\n",
    "    head() %>%\n",
    "    as.data.frame()"
   ]
  },
  {
   "cell_type": "markdown",
   "id": "3c691d4e-bc0b-4d01-9fc8-7b82775265f1",
   "metadata": {},
   "source": [
    "I can see that most of the samples without location information are actually from 1KGPhase3. I will try to get access to that information myself. \n",
    "\n",
    "In the IGSR portal (https://www.internationalgenome.org/data-portal/sample), I went to the data-portal and extracted information individuals and populations of 1KGPhase3. I can download them and transfer to the cluster."
   ]
  },
  {
   "cell_type": "code",
   "execution_count": 18,
   "id": "3a38f1de-4e42-4ed4-868d-c8663c4351f3",
   "metadata": {},
   "outputs": [
    {
     "name": "stdout",
     "output_type": "stream",
     "text": [
      "  Population.code Population.latitude Population.longitude Superpopulation.code\n",
      "1             FIN            60.17000              24.9300                  EUR\n",
      "2             CHS            23.13333             113.2667                  EAS\n",
      "3             KHV            10.78000             106.6800                  EAS\n",
      "4             BEB            23.70000              90.3500                  SAS\n",
      "5             PUR            18.40000             -66.1000                  AMR\n",
      "6             ACB            13.10000             -59.6200                  AFR\n"
     ]
    }
   ],
   "source": [
    "%%R\n",
    "\n",
    "read.csv(\"../../files/igsr_1KGPhase3_populations.tsv\", header = T, sep = \"\\t\") %>%\n",
    "    select(-c(Data.collections, Superpopulation.name, Superpopulation.display.colour, Population.description, Superpopulation.display.order, Population.name, Population.elastic.ID)) %>%\n",
    "    head()"
   ]
  },
  {
   "cell_type": "code",
   "execution_count": 19,
   "id": "3cdb9c87-d017-46e4-8ba0-d1a0c39624d6",
   "metadata": {},
   "outputs": [
    {
     "name": "stdout",
     "output_type": "stream",
     "text": [
      "  Sample.name    Sex Biosample.ID Population.code Population.name\n",
      "1     HG00271   male   SAME123417             FIN         Finnish\n",
      "2     HG00276 female   SAME123424             FIN         Finnish\n",
      "3     HG00288 female  SAME1839246             FIN         Finnish\n",
      "4     HG00290   male  SAME1839057             FIN         Finnish\n",
      "5     HG00308   male   SAME124161             FIN         Finnish\n",
      "6     HG00310   male   SAME124338             FIN         Finnish\n"
     ]
    }
   ],
   "source": [
    "%%R\n",
    "\n",
    "read.csv(\"../../files/igsr_1KGPhase3_samples.tsv\", header = T, sep = \"\\t\") %>%\n",
    "    select(-c(Data.collections, Superpopulation.code, Superpopulation.name, Population.elastic.ID)) %>%\n",
    "    head()"
   ]
  },
  {
   "cell_type": "code",
   "execution_count": 20,
   "id": "9a247042-a6b2-49d7-a0f8-db70ec82c613",
   "metadata": {},
   "outputs": [
    {
     "name": "stdout",
     "output_type": "stream",
     "text": [
      "   master   lat   lon\n",
      "1 HG00271 60.17 24.93\n",
      "2 HG00276 60.17 24.93\n",
      "3 HG00288 60.17 24.93\n",
      "4 HG00290 60.17 24.93\n",
      "5 HG00308 60.17 24.93\n",
      "6 HG00310 60.17 24.93\n"
     ]
    }
   ],
   "source": [
    "%%R\n",
    "\n",
    "read.csv(\"../../files/igsr_1KGPhase3_populations.tsv\", header = T, sep = \"\\t\") %>%\n",
    "    select(pop = Population.code, lon = Population.longitude, lat = Population.latitude) %>%\n",
    "    right_join(read.csv(\"../../files/igsr_1KGPhase3_samples.tsv\", header = T, sep = \"\\t\") %>%\n",
    "                    select(master = Sample.name, pop = Population.code), by = c(\"pop\")) %>%\n",
    "    select(master, lat, lon) -> igsr_1KGPhase3_loc\n",
    "    \n",
    "head(igsr_1KGPhase3_loc)"
   ]
  },
  {
   "cell_type": "markdown",
   "id": "b52f359b-02f2-4ad8-b481-9746d00bd968",
   "metadata": {},
   "source": [
    "then, I can join this information with the AADR metadata."
   ]
  },
  {
   "cell_type": "code",
   "execution_count": 21,
   "id": "864724ce-d8c0-4064-be11-d27b1d0951fa",
   "metadata": {},
   "outputs": [],
   "source": [
    "%%R\n",
    "\n",
    "metadata %>%\n",
    "    left_join(igsr_1KGPhase3_loc, by = c(\"master\")) %>%\n",
    "    mutate(latitu = ifelse(latitu == \"..\" & !is.na(lat), lat, latitu),\n",
    "           longit = ifelse(longit == \"..\" & !is.na(lon), lon, longit)) -> metadata"
   ]
  },
  {
   "cell_type": "markdown",
   "id": "72e6bfe9-fac2-4f05-a4d5-a5678f533002",
   "metadata": {},
   "source": [
    "So, we can see that now we recovered the 1KGPhase3 samples, but 2"
   ]
  },
  {
   "cell_type": "code",
   "execution_count": 22,
   "id": "6897df9a-2a00-4c1c-8114-a0fa71f92f90",
   "metadata": {},
   "outputs": [
    {
     "name": "stdout",
     "output_type": "stream",
     "text": [
      "                                               public  n  nn  perc\n",
      "1                   GnecchiRusconeScienceAdvances2021  1 206  0.49\n",
      "2                                 HajdinjakNature2018  1 206  0.49\n",
      "3                                  KumarFuScience2022  1 206  0.49\n",
      "4                    LamnidisNatureCommunications2018  1 206  0.49\n",
      "5                                   MafessoniPNAS2020  1 206  0.49\n",
      "6                                   MallickNature2016  1 206  0.49\n",
      "7                                      Not__published  1 206  0.49\n",
      "8                                 PattersonNature2021  1 206  0.49\n",
      "9                                     ReferenceGenome  1 206  0.49\n",
      "10                                          1KGPhase3  2 206  0.97\n",
      "11                               BergstromScience2020  2 206  0.97\n",
      "12                           FernandesSirakNature2020  2 206  0.97\n",
      "13 FregelPNAS2018__(merge.of.two.published.samplesfro  2 206  0.97\n",
      "14                                             Genome  3 206  1.46\n",
      "15                     NarasimhanPattersonScience2019  3 206  1.46\n",
      "16                                 RaghavanNature2014  4 206  1.94\n",
      "17                             NagelePosthScience2020  5 206  2.43\n",
      "18                                    BongersPNAS2020  6 206  2.91\n",
      "19                                      JeongPNAS2016  8 206  3.88\n",
      "20                                RaghavanScience2015  8 206  3.88\n",
      "21                                     FregelPNAS2018 10 206  4.85\n",
      "22                               GretzingerNature2022 10 206  4.85\n",
      "23                               AgranatTamirCell2020 21 206 10.19\n",
      "24                                DamgaardScience2018 41 206 19.90\n",
      "25                           MondalNatureGenetics2016 70 206 33.98\n"
     ]
    }
   ],
   "source": [
    "%%R\n",
    "\n",
    "metadata %>%\n",
    "    filter(latitu == \"..\") %>%\n",
    "    count(public) %>%\n",
    "    arrange(n) %>%\n",
    "    mutate(nn = sum(n),\n",
    "           perc = round(n*100/nn, 2),\n",
    "           public = substr(public, 0, 50)) %>%\n",
    "    as.data.frame()"
   ]
  },
  {
   "cell_type": "markdown",
   "id": "fd5460b3-7771-440d-a8d8-36d90d6b6f22",
   "metadata": {},
   "source": [
    "And these are two Spanish samples which don't have the location information."
   ]
  },
  {
   "cell_type": "code",
   "execution_count": 23,
   "id": "f814e753-3a2f-444f-a1d0-e144d37df119",
   "metadata": {},
   "outputs": [
    {
     "name": "stdout",
     "output_type": "stream",
     "text": [
      "      indivi  master foscod fosele yearpu    public datmet datmea datstd\n",
      "1 HG01783.SG HG01783     ..     ..     .. 1KGPhase3 Modern      0      0\n",
      "2 HG01783.DG HG01783     ..     ..     .. 1KGPhase3 Modern      0      0\n",
      "   datful agdead grouid            locate countr latitu longit\n",
      "1 present     .. IBS.SG Castilla__y__Leon  Spain     ..     ..\n",
      "2 present     .. IBS.DG Castilla__y__Leon  Spain     ..     ..\n",
      "                                     pulldo          source numlib covera\n",
      "1 1240K__pulldown__padded__to__3.2M__snpset         Shotgun     ..     ..\n",
      "2 1240K__pulldown__padded__to__3.2M__snpset Shotgun.diploid     ..     ..\n",
      "   snps12 snpsHO sexsex                         family haply1 haply2 covemt\n",
      "1 1148732 592763      M n/a__(no__relatives__detected)     ..     ..     ..\n",
      "2  858511 430590      M n/a__(no__relatives__detected)     ..     ..     ..\n",
      "  haplmt matcmt damage sexrat libtyp librar\n",
      "1     ..     ..     ..     ..     ..     ..\n",
      "2     ..     ..     ..     ..     ..     ..\n",
      "                                                                          assess\n",
      "1                                                                           PASS\n",
      "2 PASS_MAYBE_REPLACE_IN_FUTURE_WITH_LESS_FILTERED_VERSION_WITH_MORE_SNPS_COVERED\n",
      "  warnin datme2 lat lon\n",
      "1     .. Modern  NA  NA\n",
      "2     .. Modern  NA  NA\n"
     ]
    }
   ],
   "source": [
    "%%R\n",
    "\n",
    "metadata %>%\n",
    "    filter(latitu == \"..\", public == \"1KGPhase3\") %>%\n",
    "    as.data.frame()"
   ]
  },
  {
   "cell_type": "code",
   "execution_count": 24,
   "id": "bb75cddb-8ffa-431e-a8c1-1010d71dd084",
   "metadata": {},
   "outputs": [
    {
     "name": "stdout",
     "output_type": "stream",
     "text": [
      "   master lat lon\n",
      "1 HG01783  NA  NA\n"
     ]
    }
   ],
   "source": [
    "%%R\n",
    "\n",
    "igsr_1KGPhase3_loc %>%\n",
    "    filter(is.na(lat))"
   ]
  },
  {
   "cell_type": "code",
   "execution_count": 25,
   "id": "de7f656f-b632-4992-933f-9f99803c5cfe",
   "metadata": {},
   "outputs": [
    {
     "name": "stdout",
     "output_type": "stream",
     "text": [
      " [1] Population.code                Population.elastic.ID         \n",
      " [3] Population.name                Population.description        \n",
      " [5] Population.latitude            Population.longitude          \n",
      " [7] Superpopulation.code           Superpopulation.name          \n",
      " [9] Superpopulation.display.colour Superpopulation.display.order \n",
      "[11] Data.collections              \n",
      "<0 rows> (or 0-length row.names)\n"
     ]
    }
   ],
   "source": [
    "%%R\n",
    "\n",
    "read.csv(\"../../files/igsr_1KGPhase3_populations.tsv\", header = T, sep = \"\\t\") %>%\n",
    "    filter(is.na(Population.latitude))"
   ]
  },
  {
   "cell_type": "code",
   "execution_count": 26,
   "id": "3c3aa2fc-c8a5-4751-b38d-e3edc973b606",
   "metadata": {},
   "outputs": [
    {
     "name": "stdout",
     "output_type": "stream",
     "text": [
      "  Sample.name  Sex Biosample.ID Population.code Population.name\n",
      "1     HG01783 male   SAME124427         IBS,MSL   Iberian,Mende\n",
      "  Superpopulation.code               Superpopulation.name Population.elastic.ID\n",
      "1              EUR,AFR European Ancestry,African Ancestry               IBS,MSL\n",
      "                                                                Data.collections\n",
      "1 1000 Genomes on GRCh38,1000 Genomes 30x on GRCh38,1000 Genomes phase 3 release\n"
     ]
    }
   ],
   "source": [
    "%%R\n",
    "\n",
    "read.csv(\"../../files/igsr_1KGPhase3_samples.tsv\", header = T, sep = \"\\t\") %>%\n",
    "    filter(Sample.name == \"HG01783\")"
   ]
  },
  {
   "cell_type": "markdown",
   "id": "82b52354-c9ca-413c-8554-880926ce030c",
   "metadata": {},
   "source": [
    "This is because the individual seems to have annotated two ancestries and thus, is admixed. We can drop this sample.\n",
    "\n",
    "I finally drop all those samples for which I don't have info about the geographical coordinates"
   ]
  },
  {
   "cell_type": "code",
   "execution_count": 27,
   "id": "6a1ed8e8-cf12-40ac-b254-f25c1c65f6f5",
   "metadata": {},
   "outputs": [],
   "source": [
    "%%R\n",
    "\n",
    "metadata %>%\n",
    "    filter(latitu != \"..\") %>%\n",
    "    ungroup() -> metadata"
   ]
  },
  {
   "cell_type": "markdown",
   "id": "57ba2d87-edfc-4fd1-a7c3-c728a9a1b41b",
   "metadata": {},
   "source": [
    "## 3. Dating method, multiple samples per master and assessment filters\n",
    "\n",
    "How many samples belong to each method of dating category and from each, how many are repeated multiple times"
   ]
  },
  {
   "cell_type": "code",
   "execution_count": 28,
   "id": "f4930451-f58a-48b9-bc25-c65468916541",
   "metadata": {},
   "outputs": [
    {
     "name": "stdout",
     "output_type": "stream",
     "text": [
      "`summarise()` has grouped output by 'master'. You can override using the\n",
      "`.groups` argument.\n",
      "`summarise()` has grouped output by 'datme2'. You can override using the\n",
      "`.groups` argument.\n",
      "# A tibble: 12 × 6\n",
      "   datme2      n    nn   nnn  percin   perc\n",
      "   <chr>   <int> <int> <int>   <dbl>  <dbl>\n",
      " 1 Context     1  4517  4517  96.4   27.8  \n",
      " 2 Context     2    69   138   2.94   0.849\n",
      " 3 Context     3    11    33   0.704  0.203\n",
      " 4 Direct      1  4780  4780  90.2   29.4  \n",
      " 5 Direct      2   219   438   8.27   2.69 \n",
      " 6 Direct      3    20    60   1.13   0.369\n",
      " 7 Direct      4     4    16   0.302  0.098\n",
      " 8 Direct      5     1     5   0.094  0.031\n",
      " 9 Known       1     6     6 100      0.037\n",
      "10 Modern      1   958   958  15.3    5.89 \n",
      "11 Modern      2  2624  5248  83.8   32.3  \n",
      "12 Modern      3    20    60   0.958  0.369\n"
     ]
    }
   ],
   "source": [
    "%%R\n",
    "\n",
    "#legend:\n",
    "#   - n   : number of times an individual is repeated\n",
    "#   - nn  : number of master labels are repeated n times\n",
    "#   - nnn : number of rows correspond to each number of n repeated entries\n",
    "\n",
    "metadata %>% \n",
    "    group_by(master, datme2) %>%\n",
    "    summarize(n = n()) %>%\n",
    "    ungroup() %>%\n",
    "    group_by(datme2, n) %>%\n",
    "    summarize(nn = n()) %>%\n",
    "    mutate(nnn = n*nn) %>%\n",
    "    mutate(percin = round(nnn/sum(nnn)*100, 3)) %>%\n",
    "    ungroup() %>%\n",
    "    mutate(perc = round(nnn/sum(nnn)*100, 3))"
   ]
  },
  {
   "cell_type": "markdown",
   "id": "42ce3558-9e23-4646-9341-5f775ad6e03f",
   "metadata": {},
   "source": [
    "I can see that for: \n",
    "   + Context = \\~3% (\\~1% of the total)\n",
    "   + Direct = \\~10% (\\~3% of the total)\n",
    "   + Modern = \\~85% (\\~31% of the total)\n",
    "\n",
    "of samples are repeated more than once. This amounts to 35% of the total data set is composed of individuals repeated multiple times.\n",
    "\n",
    "There is another column which should be used for filtering the data: \"assess\". This is some sort of assessment done per sample which tells us if a sample should be included in analysis or not. Because my intention is to use these samples to learn dating and localizing, it is important that they are of good quality. "
   ]
  },
  {
   "cell_type": "code",
   "execution_count": 29,
   "id": "6e408c46-f2c4-47e4-a2c6-05e859b0cfcb",
   "metadata": {},
   "outputs": [
    {
     "name": "stdout",
     "output_type": "stream",
     "text": [
      "`summarise()` has grouped output by 'rep', 'assess'. You can override using the\n",
      "`.groups` argument.\n",
      "   rep                                   assess haspass    n  perc tothaspas\n",
      "1    5                                     PASS       0    5  0.03     80.67\n",
      "2    4                                     PASS       0   13  0.08     80.67\n",
      "3    3                                     PASS       0  120  0.74     80.67\n",
      "4    2                                     PASS       0 3225 19.84     80.67\n",
      "5    1                                     PASS       0 9752 59.98     80.67\n",
      "6    1                         PROVISIONAL_PASS       1    1  0.01     16.34\n",
      "7    2 PASS_make.damage.restricted.versions.to.       1    1  0.01     16.34\n",
      "8    3                 PROVISIONAL_PASS_ADDBACK       1    1  0.01     16.34\n",
      "9    4 PASS_WHY_COV_LESS_THAN_UDG_FULLY_TREATED       1    1  0.01     16.34\n",
      "10   1                 PROVISIONAL_PASS_ADDBACK       1    2  0.01     16.34\n",
      "11   2                               MERGE_PASS       1    2  0.01     16.34\n",
      "12   2                         PROVISIONAL_PASS       1    2  0.01     16.34\n",
      "13   3 PASS_WHY_COV_LESS_THAN_UDG_FULLY_TREATED       1    2  0.01     16.34\n",
      "14   2                 PROVISIONAL_PASS_ADDBACK       1    9  0.06     16.34\n",
      "15   1 PASS_make.damage.restricted.versions.to.       1   10  0.06     16.34\n",
      "16   1 PASS_this.group.of.samples.has.systemati       1   11  0.07     16.34\n",
      "17   1                           PASS_PUBLISHED       1   18  0.11     16.34\n",
      "18   3 PASS_MAYBE_REPLACE_IN_FUTURE_WITH_LESS_F       1   20  0.12     16.34\n",
      "19   2 PASS_WHY_COV_LESS_THAN_UDG_FULLY_TREATED       1   24  0.15     16.34\n",
      "20   1 PASS_WHY_COV_LESS_THAN_UDG_FULLY_TREATED       1   26  0.16     16.34\n",
      "21   1 PASS(guessed.this.contains.shotgun.check       1   43  0.26     16.34\n",
      "22   2 PASS_MAYBE_REPLACE_IN_FUTURE_WITH_LESS_F       1 2482 15.27     16.34\n",
      "23   1                                   IGNORE       2    1  0.01      3.04\n",
      "24   1         PROVISIONAL_QUESTIONABLE_ADDBACK       2    1  0.01      3.04\n",
      "25   1                   QUESTIONABLE_PUBLISHED       2    1  0.01      3.04\n",
      "26   1 QUESTIONABLE_WHY_COV_LESS_THAN_UDG_FULLY       2    1  0.01      3.04\n",
      "27   2 QUESTIONABLE_CRITICAL_WHY_COV_LESS_THAN_       2    1  0.01      3.04\n",
      "28   2 QUESTIONABLE_WHY_COV_LESS_THAN_UDG_FULLY       2    1  0.01      3.04\n",
      "29   3 QUESTIONABLE_CRITICAL_WHY_COV_LESS_THAN_       2    1  0.01      3.04\n",
      "30   4                             QUESTIONABLE       2    1  0.01      3.04\n",
      "31   4 QUESTIONABLE_WHY_COV_LESS_THAN_UDG_FULLY       2    1  0.01      3.04\n",
      "32   2         PROVISIONAL_QUESTIONABLE_ADDBACK       2    2  0.01      3.04\n",
      "33   3                    QUESTIONABLE_CRITICAL       2    3  0.02      3.04\n",
      "34   3                             QUESTIONABLE       2    6  0.04      3.04\n",
      "35   1                           QUESTIONABLE__       2    7  0.04      3.04\n",
      "36   2                             QUESTIONABLE       2   31  0.19      3.04\n",
      "37   2                    QUESTIONABLE_CRITICAL       2   44  0.27      3.04\n",
      "38   1                    QUESTIONABLE_CRITICAL       2  141  0.87      3.04\n",
      "39   1                             QUESTIONABLE       2  246  1.51      3.04\n"
     ]
    }
   ],
   "source": [
    "%%R\n",
    "\n",
    "metadata %>% \n",
    "    group_by(master) %>%\n",
    "    mutate(rep = n()) %>%\n",
    "    ungroup() %>%\n",
    "    mutate(haspass = ifelse(str_detect(assess, \"PASS\"), 1, 2)) %>%\n",
    "    mutate(haspass = ifelse(assess == \"PASS\", 0, haspass)) %>%\n",
    "    group_by(rep, assess, haspass) %>%\n",
    "    summarize(n = n()) %>%\n",
    "    ungroup() %>%\n",
    "    mutate(perc = round(100*n/sum(n), 2)) %>%\n",
    "    arrange(haspass, n) %>%\n",
    "    mutate(assess = substr(assess, 0, 40)) %>%\n",
    "    group_by(haspass) %>%\n",
    "    mutate(tothaspas = sum(perc)) %>%\n",
    "    ungroup() %>%\n",
    "    as.data.frame() %>%\n",
    "    print()"
   ]
  },
  {
   "cell_type": "markdown",
   "id": "f97a6950-8b70-4fdb-bdc9-fcf3339f1019",
   "metadata": {},
   "source": [
    "A big proportion of the data is flagged with the assessment PASS (80%) which is good. A big proportion of those are composed of samples that are repeated (25%) but most of those will be recovered. \n",
    "\n",
    "16% of the data has the flag PASS with some other annotation. >90% of those have the flag \"PASS_MAYBE_REPLACE_IN_FUTURE_WITH_LESS_FILTERED_VERSION_WITH_MORE_SNPS_COVERED\". The rest look ok, and since most of them are repeated multiple times, there is a good chance that the repeated version will have a PASS flag. So, I'll include those samples as well. \n",
    "\n",
    "Only a 3% of samples have a undesirable assessment flag. These are going to be dropped. "
   ]
  },
  {
   "cell_type": "code",
   "execution_count": 30,
   "id": "5d3f4210-56cb-491a-ad0a-b3950e243759",
   "metadata": {},
   "outputs": [
    {
     "name": "stdout",
     "output_type": "stream",
     "text": [
      "`summarise()` has grouped output by 'datme2'. You can override using the\n",
      "`.groups` argument.\n",
      "# A tibble: 9 × 6\n",
      "  datme2  asses2       n percdatme2 percasses2    perc\n",
      "  <chr>   <chr>    <int>      <dbl>      <dbl>   <dbl>\n",
      "1 Context FAIL       250      5.33     51.1     1.54  \n",
      "2 Context PASS      4399     93.8      33.5    27.1   \n",
      "3 Context semiPASS    39      0.832     1.47    0.240 \n",
      "4 Direct  FAIL       239      4.51     48.9     1.47  \n",
      "5 Direct  PASS      4946     93.3      37.7    30.4   \n",
      "6 Direct  semiPASS   114      2.15      4.29    0.701 \n",
      "7 Known   PASS         6    100         0.0457  0.0369\n",
      "8 Modern  PASS      3764     60.1      28.7    23.2   \n",
      "9 Modern  semiPASS  2502     39.9      94.2    15.4   \n"
     ]
    }
   ],
   "source": [
    "%%R\n",
    "\n",
    "metadata %>% \n",
    "    mutate(asses2 = ifelse(str_detect(assess, \"PASS\"), \"semiPASS\", \"FAIL\")) %>%\n",
    "    mutate(asses2 = ifelse(assess == \"PASS\", \"PASS\", asses2)) %>%\n",
    "    group_by(datme2, asses2) %>%\n",
    "    summarize(n = n()) %>%\n",
    "    ungroup() %>%\n",
    "    group_by(datme2) %>%\n",
    "    mutate(percdatme2 = n/sum(n)*100) %>%\n",
    "    ungroup() %>%\n",
    "    group_by(asses2) %>%\n",
    "    mutate(percasses2 = n/sum(n)*100) %>%\n",
    "    ungroup() %>%\n",
    "    mutate(perc = n/sum(n)*100)"
   ]
  },
  {
   "cell_type": "markdown",
   "id": "90db0b48-e3cc-4f00-8821-f51de5511600",
   "metadata": {},
   "source": [
    "Looking at the percentage of the data that belongs to each assessment category, it seems that all the FAIL flags belong to samples dated by Context and Directly dated (50-50). Moreover, the semiPASS, which are flags with the code \"PASS\" with some other annotation, almost all belong to the modern data. For the PASS samples, they are equally divided between Context, Direct and Modern. \n",
    "\n",
    "Looking at the percentage of data that belong to each dating method category, we can see that most of the Context and Direct have passed (>93%). For the Modern is 2/3 pass and 1/3 in semi passed.\n",
    "\n",
    "Now, I'll check between the dating method the assessment and the number of times the the sample is repeated. "
   ]
  },
  {
   "cell_type": "code",
   "execution_count": 31,
   "id": "8fa12a82-0280-44e9-862e-ed93bc8d25ee",
   "metadata": {},
   "outputs": [
    {
     "name": "stdout",
     "output_type": "stream",
     "text": [
      "`summarise()` has grouped output by 'master', 'asses2'. You can override using\n",
      "the `.groups` argument.\n",
      "`summarise()` has grouped output by 'datme2', 'asses2'. You can override using\n",
      "the `.groups` argument.\n",
      "# A tibble: 17 × 6\n",
      "# Groups:   datme2, asses2 [7]\n",
      "   datme2  asses2     n    nn   nnn    perc\n",
      "   <chr>   <lgl>  <int> <int> <int>   <dbl>\n",
      " 1 Context FALSE      1   285   285  98.6  \n",
      " 2 Context FALSE      2     2     4   1.38 \n",
      " 3 Context TRUE       1  4290  4290  97.5  \n",
      " 4 Context TRUE       2    44    88   2    \n",
      " 5 Context TRUE       3     7    21   0.477\n",
      " 6 Direct  FALSE      1   324   324  91.8  \n",
      " 7 Direct  FALSE      2    13    26   7.36 \n",
      " 8 Direct  FALSE      3     1     3   0.85 \n",
      " 9 Direct  TRUE       1  4587  4587  92.7  \n",
      "10 Direct  TRUE       2   152   304   6.15 \n",
      "11 Direct  TRUE       3    14    42   0.849\n",
      "12 Direct  TRUE       4     2     8   0.162\n",
      "13 Direct  TRUE       5     1     5   0.101\n",
      "14 Known   TRUE       1     6     6 100    \n",
      "15 Modern  FALSE      1  2502  2502 100    \n",
      "16 Modern  TRUE       1  3440  3440  91.4  \n",
      "17 Modern  TRUE       2   162   324   8.61 \n"
     ]
    }
   ],
   "source": [
    "%%R\n",
    "\n",
    "#legend:\n",
    "#   - n   : number of times an individual is repeated\n",
    "#   - nn  : number of master labels are repeated n times\n",
    "#   - nnn : number of rows correspond to each number of n repeated entries\n",
    "\n",
    "metadata %>% \n",
    "    mutate(asses2 = ifelse(assess == \"PASS\", TRUE, FALSE)) %>%\n",
    "    group_by(master, asses2, datme2) %>%\n",
    "    summarize(n = n()) %>%\n",
    "    ungroup() %>%\n",
    "    group_by(datme2, asses2, n) %>%\n",
    "    summarize(nn = n()) %>%\n",
    "    mutate(nnn = n*nn) %>%\n",
    "    mutate(perc = round(nnn/sum(nnn)*100, 3))"
   ]
  },
  {
   "cell_type": "code",
   "execution_count": 32,
   "id": "8bf0488d-cd95-439d-81ba-d919814b7db5",
   "metadata": {},
   "outputs": [
    {
     "name": "stdout",
     "output_type": "stream",
     "text": [
      "`summarise()` has grouped output by 'master', 'datme2'. You can override using\n",
      "the `.groups` argument.\n",
      "`summarise()` has grouped output by 'datme2', 'FAIL', 'PASS', 'semiPASS'. You\n",
      "can override using the `.groups` argument.\n",
      "    datme2 FAIL PASS semiPASS TOTAL    n\n",
      "1  Context    0    0        1     1   29\n",
      "2  Context    0    1        0     1 4263\n",
      "3  Context    1    0        0     1  225\n",
      "4  Context    0    1        1     2    8\n",
      "5  Context    0    2        0     2   40\n",
      "6  Context    1    0        1     2    1\n",
      "7  Context    1    1        0     2   19\n",
      "8  Context    2    0        0     2    1\n",
      "9  Context    0    2        1     3    1\n",
      "10 Context    0    3        0     3    7\n",
      "11 Context    1    2        0     3    3\n",
      "12  Direct    0    0        1     1   82\n",
      "13  Direct    0    1        0     1 4525\n",
      "14  Direct    1    0        0     1  173\n",
      "15  Direct    0    0        2     2    2\n",
      "16  Direct    0    1        1     2   25\n",
      "17  Direct    0    2        0     2  145\n",
      "18  Direct    1    1        0     2   37\n",
      "19  Direct    2    0        0     2   10\n",
      "20  Direct    0    2        1     3    2\n",
      "21  Direct    0    3        0     3   13\n",
      "22  Direct    1    2        0     3    4\n",
      "23  Direct    3    0        0     3    1\n",
      "24  Direct    0    3        1     4    1\n",
      "25  Direct    0    4        0     4    2\n",
      "26  Direct    2    2        0     4    1\n",
      "27  Direct    0    5        0     5    1\n",
      "28   Known    0    1        0     1    6\n",
      "29  Modern    0    1        0     1  958\n",
      "30  Modern    0    1        1     2 2482\n",
      "31  Modern    0    2        0     2  142\n",
      "32  Modern    0    2        1     3   20\n"
     ]
    }
   ],
   "source": [
    "%%R\n",
    "\n",
    "#legend:\n",
    "#   - n   : number of times an individual is repeated\n",
    "#   - nn  : number of master labels are repeated n times\n",
    "#   - nnn : number of rows correspond to each number of n repeated entries\n",
    "\n",
    "metadata %>% \n",
    "    mutate(asses2 = ifelse(str_detect(assess, \"PASS\"), \"semiPASS\", \"FAIL\")) %>%\n",
    "    mutate(asses2 = ifelse(assess == \"PASS\", \"PASS\", asses2)) %>%\n",
    "    select(master, datme2, asses2) %>%\n",
    "    group_by(master, datme2, asses2) %>%\n",
    "    summarize(n = n()) %>%\n",
    "    spread(asses2, n, fill = 0) %>%\n",
    "    mutate(TOTAL = FAIL+PASS+semiPASS) %>%\n",
    "    ungroup() %>%\n",
    "    group_by(datme2, FAIL, PASS, semiPASS, TOTAL) %>%\n",
    "    summarize(n = n()) %>%\n",
    "    arrange(datme2, TOTAL) %>%\n",
    "    as.data.frame()"
   ]
  },
  {
   "cell_type": "code",
   "execution_count": 33,
   "id": "2065a240-585e-4f6a-8a79-de9375c9c14e",
   "metadata": {},
   "outputs": [
    {
     "name": "stdout",
     "output_type": "stream",
     "text": [
      " [1] indivi master fosele yearpu public datmet datmea datstd grouid locate\n",
      "[11] countr latitu longit pulldo source numlib covera snps12 snpsHO sexsex\n",
      "[21] haply1 haply2 covemt haplmt matcmt damage sexrat libtyp librar assess\n",
      "[31] warnin datme2 lat    lon   \n",
      "<0 rows> (or 0-length row.names)\n"
     ]
    }
   ],
   "source": [
    "%%R\n",
    "\n",
    "metadata %>%\n",
    "    filter(datme2 == \"Others\") %>%\n",
    "    as.data.frame() %>%\n",
    "    select(-c(foscod, datful, agdead, family))"
   ]
  },
  {
   "cell_type": "code",
   "execution_count": 34,
   "id": "714c57fe-938b-42f9-a064-b2c046a9f528",
   "metadata": {},
   "outputs": [
    {
     "name": "stdout",
     "output_type": "stream",
     "text": [
      "# A tibble: 2 × 32\n",
      "  indivi   master fosele yearpu datmea datstd grouid locate countr latitu longit\n",
      "  <chr>    <chr>  <chr>  <chr>   <int>  <int> <chr>  <chr>  <chr>  <chr>  <chr> \n",
      "1 I1877_n… I1877  petro… 2017     7567     39 Hunga… Alson… Hunga… 46.20… 18.70…\n",
      "2 I1877_v… I1877  petro… 2017     7567     39 Hunga… Alson… Hunga… 46.20… 18.70…\n",
      "# … with 21 more variables: pulldo <chr>, source <chr>, numlib <chr>,\n",
      "#   covera <chr>, snps12 <int>, snpsHO <int>, sexsex <chr>, haply1 <chr>,\n",
      "#   haply2 <chr>, covemt <chr>, haplmt <chr>, matcmt <chr>, damage <chr>,\n",
      "#   sexrat <chr>, libtyp <chr>, librar <chr>, assess <chr>, warnin <chr>,\n",
      "#   datme2 <chr>, lat <dbl>, lon <dbl>\n"
     ]
    }
   ],
   "source": [
    "%%R\n",
    "\n",
    "metadata %>%\n",
    "    filter(master == \"I1877\") %>%\n",
    "    select(-c(foscod, public, datmet, datful, agdead, family))"
   ]
  },
  {
   "cell_type": "markdown",
   "id": "eeb35978-75bf-4a69-9859-48dc7aac13a5",
   "metadata": {},
   "source": [
    "I will do the following filter:\n",
    "    1. Remove samples that have a FAIL assessment\n",
    "    2. If a master sample has UDG treated samples, keep those and drop the noUDG treated samples. Otherwise, keep the noUDG treated.\n",
    "    3. If there are samples that are not SG (single read genotyping), keep those, otherwise, keep the SG.\n",
    "    4. If there are still multiple samples for a given master sample, keep the sample with higher number of 1240K SNPs genotyped"
   ]
  },
  {
   "cell_type": "code",
   "execution_count": 35,
   "id": "a1d1a4cb-25ab-4f1e-928b-cfdca954763f",
   "metadata": {},
   "outputs": [
    {
     "name": "stdout",
     "output_type": "stream",
     "text": [
      "                 indivi   master                    foscod            fosele\n",
      "1  s19_0LS03_1_noUDG.SG    0LS03       TÜ__1977:__matus__9    tooth__(molar)\n",
      "2  s19_0LS09_1_noUDG.SG    0LS09 AI__6009:__L180,__Cist__1 tooth__(premolar)\n",
      "3  s19_0LS10_1_noUDG.SG    0LS10           TÜ__1325:__L777 tooth__(premolar)\n",
      "4  s19_0LS11_1_noUDG.SG    0LS11       AI__5306:__kogum__1 tooth__(premolar)\n",
      "5             11KBM1.SG   11KBM1                    11KBM1             Tooth\n",
      "6     18R21262_noUDG.EC 18R21262                  18R21262              bone\n",
      "7     18R21265_noUDG.EC 18R21265                  18R21265   bone__(cranial)\n",
      "8        19651_noUDG.SG    19651                     19651                ..\n",
      "9               1H04.SG     1H04          1H04_Ages_2_7162             tooth\n",
      "10              1H06.SG     1H06          1H06_Ages_2_7163             tooth\n",
      "   yearpu                   public\n",
      "1    2019   SaagCurrentBiology2019\n",
      "2    2019   SaagCurrentBiology2019\n",
      "3    2019   SaagCurrentBiology2019\n",
      "4    2019   SaagCurrentBiology2019\n",
      "5    2021          ZhangNature2021\n",
      "6    2021           WangNature2021\n",
      "7    2021           WangNature2021\n",
      "8    2018   MorenoMayarScience2018\n",
      "9    2021 SeguinOrlandoCurrBio2021\n",
      "10   2021 SeguinOrlandoCurrBio2021\n",
      "                                                           datmet datmea datstd\n",
      "1                             Context:__Archaeological__-__Period    740     17\n",
      "2                                               Direct:__IntCal20   2389     52\n",
      "3                                               Direct:__IntCal20   2609     82\n",
      "4                                               Direct:__IntCal20   2918     47\n",
      "5  Direct:__IntCal20__(R_Combine)__(WARNING:__Missing__lab__code)   3693     57\n",
      "6                             Context:__Archaeological__-__Period   5050    173\n",
      "7                             Context:__Archaeological__-__Period   5050    173\n",
      "8                                               Direct:__IntCal20   5666     53\n",
      "9                                  Direct:__IntCal20,,__R_combine   4851     10\n",
      "10                                              Direct:__IntCal20   5115    104\n",
      "                                                                                                                             datful\n",
      "1                                                                                                                     1180-1240__CE\n",
      "2                                                                                      539-386__calBCE__(2361±29__BP,__SUERC-44060)\n",
      "3                                                                                        800-540__calBCE__(2530±41__BP,__UBA-26114)\n",
      "4                                                                                       1103-845__calBCE__(2815±33__BP,__Hela-2361)\n",
      "5                                      1874-1641__calBCE__(3434±20__BP)__[R_combine:__(3440±30__BP,,__Beta,,__(3430±25__BP,,__LZU)]\n",
      "6                                                                                                                    3400-2800__BCE\n",
      "7                                                                                                                    3400-2800__BCE\n",
      "8  3796-3641__calBCE__(4940±40__BP)__[R_combine:__(5110±40__BP,__CMC-1635,__Beta-194927),,__(4690±40__BP,__CMC-1666,__Beta-202619)]\n",
      "9                        2917-2887__calBCE__(4293±16__BP)__[R_combine:__(4345±25__BP,__UCAIMS-229428),,__(4260±20,__UCAIMS-229429)]\n",
      "10                                                                                 3330-3018__calBCE__(4450±20__BP,__UCAIMS-229430)\n",
      "   agdead                               grouid\n",
      "1      ..                  Estonia_Medieval.SG\n",
      "2      ..                     Estonia_IA_lc.SG\n",
      "3      ..                        Estonia_IA.SG\n",
      "4      ..                        Estonia_BA.SG\n",
      "5      ..  China_Xinjiang_Beifang_Xiaohe_BA.SG\n",
      "6      ..         China_Wuzhuangguoliang_LN.EC\n",
      "7      ..      China_Wuzhuangguoliang_LN_lc.EC\n",
      "8      ..              Canada_BigBar_5700BP.SG\n",
      "9      ..               France_MontAime_MLN.SG\n",
      "10     .. France_MontAime_MLN_daughter.2H11.SG\n",
      "                                                       locate  countr\n",
      "1                              Ida-Viru,__Kukruse,__burial__9 Estonia\n",
      "2                                        Harju,__Ilmandu__III Estonia\n",
      "3  Lääne-Viru,__Hiiemägi__at__Kunda,__tarand__III,__burial__9 Estonia\n",
      "4                               Harju,__Jõelähtme__34,__cist? Estonia\n",
      "5                                          Xinjiang,__Beifang   China\n",
      "6                                  Shaanxi,__Wuzhuangguoliang   China\n",
      "7                                  Shaanxi,__Wuzhuangguoliang   China\n",
      "8                                                   Northwest  Canada\n",
      "9                               Marne,__Mont-Aimé__hypogée__I  France\n",
      "10                              Marne,__Mont-Aimé__hypogée__I  France\n",
      "        latitu      longit                             pulldo        source\n",
      "1      59.3828     27.3639       Repulldown__on__3.2M__snpset       Shotgun\n",
      "2      59.4489     24.4831       Repulldown__on__3.2M__snpset       Shotgun\n",
      "3      59.4967     26.5479       Repulldown__on__3.2M__snpset       Shotgun\n",
      "4      59.4403     25.1349       Repulldown__on__3.2M__snpset       Shotgun\n",
      "5       38.359     81.7148 Native__Pulldown__on__3.2M__snpset       Shotgun\n",
      "6  37.82060368 109.0505931       Repulldown__on__3.2M__snpset Exome.capture\n",
      "7  37.82060368 109.0505931       Repulldown__on__3.2M__snpset Exome.capture\n",
      "8         51.3     -121.77       Repulldown__on__3.2M__snpset       Shotgun\n",
      "9    48.858874    3.996466       Repulldown__on__3.2M__snpset       Shotgun\n",
      "10   48.858874    3.996466       Repulldown__on__3.2M__snpset       Shotgun\n",
      "   numlib    covera snps12 snpsHO sexsex\n",
      "1      ..  0.059112  57560  30701      M\n",
      "2      ..  0.009124   8405   4575      F\n",
      "3      ..  0.265721 233933 123560      M\n",
      "4      ..  0.180211 164551  87886      M\n",
      "5      ..        .. 106797  59177      M\n",
      "6       1  0.090919  25884  12629      F\n",
      "7       1  0.023734  10765   5070      M\n",
      "8      ..  1.135977 681734 353622      F\n",
      "9       2 �0.470219 366132 192079      F\n",
      "10      2 �0.741099 502935 261387      F\n",
      "                                                                                          family\n",
      "1                                                                 n/a__(no__relatives__detected)\n",
      "2                                                                 n/a__(no__relatives__detected)\n",
      "3                                                                 n/a__(no__relatives__detected)\n",
      "4                                                                 n/a__(no__relatives__detected)\n",
      "5                                                                                             ..\n",
      "6                                                                 n/a__(no__relatives__detected)\n",
      "7                                                                 n/a__(no__relatives__detected)\n",
      "8                                                                 n/a__(no__relatives__detected)\n",
      "9                                                                 n/a__(no__relatives__detected)\n",
      "10 Marne,__Mont-Aim√©__hypog√©e__I__Family__A__(2__members)__(father-daughter:__2H11.SG-1H06.SG)\n",
      "          haply1              haply2  covemt   haplmt        matcmt damage\n",
      "1             ..                  ..      ..     U4d1            ..     ..\n",
      "2  n/a__(female)       n/a__(female)      ..    H6a1a            ..     ..\n",
      "3             ..                  ..      .. H13a1a1a            ..     ..\n",
      "4             ..                  ..      ..      H1c            ..     ..\n",
      "5             .. R1__(xR1a,__xR1b1a)      ..       C4            .. 0.1257\n",
      "6  n/a__(female)       n/a__(female)  594.76       A7 [0.995,0.999] 0.2709\n",
      "7             ..                  ..   20.68     F1g1 [0.946,0.982] 0.1084\n",
      "8  n/a__(female)       n/a__(female)      ..       A2            ..     ..\n",
      "9  n/a__(female)       n/a__(female)  657.66  K1a1b1g [0.958,0.976]     ..\n",
      "10 n/a__(female)       n/a__(female) 1317.31   U5a2b3 [0.996,0.972]     ..\n",
      "   sexrat          libtyp                                                librar\n",
      "1      ..        ds.minus                                                    ..\n",
      "2      ..        ds.minus                                                    ..\n",
      "3      ..        ds.minus                                                    ..\n",
      "4      ..        ds.minus                                                    ..\n",
      "5      ..        ds.minus                                                11KBM1\n",
      "6      ..        ds.minus                                        cap40-18R21262\n",
      "7      ..        ds.minus                                        cap06-18R21265\n",
      "8      ..        ds.minus                                                    ..\n",
      "9      .. ds.half,ds.half 1H04_Ages_2_7162_U_i56_lr28,1H04_Ages_2_7162_U_i7_lr7\n",
      "10     .. ds.half,ds.half   1H06_Ages_2_7163_U_i2_lr2,1H06_Ages_2_7163_U_i8_lr8\n",
      "   assess warnin  datme2 lat lon n asses3 FAIL PASS semiPASS UDGtr2 noUDG UDG\n",
      "1    PASS     .. Context  NA  NA 1   PASS    0    1        0  noUDG     1   0\n",
      "2    PASS     ..  Direct  NA  NA 1   PASS    0    1        0  noUDG     1   0\n",
      "3    PASS     ..  Direct  NA  NA 1   PASS    0    1        0  noUDG     1   0\n",
      "4    PASS     ..  Direct  NA  NA 1   PASS    0    1        0  noUDG     1   0\n",
      "5    PASS     ..  Direct  NA  NA 1   PASS    0    1        0    UDG     0   1\n",
      "6    PASS     .. Context  NA  NA 1   PASS    0    1        0  noUDG     1   0\n",
      "7    PASS     .. Context  NA  NA 1   PASS    0    1        0  noUDG     1   0\n",
      "8    PASS     ..  Direct  NA  NA 1   PASS    0    1        0  noUDG     1   0\n",
      "9    PASS     ..  Direct  NA  NA 1   PASS    0    1        0    UDG     0   1\n",
      "10   PASS     ..  Direct  NA  NA 1   PASS    0    1        0    UDG     0   1\n",
      "   SGDGNG2 DG NG SG\n",
      "1       SG  0  0  1\n",
      "2       SG  0  0  1\n",
      "3       SG  0  0  1\n",
      "4       SG  0  0  1\n",
      "5       SG  0  0  1\n",
      "6       NG  0  1  0\n",
      "7       NG  0  1  0\n",
      "8       SG  0  0  1\n",
      "9       SG  0  0  1\n",
      "10      SG  0  0  1\n"
     ]
    }
   ],
   "source": [
    "%%R\n",
    "\n",
    "metadata %>% \n",
    "    #1. MUTATE: Create a variable that counts how many samples each master sample has\n",
    "    group_by(master) %>% \n",
    "    mutate(n = n()) %>%\n",
    "    ungroup() %>%\n",
    "    \n",
    "    #2. MUTATE: Create 3 variables that has information about about how many FAIL, PASS and semiPASS samples with the same master ID the sample has\n",
    "    mutate(asses2 = ifelse(str_detect(assess, \"PASS\"), \"semiPASS\", \"FAIL\")) %>% \n",
    "    mutate(asses2 = ifelse(assess == \"PASS\", \"PASS\", asses2)) %>%\n",
    "    mutate(asses3 = asses2) %>%\n",
    "\n",
    "    mutate(nn = 1) %>%\n",
    "    spread(asses2, nn, fill = 0) %>%\n",
    "    group_by(master) %>%\n",
    "    mutate(FAIL = sum(FAIL), PASS = sum(PASS), semiPASS = sum(semiPASS)) %>%\n",
    "    ungroup() %>%\n",
    "    \n",
    "    #3. FILTER: Remove failed samples\n",
    "    filter(asses3 != \"FAIL\") %>%\n",
    "    \n",
    "    #4. MUTATE : Create a variable that has information about UDG treatment\n",
    "    mutate(UDGtre = ifelse(str_detect(indivi, \"noUDG\"), \"noUDG\", \"UDG\"),\n",
    "           UDGtr2 = UDGtre) %>%\n",
    "    mutate(nn = 1) %>%\n",
    "    spread(UDGtre, nn, fill = 0) %>%\n",
    "    group_by(master) %>%\n",
    "    mutate(noUDG = sum(noUDG), UDG = sum(UDG)) %>%\n",
    "    ungroup() %>%\n",
    "    \n",
    "    #5. FILTER: if master samples have UDG and noUDG treated samples, filter out noUDG treated ones\n",
    "    filter((UDG == 0 & UDGtr2 == \"noUDG\") | (UDG > 0 & UDGtr2 == \"UDG\")) %>%\n",
    "    \n",
    "    \n",
    "    #6. MUTATE : Create a variable that has information about SNP calling\n",
    "    #  SG=samples with whole genome shotgun sequence data, randomly drawing a single read to represent each position in the genome\n",
    "    #  DG=samples shotgun sequenced with high enough coverage to call diploid genotypes, allowing for heterozygous calls\n",
    "    mutate(SGDGNG = ifelse(str_detect(indivi, \"\\\\.DG\"), \"DG\", \n",
    "                          ifelse(str_detect(indivi, \"\\\\.SG\"), \"SG\", \"NG\")),\n",
    "           SGDGNG2 = SGDGNG) %>%\n",
    "    mutate(nn = 1) %>%\n",
    "    spread(SGDGNG, nn, fill = 0) %>%\n",
    "    group_by(master) %>%\n",
    "    mutate(DG = sum(DG), SG = sum(SG), NG = sum(NG)) %>%\n",
    "    ungroup() %>%\n",
    "    \n",
    "    #7. FILTER: if master samples have UDG and noUDG treated samples, filter out noUDG treated ones\n",
    "    filter((DG+NG == 0 & SGDGNG2 == \"SG\") | (DG+NG > 0 & SGDGNG2 != \"SG\")) %>%\n",
    "    \n",
    "    #8. FILTER : 1240K coverage\n",
    "    group_by(master) %>%\n",
    "    filter(snps12 == max(snps12)) %>%\n",
    "    ungroup() %>%\n",
    "       \n",
    "    #4. arrange and filter data\n",
    "    arrange(master) -> metadata_unique\n",
    "    \n",
    "metadata_unique %>%\n",
    "    as.data.frame() %>%\n",
    "    head(10)\n",
    "    "
   ]
  },
  {
   "cell_type": "markdown",
   "id": "366c6421-2ff5-4091-a7be-8561915d2120",
   "metadata": {},
   "source": [
    "There are no remaining master samples with multiple samples."
   ]
  },
  {
   "cell_type": "code",
   "execution_count": 36,
   "id": "bcc4652f-e6f1-4f59-a6b1-42dbe4a1cf06",
   "metadata": {},
   "outputs": [
    {
     "name": "stdout",
     "output_type": "stream",
     "text": [
      "# A tibble: 0 × 2\n",
      "# … with 2 variables: master <chr>, n <int>\n"
     ]
    }
   ],
   "source": [
    "%%R\n",
    "\n",
    "metadata_unique %>%\n",
    "    count(master) %>%\n",
    "    filter(n > 1)"
   ]
  },
  {
   "cell_type": "code",
   "execution_count": 37,
   "id": "b0958bf1-fe67-426b-95d1-aeaec91bdb13",
   "metadata": {},
   "outputs": [
    {
     "name": "stdout",
     "output_type": "stream",
     "text": [
      "../../files/v54.1_1240K_public_reformated.anno\n"
     ]
    }
   ],
   "source": [
    "%%bash\n",
    "\n",
    "ls ../../files/v54.1_1240K_public_reformated.anno"
   ]
  },
  {
   "cell_type": "markdown",
   "id": "ce5e22d2-00f4-41d1-aeb3-6347a42e2131",
   "metadata": {},
   "source": [
    "## 4. Write metadata"
   ]
  },
  {
   "cell_type": "code",
   "execution_count": 38,
   "id": "066a6737-c631-407b-9e97-4c0d459114ac",
   "metadata": {},
   "outputs": [],
   "source": [
    "%%R\n",
    "\n",
    "metadata_unique %>%\n",
    "    select(-c(lat, lon, n, asses3, FAIL, PASS, semiPASS, UDGtr2, noUDG, UDG, SGDGNG2, DG, NG, SG)) %>%\n",
    "    write.table(\"../../files/AADR_filtered_metadata.txt\", sep = \"\\t\", quote = FALSE, row.names = FALSE)"
   ]
  },
  {
   "cell_type": "markdown",
   "id": "406b09eb-a0c9-4815-a135-bd257dd5a78a",
   "metadata": {},
   "source": [
    "## 5. Summary Plots"
   ]
  },
  {
   "cell_type": "code",
   "execution_count": 39,
   "id": "1bbf11aa-2c92-4f97-9488-ae5c69dc9421",
   "metadata": {},
   "outputs": [
    {
     "data": {
      "image/png": "[encoded data removed]"
     },
     "metadata": {},
     "output_type": "display_data"
    }
   ],
   "source": [
    "%%R -w 750\n",
    "\n",
    "plot_grid(\n",
    "    metadata_unique %>% \n",
    "        select(master, datme2, datmea) %>%\n",
    "        distinct() %>%\n",
    "        ggplot() +\n",
    "        geom_histogram(aes(x = datmea), bins = 100) +\n",
    "        scale_y_log10(), \n",
    "    metadata_unique %>% \n",
    "        select(master, datme2, datmea) %>%\n",
    "        distinct() %>%\n",
    "        ggplot() +\n",
    "        geom_histogram(aes(x = datmea, fill = datme2), bins = 100, show.legend = F) +\n",
    "        geom_vline(data = . %>% group_by(datme2) %>% summarize(mean = mean(datmea)), \n",
    "                   aes(xintercept = mean, color = datme2), show.legend = F) +\n",
    "        geom_text(data = . %>% group_by(datme2) %>% summarize(mean = mean(datmea), n = n()) %>% mutate(perc = round(n*100/sum(n), 2)), \n",
    "                  aes(x = 30000, y = 1000, label = paste(round(mean, 2), \"\\n (\", n, \"-\", perc, \"%)\"), color = datme2), show.legend = F) +\n",
    "        coord_cartesian(xlim = c(0, 60000)) +\n",
    "        scale_y_log10() +\n",
    "        facet_wrap(.~datme2, nrow = 1), nrow = 2, align = \"v\")"
   ]
  },
  {
   "cell_type": "code",
   "execution_count": 40,
   "id": "0a594802-f605-4209-81fa-b199bf3ddaa9",
   "metadata": {},
   "outputs": [
    {
     "data": {
      "image/png": "[encoded data removed]"
     },
     "metadata": {},
     "output_type": "display_data"
    }
   ],
   "source": [
    "%%R -w 750\n",
    "\n",
    "plot_grid(\n",
    "    metadata_unique %>% \n",
    "        filter(datme2 != \"Modern\") %>%\n",
    "        arrange(datmea) %>%\n",
    "        mutate(nrow = 1:n()) %>%\n",
    "        ggplot() +\n",
    "        geom_segment(aes(x = datmea-(2*datstd), xend = datmea+(2*datstd), y = nrow, yend = nrow)) +\n",
    "        geom_point(aes(y = nrow, x = datmea, color = datme2)),\n",
    "\n",
    "    metadata_unique %>% \n",
    "        filter(datme2 != \"Modern\") %>%\n",
    "        arrange(datmea) %>%\n",
    "        mutate(nrow = 1:n()) %>%\n",
    "        ggplot() +\n",
    "        geom_segment(aes(x = datmea-(2*datstd), xend = datmea+(2*datstd), y = nrow, yend = nrow)) +\n",
    "        geom_point(aes(y = nrow, x = datmea, color = datme2)) +\n",
    "        scale_x_log10(),\n",
    "\n",
    "    nrow = 1)"
   ]
  },
  {
   "cell_type": "code",
   "execution_count": 41,
   "id": "6b82c22e-564d-4905-8ed9-f54098982528",
   "metadata": {},
   "outputs": [
    {
     "name": "stdout",
     "output_type": "stream",
     "text": [
      "    0%    25%    50%    75%   100% \n",
      "    60   1392   2850   4430 110450 \n"
     ]
    }
   ],
   "source": [
    "%%R\n",
    "\n",
    "metadata_unique %>%\n",
    "    filter(datme2 != \"Modern\") %>%\n",
    "    pull(datmea) %>%\n",
    "    quantile()"
   ]
  },
  {
   "cell_type": "code",
   "execution_count": null,
   "id": "4f059646-f143-449f-b82c-3b748d9bce99",
   "metadata": {},
   "outputs": [],
   "source": [
    "%%R -w 1500 -h 750\n",
    "\n",
    "map_plot <- function(mintim, maxtim, datmef){\n",
    "    metadata_unique %>% \n",
    "        filter(datmea >= mintim, datmea < maxtim, datme2 == datmef) %>%\n",
    "        mutate(latitu = as.numeric(as.character(latitu)),\n",
    "               longit = as.numeric(as.character(longit))) %>%\n",
    "        ggplot() +\n",
    "        geom_sf(data = ne_countries(scale = \"medium\", returnclass = \"sf\")) +\n",
    "        geom_point(aes(x = longit, y = latitu, color = datmea)) +\n",
    "        xlab(\"Longitude (º)\") +\n",
    "        ylab(\"Latitude (º)\") +\n",
    "        theme_bw()\n",
    "}\n",
    "\n",
    "plot_grid(map_plot(0, 1, \"Modern\"),  map_plot(60, 1392, \"Modern\"),  map_plot(1392, 2850, \"Modern\"),  map_plot(2850, 4430, \"Modern\"),  map_plot(4430, 120000, \"Modern\"),\n",
    "          map_plot(0, 1, \"Direct\"),  map_plot(60, 1392, \"Direct\"),  map_plot(1392, 2850, \"Direct\"),  map_plot(2850, 4430, \"Direct\"),  map_plot(4430, 120000, \"Direct\"),\n",
    "          map_plot(0, 1, \"Context\"), map_plot(60, 1392, \"Context\"), map_plot(1392, 2850, \"Context\"), map_plot(2850, 4430, \"Context\"), map_plot(4430, 120000, \"Context\"),\n",
    "         nrow = 3)"
   ]
  },
  {
   "cell_type": "code",
   "execution_count": null,
   "id": "eb316629-fcbb-4a23-a7ae-473b8143003f",
   "metadata": {},
   "outputs": [],
   "source": [
    "%%R\n",
    "\n",
    "map_plot(60, 1392, \"Direct\")\n"
   ]
  },
  {
   "cell_type": "code",
   "execution_count": null,
   "id": "93464cd7-3d2f-4501-a3ab-f986b730121d",
   "metadata": {},
   "outputs": [],
   "source": []
  }
 ],
 "metadata": {
  "kernelspec": {
   "display_name": "Python 3 (ipykernel)",
   "language": "python",
   "name": "python3"
  },
  "language_info": {
   "codemirror_mode": {
    "name": "ipython",
    "version": 3
   },
   "file_extension": ".py",
   "mimetype": "text/x-python",
   "name": "python",
   "nbconvert_exporter": "python",
   "pygments_lexer": "ipython3",
   "version": "3.9.7"
  }
 },
 "nbformat": 4,
 "nbformat_minor": 5
}
