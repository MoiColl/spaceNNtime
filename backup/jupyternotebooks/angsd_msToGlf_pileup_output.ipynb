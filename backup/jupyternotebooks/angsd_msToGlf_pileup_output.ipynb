{
 "cells": [
  {
   "cell_type": "markdown",
   "id": "1b78baa7-2d27-4835-a82b-a7b902a2fc6e",
   "metadata": {},
   "source": [
    "# ANGSD `msToGlf` pileup output\n",
    "\n",
    "In this notebook check the output from `angsd`'s `msToGlf` `pileup` output format.\n",
    "\n",
    "<a name=\"Home5\"></a>\n",
    "\n",
    "## Contents\n",
    "\n",
    "1. [ `ms` file ](#msf)\n",
    "2. [ `msToGlf` output ](#m2G)\n",
    "    - 2.1. [ depth 30 ](#m2G1)\n",
    "        + [ Questions ](#Q1)\n",
    "    - 2.2. [ depth 1 ](#m2G2)\n",
    "        + [ Questions ](#Q2)\n",
    "3. [ Calling Genotype Likelihoods with `angsd` ](#ang)\n",
    "    - [ Questions ](#Q3)   \n",
    "\n",
    "\n"
   ]
  },
  {
   "cell_type": "code",
   "execution_count": 17,
   "id": "055ae916-cd7e-49ce-928a-38153bd1374c",
   "metadata": {},
   "outputs": [],
   "source": [
    "#import sys\n",
    "#import pandas as pd\n",
    "#import numpy as np\n",
    "#import tskit\n",
    "#import msprime\n",
    "#import pyslim\n",
    "#import collections\n",
    "\n",
    "from rpy2.robjects import r, pandas2ri\n",
    "%load_ext rpy2.ipython\n",
    "pandas2ri.activate()"
   ]
  },
  {
   "cell_type": "code",
   "execution_count": 20,
   "id": "06f2cade-229e-4d5c-bdbf-6ab53d734d07",
   "metadata": {},
   "outputs": [
    {
     "name": "stderr",
     "output_type": "stream",
     "text": [
      "R[write to console]: ── Attaching packages ─────────────────────────────────────── tidyverse 1.3.1 ──\n",
      "\n",
      "R[write to console]: ✔ tibble  3.1.6     ✔ dplyr   1.0.7\n",
      "✔ tidyr   1.1.4     ✔ stringr 1.4.0\n",
      "✔ readr   2.1.1     ✔ forcats 0.5.1\n",
      "✔ purrr   0.3.4     \n",
      "\n",
      "R[write to console]: ── Conflicts ────────────────────────────────────────── tidyverse_conflicts() ──\n",
      "✖ dplyr::filter() masks stats::filter()\n",
      "✖ dplyr::lag()    masks stats::lag()\n",
      "\n"
     ]
    }
   ],
   "source": [
    "%%R\n",
    ".libPaths(c(\"/maps/projects/racimolab/people/qxz396/spaceNNtime/renv/library/R-4.1/x86_64-redhat-linux-gnu\", \"/tmp/Rtmp9Hi1cZ/renv-system-library\"))\n",
    "\n",
    "library(ggplot2)\n",
    "library(cowplot)\n",
    "library(tidyverse)"
   ]
  },
  {
   "cell_type": "markdown",
   "id": "e7c1e0fc-9c03-4fa7-aad6-3252b97b7417",
   "metadata": {},
   "source": [
    "[^up](#Home5) &nbsp;\n",
    "\n",
    "&nbsp;\n",
    "\n",
    "<a name=\"msf\"></a>\n",
    "## 1. `ms` file\n",
    "\n",
    "\n",
    "I created this `ms` file from a `treedata` structure generated with `SLiM` from which only 5 individuals (10 nodes) were sampled. As we can see, it has 280 segregating sites."
   ]
  },
  {
   "cell_type": "code",
   "execution_count": 1,
   "id": "256f136b-fb25-4349-bc86-f344a1afb650",
   "metadata": {},
   "outputs": [
    {
     "name": "stdout",
     "output_type": "stream",
     "text": [
      "ms 10 1\n",
      "0\n",
      "\n",
      "//\n",
      "segsites: 280\n",
      "positions: 0.001293 0.003120 0.004949 0.006915 0.007865 0.008586 0.009322 0.013784 0.021461 0.021712 0.026000 0.029387 0.031837 0.034729 0.041643 0.045130 0.047251 0.049672 0.055743 0.063348 0.064051 0.064910 0.067873 0.069206 0.071987 0.072185 0.079309 0.083985 0.084377 0.095680 0.097947 0.107132 0.111095 0.113741 0.113973 0.115912 0.116790 0.117174 0.120181 0.120662 0.127584 0.129708 0.130322 0.130838 0.138846 0.144110 0.146095 0.154330 0.155345 0.156183 0.158962 0.160140 0.174608 0.176180 0.177494 0.178836 0.186454 0.188423 0.193416 0.196864 0.203559 0.208157 0.210785 0.212785 0.217107 0.221270 0.225663 0.231377 0.233638 0.234988 0.235082 0.235489 0.255296 0.257338 0.258202 0.260688 0.261620 0.263965 0.264227 0.265965 0.267636 0.269519 0.271756 0.273361 0.273828 0.281996 0.286720 0.287760 0.291872 0.292342 0.298525 0.300547 0.302079 0.307122 0.307469 0.312657 0.313913 0.315841 0.316491 0.316534 0.320659 0.320700 0.324388 0.328908 0.337861 0.337997 0.341491 0.347140 0.349984 0.382884 0.386759 0.406339 0.406802 0.416885 0.418084 0.421061 0.423859 0.431146 0.442511 0.443498 0.444032 0.444338 0.445854 0.446488 0.453962 0.454210 0.456000 0.458749 0.459243 0.461977 0.465406 0.468169 0.470495 0.477005 0.477029 0.485195 0.488671 0.488709 0.491163 0.499199 0.500130 0.515303 0.517542 0.519965 0.523334 0.524619 0.526404 0.529186 0.529910 0.538250 0.540731 0.544168 0.547011 0.551935 0.555592 0.561293 0.561468 0.564403 0.565079 0.568896 0.570938 0.573540 0.575802 0.576963 0.582009 0.585346 0.589911 0.590483 0.592565 0.598146 0.608219 0.619754 0.626546 0.640217 0.642320 0.643299 0.643780 0.655437 0.656335 0.656788 0.657150 0.657916 0.661930 0.666395 0.667507 0.669720 0.674129 0.675104 0.677063 0.697137 0.700863 0.701635 0.703351 0.710178 0.713419 0.714554 0.721717 0.723218 0.739956 0.752776 0.755766 0.762174 0.762707 0.763296 0.766439 0.771136 0.773300 0.773424 0.774171 0.781496 0.783738 0.784782 0.787118 0.789582 0.790171 0.798048 0.799774 0.799899 0.802417 0.802586 0.805917 0.807419 0.820583 0.822670 0.823884 0.824414 0.825822 0.829646 0.832702 0.848392 0.854111 0.864566 0.865169 0.866012 0.869469 0.869540 0.871023 0.871531 0.877165 0.877419 0.877628 0.877714 0.878836 0.881564 0.882183 0.883688 0.884434 0.885431 0.887939 0.894985 0.895723 0.899506 0.899825 0.902248 0.902263 0.906523 0.909249 0.909913 0.912950 0.913594 0.914380 0.916416 0.919310 0.919477 0.922515 0.924686 0.929067 0.929477 0.935664 0.940153 0.949925 0.963463 0.963907 0.965349 0.990486 0.996369 0.997113 0.997497 0.997594 0.998858 \n",
      "1000110000000000000000000100101011010111111100011001101000001011011010011100000100100100100101011101000100001100110111111100110000111000010101010100001010001100000010011001010001100100101001100001011001111110101000010100000000100100101110100010001110100011001110000001110000011101\n",
      "1000100000000000000000000100101011010111111100011001101000001011011100001010101011010110001100100010101100000100010100101110111001000111001111101011100101110001000000100110001100011001000000000000011101101110110010010010000100100100101110100010001101101001000110000000000111100010\n",
      "0100100010110000000000001100101011010111101100001011010100100000100000001010101011010110001100100010000100000000010100101101110110000100000111001001100101110010110001100000100010011010000100000110011001101101000100010001000101011001010001011101110001101001000110000000000111100010\n",
      "0011001100000111111010010001010011010111101100100000101000001011011100001010101011010110000100100010100100000010010100101101110110000000000111000001110101100100001010011001010001100100111001000001011101101110110010010010000101011100101110100010001010100000110001001110000111000010\n"
     ]
    }
   ],
   "source": [
    "%%bash\n",
    "\n",
    "head angsd_msToGlf_pileup_output/tree_5ind.ms"
   ]
  },
  {
   "cell_type": "markdown",
   "id": "c7167ca6-283f-44f2-8a78-a0167c06e512",
   "metadata": {},
   "source": [
    "[^up](#Home5) &nbsp;\n",
    "\n",
    "&nbsp;\n",
    "\n",
    "<a name=\"m2G\"></a>\n",
    "## 2. `msToGlf` output\n",
    "\n",
    "With that file, I can use the `msToGlf` program in order to simulate genotype likelihoods.\n",
    "\n",
    "Arguments:\n",
    "\n",
    "1. in         : Input\n",
    "2. out        : Output prefix\n",
    "3. regLen     : Length of the region simulated. This way, it's going to simulate also some errors not only on the polymorphic sites. \n",
    "4. depth      : Depth/coverage per site of each individual\n",
    "5. err        : Error rate. A value 0.005 corresponds to a 0.5% error rate.\n",
    "6. pileup     : If set to 1, it will output an `mpileup` formatted output. Otherwise, if set to 0, it will output a binary compressed file with the genotype likelihoods.\n",
    "7. nind       : Number of individuals\n",
    "8. seed       : set the seed for reproducibility of the random process.\n",
    "9. onlyPoly  : It outputs only those sites that are polymorphic.\n",
    "10. depthFile : A file with the a depth per individual\n",
    "\n",
    "sources: [link](http://www.popgen.dk/angsd/index.php/MsToGlf)\n",
    "\n",
    "We are going to repeat the process for two values of coverages: 30x and 1x.\n",
    "\n",
    "<a name=\"m2G1\"></a>\n",
    "#### 2.1 depth 30\n",
    "\n"
   ]
  },
  {
   "cell_type": "code",
   "execution_count": 2,
   "id": "8ca8f9d6-c8b0-4128-b2d7-e93173007e35",
   "metadata": {},
   "outputs": [
    {
     "name": "stderr",
     "output_type": "stream",
     "text": [
      "-in angsd_msToGlf_pileup_output/tree_5ind.ms -out angsd_msToGlf_pileup_output/GL_30 -err 0.015000 -depth 30.000000 -Nsites 0 -singleOut 0 -regLen 10000 -printSNP 0 -onlyPoly 1 -pileup 1 -simpleRand 2 -depthFile (null) -seed 1234 -nind 5 -psmc 0 -do_seq_glf 1 -simHap 0\n",
      "[openFile] angsd_msToGlf_pileup_output/GL_30 .argg\n",
      "Number of samples:10\n",
      "Number of replications:1\n",
      "[openFileGz] angsd_msToGlf_pileup_output/GL_30.pileup.gz\n",
      "doing angsd_msToGlf_pileup_output/GL_30.pileup.gz with w\n",
      "[openFile] angsd_msToGlf_pileup_output/GL_30 .pgEstH\n",
      "\n",
      "[openFileGz] angsd_msToGlf_pileup_output/GL_30.glf1.gz\n",
      "doing angsd_msToGlf_pileup_output/GL_30.glf1.gz with w\n",
      "[openFile] angsd_msToGlf_pileup_output/GL_30 .vPos1\n",
      "\n",
      "real\t0m0.225s\n",
      "user\t0m0.194s\n",
      "sys\t0m0.013s\n"
     ]
    }
   ],
   "source": [
    "%%bash\n",
    "\n",
    "time msToGlf -in         angsd_msToGlf_pileup_output/tree_5ind.ms \\\n",
    "             -out        angsd_msToGlf_pileup_output/GL_30        \\\n",
    "             -regLen     10000                                    \\\n",
    "             -depth      30                                       \\\n",
    "             -err        0.015                                    \\\n",
    "             -pileup     1                                        \\\n",
    "             -nind       5                                        \\\n",
    "             -seed       1234                                     \\\n",
    "             -onlyPoly   1"
   ]
  },
  {
   "cell_type": "markdown",
   "id": "e261be1f-8fbd-447a-b8d0-bd6688ab8640",
   "metadata": {},
   "source": [
    "The ouputs generated by `msToGlf` are:"
   ]
  },
  {
   "cell_type": "code",
   "execution_count": 3,
   "id": "8a9d77f0-6281-4f6f-8402-4dcf2769f1eb",
   "metadata": {},
   "outputs": [
    {
     "name": "stdout",
     "output_type": "stream",
     "text": [
      "-rw-r--r--. 1 qxz396    436 Dec 13 14:09 angsd_msToGlf_pileup_output/GL_30.argg\n",
      "-rw-r--r--. 1 qxz396     28 Dec 13 14:09 \u001b[0m\u001b[01;31mangsd_msToGlf_pileup_output/GL_30.glf1.gz\u001b[0m\n",
      "-rw-r--r--. 1 qxz396     46 Dec 13 14:09 angsd_msToGlf_pileup_output/GL_30.pgEstH\n",
      "-rw-r--r--. 1 qxz396 430616 Dec 13 14:09 \u001b[01;31mangsd_msToGlf_pileup_output/GL_30.pileup.gz\u001b[0m\n",
      "-rw-r--r--. 1 qxz396   1124 Dec 13 14:09 angsd_msToGlf_pileup_output/GL_30.vPos1\n"
     ]
    }
   ],
   "source": [
    "ll angsd_msToGlf_pileup_output/GL_30*"
   ]
  },
  {
   "cell_type": "markdown",
   "id": "bd92bb50-ccb9-4f4d-aa4b-8bdda41fe269",
   "metadata": {},
   "source": [
    "<a name=\"Q1\"></a>\n",
    "> # Questions\n",
    "\n",
    "1. Why is `.glf1.gz` output empty?\n",
    "\n",
    "2. What are the output files:\n",
    "    - `.pgEstH`\n",
    "    - `.vPos1`\n",
    "\n",
    "\n"
   ]
  },
  {
   "cell_type": "markdown",
   "id": "4cf991be-5184-40a8-a958-e1e581d7a8d5",
   "metadata": {},
   "source": [
    "Now, I'm going to check the first line to see how the output looks like."
   ]
  },
  {
   "cell_type": "code",
   "execution_count": 24,
   "id": "94cd2192-67a8-4e45-b5fb-bcd146c3e972",
   "metadata": {},
   "outputs": [
    {
     "name": "stdout",
     "output_type": "stream",
     "text": [
      "1\t6\tN\t28\tAAAAAAAAAAAAAAAAAAAAAAAAAAAA\t3333333333333333333333333333\t34\tAAAAAAAAAAAAAAAAAAAAAAAAAAAAAAAAAA\t3333333333333333333333333333333333\t29\tAAAAAAAAAAAAAAAAAAAAAAAAAAAAA\t33333333333333333333333333333\t32\tAAAAAAAAAAAAAAAAAAATAAAAAAAAAAAA\t33333333333333333333333333333333\t35\tAAAAAAAAAAAAAAAAAAAAAAAAAAAAAAAAAAA\t333333333333333333333333333333333331\t7\tN\t32\tAAAAAAAAAAAAAAAAAAAAAAAAAAAAAAAA\t33333333333333333333333333333333\t24\tAAAAAAAAAAAAAAAAAAAAAAAA\t333333333333333333333333\t36\tAAAAAAAAAAAAAAAAAAAAAAAAAAAAAAAAAAAA\t333333333333333333333333333333333333\t37\tAAAAAAAAAAAAAAAAAAAAAAAAAAAAAAAAAAAAA\t3333333333333333333333333333333333333\t31\tAAAAAAAAAAAAAAAAAAAAAAAAAAAAAAA\t33333333333333333333333333333331\t7\tN\t32\tAAAAAAAAAAAAAAAAAAAAAAAAAATAAAAA\t33333333333333333333333333333333\t31\tAAAAAAAAAAAAAAAAAAAAAAAAAAAAAAA\t3333333333333333333333333333333\t34\tAAAAAAAAAAAAAAAAAAAAAAAAAAAAAAAAAA\t3333333333333333333333333333333333\t34\tAAAAAAAAAAAAAAAAAAAAAAAAAAAAAAAAAA\t3333333333333333333333333333333333\t33\tAAAAAAAAAAAAAAAAAAAAAAAAAAAAAAAAT\t333333333333333333333333333333333\n"
     ]
    }
   ],
   "source": [
    "%%bash\n",
    "\n",
    "zcat angsd_msToGlf_pileup_output/GL_30.pileup.gz | head -n 6 | tail -n 1"
   ]
  },
  {
   "cell_type": "markdown",
   "id": "cf585644-d8b3-4963-8159-cd13e64e8668",
   "metadata": {},
   "source": [
    "The format of this file is organized by columns. Each row is a position in the genome and for each, we have the following information:\n",
    "1. Chromosome\n",
    "2. Position\n",
    "3. Reference bp \n",
    "4. From the forth column on, there will be information of that position per individual:\n",
    "    1. Number of reads that map to that position for that individual\n",
    "    2. bp of the different reads corresponding to that position\n",
    "    3. quality score of each read\n",
    "    \n",
    "Thus, usually, there will be `3 + (# haplotypes * 3)` columns in a file, which in our case should be `3+(10*3) = 33`. However, as we can see in this example, haplotype 6 has no information for the first position and only has 2 columns. Furthermore, there should be only (# individuals * 2) haplotypes. However, there is an extra column in this file."
   ]
  },
  {
   "cell_type": "raw",
   "id": "abeebd48-681f-4305-8668-a49ab6200316",
   "metadata": {},
   "source": [
    "1   0   N\n",
    "21  AAAAAAAAAAAAAAAAAAAGA                   333333333333333333333\n",
    "33  AAAAAAAAAAAAAAAAAAAAAAAAAAAAAAAAA       333333333333333333333333333333333\n",
    "30  CAAAAAAAAAAAAAAAAAAAAAAAAAAAAA          333333333333333333333333333333\n",
    "37  AAAAAAAAAAAAAAAAAAAAAAAAAAAAAAAAAAAAA   3333333333333333333333333333333333333\n",
    "29  AAAAAAAAAAAAAAAAAAAAAAAAAAAAA           333333333333333333333333333331\n",
    "0   N\n",
    "31  AAAAAAAAAAAAAAAAAAAAAAAAAAAAAAA         3333333333333333333333333333333\n",
    "27  AAAAAAAAAAAAAAAAAAAAAACAAAA             333333333333333333333333333\n",
    "30  AAAAAAAAAAAAAAAAAAAAAAAAAAAAAA          333333333333333333333333333333  \n",
    "33  AAAAAAAAAAAAAAAAGAAAAAAAAAAAAAAAA       333333333333333333333333333333333\n",
    "26  AAAAAAAAAAAAAAGAAAAAAAAAAA              33333333333333333333333333\n",
    "\n",
    "\n",
    "1\t1\tN\n",
    "29\tAAAAAAAAAAAAAAAAAAAAACAAAAAAA              33333333333333333333333333333\n",
    "27\tAAAAAAAAAAAAAAAAAATAAAAAAAA                333333333333333333333333333\n",
    "28\tAAAAAAAAAAAAAAAAAAAAAAAAAAAA               3333333333333333333333333333\n",
    "41\tAAAAAAAAAAAAAAAAAAAAAAAAAAAAAAAAAAAAAAAAA  33333333333333333333333333333333333333333\n",
    "30\tAAAAAAAAAAAAAAAAAAAAAAAAAAAAAA             3333333333333333333333333333331\n",
    "1\tN\n",
    "36\tAAAAAATAAAAAAAAAAAAAAAAAAAAAAAAAAAAA       333333333333333333333333333333333333\n",
    "22\tAGAAAAAAAAAAAAAAAAAAAA                     3333333333333333333333\n",
    "22\tAAAAAAAAAAAAAAAAAAAAAA                     3333333333333333333333\n",
    "29\tAAAAAAAAAAAAAAAAAAAAAAAAAAAAA              33333333333333333333333333333\n",
    "37\tAAAAAAAAAAAAAAAAAAAAAAAAAAAAAAAAAAAAA      3333333333333333333333333333333333333\n",
    "\n",
    "1\t2\tN\n",
    "24\tAAAAAAAAAAAAAAAAAAAAAAAA\t333333333333333333333333\n",
    "34\tAAAAAAAAAAAAAAAAAAAAAAAAAAAAAAAAAA\t3333333333333333333333333333333333\n",
    "25\tAAAAAAAAAAAAAAAAAAAAAAAAA\t3333333333333333333333333\n",
    "33\tAAAAAAAAAAAAAAAAAAGAAAAAAAAAAAAAA\t333333333333333333333333333333333\n",
    "25\tAAAAAAAAAAAAAAAAAAAAAAAAA\t33333333333333333333333331\n",
    "3\tN\n",
    "35\tAAAAAAAAAACAAAAAAAAAAAAAAAAAAAAAAAA\t33333333333333333333333333333333333\n",
    "27\tAAAAAAAAAAAAAAAAAAAAAAAAAAA\t333333333333333333333333333\n",
    "33\tAAAAAAAAAAAAAAAAACAAAAAAAAAAAAAAC\t333333333333333333333333333333333\n",
    "22\tAAAAAAAAAAAAAAAAAAAAAA\t3333333333333333333333\n",
    "24\tAAAAAAAAAAAAAAAAAAAAAAAA\t3333333333333333333333331\n",
    "3\tN\n",
    "27\tAAAAAAAAAAAAAAAAAAAAAAAAAAA\t333333333333333333333333333\n",
    "31\tAAAAAAAAAAAAAAAAAAAACAAAAAAAAAA\t3333333333333333333333333333333\n",
    "21\tAAAAAAAAAAAAAAAAAAAAA\t333333333333333333333\n",
    "27\tAAAAAAAAAAAAAAAAAAAAAAAAAAA\t333333333333333333333333333\n",
    "43\tAAAAAAAAAAAAAAAAAAAAAAAAAAAAAAAAAAAAAAAAAAA\t3333333333333333333333333333333333333333333\n",
    "\n",
    "1\t4\tN\n",
    "33\tAAAAAAAAAACAAAAAAAAAAAAAAAAAAAAAA\t333333333333333333333333333333333\n",
    "29\tAAAAAAAAAAAAAAAAAAAAAAAAAAAAA\t33333333333333333333333333333\n",
    "26\tAAAAAAAAAAAAAAAAAAAAAACAAA\t33333333333333333333333333\n",
    "28\tAAAAAAAAAAAAAAAAAAAAAAAAAAAA\t3333333333333333333333333333\n",
    "22\tAAATAAAAAAAAAAAAAAAAAA\t33333333333333333333331\n",
    "4\tN\n",
    "37\tAAAAAAAAAAAAAAAAAAAAAAAAAAAAAAAAAAAAA\t3333333333333333333333333333333333333\n",
    "27\tAAAAAAAAAAAAAAAAAAAAAAAAAAA\t333333333333333333333333333\n",
    "18\tAAAAAAAAAAAAAAAAAA\t333333333333333333\n",
    "32\tAAAAAAAAAAAAAAAAAAAAAAAAAAAAAAAA\t33333333333333333333333333333333\n",
    "31\tAAAAAAAAAAAAAAAAAAAAAAAAAAAAAAC\t3333333333333333333333333333333\n",
    "\n",
    "1\t5\tN\n",
    "36\tAAAAAAAAAAAAAAAAAAAAAAAAAAAAAAAAAAAA\t333333333333333333333333333333333333\n",
    "30\tAAAAAAAAAAAAAAAAAAAAAAAAAAAAAA\t333333333333333333333333333333\n",
    "34\tAAAAAAAAAAAAAAAAAAAAAAAAAATAAAAAAA\t3333333333333333333333333333333333\n",
    "21\tAGAAAAAGAAAAAAAAAAAAA\t333333333333333333333\n",
    "31\tAAAAAAAAAAAAAAAAAAAAAAAAAAAAAAA\t33333333333333333333333333333331\n",
    "5\tN\n",
    "33\tAAAAAAAAAAAAAAAAAAAAAAAAAGAAAAAAA\t333333333333333333333333333333333\n",
    "56\tAAAAAAAAAAAAAAAAAAAAAAAAAAAAAAAAAAAAAAAAAAAAAAAAAAAAAAAA\t33333333333333333333333333333333333333333333333333333333\n",
    "26\tAAACAAAAAAAAAAAAAAAAAAAAAA\t33333333333333333333333333\n",
    "33\tCAAAAAAAAAAAAAAAAAAAAAAAAAAAAAAAA\t333333333333333333333333333333333\n",
    "32\tAAAAAAAAAAAAAAAAAAAAAAAAAAAAAAAA\t33333333333333333333333333333333\n",
    "\n",
    "1\t6\tN\n",
    "28\tAAAAAAAAAAAAAAAAAAAAAAAAAAAA\t3333333333333333333333333333\n",
    "34\tAAAAAAAAAAAAAAAAAAAAAAAAAAAAAAAAAA\t3333333333333333333333333333333333\n",
    "29\tAAAAAAAAAAAAAAAAAAAAAAAAAAAAA\t33333333333333333333333333333\n",
    "32\tAAAAAAAAAAAAAAAAAAATAAAAAAAAAAAA\t33333333333333333333333333333333\n",
    "35\tAAAAAAAAAAAAAAAAAAAAAAAAAAAAAAAAAAA\t333333333333333333333333333333333331\n",
    "7\tN\n",
    "32\tAAAAAAAAAAAAAAAAAAAAAAAAAAAAAAAA\t33333333333333333333333333333333\n",
    "24\tAAAAAAAAAAAAAAAAAAAAAAAA\t333333333333333333333333\n",
    "36\tAAAAAAAAAAAAAAAAAAAAAAAAAAAAAAAAAAAA\t333333333333333333333333333333333333\n",
    "37\tAAAAAAAAAAAAAAAAAAAAAAAAAAAAAAAAAAAAA\t3333333333333333333333333333333333333\n",
    "31\tAAAAAAAAAAAAAAAAAAAAAAAAAAAAAAA\t33333333333333333333333333333331\n",
    "7\tN\n",
    "32\tAAAAAAAAAAAAAAAAAAAAAAAAAATAAAAA\t33333333333333333333333333333333\n",
    "31\tAAAAAAAAAAAAAAAAAAAAAAAAAAAAAAA\t3333333333333333333333333333333\n",
    "34\tAAAAAAAAAAAAAAAAAAAAAAAAAAAAAAAAAA\t3333333333333333333333333333333333\n",
    "34\tAAAAAAAAAAAAAAAAAAAAAAAAAAAAAAAAAA\t3333333333333333333333333333333333\n",
    "33\tAAAAAAAAAAAAAAAAAAAAAAAAAAAAAAAAT\t333333333333333333333333333333333"
   ]
  },
  {
   "cell_type": "code",
   "execution_count": 32,
   "id": "760945a4-db8f-4af2-922d-02acd2876fc4",
   "metadata": {},
   "outputs": [
    {
     "data": {
      "image/png": "[encoded data removed]"
     },
     "metadata": {},
     "output_type": "display_data"
    }
   ],
   "source": [
    "%%R\n",
    "\n",
    "\n",
    "data.frame(x = c(21,33,30,37,29,31,27,30,33,26,29,27,28,41,30,36,22,22,29,37,24,34,25,33,25,35,27,33,22,24,27,31,21,27,43,\n",
    "                 33,29,26,28,22,37,27,18,32,31,36,30,34,21,31,33,56,26,33,32,28,34,29,32,35,32,24,36,37,31,32,31,34,34,33)) %>%\n",
    "    count(x) %>%\n",
    "    mutate(n = n/sum(n),\n",
    "           p = dpois(x = x, lambda=30)) %>%\n",
    "    ggplot() +\n",
    "    geom_bar(stat = \"identity\", aes(x = x, y = n), binwidth = 1) +\n",
    "    geom_point(aes(x = x, y = p))"
   ]
  },
  {
   "cell_type": "markdown",
   "id": "06f9fc2a-08d7-4100-9d5c-ae3cf5fb3f48",
   "metadata": {},
   "source": [
    "<a name=\"m2G2\"></a>\n",
    "#### 2.2 depth 1\n",
    "\n",
    "Here I'm going to repeat what I did in the previous section, just changing the depth parameter."
   ]
  },
  {
   "cell_type": "code",
   "execution_count": 5,
   "id": "a967ad59-2fd1-48f6-95fe-9a87379ea02b",
   "metadata": {},
   "outputs": [
    {
     "name": "stderr",
     "output_type": "stream",
     "text": [
      "-in angsd_msToGlf_pileup_output/tree_5ind.ms -out angsd_msToGlf_pileup_output/GL_1 -err 0.015000 -depth 1.000000 -Nsites 0 -singleOut 0 -regLen 10000 -printSNP 0 -onlyPoly 1 -pileup 1 -simpleRand 2 -depthFile (null) -seed 1234 -nind 5 -psmc 0 -do_seq_glf 1 -simHap 0\n",
      "[openFile] angsd_msToGlf_pileup_output/GL_1 .argg\n",
      "Number of samples:10\n",
      "Number of replications:1\n",
      "[openFileGz] angsd_msToGlf_pileup_output/GL_1.pileup.gz\n",
      "doing angsd_msToGlf_pileup_output/GL_1.pileup.gz with w\n",
      "[openFile] angsd_msToGlf_pileup_output/GL_1 .pgEstH\n",
      "\n",
      "[openFileGz] angsd_msToGlf_pileup_output/GL_1.glf1.gz\n",
      "doing angsd_msToGlf_pileup_output/GL_1.glf1.gz with w\n",
      "[openFile] angsd_msToGlf_pileup_output/GL_1 .vPos1\n",
      "\n",
      "real\t0m0.049s\n",
      "user\t0m0.032s\n",
      "sys\t0m0.003s\n"
     ]
    }
   ],
   "source": [
    "%%bash\n",
    "\n",
    "time msToGlf -in         angsd_msToGlf_pileup_output/tree_5ind.ms \\\n",
    "             -out        angsd_msToGlf_pileup_output/GL_1         \\\n",
    "             -regLen     10000                                    \\\n",
    "             -depth      1                                        \\\n",
    "             -err        0.015                                    \\\n",
    "             -pileup     1                                        \\\n",
    "             -nind       5                                        \\\n",
    "             -seed       1234                                     \\\n",
    "             -onlyPoly   1"
   ]
  },
  {
   "cell_type": "code",
   "execution_count": 6,
   "id": "653ca4c5-0c39-4b9c-bd83-79c1dcd847f3",
   "metadata": {},
   "outputs": [
    {
     "name": "stdout",
     "output_type": "stream",
     "text": [
      "1\t0\tN\t1\tA\t3\t1\tA\t3\t1\tA\t3\t1\tA\t3\t1\tA\t31\t1\tN\t0\t\t\t0\t\t\t2\tAA\t33\t1\tA\t3\t0\t\t1\t2\tN\t0\t\t\t1\tA\t3\t0\t\t\t2\tAA\t33\t1\tA\t31\t3\tN\t2\tCA\t33\t2\tAA\t33\t0\t\t\t1\tA\t3\t1\tA\t31\t4\tN\t1\tA\t3\t1\tA\t3\t1\tA\t3\t1\tA\t3\t1\tA\t31\t5\tN\t1\tA\t3\t1\tA\t3\t1\tA\t3\t0\t\t\t0\t\t1\t5\tN\t1\tA\t3\t2\tAG\t33\t0\t\t\t1\tA\t3\t1\tA\t3\n"
     ]
    }
   ],
   "source": [
    "%%bash\n",
    "\n",
    "zcat angsd_msToGlf_pileup_output/GL_1.pileup.gz | head -n 1"
   ]
  },
  {
   "cell_type": "markdown",
   "id": "acb23eb5-0382-4164-b61e-cb2204d3fbdd",
   "metadata": {},
   "source": [
    "This output is difficult to describe and I can't find any way to match between the output and the number of individuals simulated in the data set. In the next chunk, I try to identify haplotype information which correspond to 3 consecutive columns with the information described before. However, as you can see, many rows have extra columns/information (line 6 being the first example)."
   ]
  },
  {
   "cell_type": "raw",
   "id": "5627a6db-f87a-4f5d-9bc4-d08ca794d1c0",
   "metadata": {},
   "source": [
    "1 0 N \n",
    "1 A  3 \n",
    "1 A  3 \n",
    "1 A  3 \n",
    "1 A  3 \n",
    "1 A  31 1 N 0 0 \n",
    "2 AA 33 \n",
    "1 A  3 0 1 2 N 0 \n",
    "1 A  3 0 \n",
    "2 AA 33 \n",
    "1 A  31 3 N \n",
    "2 CA 33 \n",
    "2 AA 33 0 \n",
    "1 A  3 \n",
    "1 A  31 4 N \n",
    "1 A  3 \n",
    "1 A  3 \n",
    "1 A  3 \n",
    "1 A  3 \n",
    "1 A  31 5 N \n",
    "1 A  3 \n",
    "1 A  3 \n",
    "1 A  3 0 0 1 5 N \n",
    "1 A  3 \n",
    "2 AG 33 0 \n",
    "1 A  3 \n",
    "1 A  3"
   ]
  },
  {
   "cell_type": "markdown",
   "id": "97f51fa6-f0f6-4bfa-aa50-4a49f34b9816",
   "metadata": {},
   "source": [
    "<a name=\"Q2\"></a>\n",
    "> # Questions\n",
    "\n",
    "3. Why is there an extra column in the `pileup` file for 30X coverage?\n",
    "4. Is this the output expected for the `pileup` file for 1X coverage? Is there some alternative formatting I'm not aware of? "
   ]
  },
  {
   "cell_type": "markdown",
   "id": "ebdd9f19-a730-4cb1-880f-a3f5672870af",
   "metadata": {},
   "source": [
    "[^up](#Home5) &nbsp;\n",
    "\n",
    "&nbsp;\n",
    "\n",
    "<a name=\"ang\"></a>\n",
    "## 3. Calling Genotype Likelihoods with `angsd`\n",
    "\n",
    "In order to use `angsd` to call genotype likelihoods using the `pileup` files obtained in the previous step, I will first create a \"fake\" fasta file since it needs a `.fai` file."
   ]
  },
  {
   "cell_type": "code",
   "execution_count": 7,
   "id": "4e77ed1d-649f-427b-81ce-cfcb0159d5fc",
   "metadata": {},
   "outputs": [],
   "source": [
    "with open(\"angsd_msToGlf_pileup_output/fasta.fa\", \"w\") as fasta:\n",
    "    fasta.write(\">1\\n\")\n",
    "    for i in range(0, 10000, 50):\n",
    "        fasta.write(\"{}\\n\".format(\"A\"*50))"
   ]
  },
  {
   "cell_type": "code",
   "execution_count": 8,
   "id": "cd48baee-6d34-45b7-b13e-344f68a3f950",
   "metadata": {},
   "outputs": [],
   "source": [
    "%%bash\n",
    "\n",
    "samtools faidx angsd_msToGlf_pileup_output/fasta.fa"
   ]
  },
  {
   "cell_type": "code",
   "execution_count": 9,
   "id": "ad91a6d1-c825-4b3a-9718-9e118481c98d",
   "metadata": {},
   "outputs": [
    {
     "name": "stdout",
     "output_type": "stream",
     "text": [
      "angsd_msToGlf_pileup_output/fasta.fa\n",
      "angsd_msToGlf_pileup_output/fasta.fa.fai\n"
     ]
    }
   ],
   "source": [
    "%%bash\n",
    "\n",
    "ls angsd_msToGlf_pileup_output/fa*"
   ]
  },
  {
   "cell_type": "markdown",
   "id": "7b52bf74-a0c3-4afc-b65b-82f8cf6b8518",
   "metadata": {},
   "source": [
    "Now that we have all the files, let's call genotype likelihoods using `angsd`"
   ]
  },
  {
   "cell_type": "code",
   "execution_count": 10,
   "id": "63fee191-76fb-45a3-8eb5-91b2a7d1137d",
   "metadata": {
    "tags": []
   },
   "outputs": [
    {
     "name": "stderr",
     "output_type": "stream",
     "text": [
      "\t-> angsd version: 0.935-53-gf475f10 (htslib: 1.14) build(Dec 13 2021 09:22:17)\n",
      "\t-> angsd -GL 2 -doCounts 1 -doMajorMinor 2 -doMaf 8 -dumpCounts 1 -pileup angsd_msToGlf_pileup_output/GL_30.pileup.gz -out angsd_msToGlf_pileup_output/GL_30_out -fai angsd_msToGlf_pileup_output/fasta.fa.fai -doGlf 4 -nind 5 \n",
      "\t-> Inputtype is pileup\n",
      "\t-> You are using -pileup, this means:\n",
      "\t-> 1) Internal positions both from front and back is coded to 255\n",
      "\t-> 2) All mapping qualities (mapQ) are set to 30\n",
      "\t-> 3) Program will not represent insertions, use raw BAM/CRAM for that\n",
      "\t-> Printing at chr: 1 pos:5511 chunknumber 100 contains 50 sites\n",
      "\t-> Done reading data waiting for calculations to finish\n",
      "\t-> Done waiting for threads\n",
      "\t-> Output filenames:\n",
      "\t\t->\"angsd_msToGlf_pileup_output/GL_30_out.arg\"\n",
      "\t\t->\"angsd_msToGlf_pileup_output/GL_30_out.pos.gz\"\n",
      "\t\t->\"angsd_msToGlf_pileup_output/GL_30_out.glf.gz\"\n",
      "\t\t->\"angsd_msToGlf_pileup_output/GL_30_out.mafs.gz\"\n",
      "\t-> Mon Dec 13 14:09:08 2021\n",
      "\t-> Arguments and parameters for all analysis are located in .arg file\n",
      "\t-> Total number of sites analyzed: 9015\n",
      "\t-> Number of sites retained after filtering: 9015 \n",
      "\t[ALL done] cpu-time used =  0.31 sec\n",
      "\t[ALL done] walltime used =  1.00 sec\n",
      "\n",
      "real\t0m0.341s\n",
      "user\t0m0.311s\n",
      "sys\t0m0.017s\n"
     ]
    }
   ],
   "source": [
    "%%bash\n",
    "\n",
    "time angsd -GL 2 -doCounts 1 -doMajorMinor 2 -doMaf 8  -dumpCounts 1 \\\n",
    "           -pileup angsd_msToGlf_pileup_output/GL_30.pileup.gz       \\\n",
    "           -out    angsd_msToGlf_pileup_output/GL_30_out             \\\n",
    "           -fai    angsd_msToGlf_pileup_output/fasta.fa.fai          \\\n",
    "           -doGlf  4                                                 \\\n",
    "           -nind   5"
   ]
  },
  {
   "cell_type": "code",
   "execution_count": 11,
   "id": "8c955b73-de44-4263-88cf-81d81d9a4cc9",
   "metadata": {},
   "outputs": [
    {
     "name": "stderr",
     "output_type": "stream",
     "text": [
      "\t-> angsd version: 0.935-53-gf475f10 (htslib: 1.14) build(Dec 13 2021 09:22:17)\n",
      "\t-> angsd -GL 2 -doCounts 1 -doMajorMinor 2 -doMaf 8 -dumpCounts 1 -pileup angsd_msToGlf_pileup_output/GL_1.pileup.gz -out angsd_msToGlf_pileup_output/GL_1_out -fai angsd_msToGlf_pileup_output/fasta.fa.fai -doGlf 4 -nind 5 \n",
      "\t-> Inputtype is pileup\n",
      "\t-> You are using -pileup, this means:\n",
      "\t-> 1) Internal positions both from front and back is coded to 255\n",
      "\t-> 2) All mapping qualities (mapQ) are set to 30\n",
      "\t-> 3) Program will not represent insertions, use raw BAM/CRAM for that\n",
      "\t-> Done reading data waiting for calculations to finish\n",
      "\t-> Done waiting for threads\n",
      "\t-> Output filenames:\n",
      "\t\t->\"angsd_msToGlf_pileup_output/GL_1_out.arg\"\n",
      "\t\t->\"angsd_msToGlf_pileup_output/GL_1_out.pos.gz\"\n",
      "\t\t->\"angsd_msToGlf_pileup_output/GL_1_out.glf.gz\"\n",
      "\t\t->\"angsd_msToGlf_pileup_output/GL_1_out.mafs.gz\"\n",
      "\t-> Mon Dec 13 14:09:08 2021\n",
      "\t-> Arguments and parameters for all analysis are located in .arg file\n",
      "\t-> Total number of sites analyzed: 1005\n",
      "\t-> Number of sites retained after filtering: 1001 \n",
      "\t[ALL done] cpu-time used =  0.02 sec\n",
      "\t[ALL done] walltime used =  0.00 sec\n",
      "\n",
      "real\t0m0.045s\n",
      "user\t0m0.028s\n",
      "sys\t0m0.005s\n"
     ]
    }
   ],
   "source": [
    "%%bash\n",
    "\n",
    "time angsd -GL 2 -doCounts 1 -doMajorMinor 2 -doMaf 8  -dumpCounts 1 \\\n",
    "           -pileup angsd_msToGlf_pileup_output/GL_1.pileup.gz        \\\n",
    "           -out    angsd_msToGlf_pileup_output/GL_1_out              \\\n",
    "           -fai    angsd_msToGlf_pileup_output/fasta.fa.fai          \\\n",
    "           -doGlf  4                                                 \\\n",
    "           -nind   5"
   ]
  },
  {
   "cell_type": "markdown",
   "id": "0a698079-7045-459e-b3a8-6a9fb9d03d52",
   "metadata": {},
   "source": [
    "And now, I can check the genotype likelihoods generated for each depth."
   ]
  },
  {
   "cell_type": "code",
   "execution_count": 12,
   "id": "bd3a797f-23df-4918-a6c3-c9a28d429e9a",
   "metadata": {},
   "outputs": [
    {
     "name": "stdout",
     "output_type": "stream",
     "text": [
      "1\t0\t0.000000\t-13.755870\t-9.216374\t-13.755870\t-104.545792\t-100.006296\t-104.545792\t-99.318502\t-100.006296\t-104.545792\t0.000000\t-22.697185\t-22.697185\t-22.697185\t-172.500556\t-172.500556\t-172.500556\t-172.500556\t-172.500556\t-172.500556\t0.000000\t-15.406515\t-19.946011\t-19.946011\t-146.364108\t-147.051902\t-147.051902\t-151.591398\t-151.591398\t-151.591398\t0.000000\t-25.448359\t-25.448359\t-25.448359\t-193.409715\t-193.409715\t-193.409715\t-193.409715\t-193.409715\t-193.409715\t0.000000\t-19.946011\t-19.946011\t-19.946011\t-151.591398\t-151.591398\t-151.591398\t-151.591398\t-151.591398\t-151.591398\n"
     ]
    }
   ],
   "source": [
    "%%bash\n",
    "\n",
    "zcat angsd_msToGlf_pileup_output/GL_30_out.glf.gz | head -n 1"
   ]
  },
  {
   "cell_type": "markdown",
   "id": "c7c6c548-2fd3-42ab-b002-c371cf6b8a8d",
   "metadata": {},
   "source": [
    "We can see that the GL file correspond to what we saw in the `pileup:\n",
    "1. There are 10 GL values per individual. Since we have 5 individuals, and there is the information about the chromosome and SNP position, there is `2+(#individuals * 10) = 52`.\n",
    "2. \"A\" allele tends to be the genotype with the highest likelihood. \n",
    "3. Individual 1 has 1 G read out of 21 reads. Thus, the genotype with the highest likelihood is \"AG\", and then , the rest of genotypes that contain an \"A\" allele.\n",
    "4. Individual 5 has 1 G read out of 26 reads. Thus, the genotype likelihood of \"AG\" is smaller than the same likelihood for the first individual since it has more reads. "
   ]
  },
  {
   "cell_type": "raw",
   "id": "38a86622-3cb0-4374-8f99-2a99ac65f062",
   "metadata": {},
   "source": [
    "1\t0\n",
    "AA          AC          AG          AT          CC          CG          CT          GG          GT          TT\n",
    "0.000000\t-13.755870\t-9.216374\t-13.755870\t-104.545792\t-100.006296\t-104.545792\t-99.318502\t-100.006296\t-104.545792\t\n",
    "0.000000\t-22.697185\t-22.697185\t-22.697185\t-172.500556\t-172.500556\t-172.500556\t-172.500556\t-172.500556\t-172.500556\t\n",
    "0.000000\t-15.406515\t-19.946011\t-19.946011\t-146.364108\t-147.051902\t-147.051902\t-151.591398\t-151.591398\t-151.591398\t\n",
    "0.000000\t-25.448359\t-25.448359\t-25.448359\t-193.409715\t-193.409715\t-193.409715\t-193.409715\t-193.409715\t-193.409715\t\n",
    "0.000000\t-19.946011\t-19.946011\t-19.946011\t-151.591398\t-151.591398\t-151.591398\t-151.591398\t-151.591398\t-151.591398"
   ]
  },
  {
   "cell_type": "markdown",
   "id": "3ecca1fc-5f63-48c0-9099-2510b95f8381",
   "metadata": {},
   "source": [
    "If we inspect the `glf` file output of the 1X coverage case, we can see that it seems fine. However, the GL for each individual are the same. "
   ]
  },
  {
   "cell_type": "code",
   "execution_count": 13,
   "id": "8f7357bb-dc59-41ee-910d-106ea8b68721",
   "metadata": {},
   "outputs": [
    {
     "name": "stdout",
     "output_type": "stream",
     "text": [
      "1\t0\t0.000000\t-0.687793\t-0.687793\t-0.687793\t-5.227290\t-5.227290\t-5.227290\t-5.227290\t-5.227290\t-5.227290\t0.000000\t-0.687793\t-0.687793\t-0.687793\t-5.227290\t-5.227290\t-5.227290\t-5.227290\t-5.227290\t-5.227290\t0.000000\t-0.687793\t-0.687793\t-0.687793\t-5.227290\t-5.227290\t-5.227290\t-5.227290\t-5.227290\t-5.227290\t0.000000\t-0.687793\t-0.687793\t-0.687793\t-5.227290\t-5.227290\t-5.227290\t-5.227290\t-5.227290\t-5.227290\t0.000000\t-0.687793\t-0.687793\t-0.687793\t-5.227290\t-5.227290\t-5.227290\t-5.227290\t-5.227290\t-5.227290\n"
     ]
    }
   ],
   "source": [
    "%%bash\n",
    "\n",
    "zcat angsd_msToGlf_pileup_output/GL_1_out.glf.gz | head -n 1"
   ]
  },
  {
   "cell_type": "raw",
   "id": "723d9c48-f890-415a-a875-227554006e36",
   "metadata": {},
   "source": [
    "1\t0\t\n",
    "0.000000\t-0.687793\t-0.687793\t-0.687793\t-5.227290\t-5.227290\t-5.227290\t-5.227290\t-5.227290\t-5.227290\n",
    "0.000000\t-0.687793\t-0.687793\t-0.687793\t-5.227290\t-5.227290\t-5.227290\t-5.227290\t-5.227290\t-5.227290\n",
    "0.000000\t-0.687793\t-0.687793\t-0.687793\t-5.227290\t-5.227290\t-5.227290\t-5.227290\t-5.227290\t-5.227290\n",
    "0.000000\t-0.687793\t-0.687793\t-0.687793\t-5.227290\t-5.227290\t-5.227290\t-5.227290\t-5.227290\t-5.227290\n",
    "0.000000\t-0.687793\t-0.687793\t-0.687793\t-5.227290\t-5.227290\t-5.227290\t-5.227290\t-5.227290\t-5.227290"
   ]
  },
  {
   "cell_type": "markdown",
   "id": "3798c168-f443-4396-9132-d3dc77fe53e8",
   "metadata": {},
   "source": [
    "<a name=\"Q3\"></a>\n",
    "> # Questions\n",
    "\n",
    "5. Is this expected? Shouldn't the GL for 1X vary much more? Is this indicative that the `pileup` file is incorrect?"
   ]
  },
  {
   "cell_type": "markdown",
   "id": "a9fedcbf-cedf-4883-add7-999fd1e2e096",
   "metadata": {},
   "source": [
    "[^up](#Home5) &nbsp;\n",
    "\n",
    "&nbsp;"
   ]
  }
 ],
 "metadata": {
  "kernelspec": {
   "display_name": "Python 3 (ipykernel)",
   "language": "python",
   "name": "python3"
  },
  "language_info": {
   "codemirror_mode": {
    "name": "ipython",
    "version": 3
   },
   "file_extension": ".py",
   "mimetype": "text/x-python",
   "name": "python",
   "nbconvert_exporter": "python",
   "pygments_lexer": "ipython3",
   "version": "3.10.0"
  }
 },
 "nbformat": 4,
 "nbformat_minor": 5
}
